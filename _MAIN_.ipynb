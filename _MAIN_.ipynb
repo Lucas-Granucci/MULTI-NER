{
  "cells": [
    {
      "cell_type": "markdown",
      "metadata": {
        "id": "OEKDEcZY0Ed9"
      },
      "source": [
        "# **Machine learning for low-resource NLP**: Advancing AI for Linguistic Inclusion\n",
        "Cross-lingual transfer learning and pseudo-labeling for multilingual named entity recognition"
      ]
    },
    {
      "cell_type": "code",
      "execution_count": 1,
      "metadata": {
        "id": "oMkZmRoX2xLR"
      },
      "outputs": [],
      "source": [
        "import random\n",
        "import numpy as np\n",
        "import pandas as pd\n",
        "from tqdm import tqdm\n",
        "from IPython.display import display, Markdown\n",
        "\n",
        "import torch\n",
        "import torch.optim as optim\n",
        "from datasets import load_dataset\n",
        "from sklearn.model_selection import train_test_split"
      ]
    },
    {
      "cell_type": "code",
      "execution_count": 2,
      "metadata": {},
      "outputs": [],
      "source": [
        "from model import BertBilstmCrf\n",
        "from dataloader import create_dataloaders\n",
        "from training import train_model, train_pseudo_labeling, evaluate_epoch\n",
        "from config import BaseConfig, TrainConfig, FineTuneConfig, PseudoLabelingConfig"
      ]
    },
    {
      "cell_type": "code",
      "execution_count": 3,
      "metadata": {
        "id": "4KsqUJuTgpSX"
      },
      "outputs": [],
      "source": [
        "def set_seed(seed):\n",
        "    torch.manual_seed(seed)\n",
        "    torch.cuda.manual_seed(seed)\n",
        "    torch.cuda.manual_seed_all(seed)\n",
        "\n",
        "    np.random.seed(seed)\n",
        "    random.seed(seed)\n",
        "\n",
        "    torch.backends.cudnn.deterministic = True\n",
        "    torch.backends.cudnn.benchmark = False\n",
        "\n",
        "\n",
        "set_seed(BaseConfig.RANDOM_STATE)"
      ]
    },
    {
      "cell_type": "code",
      "execution_count": 4,
      "metadata": {
        "colab": {
          "base_uri": "https://localhost:8080/"
        },
        "collapsed": true,
        "id": "83jA6h2-zZiy",
        "outputId": "c5b149b6-ec47-41da-ee95-c5980771a869"
      },
      "outputs": [],
      "source": [
        "def load_wikiann_datasets(language_codes, cutoff=None):\n",
        "\n",
        "    language_data = {}\n",
        "    for lang in language_codes:\n",
        "\n",
        "        # Load raw data from hugging face\n",
        "        lang_dataset = load_dataset(\"unimelb-nlp/wikiann\", name=lang)\n",
        "\n",
        "        # Get data from different splits and combine\n",
        "        train_df = pd.DataFrame(lang_dataset[\"train\"])\n",
        "        val_df = pd.DataFrame(lang_dataset[\"validation\"])\n",
        "        test_df = pd.DataFrame(lang_dataset[\"test\"])\n",
        "\n",
        "        complete_df = pd.concat([train_df, val_df, test_df]).reset_index(drop=True)\n",
        "        complete_df = complete_df.head(cutoff) if cutoff else complete_df\n",
        "\n",
        "        # Split data into new train/val/test splits\n",
        "        train, temp = train_test_split(\n",
        "            complete_df, test_size=0.2, random_state=BaseConfig.RANDOM_STATE\n",
        "        )\n",
        "        val, test = train_test_split(\n",
        "            temp, test_size=0.5, random_state=BaseConfig.RANDOM_STATE\n",
        "        )\n",
        "\n",
        "        language_data[lang] = {\"train\": train, \"val\": val, \"test\": test}\n",
        "\n",
        "    return language_data\n",
        "\n",
        "\n",
        "# Download and store data\n",
        "low_resource_datasets = load_wikiann_datasets(BaseConfig.low_resource_langs)"
      ]
    },
    {
      "cell_type": "code",
      "execution_count": 5,
      "metadata": {},
      "outputs": [],
      "source": [
        "def setup_optimizer(model, CONFIG):\n",
        "    param_groups = []\n",
        "    # Check model layers and add appropiate learning rates\n",
        "    if hasattr(model, \"bert\"):\n",
        "        param_groups.append(\n",
        "            {\"params\": model.bert.parameters(), \"lr\": TrainConfig.BERT_LEARNING_RATE}\n",
        "        )\n",
        "    if hasattr(model, \"lstm\"):\n",
        "        param_groups.append(\n",
        "            {\"params\": model.lstm.parameters(), \"lr\": TrainConfig.LSTM_LEARNING_RATE}\n",
        "        )\n",
        "    if hasattr(model, \"crf\"):\n",
        "        param_groups.append(\n",
        "            {\"params\": model.crf.parameters(), \"lr\": TrainConfig.CRF_LEARNING_RATE}\n",
        "        )\n",
        "    optimizer = optim.Adam(param_groups, weight_decay=TrainConfig.WEIGHT_DECAY)\n",
        "\n",
        "    return optimizer"
      ]
    },
    {
      "cell_type": "markdown",
      "metadata": {},
      "source": [
        "### Baseline Experiment\n",
        "Baseline BERT-BiLSTM-CRF model trained on multilingual NER data"
      ]
    },
    {
      "cell_type": "code",
      "execution_count": null,
      "metadata": {
        "colab": {
          "base_uri": "https://localhost:8080/"
        },
        "id": "HcqSTNMrXwIg",
        "outputId": "b4514c30-0861-407e-ebd6-e5d029b390a0"
      },
      "outputs": [
        {
          "name": "stderr",
          "output_type": "stream",
          "text": [
            "100%|█████████████████████████████████████████████| 6/6 [05:28<00:00, 54.80s/it]\n"
          ]
        },
        {
          "data": {
            "text/markdown": [
              "| language   |   train_f1 |   val_f1 |   test_f1 |\n",
              "|:-----------|-----------:|---------:|----------:|\n",
              "| mg         |   0.993728 | 0.933673 |  0.960352 |\n",
              "| fo         |   0.974224 | 0.897482 |  0.901099 |\n",
              "| co         |   0.956204 | 0.852308 |  0.81323  |\n",
              "| hsb        |   0.951443 | 0.923387 |  0.854578 |\n",
              "| bh         |   0.981549 | 0.888689 |  0.80212  |\n",
              "| cv         |   0.977741 | 0.892617 |  0.830443 |"
            ],
            "text/plain": [
              "<IPython.core.display.Markdown object>"
            ]
          },
          "metadata": {},
          "output_type": "display_data"
        }
      ],
      "source": [
        "baseline_results = []\n",
        "\n",
        "# Iterate through low-resource languages\n",
        "for lang, lang_data in tqdm(low_resource_datasets.items(), ncols=80):\n",
        "\n",
        "    train_loader, val_loader, test_loader = create_dataloaders(lang_data)\n",
        "\n",
        "    # ------------------------------------------ TRAINING ------------------------------------------ #\n",
        "\n",
        "    model = BertBilstmCrf(BaseConfig.NUM_TAGS).to(BaseConfig.DEVICE)\n",
        "    optimizer = setup_optimizer(model, TrainConfig)\n",
        "    best_model_state, train_f1, val_f1 = train_model(\n",
        "        model, optimizer, train_loader, val_loader, TrainConfig\n",
        "    )\n",
        "\n",
        "    # ------------------------------------------ EVALUATION ------------------------------------------ #\n",
        "    eval_model = BertBilstmCrf(BaseConfig.NUM_TAGS).to(BaseConfig.DEVICE)\n",
        "    eval_model.load_state_dict(best_model_state, TrainConfig)\n",
        "    test_loss, test_f1 = evaluate_epoch(eval_model, test_loader)\n",
        "\n",
        "    # ------------------------------------------ RESULTS ------------------------------------------ #\n",
        "    torch.save(best_model_state, f\"models/{lang}_baseline.pth\")\n",
        "\n",
        "    baseline_results.append(\n",
        "        {\"language\": lang, \"train_f1\": train_f1, \"val_f1\": val_f1, \"test_f1\": test_f1}\n",
        "    )\n",
        "\n",
        "# Save and display results\n",
        "baseline = pd.DataFrame(baseline_results)\n",
        "baseline.to_csv(\"results/baseline.csv\", index=False)\n",
        "\n",
        "markdown_table = baseline.to_markdown(index=False)\n",
        "display(Markdown(markdown_table))"
      ]
    },
    {
      "cell_type": "markdown",
      "metadata": {},
      "source": [
        "### Cross-lingual Transfer Learning\n",
        "A technique where a model trained on one language (usually with more labeled data) is adapted to perform well on another language, leveraging shared linguistic representations."
      ]
    },
    {
      "cell_type": "code",
      "execution_count": 7,
      "metadata": {
        "colab": {
          "base_uri": "https://localhost:8080/"
        },
        "id": "AfVbQr1wudOo",
        "outputId": "666c8b2c-5412-4d0f-b1e2-02a7f6a8c5c3"
      },
      "outputs": [
        {
          "name": "stderr",
          "output_type": "stream",
          "text": [
            "  0%|                                                    | 0/23 [00:00<?, ?it/s]"
          ]
        },
        {
          "name": "stdout",
          "output_type": "stream",
          "text": [
            "Aug: 1  mg Improvement over baseline: 0.00000\n"
          ]
        },
        {
          "name": "stderr",
          "output_type": "stream",
          "text": []
        },
        {
          "name": "stdout",
          "output_type": "stream",
          "text": [
            "Aug: 1  fo Improvement over baseline: -0.34843\n"
          ]
        },
        {
          "name": "stderr",
          "output_type": "stream",
          "text": []
        },
        {
          "name": "stdout",
          "output_type": "stream",
          "text": [
            "Aug: 1  co Improvement over baseline: 3.34928\n"
          ]
        },
        {
          "name": "stderr",
          "output_type": "stream",
          "text": []
        },
        {
          "name": "stdout",
          "output_type": "stream",
          "text": [
            "Aug: 1  hsb Improvement over baseline: -2.94118\n"
          ]
        },
        {
          "name": "stderr",
          "output_type": "stream",
          "text": []
        },
        {
          "name": "stdout",
          "output_type": "stream",
          "text": [
            "Aug: 1  bh Improvement over baseline: 8.59031\n"
          ]
        },
        {
          "name": "stderr",
          "output_type": "stream",
          "text": [
            "  4%|█▊                                       | 1/23 [06:41<2:27:19, 401.80s/it]"
          ]
        },
        {
          "name": "stdout",
          "output_type": "stream",
          "text": [
            "Aug: 1  cv Improvement over baseline: 3.24826\n"
          ]
        },
        {
          "name": "stderr",
          "output_type": "stream",
          "text": [
            "  4%|█▊                                       | 1/23 [07:28<2:44:24, 448.37s/it]\n"
          ]
        },
        {
          "ename": "KeyboardInterrupt",
          "evalue": "",
          "output_type": "error",
          "traceback": [
            "\u001b[1;31m---------------------------------------------------------------------------\u001b[0m",
            "\u001b[1;31mKeyboardInterrupt\u001b[0m                         Traceback (most recent call last)",
            "Cell \u001b[1;32mIn[7], line 29\u001b[0m\n\u001b[0;32m     26\u001b[0m high_resource_model \u001b[38;5;241m=\u001b[39m BertBilstmCrf(BaseConfig\u001b[38;5;241m.\u001b[39mNUM_TAGS)\u001b[38;5;241m.\u001b[39mto(BaseConfig\u001b[38;5;241m.\u001b[39mDEVICE)\n\u001b[0;32m     27\u001b[0m optimizer \u001b[38;5;241m=\u001b[39m setup_optimizer(high_resource_model, TrainConfig)\n\u001b[1;32m---> 29\u001b[0m high_resource_model_state, train_f1, val_f1 \u001b[38;5;241m=\u001b[39m train_model(\n\u001b[0;32m     30\u001b[0m     high_resource_model,\n\u001b[0;32m     31\u001b[0m     optimizer,\n\u001b[0;32m     32\u001b[0m     high_train_loader,\n\u001b[0;32m     33\u001b[0m     high_val_loader,\n\u001b[0;32m     34\u001b[0m     TrainConfig,\n\u001b[0;32m     35\u001b[0m )\n\u001b[0;32m     37\u001b[0m \u001b[38;5;66;03m# ------------------------------------------ FINE-TUNING ------------------------------------------ #\u001b[39;00m\n\u001b[0;32m     39\u001b[0m model \u001b[38;5;241m=\u001b[39m BertBilstmCrf(BaseConfig\u001b[38;5;241m.\u001b[39mNUM_TAGS)\u001b[38;5;241m.\u001b[39mto(BaseConfig\u001b[38;5;241m.\u001b[39mDEVICE)\n",
            "File \u001b[1;32mc:\\Users\\lucas\\Desktop\\research\\MULTI-NER\\training.py:25\u001b[0m, in \u001b[0;36mtrain_model\u001b[1;34m(model, optimizer, train_loader, val_loader, CONFIG)\u001b[0m\n\u001b[0;32m     22\u001b[0m patience_counter \u001b[38;5;241m=\u001b[39m CONFIG\u001b[38;5;241m.\u001b[39mPATIENCE\n\u001b[0;32m     24\u001b[0m \u001b[38;5;28;01mfor\u001b[39;00m _ \u001b[38;5;129;01min\u001b[39;00m \u001b[38;5;28mrange\u001b[39m(CONFIG\u001b[38;5;241m.\u001b[39mEPOCHS):\n\u001b[1;32m---> 25\u001b[0m     _, train_f1 \u001b[38;5;241m=\u001b[39m train_epoch(model, train_loader, optimizer)\n\u001b[0;32m     26\u001b[0m     val_loss, val_f1 \u001b[38;5;241m=\u001b[39m evaluate_epoch(model, val_loader)\n\u001b[0;32m     28\u001b[0m     scheduler\u001b[38;5;241m.\u001b[39mstep(val_loss)\n",
            "File \u001b[1;32mc:\\Users\\lucas\\Desktop\\research\\MULTI-NER\\training.py:62\u001b[0m, in \u001b[0;36mtrain_epoch\u001b[1;34m(model, dataloader, optimizer)\u001b[0m\n\u001b[0;32m     60\u001b[0m optimizer\u001b[38;5;241m.\u001b[39mzero_grad()\n\u001b[0;32m     61\u001b[0m emissions, loss \u001b[38;5;241m=\u001b[39m model(\u001b[38;5;241m*\u001b[39m\u001b[38;5;241m*\u001b[39mbatch)\n\u001b[1;32m---> 62\u001b[0m loss\u001b[38;5;241m.\u001b[39mbackward()\n\u001b[0;32m     63\u001b[0m optimizer\u001b[38;5;241m.\u001b[39mstep()\n\u001b[0;32m     64\u001b[0m total_loss \u001b[38;5;241m+\u001b[39m\u001b[38;5;241m=\u001b[39m loss\u001b[38;5;241m.\u001b[39mitem()\n",
            "File \u001b[1;32mc:\\Users\\lucas\\miniconda3\\envs\\multi-ner\\Lib\\site-packages\\torch\\_tensor.py:626\u001b[0m, in \u001b[0;36mTensor.backward\u001b[1;34m(self, gradient, retain_graph, create_graph, inputs)\u001b[0m\n\u001b[0;32m    616\u001b[0m \u001b[38;5;28;01mif\u001b[39;00m has_torch_function_unary(\u001b[38;5;28mself\u001b[39m):\n\u001b[0;32m    617\u001b[0m     \u001b[38;5;28;01mreturn\u001b[39;00m handle_torch_function(\n\u001b[0;32m    618\u001b[0m         Tensor\u001b[38;5;241m.\u001b[39mbackward,\n\u001b[0;32m    619\u001b[0m         (\u001b[38;5;28mself\u001b[39m,),\n\u001b[1;32m   (...)\u001b[0m\n\u001b[0;32m    624\u001b[0m         inputs\u001b[38;5;241m=\u001b[39minputs,\n\u001b[0;32m    625\u001b[0m     )\n\u001b[1;32m--> 626\u001b[0m torch\u001b[38;5;241m.\u001b[39mautograd\u001b[38;5;241m.\u001b[39mbackward(\n\u001b[0;32m    627\u001b[0m     \u001b[38;5;28mself\u001b[39m, gradient, retain_graph, create_graph, inputs\u001b[38;5;241m=\u001b[39minputs\n\u001b[0;32m    628\u001b[0m )\n",
            "File \u001b[1;32mc:\\Users\\lucas\\miniconda3\\envs\\multi-ner\\Lib\\site-packages\\torch\\autograd\\__init__.py:347\u001b[0m, in \u001b[0;36mbackward\u001b[1;34m(tensors, grad_tensors, retain_graph, create_graph, grad_variables, inputs)\u001b[0m\n\u001b[0;32m    342\u001b[0m     retain_graph \u001b[38;5;241m=\u001b[39m create_graph\n\u001b[0;32m    344\u001b[0m \u001b[38;5;66;03m# The reason we repeat the same comment below is that\u001b[39;00m\n\u001b[0;32m    345\u001b[0m \u001b[38;5;66;03m# some Python versions print out the first line of a multi-line function\u001b[39;00m\n\u001b[0;32m    346\u001b[0m \u001b[38;5;66;03m# calls in the traceback and some print out the last line\u001b[39;00m\n\u001b[1;32m--> 347\u001b[0m _engine_run_backward(\n\u001b[0;32m    348\u001b[0m     tensors,\n\u001b[0;32m    349\u001b[0m     grad_tensors_,\n\u001b[0;32m    350\u001b[0m     retain_graph,\n\u001b[0;32m    351\u001b[0m     create_graph,\n\u001b[0;32m    352\u001b[0m     inputs,\n\u001b[0;32m    353\u001b[0m     allow_unreachable\u001b[38;5;241m=\u001b[39m\u001b[38;5;28;01mTrue\u001b[39;00m,\n\u001b[0;32m    354\u001b[0m     accumulate_grad\u001b[38;5;241m=\u001b[39m\u001b[38;5;28;01mTrue\u001b[39;00m,\n\u001b[0;32m    355\u001b[0m )\n",
            "File \u001b[1;32mc:\\Users\\lucas\\miniconda3\\envs\\multi-ner\\Lib\\site-packages\\torch\\autograd\\graph.py:823\u001b[0m, in \u001b[0;36m_engine_run_backward\u001b[1;34m(t_outputs, *args, **kwargs)\u001b[0m\n\u001b[0;32m    821\u001b[0m     unregister_hooks \u001b[38;5;241m=\u001b[39m _register_logging_hooks_on_whole_graph(t_outputs)\n\u001b[0;32m    822\u001b[0m \u001b[38;5;28;01mtry\u001b[39;00m:\n\u001b[1;32m--> 823\u001b[0m     \u001b[38;5;28;01mreturn\u001b[39;00m Variable\u001b[38;5;241m.\u001b[39m_execution_engine\u001b[38;5;241m.\u001b[39mrun_backward(  \u001b[38;5;66;03m# Calls into the C++ engine to run the backward pass\u001b[39;00m\n\u001b[0;32m    824\u001b[0m         t_outputs, \u001b[38;5;241m*\u001b[39margs, \u001b[38;5;241m*\u001b[39m\u001b[38;5;241m*\u001b[39mkwargs\n\u001b[0;32m    825\u001b[0m     )  \u001b[38;5;66;03m# Calls into the C++ engine to run the backward pass\u001b[39;00m\n\u001b[0;32m    826\u001b[0m \u001b[38;5;28;01mfinally\u001b[39;00m:\n\u001b[0;32m    827\u001b[0m     \u001b[38;5;28;01mif\u001b[39;00m attach_logging_hooks:\n",
            "\u001b[1;31mKeyboardInterrupt\u001b[0m: "
          ]
        }
      ],
      "source": [
        "transfer_results = []\n",
        "\n",
        "for augmentation_factor in tqdm(range(1, 24), ncols=80):\n",
        "\n",
        "    high_resource_datasets = load_wikiann_datasets(\n",
        "        BaseConfig.high_resource_langs, augmentation_factor * 240\n",
        "    )\n",
        "\n",
        "    # Iterate through low-resource and adjacent high-resource languages\n",
        "    for (low_resource_lang, low_resource_data), (\n",
        "        high_resource_lang,\n",
        "        high_resource_data,\n",
        "    ) in tqdm(\n",
        "        zip(low_resource_datasets.items(), high_resource_datasets.items()),\n",
        "        ncols=80,\n",
        "        leave=False,\n",
        "    ):\n",
        "\n",
        "        high_train_loader, high_val_loader, _ = create_dataloaders(high_resource_data)\n",
        "        low_train_loader, low_val_loader, low_test_loader = create_dataloaders(\n",
        "            low_resource_data\n",
        "        )\n",
        "\n",
        "        # ------------------------------------------ PRE-TRAINING ------------------------------------------ #\n",
        "\n",
        "        high_resource_model = BertBilstmCrf(BaseConfig.NUM_TAGS).to(BaseConfig.DEVICE)\n",
        "        optimizer = setup_optimizer(high_resource_model, TrainConfig)\n",
        "\n",
        "        high_resource_model_state, train_f1, val_f1 = train_model(\n",
        "            high_resource_model,\n",
        "            optimizer,\n",
        "            high_train_loader,\n",
        "            high_val_loader,\n",
        "            TrainConfig,\n",
        "        )\n",
        "\n",
        "        # ------------------------------------------ FINE-TUNING ------------------------------------------ #\n",
        "\n",
        "        model = BertBilstmCrf(BaseConfig.NUM_TAGS).to(BaseConfig.DEVICE)\n",
        "        model.load_state_dict(high_resource_model_state)\n",
        "        optimizer = setup_optimizer(model, FineTuneConfig)\n",
        "\n",
        "        best_model_state, train_f1, val_f1 = train_model(\n",
        "            model, optimizer, low_train_loader, low_val_loader, FineTuneConfig\n",
        "        )\n",
        "\n",
        "        # ------------------------------------------ EVALUATION ------------------------------------------ #\n",
        "\n",
        "        eval_model = BertBilstmCrf(BaseConfig.NUM_TAGS).to(BaseConfig.DEVICE)\n",
        "        eval_model.load_state_dict(best_model_state)\n",
        "        test_loss, test_f1 = evaluate_epoch(eval_model, low_test_loader)\n",
        "\n",
        "        # ------------------------------------------ RESULTS ------------------------------------------ #\n",
        "        torch.save(\n",
        "            best_model_state,\n",
        "            f\"models/{low_resource_lang}_{high_resource_lang}_transfer.pth\",\n",
        "        )\n",
        "\n",
        "        baseline_performance = baseline.loc[\n",
        "            baseline[\"language\"] == low_resource_lang, \"test_f1\"\n",
        "        ].item()\n",
        "        improvement = (test_f1 - baseline_performance) / baseline_performance * 100\n",
        "\n",
        "        transfer_results.append(\n",
        "            {\n",
        "                \"high_resource_language\": high_resource_lang,\n",
        "                \"low_resource_lang\": low_resource_lang,\n",
        "                \"augmentation_factor\": augmentation_factor,\n",
        "                \"train_f1\": train_f1,\n",
        "                \"val_f1\": val_f1,\n",
        "                \"test_f1\": test_f1,\n",
        "                \"improvement\": improvement,\n",
        "            }\n",
        "        )\n",
        "\n",
        "        print(\n",
        "            f\"Aug: {augmentation_factor}  {low_resource_lang} Improvement over baseline: {improvement:.5f}\"\n",
        "        )\n",
        "\n",
        "transfer_data = pd.DataFrame(transfer_results)\n",
        "transfer_data.to_csv(\"results/test_transfer_learning.csv\", index=False)"
      ]
    },
    {
      "cell_type": "markdown",
      "metadata": {},
      "source": [
        "### Iterative Pseudo Labeling\n",
        "A semi-supervised learning approach where a model generates predictions on unlabeled data, selects confident predictions as pseudo-labels, and retrains iteratively to improve performance."
      ]
    },
    {
      "cell_type": "code",
      "execution_count": null,
      "metadata": {},
      "outputs": [
        {
          "name": "stderr",
          "output_type": "stream",
          "text": [
            "0it [00:00, ?it/s]"
          ]
        },
        {
          "name": "stdout",
          "output_type": "stream",
          "text": [
            "Added 467 rows of data\n",
            "Added 0 rows of data\n",
            "Added 0 rows of data\n",
            "Added 0 rows of data\n"
          ]
        },
        {
          "name": "stderr",
          "output_type": "stream",
          "text": [
            "1it [08:42, 522.31s/it]"
          ]
        },
        {
          "name": "stdout",
          "output_type": "stream",
          "text": [
            "Language: mg    Improvement over baseline: 0.22936\n"
          ]
        },
        {
          "name": "stderr",
          "output_type": "stream",
          "text": [
            "2it [12:53, 363.06s/it]"
          ]
        },
        {
          "name": "stdout",
          "output_type": "stream",
          "text": [
            "Language: fo    Improvement over baseline: -2.09059\n"
          ]
        },
        {
          "name": "stderr",
          "output_type": "stream",
          "text": [
            "3it [16:56, 308.25s/it]"
          ]
        },
        {
          "name": "stdout",
          "output_type": "stream",
          "text": [
            "Language: co    Improvement over baseline: -1.91388\n",
            "Added 104 rows of data\n",
            "Added 0 rows of data\n",
            "Added 0 rows of data\n",
            "Added 0 rows of data\n"
          ]
        },
        {
          "name": "stderr",
          "output_type": "stream",
          "text": [
            "4it [26:06, 403.51s/it]"
          ]
        },
        {
          "name": "stdout",
          "output_type": "stream",
          "text": [
            "Language: hsb    Improvement over baseline: -2.31092\n"
          ]
        },
        {
          "name": "stderr",
          "output_type": "stream",
          "text": [
            "5it [30:04, 343.79s/it]"
          ]
        },
        {
          "name": "stdout",
          "output_type": "stream",
          "text": [
            "Language: bh    Improvement over baseline: -0.44053\n"
          ]
        },
        {
          "name": "stderr",
          "output_type": "stream",
          "text": [
            "6it [35:04, 350.80s/it]\n"
          ]
        },
        {
          "name": "stdout",
          "output_type": "stream",
          "text": [
            "Language: cv    Improvement over baseline: 4.17633\n"
          ]
        },
        {
          "name": "stderr",
          "output_type": "stream",
          "text": [
            "0it [00:00, ?it/s]"
          ]
        },
        {
          "name": "stdout",
          "output_type": "stream",
          "text": [
            "Added 365 rows of data\n",
            "Added 0 rows of data\n",
            "Added 0 rows of data\n",
            "Added 0 rows of data\n"
          ]
        },
        {
          "name": "stderr",
          "output_type": "stream",
          "text": [
            "1it [08:42, 522.73s/it]"
          ]
        },
        {
          "name": "stdout",
          "output_type": "stream",
          "text": [
            "Language: mg    Improvement over baseline: 0.00000\n"
          ]
        },
        {
          "name": "stderr",
          "output_type": "stream",
          "text": [
            "2it [12:37, 353.17s/it]"
          ]
        },
        {
          "name": "stdout",
          "output_type": "stream",
          "text": [
            "Language: fo    Improvement over baseline: -1.56794\n"
          ]
        },
        {
          "name": "stderr",
          "output_type": "stream",
          "text": [
            "3it [15:04, 259.21s/it]"
          ]
        },
        {
          "name": "stdout",
          "output_type": "stream",
          "text": [
            "Language: co    Improvement over baseline: 0.47847\n",
            "Added 113 rows of data\n",
            "Added 0 rows of data\n",
            "Added 0 rows of data\n",
            "Added 0 rows of data\n"
          ]
        },
        {
          "name": "stderr",
          "output_type": "stream",
          "text": [
            "4it [21:32, 310.06s/it]"
          ]
        },
        {
          "name": "stdout",
          "output_type": "stream",
          "text": [
            "Language: hsb    Improvement over baseline: -1.26050\n"
          ]
        },
        {
          "name": "stderr",
          "output_type": "stream",
          "text": [
            "5it [23:57, 250.50s/it]"
          ]
        },
        {
          "name": "stdout",
          "output_type": "stream",
          "text": [
            "Language: bh    Improvement over baseline: 4.84581\n"
          ]
        },
        {
          "name": "stderr",
          "output_type": "stream",
          "text": [
            "6it [27:34, 275.75s/it]\n"
          ]
        },
        {
          "name": "stdout",
          "output_type": "stream",
          "text": [
            "Language: cv    Improvement over baseline: 5.33643\n"
          ]
        },
        {
          "name": "stderr",
          "output_type": "stream",
          "text": [
            "1it [04:06, 246.83s/it]"
          ]
        },
        {
          "name": "stdout",
          "output_type": "stream",
          "text": [
            "Language: mg    Improvement over baseline: 0.45872\n"
          ]
        },
        {
          "name": "stderr",
          "output_type": "stream",
          "text": [
            "2it [07:48, 231.96s/it]"
          ]
        },
        {
          "name": "stdout",
          "output_type": "stream",
          "text": [
            "Language: fo    Improvement over baseline: 0.69686\n",
            "Added 11 rows of data\n"
          ]
        },
        {
          "name": "stderr",
          "output_type": "stream",
          "text": [
            "3it [12:56, 266.57s/it]"
          ]
        },
        {
          "name": "stdout",
          "output_type": "stream",
          "text": [
            "Language: co    Improvement over baseline: 8.13397\n",
            "Added 1559 rows of data\n",
            "Added 0 rows of data\n",
            "Added 0 rows of data\n",
            "Added 0 rows of data\n",
            "Added 0 rows of data\n"
          ]
        },
        {
          "name": "stderr",
          "output_type": "stream",
          "text": [
            "4it [21:34, 365.88s/it]"
          ]
        },
        {
          "name": "stdout",
          "output_type": "stream",
          "text": [
            "Language: hsb    Improvement over baseline: -0.42017\n"
          ]
        },
        {
          "name": "stderr",
          "output_type": "stream",
          "text": [
            "5it [23:33, 276.93s/it]"
          ]
        },
        {
          "name": "stdout",
          "output_type": "stream",
          "text": [
            "Language: bh    Improvement over baseline: -1.98238\n",
            "Added 594 rows of data\n"
          ]
        },
        {
          "name": "stderr",
          "output_type": "stream",
          "text": [
            "6it [28:50, 288.36s/it]\n"
          ]
        },
        {
          "name": "stdout",
          "output_type": "stream",
          "text": [
            "Language: cv    Improvement over baseline: 2.32019\n"
          ]
        },
        {
          "name": "stderr",
          "output_type": "stream",
          "text": [
            "0it [00:00, ?it/s]"
          ]
        },
        {
          "name": "stdout",
          "output_type": "stream",
          "text": [
            "Added 303 rows of data\n"
          ]
        },
        {
          "name": "stderr",
          "output_type": "stream",
          "text": [
            "1it [04:53, 293.86s/it]"
          ]
        },
        {
          "name": "stdout",
          "output_type": "stream",
          "text": [
            "Language: mg    Improvement over baseline: 0.45872\n",
            "Added 751 rows of data\n",
            "Added 0 rows of data\n",
            "Added 0 rows of data\n",
            "Added 0 rows of data\n"
          ]
        },
        {
          "name": "stderr",
          "output_type": "stream",
          "text": [
            "2it [12:06, 375.49s/it]"
          ]
        },
        {
          "name": "stdout",
          "output_type": "stream",
          "text": [
            "Language: fo    Improvement over baseline: -1.39373\n"
          ]
        },
        {
          "name": "stderr",
          "output_type": "stream",
          "text": [
            "3it [15:02, 284.19s/it]"
          ]
        },
        {
          "name": "stdout",
          "output_type": "stream",
          "text": [
            "Language: co    Improvement over baseline: 0.00000\n",
            "Added 197 rows of data\n",
            "Added 0 rows of data\n",
            "Added 0 rows of data\n"
          ]
        },
        {
          "name": "stderr",
          "output_type": "stream",
          "text": [
            "4it [22:17, 343.99s/it]"
          ]
        },
        {
          "name": "stdout",
          "output_type": "stream",
          "text": [
            "Language: hsb    Improvement over baseline: -2.52101\n",
            "Added 151 rows of data\n",
            "Added 0 rows of data\n"
          ]
        },
        {
          "name": "stderr",
          "output_type": "stream",
          "text": [
            "5it [26:58, 321.03s/it]"
          ]
        },
        {
          "name": "stdout",
          "output_type": "stream",
          "text": [
            "Language: bh    Improvement over baseline: 3.96476\n",
            "Added 717 rows of data\n",
            "Added 0 rows of data\n",
            "Added 0 rows of data\n",
            "Added 0 rows of data\n"
          ]
        },
        {
          "name": "stderr",
          "output_type": "stream",
          "text": [
            "6it [34:34, 345.69s/it]\n"
          ]
        },
        {
          "name": "stdout",
          "output_type": "stream",
          "text": [
            "Language: cv    Improvement over baseline: 4.87239\n"
          ]
        },
        {
          "name": "stderr",
          "output_type": "stream",
          "text": [
            "1it [02:42, 162.19s/it]"
          ]
        },
        {
          "name": "stdout",
          "output_type": "stream",
          "text": [
            "Language: mg    Improvement over baseline: 0.00000\n",
            "Added 689 rows of data\n",
            "Added 0 rows of data\n",
            "Added 0 rows of data\n"
          ]
        },
        {
          "name": "stderr",
          "output_type": "stream",
          "text": [
            "2it [08:46, 281.29s/it]"
          ]
        },
        {
          "name": "stdout",
          "output_type": "stream",
          "text": [
            "Language: fo    Improvement over baseline: -0.52265\n",
            "Added 15 rows of data\n",
            "Added 0 rows of data\n",
            "Added 0 rows of data\n",
            "Added 0 rows of data\n",
            "Added 0 rows of data\n"
          ]
        },
        {
          "name": "stderr",
          "output_type": "stream",
          "text": [
            "3it [15:16, 330.76s/it]"
          ]
        },
        {
          "name": "stdout",
          "output_type": "stream",
          "text": [
            "Language: co    Improvement over baseline: 8.13397\n"
          ]
        },
        {
          "name": "stderr",
          "output_type": "stream",
          "text": [
            "4it [18:38, 280.06s/it]"
          ]
        },
        {
          "name": "stdout",
          "output_type": "stream",
          "text": [
            "Language: hsb    Improvement over baseline: -0.84034\n",
            "Added 166 rows of data\n",
            "Added 0 rows of data\n"
          ]
        },
        {
          "name": "stderr",
          "output_type": "stream",
          "text": [
            "5it [22:27, 261.60s/it]"
          ]
        },
        {
          "name": "stdout",
          "output_type": "stream",
          "text": [
            "Language: bh    Improvement over baseline: 4.62555\n",
            "Added 464 rows of data\n",
            "Added 0 rows of data\n",
            "Added 0 rows of data\n"
          ]
        },
        {
          "name": "stderr",
          "output_type": "stream",
          "text": [
            "6it [28:23, 283.95s/it]\n"
          ]
        },
        {
          "name": "stdout",
          "output_type": "stream",
          "text": [
            "Language: cv    Improvement over baseline: 3.01624\n"
          ]
        },
        {
          "name": "stderr",
          "output_type": "stream",
          "text": [
            "0it [00:00, ?it/s]"
          ]
        },
        {
          "name": "stdout",
          "output_type": "stream",
          "text": [
            "Added 404 rows of data\n"
          ]
        },
        {
          "name": "stderr",
          "output_type": "stream",
          "text": [
            "1it [04:46, 286.18s/it]"
          ]
        },
        {
          "name": "stdout",
          "output_type": "stream",
          "text": [
            "Language: mg    Improvement over baseline: 0.45872\n",
            "Added 824 rows of data\n",
            "Added 0 rows of data\n",
            "Added 0 rows of data\n",
            "Added 0 rows of data\n"
          ]
        },
        {
          "name": "stderr",
          "output_type": "stream",
          "text": [
            "2it [11:35, 358.54s/it]"
          ]
        },
        {
          "name": "stdout",
          "output_type": "stream",
          "text": [
            "Language: fo    Improvement over baseline: 1.74216\n"
          ]
        },
        {
          "name": "stderr",
          "output_type": "stream",
          "text": [
            "3it [13:59, 260.76s/it]"
          ]
        },
        {
          "name": "stdout",
          "output_type": "stream",
          "text": [
            "Language: co    Improvement over baseline: 5.26316\n",
            "Added 70 rows of data\n",
            "Added 0 rows of data\n"
          ]
        },
        {
          "name": "stderr",
          "output_type": "stream",
          "text": [
            "4it [19:19, 284.10s/it]"
          ]
        },
        {
          "name": "stdout",
          "output_type": "stream",
          "text": [
            "Language: hsb    Improvement over baseline: -2.52101\n"
          ]
        },
        {
          "name": "stderr",
          "output_type": "stream",
          "text": [
            "5it [21:49, 235.85s/it]"
          ]
        },
        {
          "name": "stdout",
          "output_type": "stream",
          "text": [
            "Language: bh    Improvement over baseline: 4.62555\n"
          ]
        },
        {
          "name": "stderr",
          "output_type": "stream",
          "text": [
            "6it [24:20, 243.44s/it]\n"
          ]
        },
        {
          "name": "stdout",
          "output_type": "stream",
          "text": [
            "Language: cv    Improvement over baseline: 1.85615\n"
          ]
        },
        {
          "name": "stderr",
          "output_type": "stream",
          "text": [
            "1it [04:00, 240.84s/it]"
          ]
        },
        {
          "name": "stdout",
          "output_type": "stream",
          "text": [
            "Language: mg    Improvement over baseline: 0.45872\n"
          ]
        },
        {
          "name": "stderr",
          "output_type": "stream",
          "text": [
            "2it [06:29, 186.46s/it]"
          ]
        },
        {
          "name": "stdout",
          "output_type": "stream",
          "text": [
            "Language: fo    Improvement over baseline: -5.05226\n",
            "Added 7 rows of data\n",
            "Added 0 rows of data\n",
            "Added 0 rows of data\n"
          ]
        },
        {
          "name": "stderr",
          "output_type": "stream",
          "text": [
            "3it [12:46, 273.68s/it]"
          ]
        },
        {
          "name": "stdout",
          "output_type": "stream",
          "text": [
            "Language: co    Improvement over baseline: 8.13397\n",
            "Added 74 rows of data\n",
            "Added 0 rows of data\n",
            "Added 0 rows of data\n",
            "Added 0 rows of data\n",
            "Added 0 rows of data\n"
          ]
        },
        {
          "name": "stderr",
          "output_type": "stream",
          "text": [
            "4it [20:37, 351.56s/it]"
          ]
        },
        {
          "name": "stdout",
          "output_type": "stream",
          "text": [
            "Language: hsb    Improvement over baseline: -1.05042\n",
            "Added 107 rows of data\n",
            "Added 0 rows of data\n",
            "Added 0 rows of data\n",
            "Added 0 rows of data\n",
            "Added 0 rows of data\n"
          ]
        },
        {
          "name": "stderr",
          "output_type": "stream",
          "text": [
            "5it [26:11, 345.28s/it]"
          ]
        },
        {
          "name": "stdout",
          "output_type": "stream",
          "text": [
            "Language: bh    Improvement over baseline: 9.25110\n"
          ]
        },
        {
          "name": "stderr",
          "output_type": "stream",
          "text": [
            "6it [30:05, 300.86s/it]\n"
          ]
        },
        {
          "name": "stdout",
          "output_type": "stream",
          "text": [
            "Language: cv    Improvement over baseline: 3.48028\n"
          ]
        },
        {
          "name": "stderr",
          "output_type": "stream",
          "text": [
            "0it [00:00, ?it/s]"
          ]
        },
        {
          "name": "stdout",
          "output_type": "stream",
          "text": [
            "Added 436 rows of data\n",
            "Added 0 rows of data\n"
          ]
        },
        {
          "name": "stderr",
          "output_type": "stream",
          "text": [
            "1it [05:46, 346.42s/it]"
          ]
        },
        {
          "name": "stdout",
          "output_type": "stream",
          "text": [
            "Language: mg    Improvement over baseline: 0.00000\n",
            "Added 211 rows of data\n",
            "Added 0 rows of data\n",
            "Added 0 rows of data\n",
            "Added 0 rows of data\n"
          ]
        },
        {
          "name": "stderr",
          "output_type": "stream",
          "text": [
            "2it [13:05, 401.08s/it]"
          ]
        },
        {
          "name": "stdout",
          "output_type": "stream",
          "text": [
            "Language: fo    Improvement over baseline: 0.87108\n",
            "Added 13 rows of data\n",
            "Added 0 rows of data\n",
            "Added 8 rows of data\n"
          ]
        },
        {
          "name": "stderr",
          "output_type": "stream",
          "text": [
            "3it [19:34, 395.42s/it]"
          ]
        },
        {
          "name": "stdout",
          "output_type": "stream",
          "text": [
            "Language: co    Improvement over baseline: 3.82775\n"
          ]
        },
        {
          "name": "stderr",
          "output_type": "stream",
          "text": [
            "4it [24:35, 358.07s/it]"
          ]
        },
        {
          "name": "stdout",
          "output_type": "stream",
          "text": [
            "Language: hsb    Improvement over baseline: -1.89076\n"
          ]
        },
        {
          "name": "stderr",
          "output_type": "stream",
          "text": [
            "5it [26:28, 269.95s/it]"
          ]
        },
        {
          "name": "stdout",
          "output_type": "stream",
          "text": [
            "Language: bh    Improvement over baseline: -4.62555\n",
            "Added 370 rows of data\n"
          ]
        },
        {
          "name": "stderr",
          "output_type": "stream",
          "text": [
            "6it [31:43, 317.19s/it]\n"
          ]
        },
        {
          "name": "stdout",
          "output_type": "stream",
          "text": [
            "Language: cv    Improvement over baseline: 3.94432\n"
          ]
        },
        {
          "name": "stderr",
          "output_type": "stream",
          "text": [
            "1it [03:47, 227.73s/it]"
          ]
        },
        {
          "name": "stdout",
          "output_type": "stream",
          "text": [
            "Language: mg    Improvement over baseline: 0.45872\n",
            "Added 662 rows of data\n",
            "Added 0 rows of data\n"
          ]
        },
        {
          "name": "stderr",
          "output_type": "stream",
          "text": [
            "2it [09:39, 300.47s/it]"
          ]
        },
        {
          "name": "stdout",
          "output_type": "stream",
          "text": [
            "Language: fo    Improvement over baseline: 1.56794\n"
          ]
        },
        {
          "name": "stderr",
          "output_type": "stream",
          "text": [
            "3it [14:02, 283.56s/it]"
          ]
        },
        {
          "name": "stdout",
          "output_type": "stream",
          "text": [
            "Language: co    Improvement over baseline: 4.78469\n",
            "Added 35 rows of data\n",
            "Added 0 rows of data\n",
            "Added 0 rows of data\n",
            "Added 0 rows of data\n"
          ]
        },
        {
          "name": "stderr",
          "output_type": "stream",
          "text": [
            "4it [20:27, 323.76s/it]"
          ]
        },
        {
          "name": "stdout",
          "output_type": "stream",
          "text": [
            "Language: hsb    Improvement over baseline: -1.89076\n"
          ]
        },
        {
          "name": "stderr",
          "output_type": "stream",
          "text": [
            "5it [23:40, 276.60s/it]"
          ]
        },
        {
          "name": "stdout",
          "output_type": "stream",
          "text": [
            "Language: bh    Improvement over baseline: 0.88106\n",
            "Added 335 rows of data\n",
            "Added 0 rows of data\n"
          ]
        },
        {
          "name": "stderr",
          "output_type": "stream",
          "text": [
            "6it [29:07, 291.17s/it]\n"
          ]
        },
        {
          "name": "stdout",
          "output_type": "stream",
          "text": [
            "Language: cv    Improvement over baseline: 0.92807\n"
          ]
        },
        {
          "name": "stderr",
          "output_type": "stream",
          "text": [
            "1it [04:02, 242.12s/it]"
          ]
        },
        {
          "name": "stdout",
          "output_type": "stream",
          "text": [
            "Language: mg    Improvement over baseline: -1.60550\n",
            "Added 899 rows of data\n",
            "Added 0 rows of data\n",
            "Added 0 rows of data\n",
            "Added 0 rows of data\n",
            "Added 0 rows of data\n"
          ]
        },
        {
          "name": "stderr",
          "output_type": "stream",
          "text": [
            "2it [11:28, 361.98s/it]"
          ]
        },
        {
          "name": "stdout",
          "output_type": "stream",
          "text": [
            "Language: fo    Improvement over baseline: 1.39373\n",
            "Added 27 rows of data\n"
          ]
        },
        {
          "name": "stderr",
          "output_type": "stream",
          "text": [
            "3it [16:12, 326.72s/it]"
          ]
        },
        {
          "name": "stdout",
          "output_type": "stream",
          "text": [
            "Language: co    Improvement over baseline: 8.13397\n",
            "Added 18 rows of data\n",
            "Added 0 rows of data\n"
          ]
        },
        {
          "name": "stderr",
          "output_type": "stream",
          "text": [
            "4it [21:28, 322.21s/it]"
          ]
        },
        {
          "name": "stdout",
          "output_type": "stream",
          "text": [
            "Language: hsb    Improvement over baseline: -1.68067\n"
          ]
        },
        {
          "name": "stderr",
          "output_type": "stream",
          "text": [
            "5it [23:34, 251.64s/it]"
          ]
        },
        {
          "name": "stdout",
          "output_type": "stream",
          "text": [
            "Language: bh    Improvement over baseline: 1.32159\n",
            "Added 382 rows of data\n",
            "Added 0 rows of data\n"
          ]
        },
        {
          "name": "stderr",
          "output_type": "stream",
          "text": [
            "6it [28:49, 288.31s/it]\n"
          ]
        },
        {
          "name": "stdout",
          "output_type": "stream",
          "text": [
            "Language: cv    Improvement over baseline: 1.85615\n"
          ]
        },
        {
          "name": "stderr",
          "output_type": "stream",
          "text": [
            "1it [02:42, 162.67s/it]"
          ]
        },
        {
          "name": "stdout",
          "output_type": "stream",
          "text": [
            "Language: mg    Improvement over baseline: 0.68807\n",
            "Added 247 rows of data\n",
            "Added 0 rows of data\n",
            "Added 0 rows of data\n",
            "Added 0 rows of data\n",
            "Added 0 rows of data\n"
          ]
        },
        {
          "name": "stderr",
          "output_type": "stream",
          "text": [
            "2it [09:28, 305.43s/it]"
          ]
        },
        {
          "name": "stdout",
          "output_type": "stream",
          "text": [
            "Language: fo    Improvement over baseline: -1.39373\n"
          ]
        },
        {
          "name": "stderr",
          "output_type": "stream",
          "text": [
            "3it [13:40, 281.37s/it]"
          ]
        },
        {
          "name": "stdout",
          "output_type": "stream",
          "text": [
            "Language: co    Improvement over baseline: 3.82775\n",
            "Added 302 rows of data\n",
            "Added 0 rows of data\n"
          ]
        },
        {
          "name": "stderr",
          "output_type": "stream",
          "text": [
            "4it [19:01, 296.82s/it]"
          ]
        },
        {
          "name": "stdout",
          "output_type": "stream",
          "text": [
            "Language: hsb    Improvement over baseline: 1.26050\n"
          ]
        },
        {
          "name": "stderr",
          "output_type": "stream",
          "text": [
            "5it [22:04, 255.99s/it]"
          ]
        },
        {
          "name": "stdout",
          "output_type": "stream",
          "text": [
            "Language: bh    Improvement over baseline: 1.32159\n",
            "Added 164 rows of data\n",
            "Added 0 rows of data\n",
            "Added 0 rows of data\n",
            "Added 0 rows of data\n",
            "Added 0 rows of data\n"
          ]
        },
        {
          "name": "stderr",
          "output_type": "stream",
          "text": [
            "6it [28:51, 288.63s/it]\n"
          ]
        },
        {
          "name": "stdout",
          "output_type": "stream",
          "text": [
            "Language: cv    Improvement over baseline: 2.32019\n"
          ]
        },
        {
          "name": "stderr",
          "output_type": "stream",
          "text": [
            "1it [03:38, 218.58s/it]"
          ]
        },
        {
          "name": "stdout",
          "output_type": "stream",
          "text": [
            "Language: mg    Improvement over baseline: 0.00000\n"
          ]
        },
        {
          "name": "stderr",
          "output_type": "stream",
          "text": [
            "2it [06:40, 197.06s/it]"
          ]
        },
        {
          "name": "stdout",
          "output_type": "stream",
          "text": [
            "Language: fo    Improvement over baseline: -3.31010\n"
          ]
        },
        {
          "name": "stderr",
          "output_type": "stream",
          "text": [
            "3it [09:54, 195.78s/it]"
          ]
        },
        {
          "name": "stdout",
          "output_type": "stream",
          "text": [
            "Language: co    Improvement over baseline: 2.87081\n",
            "Added 441 rows of data\n",
            "Added 0 rows of data\n"
          ]
        },
        {
          "name": "stderr",
          "output_type": "stream",
          "text": [
            "4it [15:17, 245.80s/it]"
          ]
        },
        {
          "name": "stdout",
          "output_type": "stream",
          "text": [
            "Language: hsb    Improvement over baseline: -3.36134\n"
          ]
        },
        {
          "name": "stderr",
          "output_type": "stream",
          "text": [
            "5it [18:04, 217.55s/it]"
          ]
        },
        {
          "name": "stdout",
          "output_type": "stream",
          "text": [
            "Language: bh    Improvement over baseline: -3.30396\n",
            "Added 135 rows of data\n",
            "Added 0 rows of data\n",
            "Added 0 rows of data\n"
          ]
        },
        {
          "name": "stderr",
          "output_type": "stream",
          "text": [
            "6it [23:51, 238.63s/it]\n"
          ]
        },
        {
          "name": "stdout",
          "output_type": "stream",
          "text": [
            "Language: cv    Improvement over baseline: 3.48028\n"
          ]
        },
        {
          "name": "stderr",
          "output_type": "stream",
          "text": [
            "0it [00:00, ?it/s]"
          ]
        },
        {
          "name": "stdout",
          "output_type": "stream",
          "text": [
            "Added 383 rows of data\n",
            "Added 0 rows of data\n",
            "Added 0 rows of data\n",
            "Added 0 rows of data\n",
            "Added 0 rows of data\n"
          ]
        },
        {
          "name": "stderr",
          "output_type": "stream",
          "text": [
            "1it [06:26, 386.47s/it]"
          ]
        },
        {
          "name": "stdout",
          "output_type": "stream",
          "text": [
            "Language: mg    Improvement over baseline: 0.45872\n"
          ]
        },
        {
          "name": "stderr",
          "output_type": "stream",
          "text": [
            "2it [09:18, 260.39s/it]"
          ]
        },
        {
          "name": "stdout",
          "output_type": "stream",
          "text": [
            "Language: fo    Improvement over baseline: -0.34843\n",
            "Added 31 rows of data\n",
            "Added 0 rows of data\n",
            "Added 0 rows of data\n"
          ]
        },
        {
          "name": "stderr",
          "output_type": "stream",
          "text": [
            "3it [14:57, 296.45s/it]"
          ]
        },
        {
          "name": "stdout",
          "output_type": "stream",
          "text": [
            "Language: co    Improvement over baseline: 11.96172\n",
            "Added 347 rows of data\n",
            "Added 0 rows of data\n",
            "Added 0 rows of data\n",
            "Added 0 rows of data\n",
            "Added 0 rows of data\n"
          ]
        },
        {
          "name": "stderr",
          "output_type": "stream",
          "text": [
            "4it [21:58, 345.35s/it]"
          ]
        },
        {
          "name": "stdout",
          "output_type": "stream",
          "text": [
            "Language: hsb    Improvement over baseline: -2.52101\n"
          ]
        },
        {
          "name": "stderr",
          "output_type": "stream",
          "text": [
            "5it [24:26, 274.16s/it]"
          ]
        },
        {
          "name": "stdout",
          "output_type": "stream",
          "text": [
            "Language: bh    Improvement over baseline: 1.98238\n"
          ]
        },
        {
          "name": "stderr",
          "output_type": "stream",
          "text": [
            "6it [28:18, 283.07s/it]\n"
          ]
        },
        {
          "name": "stdout",
          "output_type": "stream",
          "text": [
            "Language: cv    Improvement over baseline: 0.23202\n"
          ]
        },
        {
          "name": "stderr",
          "output_type": "stream",
          "text": [
            "0it [00:00, ?it/s]"
          ]
        },
        {
          "name": "stdout",
          "output_type": "stream",
          "text": [
            "Added 382 rows of data\n",
            "Added 0 rows of data\n",
            "Added 0 rows of data\n",
            "Added 0 rows of data\n",
            "Added 0 rows of data\n"
          ]
        },
        {
          "name": "stderr",
          "output_type": "stream",
          "text": [
            "1it [06:24, 384.27s/it]"
          ]
        },
        {
          "name": "stdout",
          "output_type": "stream",
          "text": [
            "Language: mg    Improvement over baseline: 0.45872\n"
          ]
        },
        {
          "name": "stderr",
          "output_type": "stream",
          "text": [
            "2it [10:18, 296.08s/it]"
          ]
        },
        {
          "name": "stdout",
          "output_type": "stream",
          "text": [
            "Language: fo    Improvement over baseline: -0.17422\n",
            "Added 10 rows of data\n"
          ]
        },
        {
          "name": "stderr",
          "output_type": "stream",
          "text": [
            "3it [14:58, 288.82s/it]"
          ]
        },
        {
          "name": "stdout",
          "output_type": "stream",
          "text": [
            "Language: co    Improvement over baseline: 6.22010\n",
            "Added 134 rows of data\n",
            "Added 0 rows of data\n",
            "Added 0 rows of data\n",
            "Added 0 rows of data\n",
            "Added 0 rows of data\n"
          ]
        },
        {
          "name": "stderr",
          "output_type": "stream",
          "text": [
            "4it [21:45, 335.49s/it]"
          ]
        },
        {
          "name": "stdout",
          "output_type": "stream",
          "text": [
            "Language: hsb    Improvement over baseline: -1.89076\n"
          ]
        },
        {
          "name": "stderr",
          "output_type": "stream",
          "text": [
            "5it [24:14, 267.96s/it]"
          ]
        },
        {
          "name": "stdout",
          "output_type": "stream",
          "text": [
            "Language: bh    Improvement over baseline: 2.64317\n"
          ]
        },
        {
          "name": "stderr",
          "output_type": "stream",
          "text": [
            "6it [28:34, 285.82s/it]\n"
          ]
        },
        {
          "name": "stdout",
          "output_type": "stream",
          "text": [
            "Language: cv    Improvement over baseline: 3.48028\n"
          ]
        },
        {
          "name": "stderr",
          "output_type": "stream",
          "text": [
            "0it [00:00, ?it/s]"
          ]
        },
        {
          "name": "stdout",
          "output_type": "stream",
          "text": [
            "Added 388 rows of data\n",
            "Added 0 rows of data\n"
          ]
        },
        {
          "name": "stderr",
          "output_type": "stream",
          "text": [
            "1it [05:02, 302.71s/it]"
          ]
        },
        {
          "name": "stdout",
          "output_type": "stream",
          "text": [
            "Language: mg    Improvement over baseline: 0.00000\n"
          ]
        },
        {
          "name": "stderr",
          "output_type": "stream",
          "text": [
            "2it [08:26, 244.31s/it]"
          ]
        },
        {
          "name": "stdout",
          "output_type": "stream",
          "text": [
            "Language: fo    Improvement over baseline: 1.21951\n",
            "Added 14 rows of data\n"
          ]
        },
        {
          "name": "stderr",
          "output_type": "stream",
          "text": [
            "3it [13:03, 259.59s/it]"
          ]
        },
        {
          "name": "stdout",
          "output_type": "stream",
          "text": [
            "Language: co    Improvement over baseline: 11.00478\n",
            "Added 544 rows of data\n",
            "Added 0 rows of data\n",
            "Added 0 rows of data\n",
            "Added 0 rows of data\n",
            "Added 0 rows of data\n"
          ]
        },
        {
          "name": "stderr",
          "output_type": "stream",
          "text": [
            "4it [20:10, 325.43s/it]"
          ]
        },
        {
          "name": "stdout",
          "output_type": "stream",
          "text": [
            "Language: hsb    Improvement over baseline: 0.21008\n",
            "Added 199 rows of data\n"
          ]
        },
        {
          "name": "stderr",
          "output_type": "stream",
          "text": [
            "5it [23:41, 284.33s/it]"
          ]
        },
        {
          "name": "stdout",
          "output_type": "stream",
          "text": [
            "Language: bh    Improvement over baseline: 3.96476\n"
          ]
        },
        {
          "name": "stderr",
          "output_type": "stream",
          "text": [
            "6it [27:32, 275.50s/it]\n"
          ]
        },
        {
          "name": "stdout",
          "output_type": "stream",
          "text": [
            "Language: cv    Improvement over baseline: 8.81671\n"
          ]
        },
        {
          "name": "stderr",
          "output_type": "stream",
          "text": [
            "0it [00:00, ?it/s]"
          ]
        },
        {
          "name": "stdout",
          "output_type": "stream",
          "text": [
            "Added 207 rows of data\n"
          ]
        },
        {
          "name": "stderr",
          "output_type": "stream",
          "text": [
            "1it [04:31, 271.65s/it]"
          ]
        },
        {
          "name": "stdout",
          "output_type": "stream",
          "text": [
            "Language: mg    Improvement over baseline: 0.00000\n"
          ]
        },
        {
          "name": "stderr",
          "output_type": "stream",
          "text": [
            "2it [08:25, 249.17s/it]"
          ]
        },
        {
          "name": "stdout",
          "output_type": "stream",
          "text": [
            "Language: fo    Improvement over baseline: 0.00000\n",
            "Added 6 rows of data\n"
          ]
        },
        {
          "name": "stderr",
          "output_type": "stream",
          "text": [
            "3it [13:08, 264.69s/it]"
          ]
        },
        {
          "name": "stdout",
          "output_type": "stream",
          "text": [
            "Language: co    Improvement over baseline: 8.13397\n"
          ]
        },
        {
          "name": "stderr",
          "output_type": "stream",
          "text": [
            "4it [16:34, 241.74s/it]"
          ]
        },
        {
          "name": "stdout",
          "output_type": "stream",
          "text": [
            "Language: hsb    Improvement over baseline: -3.36134\n",
            "Added 426 rows of data\n",
            "Added 0 rows of data\n",
            "Added 0 rows of data\n",
            "Added 0 rows of data\n"
          ]
        },
        {
          "name": "stderr",
          "output_type": "stream",
          "text": [
            "5it [21:24, 259.03s/it]"
          ]
        },
        {
          "name": "stdout",
          "output_type": "stream",
          "text": [
            "Language: bh    Improvement over baseline: 9.47137\n"
          ]
        },
        {
          "name": "stderr",
          "output_type": "stream",
          "text": [
            "6it [24:20, 243.41s/it]\n"
          ]
        },
        {
          "name": "stdout",
          "output_type": "stream",
          "text": [
            "Language: cv    Improvement over baseline: 2.78422\n"
          ]
        },
        {
          "name": "stderr",
          "output_type": "stream",
          "text": [
            "0it [00:00, ?it/s]"
          ]
        },
        {
          "name": "stdout",
          "output_type": "stream",
          "text": [
            "Added 381 rows of data\n"
          ]
        },
        {
          "name": "stderr",
          "output_type": "stream",
          "text": [
            "1it [04:31, 271.41s/it]"
          ]
        },
        {
          "name": "stdout",
          "output_type": "stream",
          "text": [
            "Language: mg    Improvement over baseline: 0.45872\n",
            "Added 251 rows of data\n",
            "Added 0 rows of data\n"
          ]
        },
        {
          "name": "stderr",
          "output_type": "stream",
          "text": [
            "2it [09:47, 297.89s/it]"
          ]
        },
        {
          "name": "stdout",
          "output_type": "stream",
          "text": [
            "Language: fo    Improvement over baseline: 1.74216\n"
          ]
        },
        {
          "name": "stderr",
          "output_type": "stream",
          "text": [
            "3it [12:11, 227.52s/it]"
          ]
        },
        {
          "name": "stdout",
          "output_type": "stream",
          "text": [
            "Language: co    Improvement over baseline: 2.87081\n",
            "Added 173 rows of data\n",
            "Added 0 rows of data\n"
          ]
        },
        {
          "name": "stderr",
          "output_type": "stream",
          "text": [
            "4it [17:40, 267.68s/it]"
          ]
        },
        {
          "name": "stdout",
          "output_type": "stream",
          "text": [
            "Language: hsb    Improvement over baseline: 0.00000\n"
          ]
        },
        {
          "name": "stderr",
          "output_type": "stream",
          "text": [
            "5it [19:48, 217.09s/it]"
          ]
        },
        {
          "name": "stdout",
          "output_type": "stream",
          "text": [
            "Language: bh    Improvement over baseline: 3.08370\n",
            "Added 613 rows of data\n",
            "Added 0 rows of data\n",
            "Added 0 rows of data\n",
            "Added 0 rows of data\n"
          ]
        },
        {
          "name": "stderr",
          "output_type": "stream",
          "text": [
            "6it [26:22, 263.80s/it]\n"
          ]
        },
        {
          "name": "stdout",
          "output_type": "stream",
          "text": [
            "Language: cv    Improvement over baseline: 6.72854\n"
          ]
        },
        {
          "name": "stderr",
          "output_type": "stream",
          "text": [
            "1it [03:38, 218.36s/it]"
          ]
        },
        {
          "name": "stdout",
          "output_type": "stream",
          "text": [
            "Language: mg    Improvement over baseline: 0.45872\n",
            "Added 644 rows of data\n",
            "Added 0 rows of data\n",
            "Added 0 rows of data\n"
          ]
        },
        {
          "name": "stderr",
          "output_type": "stream",
          "text": [
            "2it [09:34, 299.19s/it]"
          ]
        },
        {
          "name": "stdout",
          "output_type": "stream",
          "text": [
            "Language: fo    Improvement over baseline: 1.56794\n"
          ]
        },
        {
          "name": "stderr",
          "output_type": "stream",
          "text": [
            "3it [11:56, 227.72s/it]"
          ]
        },
        {
          "name": "stdout",
          "output_type": "stream",
          "text": [
            "Language: co    Improvement over baseline: 1.43541\n",
            "Added 27 rows of data\n",
            "Added 0 rows of data\n",
            "Added 0 rows of data\n",
            "Added 0 rows of data\n",
            "Added 15 rows of data\n"
          ]
        },
        {
          "name": "stderr",
          "output_type": "stream",
          "text": [
            "4it [18:43, 298.38s/it]"
          ]
        },
        {
          "name": "stdout",
          "output_type": "stream",
          "text": [
            "Language: hsb    Improvement over baseline: -1.89076\n"
          ]
        },
        {
          "name": "stderr",
          "output_type": "stream",
          "text": [
            "5it [20:49, 236.30s/it]"
          ]
        },
        {
          "name": "stdout",
          "output_type": "stream",
          "text": [
            "Language: bh    Improvement over baseline: 1.32159\n",
            "Added 399 rows of data\n"
          ]
        },
        {
          "name": "stderr",
          "output_type": "stream",
          "text": [
            "6it [25:37, 256.33s/it]\n"
          ]
        },
        {
          "name": "stdout",
          "output_type": "stream",
          "text": [
            "Language: cv    Improvement over baseline: 3.24826\n"
          ]
        },
        {
          "name": "stderr",
          "output_type": "stream",
          "text": [
            "1it [03:29, 209.93s/it]"
          ]
        },
        {
          "name": "stdout",
          "output_type": "stream",
          "text": [
            "Language: mg    Improvement over baseline: -1.83486\n",
            "Added 591 rows of data\n",
            "Added 0 rows of data\n",
            "Added 0 rows of data\n",
            "Added 0 rows of data\n",
            "Added 0 rows of data\n"
          ]
        },
        {
          "name": "stderr",
          "output_type": "stream",
          "text": [
            "2it [10:37, 337.74s/it]"
          ]
        },
        {
          "name": "stdout",
          "output_type": "stream",
          "text": [
            "Language: fo    Improvement over baseline: -0.69686\n"
          ]
        },
        {
          "name": "stderr",
          "output_type": "stream",
          "text": [
            "3it [14:47, 297.84s/it]"
          ]
        },
        {
          "name": "stdout",
          "output_type": "stream",
          "text": [
            "Language: co    Improvement over baseline: 6.69856\n",
            "Added 54 rows of data\n",
            "Added 0 rows of data\n",
            "Added 0 rows of data\n",
            "Added 0 rows of data\n",
            "Added 0 rows of data\n"
          ]
        },
        {
          "name": "stderr",
          "output_type": "stream",
          "text": [
            "4it [21:29, 339.01s/it]"
          ]
        },
        {
          "name": "stdout",
          "output_type": "stream",
          "text": [
            "Language: hsb    Improvement over baseline: 0.00000\n"
          ]
        },
        {
          "name": "stderr",
          "output_type": "stream",
          "text": [
            "5it [23:38, 263.08s/it]"
          ]
        },
        {
          "name": "stdout",
          "output_type": "stream",
          "text": [
            "Language: bh    Improvement over baseline: 0.88106\n"
          ]
        },
        {
          "name": "stderr",
          "output_type": "stream",
          "text": [
            "6it [26:30, 265.16s/it]\n"
          ]
        },
        {
          "name": "stdout",
          "output_type": "stream",
          "text": [
            "Language: cv    Improvement over baseline: 4.40835\n"
          ]
        },
        {
          "name": "stderr",
          "output_type": "stream",
          "text": [
            "1it [03:33, 213.79s/it]"
          ]
        },
        {
          "name": "stdout",
          "output_type": "stream",
          "text": [
            "Language: mg    Improvement over baseline: 1.37615\n"
          ]
        },
        {
          "name": "stderr",
          "output_type": "stream",
          "text": [
            "2it [06:02, 175.40s/it]"
          ]
        },
        {
          "name": "stdout",
          "output_type": "stream",
          "text": [
            "Language: fo    Improvement over baseline: -3.31010\n"
          ]
        },
        {
          "name": "stderr",
          "output_type": "stream",
          "text": [
            "3it [09:43, 196.11s/it]"
          ]
        },
        {
          "name": "stdout",
          "output_type": "stream",
          "text": [
            "Language: co    Improvement over baseline: 7.65550\n",
            "Added 32 rows of data\n",
            "Added 0 rows of data\n"
          ]
        },
        {
          "name": "stderr",
          "output_type": "stream",
          "text": [
            "4it [15:03, 245.10s/it]"
          ]
        },
        {
          "name": "stdout",
          "output_type": "stream",
          "text": [
            "Language: hsb    Improvement over baseline: -1.05042\n",
            "Added 163 rows of data\n",
            "Added 0 rows of data\n",
            "Added 0 rows of data\n",
            "Added 0 rows of data\n",
            "Added 0 rows of data\n"
          ]
        },
        {
          "name": "stderr",
          "output_type": "stream",
          "text": [
            "5it [20:00, 264.06s/it]"
          ]
        },
        {
          "name": "stdout",
          "output_type": "stream",
          "text": [
            "Language: bh    Improvement over baseline: 3.52423\n",
            "Added 379 rows of data\n",
            "Added 0 rows of data\n",
            "Added 0 rows of data\n",
            "Added 0 rows of data\n",
            "Added 0 rows of data\n"
          ]
        },
        {
          "name": "stderr",
          "output_type": "stream",
          "text": [
            "6it [26:57, 269.65s/it]\n"
          ]
        },
        {
          "name": "stdout",
          "output_type": "stream",
          "text": [
            "Language: cv    Improvement over baseline: 5.33643\n"
          ]
        },
        {
          "name": "stderr",
          "output_type": "stream",
          "text": [
            "0it [00:00, ?it/s]"
          ]
        },
        {
          "name": "stdout",
          "output_type": "stream",
          "text": [
            "Added 271 rows of data\n",
            "Added 0 rows of data\n",
            "Added 0 rows of data\n",
            "Added 0 rows of data\n"
          ]
        },
        {
          "name": "stderr",
          "output_type": "stream",
          "text": [
            "1it [05:51, 351.39s/it]"
          ]
        },
        {
          "name": "stdout",
          "output_type": "stream",
          "text": [
            "Language: mg    Improvement over baseline: 0.22936\n"
          ]
        },
        {
          "name": "stderr",
          "output_type": "stream",
          "text": [
            "2it [09:38, 278.08s/it]"
          ]
        },
        {
          "name": "stdout",
          "output_type": "stream",
          "text": [
            "Language: fo    Improvement over baseline: -0.69686\n"
          ]
        },
        {
          "name": "stderr",
          "output_type": "stream",
          "text": [
            "3it [12:01, 216.41s/it]"
          ]
        },
        {
          "name": "stdout",
          "output_type": "stream",
          "text": [
            "Language: co    Improvement over baseline: 1.91388\n",
            "Added 44 rows of data\n",
            "Added 0 rows of data\n",
            "Added 0 rows of data\n",
            "Added 0 rows of data\n",
            "Added 0 rows of data\n"
          ]
        },
        {
          "name": "stderr",
          "output_type": "stream",
          "text": [
            "4it [18:53, 293.93s/it]"
          ]
        },
        {
          "name": "stdout",
          "output_type": "stream",
          "text": [
            "Language: hsb    Improvement over baseline: 0.21008\n"
          ]
        },
        {
          "name": "stderr",
          "output_type": "stream",
          "text": [
            "5it [21:01, 233.92s/it]"
          ]
        },
        {
          "name": "stdout",
          "output_type": "stream",
          "text": [
            "Language: bh    Improvement over baseline: 2.42291\n"
          ]
        },
        {
          "name": "stderr",
          "output_type": "stream",
          "text": [
            "6it [24:46, 247.81s/it]\n"
          ]
        },
        {
          "name": "stdout",
          "output_type": "stream",
          "text": [
            "Language: cv    Improvement over baseline: 3.24826\n"
          ]
        },
        {
          "name": "stderr",
          "output_type": "stream",
          "text": [
            "0it [00:00, ?it/s]"
          ]
        },
        {
          "name": "stdout",
          "output_type": "stream",
          "text": [
            "Added 279 rows of data\n",
            "Added 0 rows of data\n",
            "Added 0 rows of data\n",
            "Added 0 rows of data\n"
          ]
        },
        {
          "name": "stderr",
          "output_type": "stream",
          "text": [
            "1it [05:56, 356.86s/it]"
          ]
        },
        {
          "name": "stdout",
          "output_type": "stream",
          "text": [
            "Language: mg    Improvement over baseline: 0.00000\n"
          ]
        },
        {
          "name": "stderr",
          "output_type": "stream",
          "text": [
            "2it [09:13, 262.56s/it]"
          ]
        },
        {
          "name": "stdout",
          "output_type": "stream",
          "text": [
            "Language: fo    Improvement over baseline: 1.39373\n",
            "Added 22 rows of data\n",
            "Added 0 rows of data\n"
          ]
        },
        {
          "name": "stderr",
          "output_type": "stream",
          "text": [
            "3it [14:13, 279.88s/it]"
          ]
        },
        {
          "name": "stdout",
          "output_type": "stream",
          "text": [
            "Language: co    Improvement over baseline: 8.61244\n",
            "Added 74 rows of data\n"
          ]
        },
        {
          "name": "stderr",
          "output_type": "stream",
          "text": [
            "4it [18:59, 282.13s/it]"
          ]
        },
        {
          "name": "stdout",
          "output_type": "stream",
          "text": [
            "Language: hsb    Improvement over baseline: 0.00000\n"
          ]
        },
        {
          "name": "stderr",
          "output_type": "stream",
          "text": [
            "5it [21:44, 239.96s/it]"
          ]
        },
        {
          "name": "stdout",
          "output_type": "stream",
          "text": [
            "Language: bh    Improvement over baseline: 2.42291\n",
            "Added 89 rows of data\n",
            "Added 0 rows of data\n",
            "Added 0 rows of data\n",
            "Added 0 rows of data\n"
          ]
        },
        {
          "name": "stderr",
          "output_type": "stream",
          "text": [
            "6it [27:59, 279.88s/it]\n"
          ]
        },
        {
          "name": "stdout",
          "output_type": "stream",
          "text": [
            "Language: cv    Improvement over baseline: 2.08817\n"
          ]
        },
        {
          "name": "stderr",
          "output_type": "stream",
          "text": [
            "1it [02:43, 163.64s/it]"
          ]
        },
        {
          "name": "stdout",
          "output_type": "stream",
          "text": [
            "Language: mg    Improvement over baseline: 0.22936\n",
            "Added 427 rows of data\n",
            "Added 0 rows of data\n",
            "Added 0 rows of data\n"
          ]
        },
        {
          "name": "stderr",
          "output_type": "stream",
          "text": [
            "2it [08:39, 276.60s/it]"
          ]
        },
        {
          "name": "stdout",
          "output_type": "stream",
          "text": [
            "Language: fo    Improvement over baseline: 1.04530\n",
            "Added 5 rows of data\n",
            "Added 0 rows of data\n",
            "Added 6 rows of data\n"
          ]
        },
        {
          "name": "stderr",
          "output_type": "stream",
          "text": [
            "3it [14:10, 301.58s/it]"
          ]
        },
        {
          "name": "stdout",
          "output_type": "stream",
          "text": [
            "Language: co    Improvement over baseline: 5.74163\n",
            "Added 103 rows of data\n",
            "Added 0 rows of data\n",
            "Added 0 rows of data\n",
            "Added 0 rows of data\n",
            "Added 0 rows of data\n"
          ]
        },
        {
          "name": "stderr",
          "output_type": "stream",
          "text": [
            "4it [21:00, 344.31s/it]"
          ]
        },
        {
          "name": "stdout",
          "output_type": "stream",
          "text": [
            "Language: hsb    Improvement over baseline: -2.31092\n"
          ]
        },
        {
          "name": "stderr",
          "output_type": "stream",
          "text": [
            "5it [23:11, 267.40s/it]"
          ]
        },
        {
          "name": "stdout",
          "output_type": "stream",
          "text": [
            "Language: bh    Improvement over baseline: -1.76211\n",
            "Added 274 rows of data\n",
            "Added 0 rows of data\n"
          ]
        },
        {
          "name": "stderr",
          "output_type": "stream",
          "text": [
            "6it [28:34, 285.79s/it]\n"
          ]
        },
        {
          "name": "stdout",
          "output_type": "stream",
          "text": [
            "Language: cv    Improvement over baseline: 3.01624\n"
          ]
        },
        {
          "name": "stderr",
          "output_type": "stream",
          "text": [
            "0it [00:00, ?it/s]"
          ]
        },
        {
          "name": "stdout",
          "output_type": "stream",
          "text": [
            "Added 43 rows of data\n",
            "Added 0 rows of data\n",
            "Added 0 rows of data\n",
            "Added 0 rows of data\n"
          ]
        },
        {
          "name": "stderr",
          "output_type": "stream",
          "text": [
            "1it [05:48, 348.06s/it]"
          ]
        },
        {
          "name": "stdout",
          "output_type": "stream",
          "text": [
            "Language: mg    Improvement over baseline: -0.45872\n",
            "Added 780 rows of data\n",
            "Added 0 rows of data\n",
            "Added 0 rows of data\n",
            "Added 0 rows of data\n"
          ]
        },
        {
          "name": "stderr",
          "output_type": "stream",
          "text": [
            "2it [12:26, 377.91s/it]"
          ]
        },
        {
          "name": "stdout",
          "output_type": "stream",
          "text": [
            "Language: fo    Improvement over baseline: 2.96167\n",
            "Added 3 rows of data\n",
            "Added 2 rows of data\n",
            "Added 10 rows of data\n",
            "Added 2 rows of data\n",
            "Added 0 rows of data\n",
            "Added 0 rows of data\n",
            "Added 0 rows of data\n",
            "Added 0 rows of data\n",
            "Added 0 rows of data\n"
          ]
        },
        {
          "name": "stderr",
          "output_type": "stream",
          "text": [
            "3it [20:44, 432.36s/it]"
          ]
        },
        {
          "name": "stdout",
          "output_type": "stream",
          "text": [
            "Language: co    Improvement over baseline: 8.13397\n"
          ]
        },
        {
          "name": "stderr",
          "output_type": "stream",
          "text": [
            "4it [23:40, 331.25s/it]"
          ]
        },
        {
          "name": "stdout",
          "output_type": "stream",
          "text": [
            "Language: hsb    Improvement over baseline: -1.05042\n"
          ]
        },
        {
          "name": "stderr",
          "output_type": "stream",
          "text": [
            "5it [25:26, 249.95s/it]"
          ]
        },
        {
          "name": "stdout",
          "output_type": "stream",
          "text": [
            "Language: bh    Improvement over baseline: -0.66079\n",
            "Added 92 rows of data\n",
            "Added 0 rows of data\n",
            "Added 0 rows of data\n"
          ]
        },
        {
          "name": "stderr",
          "output_type": "stream",
          "text": [
            "6it [31:14, 312.49s/it]\n"
          ]
        },
        {
          "name": "stdout",
          "output_type": "stream",
          "text": [
            "Language: cv    Improvement over baseline: 1.85615\n"
          ]
        },
        {
          "name": "stderr",
          "output_type": "stream",
          "text": [
            "0it [00:00, ?it/s]"
          ]
        },
        {
          "name": "stdout",
          "output_type": "stream",
          "text": [
            "Added 136 rows of data\n"
          ]
        },
        {
          "name": "stderr",
          "output_type": "stream",
          "text": [
            "1it [04:29, 269.62s/it]"
          ]
        },
        {
          "name": "stdout",
          "output_type": "stream",
          "text": [
            "Language: mg    Improvement over baseline: -0.45872\n"
          ]
        },
        {
          "name": "stderr",
          "output_type": "stream",
          "text": [
            "2it [08:19, 246.09s/it]"
          ]
        },
        {
          "name": "stdout",
          "output_type": "stream",
          "text": [
            "Language: fo    Improvement over baseline: -0.87108\n",
            "Added 4 rows of data\n",
            "Added 0 rows of data\n",
            "Added 0 rows of data\n",
            "Added 0 rows of data\n",
            "Added 0 rows of data\n",
            "Added 0 rows of data\n",
            "Added 0 rows of data\n",
            "Added 1 rows of data\n"
          ]
        },
        {
          "name": "stderr",
          "output_type": "stream",
          "text": [
            "3it [16:22, 354.59s/it]"
          ]
        },
        {
          "name": "stdout",
          "output_type": "stream",
          "text": [
            "Language: co    Improvement over baseline: 5.26316\n",
            "Added 8 rows of data\n",
            "Added 0 rows of data\n",
            "Added 0 rows of data\n",
            "Added 0 rows of data\n",
            "Added 0 rows of data\n",
            "Added 0 rows of data\n",
            "Added 0 rows of data\n"
          ]
        },
        {
          "name": "stderr",
          "output_type": "stream",
          "text": [
            "4it [24:09, 398.86s/it]"
          ]
        },
        {
          "name": "stdout",
          "output_type": "stream",
          "text": [
            "Language: hsb    Improvement over baseline: -1.26050\n",
            "Added 10 rows of data\n",
            "Added 24 rows of data\n",
            "Added 3 rows of data\n",
            "Added 0 rows of data\n"
          ]
        },
        {
          "name": "stderr",
          "output_type": "stream",
          "text": [
            "5it [28:39, 352.41s/it]"
          ]
        },
        {
          "name": "stdout",
          "output_type": "stream",
          "text": [
            "Language: bh    Improvement over baseline: 4.40529\n",
            "Added 18 rows of data\n",
            "Added 0 rows of data\n"
          ]
        },
        {
          "name": "stderr",
          "output_type": "stream",
          "text": [
            "6it [33:56, 339.42s/it]\n"
          ]
        },
        {
          "name": "stdout",
          "output_type": "stream",
          "text": [
            "Language: cv    Improvement over baseline: 4.40835\n"
          ]
        },
        {
          "name": "stderr",
          "output_type": "stream",
          "text": [
            "0it [00:00, ?it/s]"
          ]
        },
        {
          "name": "stdout",
          "output_type": "stream",
          "text": [
            "Added 190 rows of data\n",
            "Added 0 rows of data\n",
            "Added 0 rows of data\n",
            "Added 0 rows of data\n",
            "Added 0 rows of data\n"
          ]
        },
        {
          "name": "stderr",
          "output_type": "stream",
          "text": [
            "1it [06:17, 377.53s/it]"
          ]
        },
        {
          "name": "stdout",
          "output_type": "stream",
          "text": [
            "Language: mg    Improvement over baseline: 0.45872\n"
          ]
        },
        {
          "name": "stderr",
          "output_type": "stream",
          "text": [
            "2it [10:05, 289.31s/it]"
          ]
        },
        {
          "name": "stdout",
          "output_type": "stream",
          "text": [
            "Language: fo    Improvement over baseline: 1.56794\n"
          ]
        },
        {
          "name": "stderr",
          "output_type": "stream",
          "text": [
            "3it [13:00, 237.44s/it]"
          ]
        },
        {
          "name": "stdout",
          "output_type": "stream",
          "text": [
            "Language: co    Improvement over baseline: 7.65550\n"
          ]
        },
        {
          "name": "stderr",
          "output_type": "stream",
          "text": [
            "4it [17:21, 246.68s/it]"
          ]
        },
        {
          "name": "stdout",
          "output_type": "stream",
          "text": [
            "Language: hsb    Improvement over baseline: -4.20168\n"
          ]
        },
        {
          "name": "stderr",
          "output_type": "stream",
          "text": [
            "5it [19:26, 202.66s/it]"
          ]
        },
        {
          "name": "stdout",
          "output_type": "stream",
          "text": [
            "Language: bh    Improvement over baseline: 0.88106\n"
          ]
        },
        {
          "name": "stderr",
          "output_type": "stream",
          "text": [
            "6it [23:17, 232.99s/it]\n"
          ]
        },
        {
          "name": "stdout",
          "output_type": "stream",
          "text": [
            "Language: cv    Improvement over baseline: 3.71230\n"
          ]
        },
        {
          "name": "stderr",
          "output_type": "stream",
          "text": [
            "1it [04:06, 246.71s/it]"
          ]
        },
        {
          "name": "stdout",
          "output_type": "stream",
          "text": [
            "Language: mg    Improvement over baseline: 0.45872\n"
          ]
        },
        {
          "name": "stderr",
          "output_type": "stream",
          "text": [
            "2it [07:26, 218.98s/it]"
          ]
        },
        {
          "name": "stdout",
          "output_type": "stream",
          "text": [
            "Language: fo    Improvement over baseline: -1.21951\n",
            "Added 7 rows of data\n",
            "Added 0 rows of data\n",
            "Added 0 rows of data\n",
            "Added 0 rows of data\n"
          ]
        },
        {
          "name": "stderr",
          "output_type": "stream",
          "text": [
            "3it [13:24, 282.55s/it]"
          ]
        },
        {
          "name": "stdout",
          "output_type": "stream",
          "text": [
            "Language: co    Improvement over baseline: 10.52632\n",
            "Added 3 rows of data\n"
          ]
        },
        {
          "name": "stderr",
          "output_type": "stream",
          "text": [
            "4it [18:12, 284.88s/it]"
          ]
        },
        {
          "name": "stdout",
          "output_type": "stream",
          "text": [
            "Language: hsb    Improvement over baseline: -2.31092\n",
            "Added 30 rows of data\n",
            "Added 0 rows of data\n",
            "Added 0 rows of data\n",
            "Added 0 rows of data\n",
            "Added 0 rows of data\n"
          ]
        },
        {
          "name": "stderr",
          "output_type": "stream",
          "text": [
            "5it [23:06, 288.15s/it]"
          ]
        },
        {
          "name": "stdout",
          "output_type": "stream",
          "text": [
            "Language: bh    Improvement over baseline: 2.42291\n"
          ]
        },
        {
          "name": "stderr",
          "output_type": "stream",
          "text": [
            "6it [25:59, 259.95s/it]"
          ]
        },
        {
          "name": "stdout",
          "output_type": "stream",
          "text": [
            "Language: cv    Improvement over baseline: 2.55220\n"
          ]
        },
        {
          "name": "stderr",
          "output_type": "stream",
          "text": [
            "\n"
          ]
        }
      ],
      "source": [
        "iterative_pseudo_labeling_results = []\n",
        "\n",
        "# Iterate through low-resource languages\n",
        "high_resource_datasets = load_wikiann_datasets(BaseConfig.high_resource_langs, 10000)\n",
        "\n",
        "for conf_quantile in [\n",
        "    0.82,\n",
        "    0.83,\n",
        "    0.84,\n",
        "    0.85,\n",
        "    0.86,\n",
        "    0.87,\n",
        "    0.88,\n",
        "    0.89,\n",
        "    0.9,\n",
        "    0.91,\n",
        "    0.92,\n",
        "    0.93,\n",
        "    0.94,\n",
        "    0.95,\n",
        "    0.96,\n",
        "    0.97,\n",
        "    0.98,\n",
        "    0.99,\n",
        "]:\n",
        "    PseudoLabelingConfig.CONFIDENCE_QUANTILE = conf_quantile\n",
        "    for _ in range(3):\n",
        "\n",
        "        # Iterate through low-resource and adjacent high-resource languages\n",
        "        for (lang, low_resource_data), (_, high_resource_data) in tqdm(\n",
        "            zip(low_resource_datasets.items(), high_resource_datasets.items()),\n",
        "            ncols=80,\n",
        "        ):\n",
        "\n",
        "            train_loader, val_loader, test_loader = create_dataloaders(\n",
        "                low_resource_data\n",
        "            )\n",
        "            unlabeled_data = high_resource_data[\"train\"]\n",
        "\n",
        "            # ------------------------------------------ TRAINING ------------------------------------------ #\n",
        "\n",
        "            model = BertBilstmCrf(BaseConfig.NUM_TAGS).to(BaseConfig.DEVICE)\n",
        "            model.load_state_dict(torch.load(f\"models/{lang}_baseline.pth\"))\n",
        "            optimizer = setup_optimizer(model, PseudoLabelingConfig)\n",
        "            best_model_state, train_f1, val_f1 = train_pseudo_labeling(\n",
        "                model,\n",
        "                optimizer,\n",
        "                train_loader,\n",
        "                val_loader,\n",
        "                unlabeled_data,\n",
        "                PseudoLabelingConfig,\n",
        "            )\n",
        "\n",
        "            # ------------------------------------------ EVALUATION ------------------------------------------ #\n",
        "\n",
        "            eval_model = BertBilstmCrf(BaseConfig.NUM_TAGS).to(BaseConfig.DEVICE)\n",
        "            eval_model.load_state_dict(best_model_state)\n",
        "            test_loss, test_f1 = evaluate_epoch(eval_model, test_loader)\n",
        "\n",
        "            # ------------------------------------------ RESULTS ------------------------------------------ #\n",
        "            torch.save(best_model_state, f\"models/{lang}_iterative_pseudo_labeling.pth\")\n",
        "\n",
        "            baseline_performance = baseline.loc[\n",
        "                baseline[\"language\"] == lang, \"test_f1\"\n",
        "            ].item()\n",
        "            improvement = (test_f1 - baseline_performance) / baseline_performance * 100\n",
        "\n",
        "            iterative_pseudo_labeling_results.append(\n",
        "                {\n",
        "                    \"language\": lang,\n",
        "                    \"train_f1\": train_f1,\n",
        "                    \"val_f1\": val_f1,\n",
        "                    \"test_f1\": test_f1,\n",
        "                    \"improvement\": improvement,\n",
        "                    \"confidence_quantile\": conf_quantile,\n",
        "                }\n",
        "            )\n",
        "\n",
        "            print(f\"Language: {lang}    Improvement over baseline: {improvement:.5f}\")\n",
        "\n",
        "# Save results\n",
        "iterative_pseudo_labeling = pd.DataFrame(iterative_pseudo_labeling_results)\n",
        "iterative_pseudo_labeling.to_csv(\n",
        "    \"results/second_full_iterative_pseudo_labeling.csv\", index=False\n",
        ")"
      ]
    },
    {
      "cell_type": "markdown",
      "metadata": {},
      "source": [
        "9:\n",
        "\n",
        "class PseudoLabelingConfig(BaseConfig):\n",
        "    EPOCHS                = 25\n",
        "    PATIENCE              = 5\n",
        "    BERT_LEARNING_RATE    = 0.00002\n",
        "    LSTM_LEARNING_RATE    = 0.003\n",
        "    CRF_LEARNING_RATE     = 0.00003\n",
        "\n",
        "    CONFIDENCE_QUANTILE   = 0.95\n",
        "    PSEUDO_DELAY          = 8\n",
        "    ENTROPY_THRESHOLD     = 0.2"
      ]
    },
    {
      "cell_type": "markdown",
      "metadata": {},
      "source": [
        "10:\n",
        "\n",
        "class PseudoLabelingConfig(BaseConfig):\n",
        "    EPOCHS                = 25\n",
        "    PATIENCE              = 5\n",
        "    BERT_LEARNING_RATE    = 0.00002\n",
        "    LSTM_LEARNING_RATE    = 0.003\n",
        "    CRF_LEARNING_RATE     = 0.00003\n",
        "\n",
        "    CONFIDENCE_QUANTILE   = 0.90\n",
        "    PSEUDO_DELAY          = 8\n",
        "    ENTROPY_THRESHOLD     = 0.15"
      ]
    },
    {
      "cell_type": "code",
      "execution_count": 20,
      "metadata": {},
      "outputs": [
        {
          "data": {
            "text/html": [
              "<div>\n",
              "<style scoped>\n",
              "    .dataframe tbody tr th:only-of-type {\n",
              "        vertical-align: middle;\n",
              "    }\n",
              "\n",
              "    .dataframe tbody tr th {\n",
              "        vertical-align: top;\n",
              "    }\n",
              "\n",
              "    .dataframe thead th {\n",
              "        text-align: right;\n",
              "    }\n",
              "</style>\n",
              "<table border=\"1\" class=\"dataframe\">\n",
              "  <thead>\n",
              "    <tr style=\"text-align: right;\">\n",
              "      <th></th>\n",
              "      <th>language</th>\n",
              "      <th>train_f1</th>\n",
              "      <th>val_f1</th>\n",
              "      <th>test_f1</th>\n",
              "      <th>improvement</th>\n",
              "      <th>confidence_quantile</th>\n",
              "    </tr>\n",
              "  </thead>\n",
              "  <tbody>\n",
              "    <tr>\n",
              "      <th>0</th>\n",
              "      <td>mg</td>\n",
              "      <td>0.999543</td>\n",
              "      <td>0.943878</td>\n",
              "      <td>0.960352</td>\n",
              "      <td>0.000000</td>\n",
              "      <td>0.88</td>\n",
              "    </tr>\n",
              "    <tr>\n",
              "      <th>1</th>\n",
              "      <td>fo</td>\n",
              "      <td>0.992799</td>\n",
              "      <td>0.908273</td>\n",
              "      <td>0.912088</td>\n",
              "      <td>1.219512</td>\n",
              "      <td>0.88</td>\n",
              "    </tr>\n",
              "    <tr>\n",
              "      <th>2</th>\n",
              "      <td>co</td>\n",
              "      <td>0.998431</td>\n",
              "      <td>0.852308</td>\n",
              "      <td>0.883268</td>\n",
              "      <td>8.612440</td>\n",
              "      <td>0.88</td>\n",
              "    </tr>\n",
              "    <tr>\n",
              "      <th>3</th>\n",
              "      <td>hsb</td>\n",
              "      <td>0.963006</td>\n",
              "      <td>0.933468</td>\n",
              "      <td>0.838420</td>\n",
              "      <td>-1.890756</td>\n",
              "      <td>0.88</td>\n",
              "    </tr>\n",
              "    <tr>\n",
              "      <th>4</th>\n",
              "      <td>bh</td>\n",
              "      <td>0.995533</td>\n",
              "      <td>0.903052</td>\n",
              "      <td>0.826855</td>\n",
              "      <td>3.083700</td>\n",
              "      <td>0.88</td>\n",
              "    </tr>\n",
              "    <tr>\n",
              "      <th>...</th>\n",
              "      <td>...</td>\n",
              "      <td>...</td>\n",
              "      <td>...</td>\n",
              "      <td>...</td>\n",
              "      <td>...</td>\n",
              "      <td>...</td>\n",
              "    </tr>\n",
              "    <tr>\n",
              "      <th>175</th>\n",
              "      <td>fo</td>\n",
              "      <td>0.995790</td>\n",
              "      <td>0.917266</td>\n",
              "      <td>0.926217</td>\n",
              "      <td>2.787456</td>\n",
              "      <td>0.93</td>\n",
              "    </tr>\n",
              "    <tr>\n",
              "      <th>176</th>\n",
              "      <td>co</td>\n",
              "      <td>0.991126</td>\n",
              "      <td>0.870769</td>\n",
              "      <td>0.883268</td>\n",
              "      <td>8.612440</td>\n",
              "      <td>0.93</td>\n",
              "    </tr>\n",
              "    <tr>\n",
              "      <th>177</th>\n",
              "      <td>hsb</td>\n",
              "      <td>0.989406</td>\n",
              "      <td>0.951613</td>\n",
              "      <td>0.838420</td>\n",
              "      <td>-1.890756</td>\n",
              "      <td>0.93</td>\n",
              "    </tr>\n",
              "    <tr>\n",
              "      <th>178</th>\n",
              "      <td>bh</td>\n",
              "      <td>0.977077</td>\n",
              "      <td>0.881508</td>\n",
              "      <td>0.810954</td>\n",
              "      <td>1.101322</td>\n",
              "      <td>0.93</td>\n",
              "    </tr>\n",
              "    <tr>\n",
              "      <th>179</th>\n",
              "      <td>cv</td>\n",
              "      <td>0.989100</td>\n",
              "      <td>0.906040</td>\n",
              "      <td>0.832370</td>\n",
              "      <td>0.232019</td>\n",
              "      <td>0.93</td>\n",
              "    </tr>\n",
              "  </tbody>\n",
              "</table>\n",
              "<p>180 rows × 6 columns</p>\n",
              "</div>"
            ],
            "text/plain": [
              "    language  train_f1    val_f1   test_f1  improvement  confidence_quantile\n",
              "0         mg  0.999543  0.943878  0.960352     0.000000                 0.88\n",
              "1         fo  0.992799  0.908273  0.912088     1.219512                 0.88\n",
              "2         co  0.998431  0.852308  0.883268     8.612440                 0.88\n",
              "3        hsb  0.963006  0.933468  0.838420    -1.890756                 0.88\n",
              "4         bh  0.995533  0.903052  0.826855     3.083700                 0.88\n",
              "..       ...       ...       ...       ...          ...                  ...\n",
              "175       fo  0.995790  0.917266  0.926217     2.787456                 0.93\n",
              "176       co  0.991126  0.870769  0.883268     8.612440                 0.93\n",
              "177      hsb  0.989406  0.951613  0.838420    -1.890756                 0.93\n",
              "178       bh  0.977077  0.881508  0.810954     1.101322                 0.93\n",
              "179       cv  0.989100  0.906040  0.832370     0.232019                 0.93\n",
              "\n",
              "[180 rows x 6 columns]"
            ]
          },
          "execution_count": 20,
          "metadata": {},
          "output_type": "execute_result"
        }
      ],
      "source": [
        "df = pd.read_csv(\"results/full_iterative_pseudo_labeling.csv\")\n",
        "df"
      ]
    },
    {
      "cell_type": "code",
      "execution_count": 21,
      "metadata": {},
      "outputs": [
        {
          "data": {
            "text/html": [
              "<div>\n",
              "<style scoped>\n",
              "    .dataframe tbody tr th:only-of-type {\n",
              "        vertical-align: middle;\n",
              "    }\n",
              "\n",
              "    .dataframe tbody tr th {\n",
              "        vertical-align: top;\n",
              "    }\n",
              "\n",
              "    .dataframe thead th {\n",
              "        text-align: right;\n",
              "    }\n",
              "</style>\n",
              "<table border=\"1\" class=\"dataframe\">\n",
              "  <thead>\n",
              "    <tr style=\"text-align: right;\">\n",
              "      <th></th>\n",
              "      <th>language</th>\n",
              "      <th>train_f1</th>\n",
              "      <th>val_f1</th>\n",
              "      <th>test_f1</th>\n",
              "      <th>improvement</th>\n",
              "      <th>confidence_quantile</th>\n",
              "    </tr>\n",
              "  </thead>\n",
              "  <tbody>\n",
              "    <tr>\n",
              "      <th>3</th>\n",
              "      <td>hsb</td>\n",
              "      <td>0.963006</td>\n",
              "      <td>0.933468</td>\n",
              "      <td>0.838420</td>\n",
              "      <td>-1.890756</td>\n",
              "      <td>0.88</td>\n",
              "    </tr>\n",
              "    <tr>\n",
              "      <th>9</th>\n",
              "      <td>hsb</td>\n",
              "      <td>0.982419</td>\n",
              "      <td>0.939516</td>\n",
              "      <td>0.847397</td>\n",
              "      <td>-0.840336</td>\n",
              "      <td>0.88</td>\n",
              "    </tr>\n",
              "    <tr>\n",
              "      <th>15</th>\n",
              "      <td>hsb</td>\n",
              "      <td>0.982341</td>\n",
              "      <td>0.963710</td>\n",
              "      <td>0.856373</td>\n",
              "      <td>0.210084</td>\n",
              "      <td>0.88</td>\n",
              "    </tr>\n",
              "    <tr>\n",
              "      <th>21</th>\n",
              "      <td>hsb</td>\n",
              "      <td>0.989991</td>\n",
              "      <td>0.961694</td>\n",
              "      <td>0.825853</td>\n",
              "      <td>-3.361345</td>\n",
              "      <td>0.88</td>\n",
              "    </tr>\n",
              "    <tr>\n",
              "      <th>27</th>\n",
              "      <td>hsb</td>\n",
              "      <td>0.971733</td>\n",
              "      <td>0.933468</td>\n",
              "      <td>0.847397</td>\n",
              "      <td>-0.840336</td>\n",
              "      <td>0.88</td>\n",
              "    </tr>\n",
              "    <tr>\n",
              "      <th>33</th>\n",
              "      <td>hsb</td>\n",
              "      <td>0.985929</td>\n",
              "      <td>0.939516</td>\n",
              "      <td>0.867145</td>\n",
              "      <td>1.470588</td>\n",
              "      <td>0.89</td>\n",
              "    </tr>\n",
              "    <tr>\n",
              "      <th>39</th>\n",
              "      <td>hsb</td>\n",
              "      <td>0.940353</td>\n",
              "      <td>0.917339</td>\n",
              "      <td>0.813285</td>\n",
              "      <td>-4.831933</td>\n",
              "      <td>0.89</td>\n",
              "    </tr>\n",
              "    <tr>\n",
              "      <th>45</th>\n",
              "      <td>hsb</td>\n",
              "      <td>0.973022</td>\n",
              "      <td>0.959677</td>\n",
              "      <td>0.842011</td>\n",
              "      <td>-1.470588</td>\n",
              "      <td>0.89</td>\n",
              "    </tr>\n",
              "    <tr>\n",
              "      <th>51</th>\n",
              "      <td>hsb</td>\n",
              "      <td>0.996490</td>\n",
              "      <td>0.941532</td>\n",
              "      <td>0.859964</td>\n",
              "      <td>0.630252</td>\n",
              "      <td>0.89</td>\n",
              "    </tr>\n",
              "    <tr>\n",
              "      <th>57</th>\n",
              "      <td>hsb</td>\n",
              "      <td>0.989977</td>\n",
              "      <td>0.947581</td>\n",
              "      <td>0.838420</td>\n",
              "      <td>-1.890756</td>\n",
              "      <td>0.89</td>\n",
              "    </tr>\n",
              "    <tr>\n",
              "      <th>63</th>\n",
              "      <td>hsb</td>\n",
              "      <td>0.986948</td>\n",
              "      <td>0.955645</td>\n",
              "      <td>0.856373</td>\n",
              "      <td>0.210084</td>\n",
              "      <td>0.90</td>\n",
              "    </tr>\n",
              "    <tr>\n",
              "      <th>69</th>\n",
              "      <td>hsb</td>\n",
              "      <td>0.994595</td>\n",
              "      <td>0.943548</td>\n",
              "      <td>0.836625</td>\n",
              "      <td>-2.100840</td>\n",
              "      <td>0.90</td>\n",
              "    </tr>\n",
              "    <tr>\n",
              "      <th>75</th>\n",
              "      <td>hsb</td>\n",
              "      <td>0.990271</td>\n",
              "      <td>0.939516</td>\n",
              "      <td>0.845601</td>\n",
              "      <td>-1.050420</td>\n",
              "      <td>0.90</td>\n",
              "    </tr>\n",
              "    <tr>\n",
              "      <th>81</th>\n",
              "      <td>hsb</td>\n",
              "      <td>0.984187</td>\n",
              "      <td>0.955645</td>\n",
              "      <td>0.872531</td>\n",
              "      <td>2.100840</td>\n",
              "      <td>0.90</td>\n",
              "    </tr>\n",
              "    <tr>\n",
              "      <th>87</th>\n",
              "      <td>hsb</td>\n",
              "      <td>0.994247</td>\n",
              "      <td>0.949597</td>\n",
              "      <td>0.838420</td>\n",
              "      <td>-1.890756</td>\n",
              "      <td>0.90</td>\n",
              "    </tr>\n",
              "    <tr>\n",
              "      <th>93</th>\n",
              "      <td>hsb</td>\n",
              "      <td>0.991498</td>\n",
              "      <td>0.943548</td>\n",
              "      <td>0.842011</td>\n",
              "      <td>-1.470588</td>\n",
              "      <td>0.91</td>\n",
              "    </tr>\n",
              "    <tr>\n",
              "      <th>99</th>\n",
              "      <td>hsb</td>\n",
              "      <td>0.993534</td>\n",
              "      <td>0.943548</td>\n",
              "      <td>0.822262</td>\n",
              "      <td>-3.781513</td>\n",
              "      <td>0.91</td>\n",
              "    </tr>\n",
              "    <tr>\n",
              "      <th>105</th>\n",
              "      <td>hsb</td>\n",
              "      <td>0.988646</td>\n",
              "      <td>0.943548</td>\n",
              "      <td>0.838420</td>\n",
              "      <td>-1.890756</td>\n",
              "      <td>0.91</td>\n",
              "    </tr>\n",
              "    <tr>\n",
              "      <th>111</th>\n",
              "      <td>hsb</td>\n",
              "      <td>0.994532</td>\n",
              "      <td>0.965726</td>\n",
              "      <td>0.834829</td>\n",
              "      <td>-2.310924</td>\n",
              "      <td>0.91</td>\n",
              "    </tr>\n",
              "    <tr>\n",
              "      <th>117</th>\n",
              "      <td>hsb</td>\n",
              "      <td>0.982143</td>\n",
              "      <td>0.965726</td>\n",
              "      <td>0.865350</td>\n",
              "      <td>1.260504</td>\n",
              "      <td>0.91</td>\n",
              "    </tr>\n",
              "    <tr>\n",
              "      <th>123</th>\n",
              "      <td>hsb</td>\n",
              "      <td>0.993450</td>\n",
              "      <td>0.947581</td>\n",
              "      <td>0.865350</td>\n",
              "      <td>1.260504</td>\n",
              "      <td>0.92</td>\n",
              "    </tr>\n",
              "    <tr>\n",
              "      <th>129</th>\n",
              "      <td>hsb</td>\n",
              "      <td>0.987708</td>\n",
              "      <td>0.941532</td>\n",
              "      <td>0.836625</td>\n",
              "      <td>-2.100840</td>\n",
              "      <td>0.92</td>\n",
              "    </tr>\n",
              "    <tr>\n",
              "      <th>135</th>\n",
              "      <td>hsb</td>\n",
              "      <td>0.997535</td>\n",
              "      <td>0.947581</td>\n",
              "      <td>0.843806</td>\n",
              "      <td>-1.260504</td>\n",
              "      <td>0.92</td>\n",
              "    </tr>\n",
              "    <tr>\n",
              "      <th>141</th>\n",
              "      <td>hsb</td>\n",
              "      <td>0.997497</td>\n",
              "      <td>0.951613</td>\n",
              "      <td>0.850987</td>\n",
              "      <td>-0.420168</td>\n",
              "      <td>0.92</td>\n",
              "    </tr>\n",
              "    <tr>\n",
              "      <th>147</th>\n",
              "      <td>hsb</td>\n",
              "      <td>0.935608</td>\n",
              "      <td>0.913306</td>\n",
              "      <td>0.806104</td>\n",
              "      <td>-5.672269</td>\n",
              "      <td>0.92</td>\n",
              "    </tr>\n",
              "    <tr>\n",
              "      <th>153</th>\n",
              "      <td>hsb</td>\n",
              "      <td>0.992054</td>\n",
              "      <td>0.935484</td>\n",
              "      <td>0.847397</td>\n",
              "      <td>-0.840336</td>\n",
              "      <td>0.93</td>\n",
              "    </tr>\n",
              "    <tr>\n",
              "      <th>159</th>\n",
              "      <td>hsb</td>\n",
              "      <td>0.985548</td>\n",
              "      <td>0.951613</td>\n",
              "      <td>0.861759</td>\n",
              "      <td>0.840336</td>\n",
              "      <td>0.93</td>\n",
              "    </tr>\n",
              "    <tr>\n",
              "      <th>165</th>\n",
              "      <td>hsb</td>\n",
              "      <td>0.982297</td>\n",
              "      <td>0.953629</td>\n",
              "      <td>0.874327</td>\n",
              "      <td>2.310924</td>\n",
              "      <td>0.93</td>\n",
              "    </tr>\n",
              "    <tr>\n",
              "      <th>171</th>\n",
              "      <td>hsb</td>\n",
              "      <td>0.995702</td>\n",
              "      <td>0.949597</td>\n",
              "      <td>0.849192</td>\n",
              "      <td>-0.630252</td>\n",
              "      <td>0.93</td>\n",
              "    </tr>\n",
              "    <tr>\n",
              "      <th>177</th>\n",
              "      <td>hsb</td>\n",
              "      <td>0.989406</td>\n",
              "      <td>0.951613</td>\n",
              "      <td>0.838420</td>\n",
              "      <td>-1.890756</td>\n",
              "      <td>0.93</td>\n",
              "    </tr>\n",
              "  </tbody>\n",
              "</table>\n",
              "</div>"
            ],
            "text/plain": [
              "    language  train_f1    val_f1   test_f1  improvement  confidence_quantile\n",
              "3        hsb  0.963006  0.933468  0.838420    -1.890756                 0.88\n",
              "9        hsb  0.982419  0.939516  0.847397    -0.840336                 0.88\n",
              "15       hsb  0.982341  0.963710  0.856373     0.210084                 0.88\n",
              "21       hsb  0.989991  0.961694  0.825853    -3.361345                 0.88\n",
              "27       hsb  0.971733  0.933468  0.847397    -0.840336                 0.88\n",
              "33       hsb  0.985929  0.939516  0.867145     1.470588                 0.89\n",
              "39       hsb  0.940353  0.917339  0.813285    -4.831933                 0.89\n",
              "45       hsb  0.973022  0.959677  0.842011    -1.470588                 0.89\n",
              "51       hsb  0.996490  0.941532  0.859964     0.630252                 0.89\n",
              "57       hsb  0.989977  0.947581  0.838420    -1.890756                 0.89\n",
              "63       hsb  0.986948  0.955645  0.856373     0.210084                 0.90\n",
              "69       hsb  0.994595  0.943548  0.836625    -2.100840                 0.90\n",
              "75       hsb  0.990271  0.939516  0.845601    -1.050420                 0.90\n",
              "81       hsb  0.984187  0.955645  0.872531     2.100840                 0.90\n",
              "87       hsb  0.994247  0.949597  0.838420    -1.890756                 0.90\n",
              "93       hsb  0.991498  0.943548  0.842011    -1.470588                 0.91\n",
              "99       hsb  0.993534  0.943548  0.822262    -3.781513                 0.91\n",
              "105      hsb  0.988646  0.943548  0.838420    -1.890756                 0.91\n",
              "111      hsb  0.994532  0.965726  0.834829    -2.310924                 0.91\n",
              "117      hsb  0.982143  0.965726  0.865350     1.260504                 0.91\n",
              "123      hsb  0.993450  0.947581  0.865350     1.260504                 0.92\n",
              "129      hsb  0.987708  0.941532  0.836625    -2.100840                 0.92\n",
              "135      hsb  0.997535  0.947581  0.843806    -1.260504                 0.92\n",
              "141      hsb  0.997497  0.951613  0.850987    -0.420168                 0.92\n",
              "147      hsb  0.935608  0.913306  0.806104    -5.672269                 0.92\n",
              "153      hsb  0.992054  0.935484  0.847397    -0.840336                 0.93\n",
              "159      hsb  0.985548  0.951613  0.861759     0.840336                 0.93\n",
              "165      hsb  0.982297  0.953629  0.874327     2.310924                 0.93\n",
              "171      hsb  0.995702  0.949597  0.849192    -0.630252                 0.93\n",
              "177      hsb  0.989406  0.951613  0.838420    -1.890756                 0.93"
            ]
          },
          "execution_count": 21,
          "metadata": {},
          "output_type": "execute_result"
        }
      ],
      "source": [
        "df[df[\"language\"] == \"hsb\"]"
      ]
    },
    {
      "cell_type": "code",
      "execution_count": null,
      "metadata": {},
      "outputs": [],
      "source": []
    }
  ],
  "metadata": {
    "accelerator": "GPU",
    "colab": {
      "gpuType": "T4",
      "provenance": []
    },
    "kernelspec": {
      "display_name": "multi-ner",
      "language": "python",
      "name": "python3"
    },
    "language_info": {
      "codemirror_mode": {
        "name": "ipython",
        "version": 3
      },
      "file_extension": ".py",
      "mimetype": "text/x-python",
      "name": "python",
      "nbconvert_exporter": "python",
      "pygments_lexer": "ipython3",
      "version": "3.13.2"
    }
  },
  "nbformat": 4,
  "nbformat_minor": 0
}
