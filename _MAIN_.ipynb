{
  "cells": [
    {
      "cell_type": "markdown",
      "metadata": {
        "id": "OEKDEcZY0Ed9"
      },
      "source": [
        "# **Machine learning for low-resource NLP**: Advancing AI for Linguistic Inclusion\n",
        "Cross-lingual transfer learning and pseudo-labeling for multilingual named entity recognition"
      ]
    },
    {
      "cell_type": "code",
      "execution_count": 1,
      "metadata": {
        "id": "oMkZmRoX2xLR"
      },
      "outputs": [],
      "source": [
        "import random\n",
        "import numpy as np\n",
        "import pandas as pd\n",
        "from tqdm import tqdm\n",
        "from IPython.display import display, Markdown\n",
        "\n",
        "import torch\n",
        "import torch.optim as optim\n",
        "from datasets import load_dataset\n",
        "from sklearn.model_selection import train_test_split"
      ]
    },
    {
      "cell_type": "code",
      "execution_count": 2,
      "metadata": {},
      "outputs": [],
      "source": [
        "from model import BertBilstmCrf\n",
        "from dataloader import create_dataloaders\n",
        "from training import train_model, train_pseudo_labeling, evaluate_epoch\n",
        "from config import BaseConfig, TrainConfig, FineTuneConfig, PseudoLabelingConfig"
      ]
    },
    {
      "cell_type": "code",
      "execution_count": 3,
      "metadata": {
        "id": "4KsqUJuTgpSX"
      },
      "outputs": [],
      "source": [
        "def set_seed(seed):\n",
        "    torch.manual_seed(seed)\n",
        "    torch.cuda.manual_seed(seed)\n",
        "    torch.cuda.manual_seed_all(seed)\n",
        "\n",
        "    np.random.seed(seed)\n",
        "    random.seed(seed)\n",
        "\n",
        "    torch.backends.cudnn.deterministic = True\n",
        "    torch.backends.cudnn.benchmark = False\n",
        "\n",
        "\n",
        "set_seed(BaseConfig.RANDOM_STATE)"
      ]
    },
    {
      "cell_type": "code",
      "execution_count": 4,
      "metadata": {
        "colab": {
          "base_uri": "https://localhost:8080/"
        },
        "collapsed": true,
        "id": "83jA6h2-zZiy",
        "outputId": "c5b149b6-ec47-41da-ee95-c5980771a869"
      },
      "outputs": [],
      "source": [
        "def load_wikiann_datasets(language_codes, cutoff=None):\n",
        "\n",
        "    language_data = {}\n",
        "    for lang in language_codes:\n",
        "\n",
        "        # Load raw data from hugging face\n",
        "        lang_dataset = load_dataset(\"unimelb-nlp/wikiann\", name=lang)\n",
        "\n",
        "        # Get data from different splits and combine\n",
        "        train_df = pd.DataFrame(lang_dataset[\"train\"])\n",
        "        val_df = pd.DataFrame(lang_dataset[\"validation\"])\n",
        "        test_df = pd.DataFrame(lang_dataset[\"test\"])\n",
        "\n",
        "        complete_df = pd.concat([train_df, val_df, test_df]).reset_index(drop=True)\n",
        "        complete_df = complete_df.head(cutoff) if cutoff else complete_df\n",
        "\n",
        "        # Split data into new train/val/test splits\n",
        "        train, temp = train_test_split(\n",
        "            complete_df, test_size=0.2, random_state=BaseConfig.RANDOM_STATE\n",
        "        )\n",
        "        val, test = train_test_split(\n",
        "            temp, test_size=0.5, random_state=BaseConfig.RANDOM_STATE\n",
        "        )\n",
        "\n",
        "        language_data[lang] = {\"train\": train, \"val\": val, \"test\": test}\n",
        "\n",
        "    return language_data\n",
        "\n",
        "\n",
        "# Download and store data\n",
        "low_resource_datasets = load_wikiann_datasets(BaseConfig.low_resource_langs)"
      ]
    },
    {
      "cell_type": "code",
      "execution_count": 5,
      "metadata": {},
      "outputs": [],
      "source": [
        "def setup_optimizer(model, CONFIG):\n",
        "    param_groups = []\n",
        "    # Check model layers and add appropiate learning rates\n",
        "    if hasattr(model, \"bert\"):\n",
        "        param_groups.append(\n",
        "            {\"params\": model.bert.parameters(), \"lr\": CONFIG.BERT_LEARNING_RATE}\n",
        "        )\n",
        "    if hasattr(model, \"lstm\"):\n",
        "        param_groups.append(\n",
        "            {\"params\": model.lstm.parameters(), \"lr\": CONFIG.LSTM_LEARNING_RATE}\n",
        "        )\n",
        "    if hasattr(model, \"crf\"):\n",
        "        param_groups.append(\n",
        "            {\"params\": model.crf.parameters(), \"lr\": CONFIG.CRF_LEARNING_RATE}\n",
        "        )\n",
        "    optimizer = optim.Adam(param_groups, weight_decay=CONFIG.WEIGHT_DECAY)\n",
        "\n",
        "    return optimizer"
      ]
    },
    {
      "cell_type": "markdown",
      "metadata": {},
      "source": [
        "### Baseline Experiment\n",
        "Baseline BERT-BiLSTM-CRF model trained on multilingual NER data"
      ]
    },
    {
      "cell_type": "code",
      "execution_count": null,
      "metadata": {
        "colab": {
          "base_uri": "https://localhost:8080/"
        },
        "id": "HcqSTNMrXwIg",
        "outputId": "b4514c30-0861-407e-ebd6-e5d029b390a0"
      },
      "outputs": [
        {
          "name": "stderr",
          "output_type": "stream",
          "text": [
            "100%|█████████████████████████████████████████████| 6/6 [04:31<00:00, 45.20s/it]\n"
          ]
        },
        {
          "data": {
            "text/markdown": [
              "| language   |   train_f1 |   val_f1 |   test_f1 |\n",
              "|:-----------|-----------:|---------:|----------:|\n",
              "| mg         |   0.993728 | 0.933673 |  0.960352 |\n",
              "| fo         |   0.974224 | 0.897482 |  0.901099 |\n",
              "| co         |   0.956204 | 0.852308 |  0.81323  |\n",
              "| hsb        |   0.951443 | 0.923387 |  0.854578 |\n",
              "| bh         |   0.981549 | 0.888689 |  0.80212  |\n",
              "| cv         |   0.977741 | 0.892617 |  0.830443 |"
            ],
            "text/plain": [
              "<IPython.core.display.Markdown object>"
            ]
          },
          "metadata": {},
          "output_type": "display_data"
        }
      ],
      "source": [
        "baseline_results = []\n",
        "\n",
        "# Iterate through low-resource languages\n",
        "for lang, lang_data in tqdm(low_resource_datasets.items(), ncols=80):\n",
        "\n",
        "    train_loader, val_loader, test_loader = create_dataloaders(lang_data)\n",
        "\n",
        "    # ------------------------------------------ TRAINING ------------------------------------------ #\n",
        "\n",
        "    model = BertBilstmCrf(BaseConfig.NUM_TAGS).to(BaseConfig.DEVICE)\n",
        "    optimizer = setup_optimizer(model, TrainConfig)\n",
        "    best_model_state, train_f1, val_f1 = train_model(\n",
        "        model, optimizer, train_loader, val_loader, TrainConfig\n",
        "    )\n",
        "\n",
        "    # ------------------------------------------ EVALUATION ------------------------------------------ #\n",
        "    eval_model = BertBilstmCrf(BaseConfig.NUM_TAGS).to(BaseConfig.DEVICE)\n",
        "    eval_model.load_state_dict(best_model_state, TrainConfig)\n",
        "    test_loss, test_f1 = evaluate_epoch(eval_model, test_loader, TrainConfig)\n",
        "\n",
        "    # ------------------------------------------ RESULTS ------------------------------------------ #\n",
        "    torch.save(best_model_state, f\"models/{lang}_baseline.pth\")\n",
        "\n",
        "    baseline_results.append(\n",
        "        {\"language\": lang, \"train_f1\": train_f1, \"val_f1\": val_f1, \"test_f1\": test_f1}\n",
        "    )\n",
        "\n",
        "# Save and display results\n",
        "baseline = pd.DataFrame(baseline_results)\n",
        "baseline.to_csv(\"results/baseline.csv\", index=False)\n",
        "\n",
        "markdown_table = baseline.to_markdown(index=False)\n",
        "display(Markdown(markdown_table))"
      ]
    },
    {
      "cell_type": "code",
      "execution_count": 6,
      "metadata": {},
      "outputs": [],
      "source": [
        "baseline = pd.read_csv(\"results/baseline.csv\")"
      ]
    },
    {
      "cell_type": "markdown",
      "metadata": {},
      "source": [
        "### Cross-lingual Transfer Learning\n",
        "A technique where a model trained on one language (usually with more labeled data) is adapted to perform well on another language, leveraging shared linguistic representations."
      ]
    },
    {
      "cell_type": "code",
      "execution_count": null,
      "metadata": {
        "colab": {
          "base_uri": "https://localhost:8080/"
        },
        "id": "AfVbQr1wudOo",
        "outputId": "666c8b2c-5412-4d0f-b1e2-02a7f6a8c5c3"
      },
      "outputs": [],
      "source": [
        "transfer_results = []\n",
        "\n",
        "for augmentation_factor in tqdm(range(1, 24), ncols=80):\n",
        "\n",
        "    high_resource_datasets = load_wikiann_datasets(\n",
        "        BaseConfig.high_resource_langs, augmentation_factor * 240\n",
        "    )\n",
        "\n",
        "    # Iterate through low-resource and adjacent high-resource languages\n",
        "    for (low_resource_lang, low_resource_data), (\n",
        "        high_resource_lang,\n",
        "        high_resource_data,\n",
        "    ) in tqdm(\n",
        "        zip(low_resource_datasets.items(), high_resource_datasets.items()),\n",
        "        ncols=80,\n",
        "        leave=False,\n",
        "    ):\n",
        "\n",
        "        high_train_loader, high_val_loader, _ = create_dataloaders(high_resource_data)\n",
        "        low_train_loader, low_val_loader, low_test_loader = create_dataloaders(\n",
        "            low_resource_data\n",
        "        )\n",
        "\n",
        "        # ------------------------------------------ PRE-TRAINING ------------------------------------------ #\n",
        "\n",
        "        high_resource_model = BertBilstmCrf(BaseConfig.NUM_TAGS).to(BaseConfig.DEVICE)\n",
        "        optimizer = setup_optimizer(high_resource_model, TrainConfig)\n",
        "\n",
        "        high_resource_model_state, train_f1, val_f1 = train_model(\n",
        "            high_resource_model,\n",
        "            optimizer,\n",
        "            high_train_loader,\n",
        "            high_val_loader,\n",
        "            TrainConfig,\n",
        "        )\n",
        "\n",
        "        # ------------------------------------------ FINE-TUNING ------------------------------------------ #\n",
        "\n",
        "        model = BertBilstmCrf(BaseConfig.NUM_TAGS).to(BaseConfig.DEVICE)\n",
        "        model.load_state_dict(high_resource_model_state)\n",
        "        optimizer = setup_optimizer(model, FineTuneConfig)\n",
        "\n",
        "        best_model_state, train_f1, val_f1 = train_model(\n",
        "            model, optimizer, low_train_loader, low_val_loader, FineTuneConfig\n",
        "        )\n",
        "\n",
        "        # ------------------------------------------ EVALUATION ------------------------------------------ #\n",
        "\n",
        "        eval_model = BertBilstmCrf(BaseConfig.NUM_TAGS).to(BaseConfig.DEVICE)\n",
        "        eval_model.load_state_dict(best_model_state)\n",
        "        test_loss, test_f1 = evaluate_epoch(eval_model, low_test_loader)\n",
        "\n",
        "        # ------------------------------------------ RESULTS ------------------------------------------ #\n",
        "        torch.save(\n",
        "            best_model_state,\n",
        "            f\"models/{low_resource_lang}_{high_resource_lang}_transfer.pth\",\n",
        "        )\n",
        "\n",
        "        baseline_performance = baseline.loc[\n",
        "            baseline[\"language\"] == low_resource_lang, \"test_f1\"\n",
        "        ].item()\n",
        "        improvement = (test_f1 - baseline_performance) / baseline_performance * 100\n",
        "\n",
        "        transfer_results.append(\n",
        "            {\n",
        "                \"high_resource_language\": high_resource_lang,\n",
        "                \"low_resource_lang\": low_resource_lang,\n",
        "                \"augmentation_factor\": augmentation_factor,\n",
        "                \"train_f1\": train_f1,\n",
        "                \"val_f1\": val_f1,\n",
        "                \"test_f1\": test_f1,\n",
        "                \"improvement\": improvement,\n",
        "            }\n",
        "        )\n",
        "\n",
        "        print(\n",
        "            f\"Aug: {augmentation_factor}  {low_resource_lang} Improvement over baseline: {improvement:.5f}\"\n",
        "        )\n",
        "\n",
        "transfer_data = pd.DataFrame(transfer_results)\n",
        "transfer_data.to_csv(\"results/transfer_learning.csv\", index=False)"
      ]
    },
    {
      "cell_type": "markdown",
      "metadata": {},
      "source": [
        "### Iterative Pseudo Labeling\n",
        "A semi-supervised learning approach where a model generates predictions on unlabeled data, selects confident predictions as pseudo-labels, and retrains iteratively to improve performance."
      ]
    },
    {
      "cell_type": "code",
      "execution_count": null,
      "metadata": {},
      "outputs": [
        {
          "name": "stderr",
          "output_type": "stream",
          "text": [
            "1it [04:09, 249.24s/it]"
          ]
        },
        {
          "name": "stdout",
          "output_type": "stream",
          "text": [
            "Language: mg    Improvement over baseline: 0.00000\n",
            "Added 504 rows of data\n",
            "Added 0 rows of data\n",
            "Added 0 rows of data\n"
          ]
        },
        {
          "name": "stderr",
          "output_type": "stream",
          "text": [
            "2it [09:45, 300.41s/it]"
          ]
        },
        {
          "name": "stdout",
          "output_type": "stream",
          "text": [
            "Language: fo    Improvement over baseline: 1.21951\n",
            "Added 9 rows of data\n",
            "Added 0 rows of data\n"
          ]
        },
        {
          "name": "stderr",
          "output_type": "stream",
          "text": [
            "3it [14:37, 296.52s/it]"
          ]
        },
        {
          "name": "stdout",
          "output_type": "stream",
          "text": [
            "Language: co    Improvement over baseline: 8.61244\n",
            "Added 29 rows of data\n",
            "Added 4 rows of data\n",
            "Added 0 rows of data\n",
            "Added 0 rows of data\n",
            "Added 0 rows of data\n",
            "Added 1 rows of data\n"
          ]
        },
        {
          "name": "stderr",
          "output_type": "stream",
          "text": [
            "4it [21:26, 340.85s/it]"
          ]
        },
        {
          "name": "stdout",
          "output_type": "stream",
          "text": [
            "Language: hsb    Improvement over baseline: -1.89076\n"
          ]
        },
        {
          "name": "stderr",
          "output_type": "stream",
          "text": [
            "5it [24:26, 282.87s/it]"
          ]
        },
        {
          "name": "stdout",
          "output_type": "stream",
          "text": [
            "Language: bh    Improvement over baseline: 3.08370\n"
          ]
        },
        {
          "name": "stderr",
          "output_type": "stream",
          "text": [
            "6it [28:30, 285.02s/it]\n"
          ]
        },
        {
          "name": "stdout",
          "output_type": "stream",
          "text": [
            "Language: cv    Improvement over baseline: 0.23202\n"
          ]
        },
        {
          "name": "stderr",
          "output_type": "stream",
          "text": [
            "0it [00:00, ?it/s]"
          ]
        },
        {
          "name": "stdout",
          "output_type": "stream",
          "text": [
            "Added 341 rows of data\n",
            "Added 0 rows of data\n",
            "Added 0 rows of data\n",
            "Added 0 rows of data\n",
            "Added 0 rows of data\n"
          ]
        },
        {
          "name": "stderr",
          "output_type": "stream",
          "text": [
            "1it [06:04, 364.86s/it]"
          ]
        },
        {
          "name": "stdout",
          "output_type": "stream",
          "text": [
            "Language: mg    Improvement over baseline: 0.45872\n",
            "Added 302 rows of data\n"
          ]
        },
        {
          "name": "stderr",
          "output_type": "stream",
          "text": [
            "2it [10:35, 309.59s/it]"
          ]
        },
        {
          "name": "stdout",
          "output_type": "stream",
          "text": [
            "Language: fo    Improvement over baseline: 1.21951\n",
            "Added 18 rows of data\n",
            "Added 0 rows of data\n",
            "Added 0 rows of data\n",
            "Added 5 rows of data\n",
            "Added 0 rows of data\n",
            "Added 0 rows of data\n"
          ]
        },
        {
          "name": "stderr",
          "output_type": "stream",
          "text": [
            "3it [17:09, 347.94s/it]"
          ]
        },
        {
          "name": "stdout",
          "output_type": "stream",
          "text": [
            "Language: co    Improvement over baseline: 2.39234\n",
            "Added 17 rows of data\n"
          ]
        },
        {
          "name": "stderr",
          "output_type": "stream",
          "text": [
            "4it [21:45, 319.48s/it]"
          ]
        },
        {
          "name": "stdout",
          "output_type": "stream",
          "text": [
            "Language: hsb    Improvement over baseline: -0.84034\n",
            "Added 175 rows of data\n",
            "Added 0 rows of data\n",
            "Added 0 rows of data\n"
          ]
        },
        {
          "name": "stderr",
          "output_type": "stream",
          "text": [
            "5it [25:41, 289.51s/it]"
          ]
        },
        {
          "name": "stdout",
          "output_type": "stream",
          "text": [
            "Language: bh    Improvement over baseline: 0.44053\n"
          ]
        },
        {
          "name": "stderr",
          "output_type": "stream",
          "text": [
            "6it [29:16, 292.71s/it]\n"
          ]
        },
        {
          "name": "stdout",
          "output_type": "stream",
          "text": [
            "Language: cv    Improvement over baseline: 3.24826\n"
          ]
        },
        {
          "name": "stderr",
          "output_type": "stream",
          "text": [
            "0it [00:00, ?it/s]"
          ]
        },
        {
          "name": "stdout",
          "output_type": "stream",
          "text": [
            "Added 380 rows of data\n",
            "Added 0 rows of data\n",
            "Added 0 rows of data\n",
            "Added 0 rows of data\n",
            "Added 54 rows of data\n",
            "Added 0 rows of data\n"
          ]
        },
        {
          "name": "stderr",
          "output_type": "stream",
          "text": [
            "1it [06:24, 384.36s/it]"
          ]
        },
        {
          "name": "stdout",
          "output_type": "stream",
          "text": [
            "Language: mg    Improvement over baseline: -1.60550\n"
          ]
        },
        {
          "name": "stderr",
          "output_type": "stream",
          "text": [
            "2it [10:24, 299.59s/it]"
          ]
        },
        {
          "name": "stdout",
          "output_type": "stream",
          "text": [
            "Language: fo    Improvement over baseline: 2.43902\n"
          ]
        },
        {
          "name": "stderr",
          "output_type": "stream",
          "text": [
            "3it [13:35, 249.78s/it]"
          ]
        },
        {
          "name": "stdout",
          "output_type": "stream",
          "text": [
            "Language: co    Improvement over baseline: 7.65550\n",
            "Added 25 rows of data\n",
            "Added 0 rows of data\n",
            "Added 0 rows of data\n",
            "Added 0 rows of data\n",
            "Added 0 rows of data\n",
            "Added 0 rows of data\n",
            "Added 2 rows of data\n",
            "Added 0 rows of data\n",
            "Added 5 rows of data\n",
            "Added 2 rows of data\n",
            "Added 0 rows of data\n",
            "Added 7 rows of data\n"
          ]
        },
        {
          "name": "stderr",
          "output_type": "stream",
          "text": [
            "4it [23:19, 381.76s/it]"
          ]
        },
        {
          "name": "stdout",
          "output_type": "stream",
          "text": [
            "Language: hsb    Improvement over baseline: 0.21008\n"
          ]
        },
        {
          "name": "stderr",
          "output_type": "stream",
          "text": [
            "5it [25:16, 286.48s/it]"
          ]
        },
        {
          "name": "stdout",
          "output_type": "stream",
          "text": [
            "Language: bh    Improvement over baseline: 3.08370\n"
          ]
        },
        {
          "name": "stderr",
          "output_type": "stream",
          "text": [
            "6it [29:24, 294.16s/it]\n"
          ]
        },
        {
          "name": "stdout",
          "output_type": "stream",
          "text": [
            "Language: cv    Improvement over baseline: 0.23202\n"
          ]
        },
        {
          "name": "stderr",
          "output_type": "stream",
          "text": [
            "0it [00:00, ?it/s]"
          ]
        },
        {
          "name": "stdout",
          "output_type": "stream",
          "text": [
            "Added 369 rows of data\n"
          ]
        },
        {
          "name": "stderr",
          "output_type": "stream",
          "text": [
            "1it [04:17, 257.80s/it]"
          ]
        },
        {
          "name": "stdout",
          "output_type": "stream",
          "text": [
            "Language: mg    Improvement over baseline: 0.45872\n",
            "Added 397 rows of data\n",
            "Added 0 rows of data\n"
          ]
        },
        {
          "name": "stderr",
          "output_type": "stream",
          "text": [
            "2it [09:19, 283.34s/it]"
          ]
        },
        {
          "name": "stdout",
          "output_type": "stream",
          "text": [
            "Language: fo    Improvement over baseline: 1.21951\n",
            "Added 11 rows of data\n",
            "Added 1 rows of data\n",
            "Added 0 rows of data\n",
            "Added 0 rows of data\n",
            "Added 0 rows of data\n",
            "Added 0 rows of data\n",
            "Added 0 rows of data\n",
            "Added 0 rows of data\n"
          ]
        },
        {
          "name": "stderr",
          "output_type": "stream",
          "text": [
            "3it [16:47, 358.83s/it]"
          ]
        },
        {
          "name": "stdout",
          "output_type": "stream",
          "text": [
            "Language: co    Improvement over baseline: 9.56938\n",
            "Added 19 rows of data\n",
            "Added 0 rows of data\n",
            "Added 0 rows of data\n",
            "Added 0 rows of data\n",
            "Added 0 rows of data\n",
            "Added 0 rows of data\n",
            "Added 0 rows of data\n",
            "Added 1 rows of data\n",
            "Added 2 rows of data\n",
            "Added 0 rows of data\n",
            "Added 0 rows of data\n",
            "Added 0 rows of data\n",
            "Added 0 rows of data\n",
            "Added 0 rows of data\n"
          ]
        },
        {
          "name": "stderr",
          "output_type": "stream",
          "text": [
            "4it [27:24, 468.74s/it]"
          ]
        },
        {
          "name": "stdout",
          "output_type": "stream",
          "text": [
            "Language: hsb    Improvement over baseline: -3.36134\n"
          ]
        },
        {
          "name": "stderr",
          "output_type": "stream",
          "text": [
            "5it [29:43, 349.76s/it]"
          ]
        },
        {
          "name": "stdout",
          "output_type": "stream",
          "text": [
            "Language: bh    Improvement over baseline: 1.32159\n",
            "Added 123 rows of data\n"
          ]
        },
        {
          "name": "stderr",
          "output_type": "stream",
          "text": [
            "6it [34:16, 342.70s/it]\n"
          ]
        },
        {
          "name": "stdout",
          "output_type": "stream",
          "text": [
            "Language: cv    Improvement over baseline: 2.32019\n"
          ]
        },
        {
          "name": "stderr",
          "output_type": "stream",
          "text": [
            "1it [03:50, 230.22s/it]"
          ]
        },
        {
          "name": "stdout",
          "output_type": "stream",
          "text": [
            "Language: mg    Improvement over baseline: 0.45872\n",
            "Added 275 rows of data\n",
            "Added 0 rows of data\n"
          ]
        },
        {
          "name": "stderr",
          "output_type": "stream",
          "text": [
            "2it [08:59, 276.56s/it]"
          ]
        },
        {
          "name": "stdout",
          "output_type": "stream",
          "text": [
            "Language: fo    Improvement over baseline: 2.78746\n",
            "Added 11 rows of data\n",
            "Added 0 rows of data\n"
          ]
        },
        {
          "name": "stderr",
          "output_type": "stream",
          "text": [
            "3it [13:54, 285.18s/it]"
          ]
        },
        {
          "name": "stdout",
          "output_type": "stream",
          "text": [
            "Language: co    Improvement over baseline: 10.04785\n"
          ]
        },
        {
          "name": "stderr",
          "output_type": "stream",
          "text": [
            "4it [17:05, 247.82s/it]"
          ]
        },
        {
          "name": "stdout",
          "output_type": "stream",
          "text": [
            "Language: hsb    Improvement over baseline: -0.84034\n"
          ]
        },
        {
          "name": "stderr",
          "output_type": "stream",
          "text": [
            "5it [19:09, 203.35s/it]"
          ]
        },
        {
          "name": "stdout",
          "output_type": "stream",
          "text": [
            "Language: bh    Improvement over baseline: 0.44053\n",
            "Added 169 rows of data\n",
            "Added 0 rows of data\n"
          ]
        },
        {
          "name": "stderr",
          "output_type": "stream",
          "text": [
            "6it [24:16, 242.77s/it]\n"
          ]
        },
        {
          "name": "stdout",
          "output_type": "stream",
          "text": [
            "Language: cv    Improvement over baseline: 1.16009\n"
          ]
        },
        {
          "name": "stderr",
          "output_type": "stream",
          "text": [
            "1it [03:25, 205.80s/it]"
          ]
        },
        {
          "name": "stdout",
          "output_type": "stream",
          "text": [
            "Language: mg    Improvement over baseline: 0.22936\n",
            "Added 455 rows of data\n",
            "Added 0 rows of data\n",
            "Added 0 rows of data\n",
            "Added 13 rows of data\n",
            "Added 4 rows of data\n"
          ]
        },
        {
          "name": "stderr",
          "output_type": "stream",
          "text": [
            "2it [09:58, 315.52s/it]"
          ]
        },
        {
          "name": "stdout",
          "output_type": "stream",
          "text": [
            "Language: fo    Improvement over baseline: 1.21951\n",
            "Added 15 rows of data\n"
          ]
        },
        {
          "name": "stderr",
          "output_type": "stream",
          "text": [
            "3it [14:19, 290.60s/it]"
          ]
        },
        {
          "name": "stdout",
          "output_type": "stream",
          "text": [
            "Language: co    Improvement over baseline: 5.74163\n",
            "Added 23 rows of data\n"
          ]
        },
        {
          "name": "stderr",
          "output_type": "stream",
          "text": [
            "4it [19:00, 286.97s/it]"
          ]
        },
        {
          "name": "stdout",
          "output_type": "stream",
          "text": [
            "Language: hsb    Improvement over baseline: 1.47059\n"
          ]
        },
        {
          "name": "stderr",
          "output_type": "stream",
          "text": [
            "5it [21:04, 228.25s/it]"
          ]
        },
        {
          "name": "stdout",
          "output_type": "stream",
          "text": [
            "Language: bh    Improvement over baseline: 1.76211\n"
          ]
        },
        {
          "name": "stderr",
          "output_type": "stream",
          "text": [
            "6it [23:53, 238.96s/it]\n"
          ]
        },
        {
          "name": "stdout",
          "output_type": "stream",
          "text": [
            "Language: cv    Improvement over baseline: 1.62413\n"
          ]
        },
        {
          "name": "stderr",
          "output_type": "stream",
          "text": [
            "0it [00:00, ?it/s]"
          ]
        },
        {
          "name": "stdout",
          "output_type": "stream",
          "text": [
            "Added 322 rows of data\n",
            "Added 0 rows of data\n",
            "Added 0 rows of data\n",
            "Added 0 rows of data\n",
            "Added 0 rows of data\n"
          ]
        },
        {
          "name": "stderr",
          "output_type": "stream",
          "text": [
            "1it [06:10, 370.24s/it]"
          ]
        },
        {
          "name": "stdout",
          "output_type": "stream",
          "text": [
            "Language: mg    Improvement over baseline: 0.45872\n"
          ]
        },
        {
          "name": "stderr",
          "output_type": "stream",
          "text": [
            "2it [10:13, 295.51s/it]"
          ]
        },
        {
          "name": "stdout",
          "output_type": "stream",
          "text": [
            "Language: fo    Improvement over baseline: 1.56794\n",
            "Added 11 rows of data\n",
            "Added 0 rows of data\n",
            "Added 0 rows of data\n",
            "Added 0 rows of data\n",
            "Added 1 rows of data\n",
            "Added 0 rows of data\n",
            "Added 0 rows of data\n",
            "Added 1 rows of data\n"
          ]
        },
        {
          "name": "stderr",
          "output_type": "stream",
          "text": [
            "3it [17:43, 366.18s/it]"
          ]
        },
        {
          "name": "stdout",
          "output_type": "stream",
          "text": [
            "Language: co    Improvement over baseline: 5.74163\n"
          ]
        },
        {
          "name": "stderr",
          "output_type": "stream",
          "text": [
            "4it [20:04, 277.32s/it]"
          ]
        },
        {
          "name": "stdout",
          "output_type": "stream",
          "text": [
            "Language: hsb    Improvement over baseline: -4.83193\n"
          ]
        },
        {
          "name": "stderr",
          "output_type": "stream",
          "text": [
            "5it [21:46, 214.08s/it]"
          ]
        },
        {
          "name": "stdout",
          "output_type": "stream",
          "text": [
            "Language: bh    Improvement over baseline: 1.98238\n",
            "Added 90 rows of data\n",
            "Added 0 rows of data\n"
          ]
        },
        {
          "name": "stderr",
          "output_type": "stream",
          "text": [
            "6it [26:46, 267.67s/it]\n"
          ]
        },
        {
          "name": "stdout",
          "output_type": "stream",
          "text": [
            "Language: cv    Improvement over baseline: 2.78422\n"
          ]
        },
        {
          "name": "stderr",
          "output_type": "stream",
          "text": [
            "0it [00:00, ?it/s]"
          ]
        },
        {
          "name": "stdout",
          "output_type": "stream",
          "text": [
            "Added 302 rows of data\n",
            "Added 0 rows of data\n"
          ]
        },
        {
          "name": "stderr",
          "output_type": "stream",
          "text": [
            "1it [04:47, 287.71s/it]"
          ]
        },
        {
          "name": "stdout",
          "output_type": "stream",
          "text": [
            "Language: mg    Improvement over baseline: 0.45872\n",
            "Added 249 rows of data\n",
            "Added 0 rows of data\n",
            "Added 0 rows of data\n"
          ]
        },
        {
          "name": "stderr",
          "output_type": "stream",
          "text": [
            "2it [10:14, 310.82s/it]"
          ]
        },
        {
          "name": "stdout",
          "output_type": "stream",
          "text": [
            "Language: fo    Improvement over baseline: 2.26481\n"
          ]
        },
        {
          "name": "stderr",
          "output_type": "stream",
          "text": [
            "3it [13:46, 265.65s/it]"
          ]
        },
        {
          "name": "stdout",
          "output_type": "stream",
          "text": [
            "Language: co    Improvement over baseline: 9.09091\n",
            "Added 20 rows of data\n",
            "Added 0 rows of data\n",
            "Added 6 rows of data\n",
            "Added 2 rows of data\n",
            "Added 4 rows of data\n",
            "Added 20 rows of data\n"
          ]
        },
        {
          "name": "stderr",
          "output_type": "stream",
          "text": [
            "4it [20:45, 326.26s/it]"
          ]
        },
        {
          "name": "stdout",
          "output_type": "stream",
          "text": [
            "Language: hsb    Improvement over baseline: -1.47059\n",
            "Added 239 rows of data\n",
            "Added 0 rows of data\n",
            "Added 0 rows of data\n",
            "Added 0 rows of data\n",
            "Added 0 rows of data\n"
          ]
        },
        {
          "name": "stderr",
          "output_type": "stream",
          "text": [
            "5it [25:26, 309.68s/it]"
          ]
        },
        {
          "name": "stdout",
          "output_type": "stream",
          "text": [
            "Language: bh    Improvement over baseline: 3.96476\n"
          ]
        },
        {
          "name": "stderr",
          "output_type": "stream",
          "text": [
            "6it [29:28, 294.81s/it]\n"
          ]
        },
        {
          "name": "stdout",
          "output_type": "stream",
          "text": [
            "Language: cv    Improvement over baseline: 1.39211\n"
          ]
        },
        {
          "name": "stderr",
          "output_type": "stream",
          "text": [
            "1it [03:47, 227.72s/it]"
          ]
        },
        {
          "name": "stdout",
          "output_type": "stream",
          "text": [
            "Language: mg    Improvement over baseline: 0.45872\n"
          ]
        },
        {
          "name": "stderr",
          "output_type": "stream",
          "text": [
            "2it [06:30, 189.70s/it]"
          ]
        },
        {
          "name": "stdout",
          "output_type": "stream",
          "text": [
            "Language: fo    Improvement over baseline: -0.87108\n",
            "Added 14 rows of data\n",
            "Added 0 rows of data\n"
          ]
        },
        {
          "name": "stderr",
          "output_type": "stream",
          "text": [
            "3it [11:18, 234.39s/it]"
          ]
        },
        {
          "name": "stdout",
          "output_type": "stream",
          "text": [
            "Language: co    Improvement over baseline: 9.09091\n",
            "Added 16 rows of data\n",
            "Added 0 rows of data\n",
            "Added 0 rows of data\n",
            "Added 0 rows of data\n"
          ]
        },
        {
          "name": "stderr",
          "output_type": "stream",
          "text": [
            "4it [17:20, 284.69s/it]"
          ]
        },
        {
          "name": "stdout",
          "output_type": "stream",
          "text": [
            "Language: hsb    Improvement over baseline: 0.63025\n"
          ]
        },
        {
          "name": "stderr",
          "output_type": "stream",
          "text": [
            "5it [19:37, 231.58s/it]"
          ]
        },
        {
          "name": "stdout",
          "output_type": "stream",
          "text": [
            "Language: bh    Improvement over baseline: 1.54185\n",
            "Added 74 rows of data\n",
            "Added 0 rows of data\n",
            "Added 0 rows of data\n"
          ]
        },
        {
          "name": "stderr",
          "output_type": "stream",
          "text": [
            "6it [25:00, 250.01s/it]\n"
          ]
        },
        {
          "name": "stdout",
          "output_type": "stream",
          "text": [
            "Language: cv    Improvement over baseline: 3.24826\n"
          ]
        },
        {
          "name": "stderr",
          "output_type": "stream",
          "text": [
            "1it [03:53, 233.61s/it]"
          ]
        },
        {
          "name": "stdout",
          "output_type": "stream",
          "text": [
            "Language: mg    Improvement over baseline: 0.45872\n"
          ]
        },
        {
          "name": "stderr",
          "output_type": "stream",
          "text": [
            "2it [06:40, 194.49s/it]"
          ]
        },
        {
          "name": "stdout",
          "output_type": "stream",
          "text": [
            "Language: fo    Improvement over baseline: 1.04530\n"
          ]
        },
        {
          "name": "stderr",
          "output_type": "stream",
          "text": [
            "3it [09:45, 190.18s/it]"
          ]
        },
        {
          "name": "stdout",
          "output_type": "stream",
          "text": [
            "Language: co    Improvement over baseline: 6.69856\n",
            "Added 44 rows of data\n",
            "Added 1 rows of data\n",
            "Added 0 rows of data\n",
            "Added 0 rows of data\n"
          ]
        },
        {
          "name": "stderr",
          "output_type": "stream",
          "text": [
            "4it [15:39, 254.76s/it]"
          ]
        },
        {
          "name": "stdout",
          "output_type": "stream",
          "text": [
            "Language: hsb    Improvement over baseline: -1.89076\n"
          ]
        },
        {
          "name": "stderr",
          "output_type": "stream",
          "text": [
            "5it [18:18, 220.08s/it]"
          ]
        },
        {
          "name": "stdout",
          "output_type": "stream",
          "text": [
            "Language: bh    Improvement over baseline: 3.30396\n",
            "Added 1 rows of data\n"
          ]
        },
        {
          "name": "stderr",
          "output_type": "stream",
          "text": [
            "6it [22:52, 228.72s/it]\n"
          ]
        },
        {
          "name": "stdout",
          "output_type": "stream",
          "text": [
            "Language: cv    Improvement over baseline: 4.40835\n"
          ]
        },
        {
          "name": "stderr",
          "output_type": "stream",
          "text": [
            "0it [00:00, ?it/s]"
          ]
        },
        {
          "name": "stdout",
          "output_type": "stream",
          "text": [
            "Added 286 rows of data\n",
            "Added 0 rows of data\n",
            "Added 0 rows of data\n",
            "Added 2 rows of data\n"
          ]
        },
        {
          "name": "stderr",
          "output_type": "stream",
          "text": [
            "1it [05:34, 334.65s/it]"
          ]
        },
        {
          "name": "stdout",
          "output_type": "stream",
          "text": [
            "Language: mg    Improvement over baseline: 0.45872\n",
            "Added 379 rows of data\n",
            "Added 0 rows of data\n"
          ]
        },
        {
          "name": "stderr",
          "output_type": "stream",
          "text": [
            "2it [10:33, 313.71s/it]"
          ]
        },
        {
          "name": "stdout",
          "output_type": "stream",
          "text": [
            "Language: fo    Improvement over baseline: 0.17422\n",
            "Added 16 rows of data\n"
          ]
        },
        {
          "name": "stderr",
          "output_type": "stream",
          "text": [
            "3it [14:55, 289.79s/it]"
          ]
        },
        {
          "name": "stdout",
          "output_type": "stream",
          "text": [
            "Language: co    Improvement over baseline: 8.61244\n",
            "Added 24 rows of data\n",
            "Added 0 rows of data\n",
            "Added 2 rows of data\n",
            "Added 0 rows of data\n",
            "Added 0 rows of data\n",
            "Added 0 rows of data\n",
            "Added 0 rows of data\n",
            "Added 0 rows of data\n",
            "Added 2 rows of data\n",
            "Added 0 rows of data\n",
            "Added 7 rows of data\n",
            "Added 0 rows of data\n",
            "Added 2 rows of data\n",
            "Added 2 rows of data\n",
            "Added 2 rows of data\n"
          ]
        },
        {
          "name": "stderr",
          "output_type": "stream",
          "text": [
            "4it [26:00, 438.20s/it]"
          ]
        },
        {
          "name": "stdout",
          "output_type": "stream",
          "text": [
            "Language: hsb    Improvement over baseline: 0.21008\n"
          ]
        },
        {
          "name": "stderr",
          "output_type": "stream",
          "text": [
            "5it [29:04, 346.58s/it]"
          ]
        },
        {
          "name": "stdout",
          "output_type": "stream",
          "text": [
            "Language: bh    Improvement over baseline: 4.84581\n",
            "Added 40 rows of data\n"
          ]
        },
        {
          "name": "stderr",
          "output_type": "stream",
          "text": [
            "6it [33:44, 337.43s/it]\n"
          ]
        },
        {
          "name": "stdout",
          "output_type": "stream",
          "text": [
            "Language: cv    Improvement over baseline: 3.94432\n"
          ]
        },
        {
          "name": "stderr",
          "output_type": "stream",
          "text": [
            "1it [03:21, 201.99s/it]"
          ]
        },
        {
          "name": "stdout",
          "output_type": "stream",
          "text": [
            "Language: mg    Improvement over baseline: 0.45872\n",
            "Added 426 rows of data\n",
            "Added 0 rows of data\n",
            "Added 0 rows of data\n",
            "Added 0 rows of data\n",
            "Added 8 rows of data\n"
          ]
        },
        {
          "name": "stderr",
          "output_type": "stream",
          "text": [
            "2it [09:56, 315.45s/it]"
          ]
        },
        {
          "name": "stdout",
          "output_type": "stream",
          "text": [
            "Language: fo    Improvement over baseline: 0.69686\n",
            "Added 9 rows of data\n",
            "Added 3 rows of data\n",
            "Added 0 rows of data\n",
            "Added 0 rows of data\n",
            "Added 0 rows of data\n",
            "Added 0 rows of data\n",
            "Added 0 rows of data\n",
            "Added 0 rows of data\n",
            "Added 0 rows of data\n",
            "Added 0 rows of data\n"
          ]
        },
        {
          "name": "stderr",
          "output_type": "stream",
          "text": [
            "3it [18:10, 396.67s/it]"
          ]
        },
        {
          "name": "stdout",
          "output_type": "stream",
          "text": [
            "Language: co    Improvement over baseline: 8.61244\n",
            "Added 19 rows of data\n",
            "Added 0 rows of data\n",
            "Added 0 rows of data\n",
            "Added 0 rows of data\n"
          ]
        },
        {
          "name": "stderr",
          "output_type": "stream",
          "text": [
            "4it [24:13, 383.41s/it]"
          ]
        },
        {
          "name": "stdout",
          "output_type": "stream",
          "text": [
            "Language: hsb    Improvement over baseline: -2.10084\n"
          ]
        },
        {
          "name": "stderr",
          "output_type": "stream",
          "text": [
            "5it [26:55, 303.49s/it]"
          ]
        },
        {
          "name": "stdout",
          "output_type": "stream",
          "text": [
            "Language: bh    Improvement over baseline: 6.60793\n"
          ]
        },
        {
          "name": "stderr",
          "output_type": "stream",
          "text": [
            "6it [30:33, 305.62s/it]\n"
          ]
        },
        {
          "name": "stdout",
          "output_type": "stream",
          "text": [
            "Language: cv    Improvement over baseline: 0.92807\n"
          ]
        },
        {
          "name": "stderr",
          "output_type": "stream",
          "text": [
            "1it [02:58, 178.41s/it]"
          ]
        },
        {
          "name": "stdout",
          "output_type": "stream",
          "text": [
            "Language: mg    Improvement over baseline: 0.45872\n"
          ]
        },
        {
          "name": "stderr",
          "output_type": "stream",
          "text": [
            "2it [06:10, 186.65s/it]"
          ]
        },
        {
          "name": "stdout",
          "output_type": "stream",
          "text": [
            "Language: fo    Improvement over baseline: 1.21951\n",
            "Added 10 rows of data\n",
            "Added 7 rows of data\n",
            "Added 0 rows of data\n",
            "Added 0 rows of data\n",
            "Added 0 rows of data\n",
            "Added 0 rows of data\n",
            "Added 0 rows of data\n",
            "Added 0 rows of data\n",
            "Added 0 rows of data\n"
          ]
        },
        {
          "name": "stderr",
          "output_type": "stream",
          "text": [
            "3it [14:06, 318.82s/it]"
          ]
        },
        {
          "name": "stdout",
          "output_type": "stream",
          "text": [
            "Language: co    Improvement over baseline: 9.09091\n",
            "Added 37 rows of data\n"
          ]
        },
        {
          "name": "stderr",
          "output_type": "stream",
          "text": [
            "4it [18:42, 301.59s/it]"
          ]
        },
        {
          "name": "stdout",
          "output_type": "stream",
          "text": [
            "Language: hsb    Improvement over baseline: -1.05042\n",
            "Added 117 rows of data\n",
            "Added 0 rows of data\n",
            "Added 12 rows of data\n",
            "Added 0 rows of data\n"
          ]
        },
        {
          "name": "stderr",
          "output_type": "stream",
          "text": [
            "5it [22:58, 285.40s/it]"
          ]
        },
        {
          "name": "stdout",
          "output_type": "stream",
          "text": [
            "Language: bh    Improvement over baseline: 6.16740\n"
          ]
        },
        {
          "name": "stderr",
          "output_type": "stream",
          "text": [
            "6it [27:10, 271.81s/it]\n"
          ]
        },
        {
          "name": "stdout",
          "output_type": "stream",
          "text": [
            "Language: cv    Improvement over baseline: 3.94432\n"
          ]
        },
        {
          "name": "stderr",
          "output_type": "stream",
          "text": [
            "0it [00:00, ?it/s]"
          ]
        },
        {
          "name": "stdout",
          "output_type": "stream",
          "text": [
            "Added 307 rows of data\n"
          ]
        },
        {
          "name": "stderr",
          "output_type": "stream",
          "text": [
            "1it [04:10, 250.73s/it]"
          ]
        },
        {
          "name": "stdout",
          "output_type": "stream",
          "text": [
            "Language: mg    Improvement over baseline: 0.22936\n",
            "Added 355 rows of data\n",
            "Added 0 rows of data\n",
            "Added 0 rows of data\n",
            "Added 0 rows of data\n",
            "Added 1 rows of data\n"
          ]
        },
        {
          "name": "stderr",
          "output_type": "stream",
          "text": [
            "2it [10:40, 332.59s/it]"
          ]
        },
        {
          "name": "stdout",
          "output_type": "stream",
          "text": [
            "Language: fo    Improvement over baseline: 0.17422\n"
          ]
        },
        {
          "name": "stderr",
          "output_type": "stream",
          "text": [
            "3it [13:53, 269.02s/it]"
          ]
        },
        {
          "name": "stdout",
          "output_type": "stream",
          "text": [
            "Language: co    Improvement over baseline: 9.56938\n",
            "Added 17 rows of data\n",
            "Added 0 rows of data\n",
            "Added 0 rows of data\n",
            "Added 0 rows of data\n",
            "Added 6 rows of data\n",
            "Added 0 rows of data\n",
            "Added 2 rows of data\n",
            "Added 0 rows of data\n",
            "Added 0 rows of data\n",
            "Added 2 rows of data\n",
            "Added 0 rows of data\n",
            "Added 0 rows of data\n",
            "Added 0 rows of data\n"
          ]
        },
        {
          "name": "stderr",
          "output_type": "stream",
          "text": [
            "4it [23:51, 398.89s/it]"
          ]
        },
        {
          "name": "stdout",
          "output_type": "stream",
          "text": [
            "Language: hsb    Improvement over baseline: 2.10084\n",
            "Added 210 rows of data\n",
            "Added 1 rows of data\n",
            "Added 0 rows of data\n"
          ]
        },
        {
          "name": "stderr",
          "output_type": "stream",
          "text": [
            "5it [27:59, 344.29s/it]"
          ]
        },
        {
          "name": "stdout",
          "output_type": "stream",
          "text": [
            "Language: bh    Improvement over baseline: 3.96476\n",
            "Added 101 rows of data\n",
            "Added 0 rows of data\n",
            "Added 0 rows of data\n",
            "Added 0 rows of data\n",
            "Added 0 rows of data\n"
          ]
        },
        {
          "name": "stderr",
          "output_type": "stream",
          "text": [
            "6it [34:28, 344.71s/it]\n"
          ]
        },
        {
          "name": "stdout",
          "output_type": "stream",
          "text": [
            "Language: cv    Improvement over baseline: 0.23202\n"
          ]
        },
        {
          "name": "stderr",
          "output_type": "stream",
          "text": [
            "0it [00:00, ?it/s]"
          ]
        },
        {
          "name": "stdout",
          "output_type": "stream",
          "text": [
            "Added 277 rows of data\n",
            "Added 0 rows of data\n",
            "Added 0 rows of data\n",
            "Added 1 rows of data\n",
            "Added 128 rows of data\n",
            "Added 0 rows of data\n",
            "Added 4 rows of data\n"
          ]
        },
        {
          "name": "stderr",
          "output_type": "stream",
          "text": [
            "1it [06:52, 412.86s/it]"
          ]
        },
        {
          "name": "stdout",
          "output_type": "stream",
          "text": [
            "Language: mg    Improvement over baseline: -0.45872\n",
            "Added 389 rows of data\n",
            "Added 0 rows of data\n",
            "Added 0 rows of data\n"
          ]
        },
        {
          "name": "stderr",
          "output_type": "stream",
          "text": [
            "2it [12:24, 364.92s/it]"
          ]
        },
        {
          "name": "stdout",
          "output_type": "stream",
          "text": [
            "Language: fo    Improvement over baseline: 0.87108\n",
            "Added 4 rows of data\n",
            "Added 0 rows of data\n",
            "Added 1 rows of data\n",
            "Added 0 rows of data\n",
            "Added 2 rows of data\n",
            "Added 0 rows of data\n",
            "Added 0 rows of data\n",
            "Added 0 rows of data\n",
            "Added 0 rows of data\n"
          ]
        },
        {
          "name": "stderr",
          "output_type": "stream",
          "text": [
            "3it [20:18, 414.78s/it]"
          ]
        },
        {
          "name": "stdout",
          "output_type": "stream",
          "text": [
            "Language: co    Improvement over baseline: 2.39234\n",
            "Added 12 rows of data\n",
            "Added 0 rows of data\n",
            "Added 25 rows of data\n"
          ]
        },
        {
          "name": "stderr",
          "output_type": "stream",
          "text": [
            "4it [25:53, 383.41s/it]"
          ]
        },
        {
          "name": "stdout",
          "output_type": "stream",
          "text": [
            "Language: hsb    Improvement over baseline: -1.89076\n"
          ]
        },
        {
          "name": "stderr",
          "output_type": "stream",
          "text": [
            "5it [27:34, 281.66s/it]"
          ]
        },
        {
          "name": "stdout",
          "output_type": "stream",
          "text": [
            "Language: bh    Improvement over baseline: 3.30396\n"
          ]
        },
        {
          "name": "stderr",
          "output_type": "stream",
          "text": [
            "6it [31:18, 313.12s/it]\n"
          ]
        },
        {
          "name": "stdout",
          "output_type": "stream",
          "text": [
            "Language: cv    Improvement over baseline: 3.48028\n"
          ]
        },
        {
          "name": "stderr",
          "output_type": "stream",
          "text": [
            "1it [03:50, 230.16s/it]"
          ]
        },
        {
          "name": "stdout",
          "output_type": "stream",
          "text": [
            "Language: mg    Improvement over baseline: 0.45872\n"
          ]
        },
        {
          "name": "stderr",
          "output_type": "stream",
          "text": [
            "2it [06:59, 206.10s/it]"
          ]
        },
        {
          "name": "stdout",
          "output_type": "stream",
          "text": [
            "Language: fo    Improvement over baseline: 3.83275\n"
          ]
        },
        {
          "name": "stderr",
          "output_type": "stream",
          "text": [
            "3it [10:10, 199.23s/it]"
          ]
        },
        {
          "name": "stdout",
          "output_type": "stream",
          "text": [
            "Language: co    Improvement over baseline: 6.69856\n",
            "Added 8 rows of data\n",
            "Added 0 rows of data\n",
            "Added 1 rows of data\n"
          ]
        },
        {
          "name": "stderr",
          "output_type": "stream",
          "text": [
            "4it [15:39, 250.40s/it]"
          ]
        },
        {
          "name": "stdout",
          "output_type": "stream",
          "text": [
            "Language: hsb    Improvement over baseline: -1.47059\n",
            "Added 103 rows of data\n"
          ]
        },
        {
          "name": "stderr",
          "output_type": "stream",
          "text": [
            "5it [18:56, 231.24s/it]"
          ]
        },
        {
          "name": "stdout",
          "output_type": "stream",
          "text": [
            "Language: bh    Improvement over baseline: 2.86344\n",
            "Added 13 rows of data\n",
            "Added 0 rows of data\n"
          ]
        },
        {
          "name": "stderr",
          "output_type": "stream",
          "text": [
            "6it [23:56, 239.34s/it]\n"
          ]
        },
        {
          "name": "stdout",
          "output_type": "stream",
          "text": [
            "Language: cv    Improvement over baseline: 2.32019\n"
          ]
        },
        {
          "name": "stderr",
          "output_type": "stream",
          "text": [
            "0it [00:00, ?it/s]"
          ]
        },
        {
          "name": "stdout",
          "output_type": "stream",
          "text": [
            "Added 350 rows of data\n"
          ]
        },
        {
          "name": "stderr",
          "output_type": "stream",
          "text": [
            "1it [04:11, 251.41s/it]"
          ]
        },
        {
          "name": "stdout",
          "output_type": "stream",
          "text": [
            "Language: mg    Improvement over baseline: 0.00000\n",
            "Added 378 rows of data\n",
            "Added 0 rows of data\n",
            "Added 0 rows of data\n",
            "Added 0 rows of data\n",
            "Added 13 rows of data\n"
          ]
        },
        {
          "name": "stderr",
          "output_type": "stream",
          "text": [
            "2it [10:47, 336.69s/it]"
          ]
        },
        {
          "name": "stdout",
          "output_type": "stream",
          "text": [
            "Language: fo    Improvement over baseline: 3.31010\n",
            "Added 9 rows of data\n",
            "Added 0 rows of data\n",
            "Added 0 rows of data\n",
            "Added 0 rows of data\n",
            "Added 0 rows of data\n",
            "Added 0 rows of data\n",
            "Added 1 rows of data\n",
            "Added 0 rows of data\n",
            "Added 0 rows of data\n",
            "Added 0 rows of data\n"
          ]
        },
        {
          "name": "stderr",
          "output_type": "stream",
          "text": [
            "3it [19:12, 413.45s/it]"
          ]
        },
        {
          "name": "stdout",
          "output_type": "stream",
          "text": [
            "Language: co    Improvement over baseline: 6.69856\n",
            "Added 5 rows of data\n",
            "Added 0 rows of data\n",
            "Added 0 rows of data\n",
            "Added 2 rows of data\n"
          ]
        },
        {
          "name": "stderr",
          "output_type": "stream",
          "text": [
            "4it [25:14, 393.19s/it]"
          ]
        },
        {
          "name": "stdout",
          "output_type": "stream",
          "text": [
            "Language: hsb    Improvement over baseline: -3.78151\n"
          ]
        },
        {
          "name": "stderr",
          "output_type": "stream",
          "text": [
            "5it [27:36, 302.54s/it]"
          ]
        },
        {
          "name": "stdout",
          "output_type": "stream",
          "text": [
            "Language: bh    Improvement over baseline: 4.84581\n"
          ]
        },
        {
          "name": "stderr",
          "output_type": "stream",
          "text": [
            "6it [30:22, 303.68s/it]\n"
          ]
        },
        {
          "name": "stdout",
          "output_type": "stream",
          "text": [
            "Language: cv    Improvement over baseline: 1.16009\n"
          ]
        },
        {
          "name": "stderr",
          "output_type": "stream",
          "text": [
            "1it [03:47, 227.81s/it]"
          ]
        },
        {
          "name": "stdout",
          "output_type": "stream",
          "text": [
            "Language: mg    Improvement over baseline: 0.45872\n",
            "Added 323 rows of data\n",
            "Added 0 rows of data\n",
            "Added 0 rows of data\n",
            "Added 0 rows of data\n",
            "Added 9 rows of data\n"
          ]
        },
        {
          "name": "stderr",
          "output_type": "stream",
          "text": [
            "2it [10:16, 322.27s/it]"
          ]
        },
        {
          "name": "stdout",
          "output_type": "stream",
          "text": [
            "Language: fo    Improvement over baseline: 1.39373\n"
          ]
        },
        {
          "name": "stderr",
          "output_type": "stream",
          "text": [
            "3it [13:49, 272.72s/it]"
          ]
        },
        {
          "name": "stdout",
          "output_type": "stream",
          "text": [
            "Language: co    Improvement over baseline: 9.09091\n",
            "Added 13 rows of data\n",
            "Added 0 rows of data\n"
          ]
        },
        {
          "name": "stderr",
          "output_type": "stream",
          "text": [
            "4it [18:56, 286.23s/it]"
          ]
        },
        {
          "name": "stdout",
          "output_type": "stream",
          "text": [
            "Language: hsb    Improvement over baseline: -1.89076\n"
          ]
        },
        {
          "name": "stderr",
          "output_type": "stream",
          "text": [
            "5it [20:57, 226.43s/it]"
          ]
        },
        {
          "name": "stdout",
          "output_type": "stream",
          "text": [
            "Language: bh    Improvement over baseline: 1.76211\n",
            "Added 75 rows of data\n",
            "Added 0 rows of data\n"
          ]
        },
        {
          "name": "stderr",
          "output_type": "stream",
          "text": [
            "6it [25:53, 259.00s/it]\n"
          ]
        },
        {
          "name": "stdout",
          "output_type": "stream",
          "text": [
            "Language: cv    Improvement over baseline: 1.85615\n"
          ]
        },
        {
          "name": "stderr",
          "output_type": "stream",
          "text": [
            "0it [00:00, ?it/s]"
          ]
        },
        {
          "name": "stdout",
          "output_type": "stream",
          "text": [
            "Added 354 rows of data\n",
            "Added 0 rows of data\n",
            "Added 0 rows of data\n"
          ]
        },
        {
          "name": "stderr",
          "output_type": "stream",
          "text": [
            "1it [05:09, 309.35s/it]"
          ]
        },
        {
          "name": "stdout",
          "output_type": "stream",
          "text": [
            "Language: mg    Improvement over baseline: 0.45872\n",
            "Added 268 rows of data\n",
            "Added 0 rows of data\n",
            "Added 0 rows of data\n",
            "Added 4 rows of data\n",
            "Added 2 rows of data\n"
          ]
        },
        {
          "name": "stderr",
          "output_type": "stream",
          "text": [
            "2it [11:38, 356.49s/it]"
          ]
        },
        {
          "name": "stdout",
          "output_type": "stream",
          "text": [
            "Language: fo    Improvement over baseline: 0.52265\n"
          ]
        },
        {
          "name": "stderr",
          "output_type": "stream",
          "text": [
            "3it [14:48, 280.20s/it]"
          ]
        },
        {
          "name": "stdout",
          "output_type": "stream",
          "text": [
            "Language: co    Improvement over baseline: 6.22010\n",
            "Added 9 rows of data\n",
            "Added 0 rows of data\n",
            "Added 4 rows of data\n",
            "Added 0 rows of data\n",
            "Added 1 rows of data\n",
            "Added 0 rows of data\n",
            "Added 0 rows of data\n",
            "Added 0 rows of data\n",
            "Added 0 rows of data\n",
            "Added 0 rows of data\n",
            "Added 0 rows of data\n",
            "Added 1 rows of data\n",
            "Added 156 rows of data\n"
          ]
        },
        {
          "name": "stderr",
          "output_type": "stream",
          "text": [
            "4it [24:59, 410.76s/it]"
          ]
        },
        {
          "name": "stdout",
          "output_type": "stream",
          "text": [
            "Language: hsb    Improvement over baseline: -2.31092\n",
            "Added 207 rows of data\n",
            "Added 0 rows of data\n",
            "Added 0 rows of data\n"
          ]
        },
        {
          "name": "stderr",
          "output_type": "stream",
          "text": [
            "5it [29:03, 350.79s/it]"
          ]
        },
        {
          "name": "stdout",
          "output_type": "stream",
          "text": [
            "Language: bh    Improvement over baseline: 2.20264\n"
          ]
        },
        {
          "name": "stderr",
          "output_type": "stream",
          "text": [
            "6it [33:04, 330.80s/it]\n"
          ]
        },
        {
          "name": "stdout",
          "output_type": "stream",
          "text": [
            "Language: cv    Improvement over baseline: -0.23202\n"
          ]
        },
        {
          "name": "stderr",
          "output_type": "stream",
          "text": [
            "1it [02:07, 127.29s/it]"
          ]
        },
        {
          "name": "stdout",
          "output_type": "stream",
          "text": [
            "Language: mg    Improvement over baseline: 0.22936\n"
          ]
        },
        {
          "name": "stderr",
          "output_type": "stream",
          "text": [
            "2it [05:23, 167.95s/it]"
          ]
        },
        {
          "name": "stdout",
          "output_type": "stream",
          "text": [
            "Language: fo    Improvement over baseline: -0.87108\n",
            "Added 8 rows of data\n",
            "Added 5 rows of data\n",
            "Added 0 rows of data\n",
            "Added 0 rows of data\n",
            "Added 0 rows of data\n",
            "Added 0 rows of data\n",
            "Added 0 rows of data\n"
          ]
        },
        {
          "name": "stderr",
          "output_type": "stream",
          "text": [
            "3it [12:24, 283.47s/it]"
          ]
        },
        {
          "name": "stdout",
          "output_type": "stream",
          "text": [
            "Language: co    Improvement over baseline: 7.17703\n",
            "Added 11 rows of data\n",
            "Added 0 rows of data\n",
            "Added 0 rows of data\n",
            "Added 0 rows of data\n",
            "Added 0 rows of data\n",
            "Added 0 rows of data\n",
            "Added 0 rows of data\n"
          ]
        },
        {
          "name": "stderr",
          "output_type": "stream",
          "text": [
            "4it [19:41, 343.92s/it]"
          ]
        },
        {
          "name": "stdout",
          "output_type": "stream",
          "text": [
            "Language: hsb    Improvement over baseline: 1.26050\n",
            "Added 200 rows of data\n",
            "Added 0 rows of data\n",
            "Added 0 rows of data\n"
          ]
        },
        {
          "name": "stderr",
          "output_type": "stream",
          "text": [
            "5it [23:44, 307.53s/it]"
          ]
        },
        {
          "name": "stdout",
          "output_type": "stream",
          "text": [
            "Language: bh    Improvement over baseline: 5.06608\n",
            "Added 46 rows of data\n",
            "Added 0 rows of data\n",
            "Added 0 rows of data\n",
            "Added 9 rows of data\n"
          ]
        },
        {
          "name": "stderr",
          "output_type": "stream",
          "text": [
            "6it [29:39, 296.51s/it]\n"
          ]
        },
        {
          "name": "stdout",
          "output_type": "stream",
          "text": [
            "Language: cv    Improvement over baseline: 3.24826\n"
          ]
        },
        {
          "name": "stderr",
          "output_type": "stream",
          "text": [
            "1it [03:48, 228.56s/it]"
          ]
        },
        {
          "name": "stdout",
          "output_type": "stream",
          "text": [
            "Language: mg    Improvement over baseline: 0.45872\n",
            "Added 308 rows of data\n",
            "Added 0 rows of data\n",
            "Added 0 rows of data\n",
            "Added 0 rows of data\n"
          ]
        },
        {
          "name": "stderr",
          "output_type": "stream",
          "text": [
            "2it [09:56, 310.52s/it]"
          ]
        },
        {
          "name": "stdout",
          "output_type": "stream",
          "text": [
            "Language: fo    Improvement over baseline: 0.69686\n"
          ]
        },
        {
          "name": "stderr",
          "output_type": "stream",
          "text": [
            "3it [13:03, 254.00s/it]"
          ]
        },
        {
          "name": "stdout",
          "output_type": "stream",
          "text": [
            "Language: co    Improvement over baseline: 7.17703\n",
            "Added 5 rows of data\n",
            "Added 2 rows of data\n",
            "Added 2 rows of data\n"
          ]
        },
        {
          "name": "stderr",
          "output_type": "stream",
          "text": [
            "4it [18:27, 281.86s/it]"
          ]
        },
        {
          "name": "stdout",
          "output_type": "stream",
          "text": [
            "Language: hsb    Improvement over baseline: 1.26050\n",
            "Added 218 rows of data\n"
          ]
        },
        {
          "name": "stderr",
          "output_type": "stream",
          "text": [
            "5it [21:53, 254.24s/it]"
          ]
        },
        {
          "name": "stdout",
          "output_type": "stream",
          "text": [
            "Language: bh    Improvement over baseline: 5.06608\n",
            "Added 20 rows of data\n",
            "Added 0 rows of data\n",
            "Added 0 rows of data\n"
          ]
        },
        {
          "name": "stderr",
          "output_type": "stream",
          "text": [
            "6it [27:26, 274.37s/it]\n"
          ]
        },
        {
          "name": "stdout",
          "output_type": "stream",
          "text": [
            "Language: cv    Improvement over baseline: 2.55220\n"
          ]
        },
        {
          "name": "stderr",
          "output_type": "stream",
          "text": [
            "1it [03:53, 233.91s/it]"
          ]
        },
        {
          "name": "stdout",
          "output_type": "stream",
          "text": [
            "Language: mg    Improvement over baseline: 0.45872\n",
            "Added 275 rows of data\n"
          ]
        },
        {
          "name": "stderr",
          "output_type": "stream",
          "text": [
            "2it [08:35, 261.94s/it]"
          ]
        },
        {
          "name": "stdout",
          "output_type": "stream",
          "text": [
            "Language: fo    Improvement over baseline: 1.21951\n"
          ]
        },
        {
          "name": "stderr",
          "output_type": "stream",
          "text": [
            "3it [12:16, 243.25s/it]"
          ]
        },
        {
          "name": "stdout",
          "output_type": "stream",
          "text": [
            "Language: co    Improvement over baseline: 3.34928\n",
            "Added 5 rows of data\n",
            "Added 1 rows of data\n"
          ]
        },
        {
          "name": "stderr",
          "output_type": "stream",
          "text": [
            "4it [17:11, 263.79s/it]"
          ]
        },
        {
          "name": "stdout",
          "output_type": "stream",
          "text": [
            "Language: hsb    Improvement over baseline: -2.10084\n"
          ]
        },
        {
          "name": "stderr",
          "output_type": "stream",
          "text": [
            "5it [20:03, 230.56s/it]"
          ]
        },
        {
          "name": "stdout",
          "output_type": "stream",
          "text": [
            "Language: bh    Improvement over baseline: 1.76211\n"
          ]
        },
        {
          "name": "stderr",
          "output_type": "stream",
          "text": [
            "6it [24:14, 242.37s/it]\n"
          ]
        },
        {
          "name": "stdout",
          "output_type": "stream",
          "text": [
            "Language: cv    Improvement over baseline: 2.78422\n"
          ]
        },
        {
          "name": "stderr",
          "output_type": "stream",
          "text": [
            "1it [03:46, 226.15s/it]"
          ]
        },
        {
          "name": "stdout",
          "output_type": "stream",
          "text": [
            "Language: mg    Improvement over baseline: 0.22936\n"
          ]
        },
        {
          "name": "stderr",
          "output_type": "stream",
          "text": [
            "2it [07:50, 236.83s/it]"
          ]
        },
        {
          "name": "stdout",
          "output_type": "stream",
          "text": [
            "Language: fo    Improvement over baseline: 1.04530\n"
          ]
        },
        {
          "name": "stderr",
          "output_type": "stream",
          "text": [
            "3it [11:22, 225.72s/it]"
          ]
        },
        {
          "name": "stdout",
          "output_type": "stream",
          "text": [
            "Language: co    Improvement over baseline: 11.48325\n",
            "Added 10 rows of data\n",
            "Added 0 rows of data\n",
            "Added 0 rows of data\n"
          ]
        },
        {
          "name": "stderr",
          "output_type": "stream",
          "text": [
            "4it [17:05, 271.67s/it]"
          ]
        },
        {
          "name": "stdout",
          "output_type": "stream",
          "text": [
            "Language: hsb    Improvement over baseline: -1.26050\n"
          ]
        },
        {
          "name": "stderr",
          "output_type": "stream",
          "text": [
            "5it [19:19, 222.27s/it]"
          ]
        },
        {
          "name": "stdout",
          "output_type": "stream",
          "text": [
            "Language: bh    Improvement over baseline: 3.74449\n",
            "Added 4 rows of data\n",
            "Added 0 rows of data\n",
            "Added 0 rows of data\n",
            "Added 0 rows of data\n"
          ]
        },
        {
          "name": "stderr",
          "output_type": "stream",
          "text": [
            "6it [25:40, 256.67s/it]\n"
          ]
        },
        {
          "name": "stdout",
          "output_type": "stream",
          "text": [
            "Language: cv    Improvement over baseline: 4.64037\n"
          ]
        },
        {
          "name": "stderr",
          "output_type": "stream",
          "text": [
            "0it [00:00, ?it/s]"
          ]
        },
        {
          "name": "stdout",
          "output_type": "stream",
          "text": [
            "Added 354 rows of data\n",
            "Added 0 rows of data\n",
            "Added 0 rows of data\n",
            "Added 0 rows of data\n",
            "Added 0 rows of data\n",
            "Added 0 rows of data\n",
            "Added 25 rows of data\n",
            "Added 0 rows of data\n",
            "Added 0 rows of data\n",
            "Added 0 rows of data\n",
            "Added 12 rows of data\n",
            "Added 0 rows of data\n",
            "Added 2 rows of data\n",
            "Added 87 rows of data\n"
          ]
        },
        {
          "name": "stderr",
          "output_type": "stream",
          "text": [
            "1it [11:40, 700.19s/it]"
          ]
        },
        {
          "name": "stdout",
          "output_type": "stream",
          "text": [
            "Language: mg    Improvement over baseline: -0.91743\n",
            "Added 318 rows of data\n",
            "Added 0 rows of data\n"
          ]
        },
        {
          "name": "stderr",
          "output_type": "stream",
          "text": [
            "2it [17:32, 495.31s/it]"
          ]
        },
        {
          "name": "stdout",
          "output_type": "stream",
          "text": [
            "Language: fo    Improvement over baseline: 2.09059\n"
          ]
        },
        {
          "name": "stderr",
          "output_type": "stream",
          "text": [
            "3it [21:06, 367.00s/it]"
          ]
        },
        {
          "name": "stdout",
          "output_type": "stream",
          "text": [
            "Language: co    Improvement over baseline: 4.30622\n",
            "Added 1 rows of data\n",
            "Added 0 rows of data\n",
            "Added 0 rows of data\n",
            "Added 3 rows of data\n",
            "Added 0 rows of data\n",
            "Added 0 rows of data\n",
            "Added 1 rows of data\n",
            "Added 0 rows of data\n"
          ]
        },
        {
          "name": "stderr",
          "output_type": "stream",
          "text": [
            "4it [29:26, 419.46s/it]"
          ]
        },
        {
          "name": "stdout",
          "output_type": "stream",
          "text": [
            "Language: hsb    Improvement over baseline: -0.42017\n"
          ]
        },
        {
          "name": "stderr",
          "output_type": "stream",
          "text": [
            "5it [31:52, 320.86s/it]"
          ]
        },
        {
          "name": "stdout",
          "output_type": "stream",
          "text": [
            "Language: bh    Improvement over baseline: 3.74449\n"
          ]
        },
        {
          "name": "stderr",
          "output_type": "stream",
          "text": [
            "6it [35:33, 355.58s/it]\n"
          ]
        },
        {
          "name": "stdout",
          "output_type": "stream",
          "text": [
            "Language: cv    Improvement over baseline: 0.23202\n"
          ]
        },
        {
          "name": "stderr",
          "output_type": "stream",
          "text": [
            "0it [00:00, ?it/s]"
          ]
        },
        {
          "name": "stdout",
          "output_type": "stream",
          "text": [
            "Added 298 rows of data\n",
            "Added 0 rows of data\n",
            "Added 0 rows of data\n",
            "Added 0 rows of data\n"
          ]
        },
        {
          "name": "stderr",
          "output_type": "stream",
          "text": [
            "1it [05:32, 332.55s/it]"
          ]
        },
        {
          "name": "stdout",
          "output_type": "stream",
          "text": [
            "Language: mg    Improvement over baseline: 0.91743\n"
          ]
        },
        {
          "name": "stderr",
          "output_type": "stream",
          "text": [
            "2it [09:40, 282.98s/it]"
          ]
        },
        {
          "name": "stdout",
          "output_type": "stream",
          "text": [
            "Language: fo    Improvement over baseline: 0.87108\n"
          ]
        },
        {
          "name": "stderr",
          "output_type": "stream",
          "text": [
            "3it [13:37, 261.68s/it]"
          ]
        },
        {
          "name": "stdout",
          "output_type": "stream",
          "text": [
            "Language: co    Improvement over baseline: 10.04785\n"
          ]
        },
        {
          "name": "stderr",
          "output_type": "stream",
          "text": [
            "4it [15:54, 212.78s/it]"
          ]
        },
        {
          "name": "stdout",
          "output_type": "stream",
          "text": [
            "Language: hsb    Improvement over baseline: -5.67227\n",
            "Added 147 rows of data\n",
            "Added 0 rows of data\n",
            "Added 0 rows of data\n",
            "Added 0 rows of data\n",
            "Added 10 rows of data\n"
          ]
        },
        {
          "name": "stderr",
          "output_type": "stream",
          "text": [
            "5it [20:33, 236.66s/it]"
          ]
        },
        {
          "name": "stdout",
          "output_type": "stream",
          "text": [
            "Language: bh    Improvement over baseline: 1.98238\n"
          ]
        },
        {
          "name": "stderr",
          "output_type": "stream",
          "text": [
            "6it [24:39, 246.55s/it]\n"
          ]
        },
        {
          "name": "stdout",
          "output_type": "stream",
          "text": [
            "Language: cv    Improvement over baseline: -2.32019\n"
          ]
        },
        {
          "name": "stderr",
          "output_type": "stream",
          "text": [
            "1it [03:44, 224.86s/it]"
          ]
        },
        {
          "name": "stdout",
          "output_type": "stream",
          "text": [
            "Language: mg    Improvement over baseline: 0.45872\n",
            "Added 343 rows of data\n",
            "Added 0 rows of data\n"
          ]
        },
        {
          "name": "stderr",
          "output_type": "stream",
          "text": [
            "2it [08:39, 265.70s/it]"
          ]
        },
        {
          "name": "stdout",
          "output_type": "stream",
          "text": [
            "Language: fo    Improvement over baseline: 1.56794\n"
          ]
        },
        {
          "name": "stderr",
          "output_type": "stream",
          "text": [
            "3it [11:17, 216.80s/it]"
          ]
        },
        {
          "name": "stdout",
          "output_type": "stream",
          "text": [
            "Language: co    Improvement over baseline: 9.09091\n",
            "Added 6 rows of data\n",
            "Added 0 rows of data\n",
            "Added 0 rows of data\n"
          ]
        },
        {
          "name": "stderr",
          "output_type": "stream",
          "text": [
            "4it [16:40, 258.79s/it]"
          ]
        },
        {
          "name": "stdout",
          "output_type": "stream",
          "text": [
            "Language: hsb    Improvement over baseline: -0.84034\n",
            "Added 110 rows of data\n"
          ]
        },
        {
          "name": "stderr",
          "output_type": "stream",
          "text": [
            "5it [19:52, 234.65s/it]"
          ]
        },
        {
          "name": "stdout",
          "output_type": "stream",
          "text": [
            "Language: bh    Improvement over baseline: -0.66079\n"
          ]
        },
        {
          "name": "stderr",
          "output_type": "stream",
          "text": [
            "6it [23:31, 235.32s/it]\n"
          ]
        },
        {
          "name": "stdout",
          "output_type": "stream",
          "text": [
            "Language: cv    Improvement over baseline: 2.08817\n"
          ]
        },
        {
          "name": "stderr",
          "output_type": "stream",
          "text": [
            "0it [00:00, ?it/s]"
          ]
        },
        {
          "name": "stdout",
          "output_type": "stream",
          "text": [
            "Added 322 rows of data\n",
            "Added 0 rows of data\n"
          ]
        },
        {
          "name": "stderr",
          "output_type": "stream",
          "text": [
            "1it [04:35, 275.69s/it]"
          ]
        },
        {
          "name": "stdout",
          "output_type": "stream",
          "text": [
            "Language: mg    Improvement over baseline: 0.45872\n",
            "Added 308 rows of data\n",
            "Added 0 rows of data\n",
            "Added 0 rows of data\n",
            "Added 16 rows of data\n",
            "Added 1 rows of data\n"
          ]
        },
        {
          "name": "stderr",
          "output_type": "stream",
          "text": [
            "2it [11:04, 342.32s/it]"
          ]
        },
        {
          "name": "stdout",
          "output_type": "stream",
          "text": [
            "Language: fo    Improvement over baseline: 2.43902\n"
          ]
        },
        {
          "name": "stderr",
          "output_type": "stream",
          "text": [
            "3it [14:46, 287.26s/it]"
          ]
        },
        {
          "name": "stdout",
          "output_type": "stream",
          "text": [
            "Language: co    Improvement over baseline: 2.39234\n",
            "Added 10 rows of data\n",
            "Added 0 rows of data\n",
            "Added 0 rows of data\n",
            "Added 0 rows of data\n",
            "Added 0 rows of data\n",
            "Added 0 rows of data\n",
            "Added 1 rows of data\n"
          ]
        },
        {
          "name": "stderr",
          "output_type": "stream",
          "text": [
            "4it [23:00, 368.99s/it]"
          ]
        },
        {
          "name": "stdout",
          "output_type": "stream",
          "text": [
            "Language: hsb    Improvement over baseline: 0.84034\n",
            "Added 124 rows of data\n",
            "Added 0 rows of data\n",
            "Added 0 rows of data\n",
            "Added 11 rows of data\n",
            "Added 1 rows of data\n"
          ]
        },
        {
          "name": "stderr",
          "output_type": "stream",
          "text": [
            "5it [27:58, 343.37s/it]"
          ]
        },
        {
          "name": "stdout",
          "output_type": "stream",
          "text": [
            "Language: bh    Improvement over baseline: 2.64317\n"
          ]
        },
        {
          "name": "stderr",
          "output_type": "stream",
          "text": [
            "6it [31:39, 316.59s/it]\n"
          ]
        },
        {
          "name": "stdout",
          "output_type": "stream",
          "text": [
            "Language: cv    Improvement over baseline: -0.69606\n"
          ]
        },
        {
          "name": "stderr",
          "output_type": "stream",
          "text": [
            "1it [04:09, 249.00s/it]"
          ]
        },
        {
          "name": "stdout",
          "output_type": "stream",
          "text": [
            "Language: mg    Improvement over baseline: 0.22936\n",
            "Added 249 rows of data\n"
          ]
        },
        {
          "name": "stderr",
          "output_type": "stream",
          "text": [
            "2it [09:09, 279.45s/it]"
          ]
        },
        {
          "name": "stdout",
          "output_type": "stream",
          "text": [
            "Language: fo    Improvement over baseline: 0.52265\n"
          ]
        },
        {
          "name": "stderr",
          "output_type": "stream",
          "text": [
            "3it [12:13, 235.70s/it]"
          ]
        },
        {
          "name": "stdout",
          "output_type": "stream",
          "text": [
            "Language: co    Improvement over baseline: 5.26316\n",
            "Added 0 rows of data\n",
            "Added 2 rows of data\n",
            "Added 0 rows of data\n",
            "Added 12 rows of data\n",
            "Added 3 rows of data\n",
            "Added 8 rows of data\n",
            "Added 0 rows of data\n",
            "Added 1 rows of data\n",
            "Added 0 rows of data\n"
          ]
        },
        {
          "name": "stderr",
          "output_type": "stream",
          "text": [
            "4it [21:21, 359.07s/it]"
          ]
        },
        {
          "name": "stdout",
          "output_type": "stream",
          "text": [
            "Language: hsb    Improvement over baseline: 2.31092\n"
          ]
        },
        {
          "name": "stderr",
          "output_type": "stream",
          "text": [
            "5it [23:39, 279.47s/it]"
          ]
        },
        {
          "name": "stdout",
          "output_type": "stream",
          "text": [
            "Language: bh    Improvement over baseline: 2.20264\n"
          ]
        },
        {
          "name": "stderr",
          "output_type": "stream",
          "text": [
            "6it [26:54, 269.15s/it]\n"
          ]
        },
        {
          "name": "stdout",
          "output_type": "stream",
          "text": [
            "Language: cv    Improvement over baseline: 0.46404\n"
          ]
        },
        {
          "name": "stderr",
          "output_type": "stream",
          "text": [
            "1it [03:38, 218.30s/it]"
          ]
        },
        {
          "name": "stdout",
          "output_type": "stream",
          "text": [
            "Language: mg    Improvement over baseline: 0.45872\n"
          ]
        },
        {
          "name": "stderr",
          "output_type": "stream",
          "text": [
            "2it [06:41, 197.81s/it]"
          ]
        },
        {
          "name": "stdout",
          "output_type": "stream",
          "text": [
            "Language: fo    Improvement over baseline: -2.43902\n"
          ]
        },
        {
          "name": "stderr",
          "output_type": "stream",
          "text": [
            "3it [10:46, 219.06s/it]"
          ]
        },
        {
          "name": "stdout",
          "output_type": "stream",
          "text": [
            "Language: co    Improvement over baseline: 9.09091\n",
            "Added 2 rows of data\n",
            "Added 0 rows of data\n",
            "Added 0 rows of data\n",
            "Added 0 rows of data\n",
            "Added 0 rows of data\n",
            "Added 0 rows of data\n"
          ]
        },
        {
          "name": "stderr",
          "output_type": "stream",
          "text": [
            "4it [18:18, 311.05s/it]"
          ]
        },
        {
          "name": "stdout",
          "output_type": "stream",
          "text": [
            "Language: hsb    Improvement over baseline: -0.63025\n",
            "Added 147 rows of data\n",
            "Added 0 rows of data\n",
            "Added 4 rows of data\n",
            "Added 0 rows of data\n"
          ]
        },
        {
          "name": "stderr",
          "output_type": "stream",
          "text": [
            "5it [22:49, 296.77s/it]"
          ]
        },
        {
          "name": "stdout",
          "output_type": "stream",
          "text": [
            "Language: bh    Improvement over baseline: 1.76211\n",
            "Added 0 rows of data\n",
            "Added 0 rows of data\n"
          ]
        },
        {
          "name": "stderr",
          "output_type": "stream",
          "text": [
            "6it [27:52, 278.67s/it]\n"
          ]
        },
        {
          "name": "stdout",
          "output_type": "stream",
          "text": [
            "Language: cv    Improvement over baseline: 1.62413\n"
          ]
        },
        {
          "name": "stderr",
          "output_type": "stream",
          "text": [
            "0it [00:00, ?it/s]"
          ]
        },
        {
          "name": "stdout",
          "output_type": "stream",
          "text": [
            "Added 257 rows of data\n",
            "Added 0 rows of data\n",
            "Added 2 rows of data\n",
            "Added 86 rows of data\n",
            "Added 4 rows of data\n",
            "Added 13 rows of data\n",
            "Added 5 rows of data\n",
            "Added 0 rows of data\n",
            "Added 41 rows of data\n"
          ]
        },
        {
          "name": "stderr",
          "output_type": "stream",
          "text": [
            "1it [08:12, 492.54s/it]"
          ]
        },
        {
          "name": "stdout",
          "output_type": "stream",
          "text": [
            "Language: mg    Improvement over baseline: -0.45872\n",
            "Added 257 rows of data\n",
            "Added 0 rows of data\n",
            "Added 0 rows of data\n",
            "Added 2 rows of data\n",
            "Added 5 rows of data\n"
          ]
        },
        {
          "name": "stderr",
          "output_type": "stream",
          "text": [
            "2it [14:54, 439.03s/it]"
          ]
        },
        {
          "name": "stdout",
          "output_type": "stream",
          "text": [
            "Language: fo    Improvement over baseline: 2.78746\n",
            "Added 5 rows of data\n",
            "Added 0 rows of data\n",
            "Added 0 rows of data\n",
            "Added 0 rows of data\n",
            "Added 0 rows of data\n",
            "Added 0 rows of data\n",
            "Added 1 rows of data\n",
            "Added 1 rows of data\n"
          ]
        },
        {
          "name": "stderr",
          "output_type": "stream",
          "text": [
            "3it [22:30, 446.86s/it]"
          ]
        },
        {
          "name": "stdout",
          "output_type": "stream",
          "text": [
            "Language: co    Improvement over baseline: 8.61244\n",
            "Added 6 rows of data\n",
            "Added 0 rows of data\n",
            "Added 0 rows of data\n",
            "Added 0 rows of data\n",
            "Added 0 rows of data\n",
            "Added 1 rows of data\n"
          ]
        },
        {
          "name": "stderr",
          "output_type": "stream",
          "text": [
            "4it [29:34, 437.97s/it]"
          ]
        },
        {
          "name": "stdout",
          "output_type": "stream",
          "text": [
            "Language: hsb    Improvement over baseline: -1.89076\n"
          ]
        },
        {
          "name": "stderr",
          "output_type": "stream",
          "text": [
            "5it [31:20, 318.10s/it]"
          ]
        },
        {
          "name": "stdout",
          "output_type": "stream",
          "text": [
            "Language: bh    Improvement over baseline: 1.10132\n",
            "Added 2 rows of data\n",
            "Added 0 rows of data\n"
          ]
        },
        {
          "name": "stderr",
          "output_type": "stream",
          "text": [
            "6it [36:46, 367.81s/it]"
          ]
        },
        {
          "name": "stdout",
          "output_type": "stream",
          "text": [
            "Language: cv    Improvement over baseline: 0.23202\n"
          ]
        },
        {
          "name": "stderr",
          "output_type": "stream",
          "text": [
            "\n"
          ]
        }
      ],
      "source": [
        "iterative_pseudo_labeling_results = []\n",
        "\n",
        "# Iterate through low-resource languages\n",
        "high_resource_datasets = load_wikiann_datasets(BaseConfig.high_resource_langs, 10000)\n",
        "\n",
        "for conf_quantile in [0.88, 0.89, 0.9, 0.91, 0.92, 0.93]:\n",
        "    PseudoLabelingConfig.CONFIDENCE_QUANTILE = conf_quantile\n",
        "    for _ in range(5):\n",
        "\n",
        "        # Iterate through low-resource and adjacent high-resource languages\n",
        "        for (lang, low_resource_data), (_, high_resource_data) in tqdm(\n",
        "            zip(low_resource_datasets.items(), high_resource_datasets.items()),\n",
        "            ncols=80,\n",
        "        ):\n",
        "\n",
        "            train_loader, val_loader, test_loader = create_dataloaders(\n",
        "                low_resource_data\n",
        "            )\n",
        "            unlabeled_data = high_resource_data[\"train\"]\n",
        "\n",
        "            # ------------------------------------------ TRAINING ------------------------------------------ #\n",
        "\n",
        "            model = BertBilstmCrf(BaseConfig.NUM_TAGS).to(BaseConfig.DEVICE)\n",
        "            model.load_state_dict(torch.load(f\"models/{lang}_baseline.pth\"))\n",
        "            optimizer = setup_optimizer(model, PseudoLabelingConfig)\n",
        "            best_model_state, train_f1, val_f1 = train_pseudo_labeling(\n",
        "                model,\n",
        "                optimizer,\n",
        "                train_loader,\n",
        "                val_loader,\n",
        "                unlabeled_data,\n",
        "                PseudoLabelingConfig,\n",
        "            )\n",
        "\n",
        "            # ------------------------------------------ EVALUATION ------------------------------------------ #\n",
        "\n",
        "            eval_model = BertBilstmCrf(BaseConfig.NUM_TAGS).to(BaseConfig.DEVICE)\n",
        "            eval_model.load_state_dict(best_model_state)\n",
        "            test_loss, test_f1 = evaluate_epoch(eval_model, test_loader)\n",
        "\n",
        "            # ------------------------------------------ RESULTS ------------------------------------------ #\n",
        "            torch.save(best_model_state, f\"models/{lang}_iterative_pseudo_labeling.pth\")\n",
        "\n",
        "            baseline_performance = baseline.loc[\n",
        "                baseline[\"language\"] == lang, \"test_f1\"\n",
        "            ].item()\n",
        "            improvement = (test_f1 - baseline_performance) / baseline_performance * 100\n",
        "\n",
        "            iterative_pseudo_labeling_results.append(\n",
        "                {\n",
        "                    \"language\": lang,\n",
        "                    \"train_f1\": train_f1,\n",
        "                    \"val_f1\": val_f1,\n",
        "                    \"test_f1\": test_f1,\n",
        "                    \"improvement\": improvement,\n",
        "                    \"confidence_quantile\": conf_quantile,\n",
        "                }\n",
        "            )\n",
        "\n",
        "            print(f\"Language: {lang}    Improvement over baseline: {improvement:.5f}\")\n",
        "\n",
        "# Save results\n",
        "iterative_pseudo_labeling = pd.DataFrame(iterative_pseudo_labeling_results)\n",
        "iterative_pseudo_labeling.to_csv(\n",
        "    \"results/1full_iterative_pseudo_labeling.csv\", index=False\n",
        ")"
      ]
    },
    {
      "cell_type": "markdown",
      "metadata": {},
      "source": [
        "9:\n",
        "\n",
        "class PseudoLabelingConfig(BaseConfig):\n",
        "    EPOCHS                = 25\n",
        "    PATIENCE              = 5\n",
        "    BERT_LEARNING_RATE    = 0.00002\n",
        "    LSTM_LEARNING_RATE    = 0.003\n",
        "    CRF_LEARNING_RATE     = 0.00003\n",
        "\n",
        "    CONFIDENCE_QUANTILE   = 0.95\n",
        "    PSEUDO_DELAY          = 8\n",
        "    ENTROPY_THRESHOLD     = 0.2"
      ]
    },
    {
      "cell_type": "markdown",
      "metadata": {},
      "source": [
        "10:\n",
        "\n",
        "class PseudoLabelingConfig(BaseConfig):\n",
        "    EPOCHS                = 25\n",
        "    PATIENCE              = 5\n",
        "    BERT_LEARNING_RATE    = 0.00002\n",
        "    LSTM_LEARNING_RATE    = 0.003\n",
        "    CRF_LEARNING_RATE     = 0.00003\n",
        "\n",
        "    CONFIDENCE_QUANTILE   = 0.90\n",
        "    PSEUDO_DELAY          = 8\n",
        "    ENTROPY_THRESHOLD     = 0.15"
      ]
    },
    {
      "cell_type": "code",
      "execution_count": 20,
      "metadata": {},
      "outputs": [
        {
          "data": {
            "text/html": [
              "<div>\n",
              "<style scoped>\n",
              "    .dataframe tbody tr th:only-of-type {\n",
              "        vertical-align: middle;\n",
              "    }\n",
              "\n",
              "    .dataframe tbody tr th {\n",
              "        vertical-align: top;\n",
              "    }\n",
              "\n",
              "    .dataframe thead th {\n",
              "        text-align: right;\n",
              "    }\n",
              "</style>\n",
              "<table border=\"1\" class=\"dataframe\">\n",
              "  <thead>\n",
              "    <tr style=\"text-align: right;\">\n",
              "      <th></th>\n",
              "      <th>language</th>\n",
              "      <th>train_f1</th>\n",
              "      <th>val_f1</th>\n",
              "      <th>test_f1</th>\n",
              "      <th>improvement</th>\n",
              "      <th>confidence_quantile</th>\n",
              "    </tr>\n",
              "  </thead>\n",
              "  <tbody>\n",
              "    <tr>\n",
              "      <th>0</th>\n",
              "      <td>mg</td>\n",
              "      <td>0.999543</td>\n",
              "      <td>0.943878</td>\n",
              "      <td>0.960352</td>\n",
              "      <td>0.000000</td>\n",
              "      <td>0.88</td>\n",
              "    </tr>\n",
              "    <tr>\n",
              "      <th>1</th>\n",
              "      <td>fo</td>\n",
              "      <td>0.992799</td>\n",
              "      <td>0.908273</td>\n",
              "      <td>0.912088</td>\n",
              "      <td>1.219512</td>\n",
              "      <td>0.88</td>\n",
              "    </tr>\n",
              "    <tr>\n",
              "      <th>2</th>\n",
              "      <td>co</td>\n",
              "      <td>0.998431</td>\n",
              "      <td>0.852308</td>\n",
              "      <td>0.883268</td>\n",
              "      <td>8.612440</td>\n",
              "      <td>0.88</td>\n",
              "    </tr>\n",
              "    <tr>\n",
              "      <th>3</th>\n",
              "      <td>hsb</td>\n",
              "      <td>0.963006</td>\n",
              "      <td>0.933468</td>\n",
              "      <td>0.838420</td>\n",
              "      <td>-1.890756</td>\n",
              "      <td>0.88</td>\n",
              "    </tr>\n",
              "    <tr>\n",
              "      <th>4</th>\n",
              "      <td>bh</td>\n",
              "      <td>0.995533</td>\n",
              "      <td>0.903052</td>\n",
              "      <td>0.826855</td>\n",
              "      <td>3.083700</td>\n",
              "      <td>0.88</td>\n",
              "    </tr>\n",
              "    <tr>\n",
              "      <th>...</th>\n",
              "      <td>...</td>\n",
              "      <td>...</td>\n",
              "      <td>...</td>\n",
              "      <td>...</td>\n",
              "      <td>...</td>\n",
              "      <td>...</td>\n",
              "    </tr>\n",
              "    <tr>\n",
              "      <th>175</th>\n",
              "      <td>fo</td>\n",
              "      <td>0.995790</td>\n",
              "      <td>0.917266</td>\n",
              "      <td>0.926217</td>\n",
              "      <td>2.787456</td>\n",
              "      <td>0.93</td>\n",
              "    </tr>\n",
              "    <tr>\n",
              "      <th>176</th>\n",
              "      <td>co</td>\n",
              "      <td>0.991126</td>\n",
              "      <td>0.870769</td>\n",
              "      <td>0.883268</td>\n",
              "      <td>8.612440</td>\n",
              "      <td>0.93</td>\n",
              "    </tr>\n",
              "    <tr>\n",
              "      <th>177</th>\n",
              "      <td>hsb</td>\n",
              "      <td>0.989406</td>\n",
              "      <td>0.951613</td>\n",
              "      <td>0.838420</td>\n",
              "      <td>-1.890756</td>\n",
              "      <td>0.93</td>\n",
              "    </tr>\n",
              "    <tr>\n",
              "      <th>178</th>\n",
              "      <td>bh</td>\n",
              "      <td>0.977077</td>\n",
              "      <td>0.881508</td>\n",
              "      <td>0.810954</td>\n",
              "      <td>1.101322</td>\n",
              "      <td>0.93</td>\n",
              "    </tr>\n",
              "    <tr>\n",
              "      <th>179</th>\n",
              "      <td>cv</td>\n",
              "      <td>0.989100</td>\n",
              "      <td>0.906040</td>\n",
              "      <td>0.832370</td>\n",
              "      <td>0.232019</td>\n",
              "      <td>0.93</td>\n",
              "    </tr>\n",
              "  </tbody>\n",
              "</table>\n",
              "<p>180 rows × 6 columns</p>\n",
              "</div>"
            ],
            "text/plain": [
              "    language  train_f1    val_f1   test_f1  improvement  confidence_quantile\n",
              "0         mg  0.999543  0.943878  0.960352     0.000000                 0.88\n",
              "1         fo  0.992799  0.908273  0.912088     1.219512                 0.88\n",
              "2         co  0.998431  0.852308  0.883268     8.612440                 0.88\n",
              "3        hsb  0.963006  0.933468  0.838420    -1.890756                 0.88\n",
              "4         bh  0.995533  0.903052  0.826855     3.083700                 0.88\n",
              "..       ...       ...       ...       ...          ...                  ...\n",
              "175       fo  0.995790  0.917266  0.926217     2.787456                 0.93\n",
              "176       co  0.991126  0.870769  0.883268     8.612440                 0.93\n",
              "177      hsb  0.989406  0.951613  0.838420    -1.890756                 0.93\n",
              "178       bh  0.977077  0.881508  0.810954     1.101322                 0.93\n",
              "179       cv  0.989100  0.906040  0.832370     0.232019                 0.93\n",
              "\n",
              "[180 rows x 6 columns]"
            ]
          },
          "execution_count": 20,
          "metadata": {},
          "output_type": "execute_result"
        }
      ],
      "source": [
        "df = pd.read_csv(\"results/full_iterative_pseudo_labeling.csv\")\n",
        "df"
      ]
    },
    {
      "cell_type": "code",
      "execution_count": 21,
      "metadata": {},
      "outputs": [
        {
          "data": {
            "text/html": [
              "<div>\n",
              "<style scoped>\n",
              "    .dataframe tbody tr th:only-of-type {\n",
              "        vertical-align: middle;\n",
              "    }\n",
              "\n",
              "    .dataframe tbody tr th {\n",
              "        vertical-align: top;\n",
              "    }\n",
              "\n",
              "    .dataframe thead th {\n",
              "        text-align: right;\n",
              "    }\n",
              "</style>\n",
              "<table border=\"1\" class=\"dataframe\">\n",
              "  <thead>\n",
              "    <tr style=\"text-align: right;\">\n",
              "      <th></th>\n",
              "      <th>language</th>\n",
              "      <th>train_f1</th>\n",
              "      <th>val_f1</th>\n",
              "      <th>test_f1</th>\n",
              "      <th>improvement</th>\n",
              "      <th>confidence_quantile</th>\n",
              "    </tr>\n",
              "  </thead>\n",
              "  <tbody>\n",
              "    <tr>\n",
              "      <th>3</th>\n",
              "      <td>hsb</td>\n",
              "      <td>0.963006</td>\n",
              "      <td>0.933468</td>\n",
              "      <td>0.838420</td>\n",
              "      <td>-1.890756</td>\n",
              "      <td>0.88</td>\n",
              "    </tr>\n",
              "    <tr>\n",
              "      <th>9</th>\n",
              "      <td>hsb</td>\n",
              "      <td>0.982419</td>\n",
              "      <td>0.939516</td>\n",
              "      <td>0.847397</td>\n",
              "      <td>-0.840336</td>\n",
              "      <td>0.88</td>\n",
              "    </tr>\n",
              "    <tr>\n",
              "      <th>15</th>\n",
              "      <td>hsb</td>\n",
              "      <td>0.982341</td>\n",
              "      <td>0.963710</td>\n",
              "      <td>0.856373</td>\n",
              "      <td>0.210084</td>\n",
              "      <td>0.88</td>\n",
              "    </tr>\n",
              "    <tr>\n",
              "      <th>21</th>\n",
              "      <td>hsb</td>\n",
              "      <td>0.989991</td>\n",
              "      <td>0.961694</td>\n",
              "      <td>0.825853</td>\n",
              "      <td>-3.361345</td>\n",
              "      <td>0.88</td>\n",
              "    </tr>\n",
              "    <tr>\n",
              "      <th>27</th>\n",
              "      <td>hsb</td>\n",
              "      <td>0.971733</td>\n",
              "      <td>0.933468</td>\n",
              "      <td>0.847397</td>\n",
              "      <td>-0.840336</td>\n",
              "      <td>0.88</td>\n",
              "    </tr>\n",
              "    <tr>\n",
              "      <th>33</th>\n",
              "      <td>hsb</td>\n",
              "      <td>0.985929</td>\n",
              "      <td>0.939516</td>\n",
              "      <td>0.867145</td>\n",
              "      <td>1.470588</td>\n",
              "      <td>0.89</td>\n",
              "    </tr>\n",
              "    <tr>\n",
              "      <th>39</th>\n",
              "      <td>hsb</td>\n",
              "      <td>0.940353</td>\n",
              "      <td>0.917339</td>\n",
              "      <td>0.813285</td>\n",
              "      <td>-4.831933</td>\n",
              "      <td>0.89</td>\n",
              "    </tr>\n",
              "    <tr>\n",
              "      <th>45</th>\n",
              "      <td>hsb</td>\n",
              "      <td>0.973022</td>\n",
              "      <td>0.959677</td>\n",
              "      <td>0.842011</td>\n",
              "      <td>-1.470588</td>\n",
              "      <td>0.89</td>\n",
              "    </tr>\n",
              "    <tr>\n",
              "      <th>51</th>\n",
              "      <td>hsb</td>\n",
              "      <td>0.996490</td>\n",
              "      <td>0.941532</td>\n",
              "      <td>0.859964</td>\n",
              "      <td>0.630252</td>\n",
              "      <td>0.89</td>\n",
              "    </tr>\n",
              "    <tr>\n",
              "      <th>57</th>\n",
              "      <td>hsb</td>\n",
              "      <td>0.989977</td>\n",
              "      <td>0.947581</td>\n",
              "      <td>0.838420</td>\n",
              "      <td>-1.890756</td>\n",
              "      <td>0.89</td>\n",
              "    </tr>\n",
              "    <tr>\n",
              "      <th>63</th>\n",
              "      <td>hsb</td>\n",
              "      <td>0.986948</td>\n",
              "      <td>0.955645</td>\n",
              "      <td>0.856373</td>\n",
              "      <td>0.210084</td>\n",
              "      <td>0.90</td>\n",
              "    </tr>\n",
              "    <tr>\n",
              "      <th>69</th>\n",
              "      <td>hsb</td>\n",
              "      <td>0.994595</td>\n",
              "      <td>0.943548</td>\n",
              "      <td>0.836625</td>\n",
              "      <td>-2.100840</td>\n",
              "      <td>0.90</td>\n",
              "    </tr>\n",
              "    <tr>\n",
              "      <th>75</th>\n",
              "      <td>hsb</td>\n",
              "      <td>0.990271</td>\n",
              "      <td>0.939516</td>\n",
              "      <td>0.845601</td>\n",
              "      <td>-1.050420</td>\n",
              "      <td>0.90</td>\n",
              "    </tr>\n",
              "    <tr>\n",
              "      <th>81</th>\n",
              "      <td>hsb</td>\n",
              "      <td>0.984187</td>\n",
              "      <td>0.955645</td>\n",
              "      <td>0.872531</td>\n",
              "      <td>2.100840</td>\n",
              "      <td>0.90</td>\n",
              "    </tr>\n",
              "    <tr>\n",
              "      <th>87</th>\n",
              "      <td>hsb</td>\n",
              "      <td>0.994247</td>\n",
              "      <td>0.949597</td>\n",
              "      <td>0.838420</td>\n",
              "      <td>-1.890756</td>\n",
              "      <td>0.90</td>\n",
              "    </tr>\n",
              "    <tr>\n",
              "      <th>93</th>\n",
              "      <td>hsb</td>\n",
              "      <td>0.991498</td>\n",
              "      <td>0.943548</td>\n",
              "      <td>0.842011</td>\n",
              "      <td>-1.470588</td>\n",
              "      <td>0.91</td>\n",
              "    </tr>\n",
              "    <tr>\n",
              "      <th>99</th>\n",
              "      <td>hsb</td>\n",
              "      <td>0.993534</td>\n",
              "      <td>0.943548</td>\n",
              "      <td>0.822262</td>\n",
              "      <td>-3.781513</td>\n",
              "      <td>0.91</td>\n",
              "    </tr>\n",
              "    <tr>\n",
              "      <th>105</th>\n",
              "      <td>hsb</td>\n",
              "      <td>0.988646</td>\n",
              "      <td>0.943548</td>\n",
              "      <td>0.838420</td>\n",
              "      <td>-1.890756</td>\n",
              "      <td>0.91</td>\n",
              "    </tr>\n",
              "    <tr>\n",
              "      <th>111</th>\n",
              "      <td>hsb</td>\n",
              "      <td>0.994532</td>\n",
              "      <td>0.965726</td>\n",
              "      <td>0.834829</td>\n",
              "      <td>-2.310924</td>\n",
              "      <td>0.91</td>\n",
              "    </tr>\n",
              "    <tr>\n",
              "      <th>117</th>\n",
              "      <td>hsb</td>\n",
              "      <td>0.982143</td>\n",
              "      <td>0.965726</td>\n",
              "      <td>0.865350</td>\n",
              "      <td>1.260504</td>\n",
              "      <td>0.91</td>\n",
              "    </tr>\n",
              "    <tr>\n",
              "      <th>123</th>\n",
              "      <td>hsb</td>\n",
              "      <td>0.993450</td>\n",
              "      <td>0.947581</td>\n",
              "      <td>0.865350</td>\n",
              "      <td>1.260504</td>\n",
              "      <td>0.92</td>\n",
              "    </tr>\n",
              "    <tr>\n",
              "      <th>129</th>\n",
              "      <td>hsb</td>\n",
              "      <td>0.987708</td>\n",
              "      <td>0.941532</td>\n",
              "      <td>0.836625</td>\n",
              "      <td>-2.100840</td>\n",
              "      <td>0.92</td>\n",
              "    </tr>\n",
              "    <tr>\n",
              "      <th>135</th>\n",
              "      <td>hsb</td>\n",
              "      <td>0.997535</td>\n",
              "      <td>0.947581</td>\n",
              "      <td>0.843806</td>\n",
              "      <td>-1.260504</td>\n",
              "      <td>0.92</td>\n",
              "    </tr>\n",
              "    <tr>\n",
              "      <th>141</th>\n",
              "      <td>hsb</td>\n",
              "      <td>0.997497</td>\n",
              "      <td>0.951613</td>\n",
              "      <td>0.850987</td>\n",
              "      <td>-0.420168</td>\n",
              "      <td>0.92</td>\n",
              "    </tr>\n",
              "    <tr>\n",
              "      <th>147</th>\n",
              "      <td>hsb</td>\n",
              "      <td>0.935608</td>\n",
              "      <td>0.913306</td>\n",
              "      <td>0.806104</td>\n",
              "      <td>-5.672269</td>\n",
              "      <td>0.92</td>\n",
              "    </tr>\n",
              "    <tr>\n",
              "      <th>153</th>\n",
              "      <td>hsb</td>\n",
              "      <td>0.992054</td>\n",
              "      <td>0.935484</td>\n",
              "      <td>0.847397</td>\n",
              "      <td>-0.840336</td>\n",
              "      <td>0.93</td>\n",
              "    </tr>\n",
              "    <tr>\n",
              "      <th>159</th>\n",
              "      <td>hsb</td>\n",
              "      <td>0.985548</td>\n",
              "      <td>0.951613</td>\n",
              "      <td>0.861759</td>\n",
              "      <td>0.840336</td>\n",
              "      <td>0.93</td>\n",
              "    </tr>\n",
              "    <tr>\n",
              "      <th>165</th>\n",
              "      <td>hsb</td>\n",
              "      <td>0.982297</td>\n",
              "      <td>0.953629</td>\n",
              "      <td>0.874327</td>\n",
              "      <td>2.310924</td>\n",
              "      <td>0.93</td>\n",
              "    </tr>\n",
              "    <tr>\n",
              "      <th>171</th>\n",
              "      <td>hsb</td>\n",
              "      <td>0.995702</td>\n",
              "      <td>0.949597</td>\n",
              "      <td>0.849192</td>\n",
              "      <td>-0.630252</td>\n",
              "      <td>0.93</td>\n",
              "    </tr>\n",
              "    <tr>\n",
              "      <th>177</th>\n",
              "      <td>hsb</td>\n",
              "      <td>0.989406</td>\n",
              "      <td>0.951613</td>\n",
              "      <td>0.838420</td>\n",
              "      <td>-1.890756</td>\n",
              "      <td>0.93</td>\n",
              "    </tr>\n",
              "  </tbody>\n",
              "</table>\n",
              "</div>"
            ],
            "text/plain": [
              "    language  train_f1    val_f1   test_f1  improvement  confidence_quantile\n",
              "3        hsb  0.963006  0.933468  0.838420    -1.890756                 0.88\n",
              "9        hsb  0.982419  0.939516  0.847397    -0.840336                 0.88\n",
              "15       hsb  0.982341  0.963710  0.856373     0.210084                 0.88\n",
              "21       hsb  0.989991  0.961694  0.825853    -3.361345                 0.88\n",
              "27       hsb  0.971733  0.933468  0.847397    -0.840336                 0.88\n",
              "33       hsb  0.985929  0.939516  0.867145     1.470588                 0.89\n",
              "39       hsb  0.940353  0.917339  0.813285    -4.831933                 0.89\n",
              "45       hsb  0.973022  0.959677  0.842011    -1.470588                 0.89\n",
              "51       hsb  0.996490  0.941532  0.859964     0.630252                 0.89\n",
              "57       hsb  0.989977  0.947581  0.838420    -1.890756                 0.89\n",
              "63       hsb  0.986948  0.955645  0.856373     0.210084                 0.90\n",
              "69       hsb  0.994595  0.943548  0.836625    -2.100840                 0.90\n",
              "75       hsb  0.990271  0.939516  0.845601    -1.050420                 0.90\n",
              "81       hsb  0.984187  0.955645  0.872531     2.100840                 0.90\n",
              "87       hsb  0.994247  0.949597  0.838420    -1.890756                 0.90\n",
              "93       hsb  0.991498  0.943548  0.842011    -1.470588                 0.91\n",
              "99       hsb  0.993534  0.943548  0.822262    -3.781513                 0.91\n",
              "105      hsb  0.988646  0.943548  0.838420    -1.890756                 0.91\n",
              "111      hsb  0.994532  0.965726  0.834829    -2.310924                 0.91\n",
              "117      hsb  0.982143  0.965726  0.865350     1.260504                 0.91\n",
              "123      hsb  0.993450  0.947581  0.865350     1.260504                 0.92\n",
              "129      hsb  0.987708  0.941532  0.836625    -2.100840                 0.92\n",
              "135      hsb  0.997535  0.947581  0.843806    -1.260504                 0.92\n",
              "141      hsb  0.997497  0.951613  0.850987    -0.420168                 0.92\n",
              "147      hsb  0.935608  0.913306  0.806104    -5.672269                 0.92\n",
              "153      hsb  0.992054  0.935484  0.847397    -0.840336                 0.93\n",
              "159      hsb  0.985548  0.951613  0.861759     0.840336                 0.93\n",
              "165      hsb  0.982297  0.953629  0.874327     2.310924                 0.93\n",
              "171      hsb  0.995702  0.949597  0.849192    -0.630252                 0.93\n",
              "177      hsb  0.989406  0.951613  0.838420    -1.890756                 0.93"
            ]
          },
          "execution_count": 21,
          "metadata": {},
          "output_type": "execute_result"
        }
      ],
      "source": [
        "df[df[\"language\"] == \"hsb\"]"
      ]
    },
    {
      "cell_type": "code",
      "execution_count": null,
      "metadata": {},
      "outputs": [],
      "source": []
    }
  ],
  "metadata": {
    "accelerator": "GPU",
    "colab": {
      "gpuType": "T4",
      "provenance": []
    },
    "kernelspec": {
      "display_name": "multi-ner",
      "language": "python",
      "name": "python3"
    },
    "language_info": {
      "codemirror_mode": {
        "name": "ipython",
        "version": 3
      },
      "file_extension": ".py",
      "mimetype": "text/x-python",
      "name": "python",
      "nbconvert_exporter": "python",
      "pygments_lexer": "ipython3",
      "version": "3.13.2"
    }
  },
  "nbformat": 4,
  "nbformat_minor": 0
}
