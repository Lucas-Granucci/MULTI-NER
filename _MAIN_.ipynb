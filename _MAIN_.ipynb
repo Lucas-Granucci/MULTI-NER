{
  "cells": [
    {
      "cell_type": "markdown",
      "metadata": {
        "id": "OEKDEcZY0Ed9"
      },
      "source": [
        "# **Machine learning for low-resource NLP**: Advancing AI for Linguistic Inclusion\n",
        "Cross-lingual transfer learning and pseudo-labeling for multilingual named entity recognition"
      ]
    },
    {
      "cell_type": "code",
      "execution_count": 1,
      "metadata": {
        "id": "oMkZmRoX2xLR"
      },
      "outputs": [],
      "source": [
        "import random\n",
        "import numpy as np\n",
        "import pandas as pd\n",
        "from tqdm import tqdm\n",
        "from IPython.display import display, Markdown\n",
        "\n",
        "import torch\n",
        "import torch.optim as optim\n",
        "from datasets import load_dataset\n",
        "from sklearn.model_selection import train_test_split"
      ]
    },
    {
      "cell_type": "code",
      "execution_count": 2,
      "metadata": {},
      "outputs": [],
      "source": [
        "from model import BertBilstmCrf\n",
        "from dataloader import create_dataloaders\n",
        "from training import train_model, train_pseudo_labeling, evaluate_epoch\n",
        "from config import BaseConfig, TrainConfig, FineTuneConfig, PseudoLabelingConfig"
      ]
    },
    {
      "cell_type": "code",
      "execution_count": 3,
      "metadata": {
        "id": "4KsqUJuTgpSX"
      },
      "outputs": [],
      "source": [
        "def set_seed(seed):\n",
        "    torch.manual_seed(seed)\n",
        "    torch.cuda.manual_seed(seed)\n",
        "    torch.cuda.manual_seed_all(seed)\n",
        "\n",
        "    np.random.seed(seed)\n",
        "    random.seed(seed)\n",
        "\n",
        "    torch.backends.cudnn.deterministic = True\n",
        "    torch.backends.cudnn.benchmark = False\n",
        "\n",
        "\n",
        "set_seed(BaseConfig.RANDOM_STATE)"
      ]
    },
    {
      "cell_type": "code",
      "execution_count": 4,
      "metadata": {
        "colab": {
          "base_uri": "https://localhost:8080/"
        },
        "collapsed": true,
        "id": "83jA6h2-zZiy",
        "outputId": "c5b149b6-ec47-41da-ee95-c5980771a869"
      },
      "outputs": [],
      "source": [
        "def load_wikiann_datasets(language_codes, cutoff=None):\n",
        "\n",
        "    language_data = {}\n",
        "    for lang in language_codes:\n",
        "\n",
        "        # Load raw data from hugging face\n",
        "        lang_dataset = load_dataset(\"unimelb-nlp/wikiann\", name=lang)\n",
        "\n",
        "        # Get data from different splits and combine\n",
        "        train_df = pd.DataFrame(lang_dataset[\"train\"])\n",
        "        val_df = pd.DataFrame(lang_dataset[\"validation\"])\n",
        "        test_df = pd.DataFrame(lang_dataset[\"test\"])\n",
        "\n",
        "        complete_df = pd.concat([train_df, val_df, test_df]).reset_index(drop=True)\n",
        "        complete_df = complete_df.head(cutoff) if cutoff else complete_df\n",
        "\n",
        "        # Split data into new train/val/test splits\n",
        "        train, temp = train_test_split(\n",
        "            complete_df, test_size=0.2, random_state=BaseConfig.RANDOM_STATE\n",
        "        )\n",
        "        val, test = train_test_split(\n",
        "            temp, test_size=0.5, random_state=BaseConfig.RANDOM_STATE\n",
        "        )\n",
        "\n",
        "        language_data[lang] = {\"train\": train, \"val\": val, \"test\": test}\n",
        "\n",
        "    return language_data\n",
        "\n",
        "\n",
        "# Download and store data\n",
        "low_resource_datasets = load_wikiann_datasets(BaseConfig.low_resource_langs)"
      ]
    },
    {
      "cell_type": "code",
      "execution_count": 5,
      "metadata": {},
      "outputs": [],
      "source": [
        "def setup_optimizer(model, CONFIG):\n",
        "    param_groups = []\n",
        "    # Check model layers and add appropiate learning rates\n",
        "    if hasattr(model, \"bert\"):\n",
        "        param_groups.append(\n",
        "            {\"params\": model.bert.parameters(), \"lr\": TrainConfig.BERT_LEARNING_RATE}\n",
        "        )\n",
        "    if hasattr(model, \"lstm\"):\n",
        "        param_groups.append(\n",
        "            {\"params\": model.lstm.parameters(), \"lr\": TrainConfig.LSTM_LEARNING_RATE}\n",
        "        )\n",
        "    if hasattr(model, \"crf\"):\n",
        "        param_groups.append(\n",
        "            {\"params\": model.crf.parameters(), \"lr\": TrainConfig.CRF_LEARNING_RATE}\n",
        "        )\n",
        "    optimizer = optim.Adam(param_groups, weight_decay=TrainConfig.WEIGHT_DECAY)\n",
        "\n",
        "    return optimizer"
      ]
    },
    {
      "cell_type": "markdown",
      "metadata": {},
      "source": [
        "### Baseline Experiment\n",
        "Baseline BERT-BiLSTM-CRF model trained on multilingual NER data"
      ]
    },
    {
      "cell_type": "code",
      "execution_count": 6,
      "metadata": {
        "colab": {
          "base_uri": "https://localhost:8080/"
        },
        "id": "HcqSTNMrXwIg",
        "outputId": "b4514c30-0861-407e-ebd6-e5d029b390a0"
      },
      "outputs": [
        {
          "name": "stderr",
          "output_type": "stream",
          "text": [
            "100%|█████████████████████████████████████████████| 6/6 [04:12<00:00, 42.08s/it]\n"
          ]
        },
        {
          "data": {
            "text/markdown": [
              "| language   |   train_f1 |   val_f1 |   test_f1 |\n",
              "|:-----------|-----------:|---------:|----------:|\n",
              "| mg         |   0.993728 | 0.933673 |  0.960352 |\n",
              "| fo         |   0.974224 | 0.897482 |  0.901099 |\n",
              "| co         |   0.956204 | 0.852308 |  0.81323  |\n",
              "| hsb        |   0.951443 | 0.923387 |  0.854578 |\n",
              "| bh         |   0.981549 | 0.888689 |  0.80212  |\n",
              "| cv         |   0.977741 | 0.892617 |  0.830443 |"
            ],
            "text/plain": [
              "<IPython.core.display.Markdown object>"
            ]
          },
          "metadata": {},
          "output_type": "display_data"
        }
      ],
      "source": [
        "baseline_results = []\n",
        "\n",
        "# Iterate through low-resource languages\n",
        "for lang, lang_data in tqdm(low_resource_datasets.items(), ncols=80):\n",
        "\n",
        "    train_loader, val_loader, test_loader = create_dataloaders(lang_data)\n",
        "\n",
        "    # ------------------------------------------ TRAINING ------------------------------------------ #\n",
        "\n",
        "    model = BertBilstmCrf(BaseConfig.NUM_TAGS).to(BaseConfig.DEVICE)\n",
        "    optimizer = setup_optimizer(model, TrainConfig)\n",
        "    best_model_state, train_f1, val_f1 = train_model(\n",
        "        model, optimizer, train_loader, val_loader, TrainConfig\n",
        "    )\n",
        "\n",
        "    # ------------------------------------------ EVALUATION ------------------------------------------ #\n",
        "    eval_model = BertBilstmCrf(BaseConfig.NUM_TAGS).to(BaseConfig.DEVICE)\n",
        "    eval_model.load_state_dict(best_model_state, TrainConfig)\n",
        "    test_loss, test_f1 = evaluate_epoch(eval_model, test_loader)\n",
        "\n",
        "    # ------------------------------------------ RESULTS ------------------------------------------ #\n",
        "    torch.save(best_model_state, f\"models/{lang}_baseline.pth\")\n",
        "\n",
        "    baseline_results.append(\n",
        "        {\"language\": lang, \"train_f1\": train_f1, \"val_f1\": val_f1, \"test_f1\": test_f1}\n",
        "    )\n",
        "\n",
        "# Save and display results\n",
        "baseline = pd.DataFrame(baseline_results)\n",
        "baseline.to_csv(\"results/3test_baseline.csv\", index=False)\n",
        "\n",
        "markdown_table = baseline.to_markdown(index=False)\n",
        "display(Markdown(markdown_table))"
      ]
    },
    {
      "cell_type": "markdown",
      "metadata": {},
      "source": [
        "### Cross-lingual Transfer Learning\n",
        "A technique where a model trained on one language (usually with more labeled data) is adapted to perform well on another language, leveraging shared linguistic representations."
      ]
    },
    {
      "cell_type": "code",
      "execution_count": 7,
      "metadata": {
        "colab": {
          "base_uri": "https://localhost:8080/"
        },
        "id": "AfVbQr1wudOo",
        "outputId": "666c8b2c-5412-4d0f-b1e2-02a7f6a8c5c3"
      },
      "outputs": [
        {
          "name": "stderr",
          "output_type": "stream",
          "text": [
            "  0%|                                                    | 0/23 [00:00<?, ?it/s]"
          ]
        },
        {
          "name": "stdout",
          "output_type": "stream",
          "text": [
            "Aug: 1  mg Improvement over baseline: 0.00000\n"
          ]
        },
        {
          "name": "stderr",
          "output_type": "stream",
          "text": []
        },
        {
          "name": "stdout",
          "output_type": "stream",
          "text": [
            "Aug: 1  fo Improvement over baseline: -0.34843\n"
          ]
        },
        {
          "name": "stderr",
          "output_type": "stream",
          "text": []
        },
        {
          "name": "stdout",
          "output_type": "stream",
          "text": [
            "Aug: 1  co Improvement over baseline: 3.34928\n"
          ]
        },
        {
          "name": "stderr",
          "output_type": "stream",
          "text": []
        },
        {
          "name": "stdout",
          "output_type": "stream",
          "text": [
            "Aug: 1  hsb Improvement over baseline: -2.94118\n"
          ]
        },
        {
          "name": "stderr",
          "output_type": "stream",
          "text": []
        },
        {
          "name": "stdout",
          "output_type": "stream",
          "text": [
            "Aug: 1  bh Improvement over baseline: 8.59031\n"
          ]
        },
        {
          "name": "stderr",
          "output_type": "stream",
          "text": [
            "  4%|█▊                                       | 1/23 [06:41<2:27:19, 401.80s/it]"
          ]
        },
        {
          "name": "stdout",
          "output_type": "stream",
          "text": [
            "Aug: 1  cv Improvement over baseline: 3.24826\n"
          ]
        },
        {
          "name": "stderr",
          "output_type": "stream",
          "text": [
            "  4%|█▊                                       | 1/23 [07:28<2:44:24, 448.37s/it]\n"
          ]
        },
        {
          "ename": "KeyboardInterrupt",
          "evalue": "",
          "output_type": "error",
          "traceback": [
            "\u001b[1;31m---------------------------------------------------------------------------\u001b[0m",
            "\u001b[1;31mKeyboardInterrupt\u001b[0m                         Traceback (most recent call last)",
            "Cell \u001b[1;32mIn[7], line 29\u001b[0m\n\u001b[0;32m     26\u001b[0m high_resource_model \u001b[38;5;241m=\u001b[39m BertBilstmCrf(BaseConfig\u001b[38;5;241m.\u001b[39mNUM_TAGS)\u001b[38;5;241m.\u001b[39mto(BaseConfig\u001b[38;5;241m.\u001b[39mDEVICE)\n\u001b[0;32m     27\u001b[0m optimizer \u001b[38;5;241m=\u001b[39m setup_optimizer(high_resource_model, TrainConfig)\n\u001b[1;32m---> 29\u001b[0m high_resource_model_state, train_f1, val_f1 \u001b[38;5;241m=\u001b[39m train_model(\n\u001b[0;32m     30\u001b[0m     high_resource_model,\n\u001b[0;32m     31\u001b[0m     optimizer,\n\u001b[0;32m     32\u001b[0m     high_train_loader,\n\u001b[0;32m     33\u001b[0m     high_val_loader,\n\u001b[0;32m     34\u001b[0m     TrainConfig,\n\u001b[0;32m     35\u001b[0m )\n\u001b[0;32m     37\u001b[0m \u001b[38;5;66;03m# ------------------------------------------ FINE-TUNING ------------------------------------------ #\u001b[39;00m\n\u001b[0;32m     39\u001b[0m model \u001b[38;5;241m=\u001b[39m BertBilstmCrf(BaseConfig\u001b[38;5;241m.\u001b[39mNUM_TAGS)\u001b[38;5;241m.\u001b[39mto(BaseConfig\u001b[38;5;241m.\u001b[39mDEVICE)\n",
            "File \u001b[1;32mc:\\Users\\lucas\\Desktop\\research\\MULTI-NER\\training.py:25\u001b[0m, in \u001b[0;36mtrain_model\u001b[1;34m(model, optimizer, train_loader, val_loader, CONFIG)\u001b[0m\n\u001b[0;32m     22\u001b[0m patience_counter \u001b[38;5;241m=\u001b[39m CONFIG\u001b[38;5;241m.\u001b[39mPATIENCE\n\u001b[0;32m     24\u001b[0m \u001b[38;5;28;01mfor\u001b[39;00m _ \u001b[38;5;129;01min\u001b[39;00m \u001b[38;5;28mrange\u001b[39m(CONFIG\u001b[38;5;241m.\u001b[39mEPOCHS):\n\u001b[1;32m---> 25\u001b[0m     _, train_f1 \u001b[38;5;241m=\u001b[39m train_epoch(model, train_loader, optimizer)\n\u001b[0;32m     26\u001b[0m     val_loss, val_f1 \u001b[38;5;241m=\u001b[39m evaluate_epoch(model, val_loader)\n\u001b[0;32m     28\u001b[0m     scheduler\u001b[38;5;241m.\u001b[39mstep(val_loss)\n",
            "File \u001b[1;32mc:\\Users\\lucas\\Desktop\\research\\MULTI-NER\\training.py:62\u001b[0m, in \u001b[0;36mtrain_epoch\u001b[1;34m(model, dataloader, optimizer)\u001b[0m\n\u001b[0;32m     60\u001b[0m optimizer\u001b[38;5;241m.\u001b[39mzero_grad()\n\u001b[0;32m     61\u001b[0m emissions, loss \u001b[38;5;241m=\u001b[39m model(\u001b[38;5;241m*\u001b[39m\u001b[38;5;241m*\u001b[39mbatch)\n\u001b[1;32m---> 62\u001b[0m loss\u001b[38;5;241m.\u001b[39mbackward()\n\u001b[0;32m     63\u001b[0m optimizer\u001b[38;5;241m.\u001b[39mstep()\n\u001b[0;32m     64\u001b[0m total_loss \u001b[38;5;241m+\u001b[39m\u001b[38;5;241m=\u001b[39m loss\u001b[38;5;241m.\u001b[39mitem()\n",
            "File \u001b[1;32mc:\\Users\\lucas\\miniconda3\\envs\\multi-ner\\Lib\\site-packages\\torch\\_tensor.py:626\u001b[0m, in \u001b[0;36mTensor.backward\u001b[1;34m(self, gradient, retain_graph, create_graph, inputs)\u001b[0m\n\u001b[0;32m    616\u001b[0m \u001b[38;5;28;01mif\u001b[39;00m has_torch_function_unary(\u001b[38;5;28mself\u001b[39m):\n\u001b[0;32m    617\u001b[0m     \u001b[38;5;28;01mreturn\u001b[39;00m handle_torch_function(\n\u001b[0;32m    618\u001b[0m         Tensor\u001b[38;5;241m.\u001b[39mbackward,\n\u001b[0;32m    619\u001b[0m         (\u001b[38;5;28mself\u001b[39m,),\n\u001b[1;32m   (...)\u001b[0m\n\u001b[0;32m    624\u001b[0m         inputs\u001b[38;5;241m=\u001b[39minputs,\n\u001b[0;32m    625\u001b[0m     )\n\u001b[1;32m--> 626\u001b[0m torch\u001b[38;5;241m.\u001b[39mautograd\u001b[38;5;241m.\u001b[39mbackward(\n\u001b[0;32m    627\u001b[0m     \u001b[38;5;28mself\u001b[39m, gradient, retain_graph, create_graph, inputs\u001b[38;5;241m=\u001b[39minputs\n\u001b[0;32m    628\u001b[0m )\n",
            "File \u001b[1;32mc:\\Users\\lucas\\miniconda3\\envs\\multi-ner\\Lib\\site-packages\\torch\\autograd\\__init__.py:347\u001b[0m, in \u001b[0;36mbackward\u001b[1;34m(tensors, grad_tensors, retain_graph, create_graph, grad_variables, inputs)\u001b[0m\n\u001b[0;32m    342\u001b[0m     retain_graph \u001b[38;5;241m=\u001b[39m create_graph\n\u001b[0;32m    344\u001b[0m \u001b[38;5;66;03m# The reason we repeat the same comment below is that\u001b[39;00m\n\u001b[0;32m    345\u001b[0m \u001b[38;5;66;03m# some Python versions print out the first line of a multi-line function\u001b[39;00m\n\u001b[0;32m    346\u001b[0m \u001b[38;5;66;03m# calls in the traceback and some print out the last line\u001b[39;00m\n\u001b[1;32m--> 347\u001b[0m _engine_run_backward(\n\u001b[0;32m    348\u001b[0m     tensors,\n\u001b[0;32m    349\u001b[0m     grad_tensors_,\n\u001b[0;32m    350\u001b[0m     retain_graph,\n\u001b[0;32m    351\u001b[0m     create_graph,\n\u001b[0;32m    352\u001b[0m     inputs,\n\u001b[0;32m    353\u001b[0m     allow_unreachable\u001b[38;5;241m=\u001b[39m\u001b[38;5;28;01mTrue\u001b[39;00m,\n\u001b[0;32m    354\u001b[0m     accumulate_grad\u001b[38;5;241m=\u001b[39m\u001b[38;5;28;01mTrue\u001b[39;00m,\n\u001b[0;32m    355\u001b[0m )\n",
            "File \u001b[1;32mc:\\Users\\lucas\\miniconda3\\envs\\multi-ner\\Lib\\site-packages\\torch\\autograd\\graph.py:823\u001b[0m, in \u001b[0;36m_engine_run_backward\u001b[1;34m(t_outputs, *args, **kwargs)\u001b[0m\n\u001b[0;32m    821\u001b[0m     unregister_hooks \u001b[38;5;241m=\u001b[39m _register_logging_hooks_on_whole_graph(t_outputs)\n\u001b[0;32m    822\u001b[0m \u001b[38;5;28;01mtry\u001b[39;00m:\n\u001b[1;32m--> 823\u001b[0m     \u001b[38;5;28;01mreturn\u001b[39;00m Variable\u001b[38;5;241m.\u001b[39m_execution_engine\u001b[38;5;241m.\u001b[39mrun_backward(  \u001b[38;5;66;03m# Calls into the C++ engine to run the backward pass\u001b[39;00m\n\u001b[0;32m    824\u001b[0m         t_outputs, \u001b[38;5;241m*\u001b[39margs, \u001b[38;5;241m*\u001b[39m\u001b[38;5;241m*\u001b[39mkwargs\n\u001b[0;32m    825\u001b[0m     )  \u001b[38;5;66;03m# Calls into the C++ engine to run the backward pass\u001b[39;00m\n\u001b[0;32m    826\u001b[0m \u001b[38;5;28;01mfinally\u001b[39;00m:\n\u001b[0;32m    827\u001b[0m     \u001b[38;5;28;01mif\u001b[39;00m attach_logging_hooks:\n",
            "\u001b[1;31mKeyboardInterrupt\u001b[0m: "
          ]
        }
      ],
      "source": [
        "transfer_results = []\n",
        "\n",
        "for augmentation_factor in tqdm(range(1, 24), ncols=80):\n",
        "\n",
        "    high_resource_datasets = load_wikiann_datasets(\n",
        "        BaseConfig.high_resource_langs, augmentation_factor * 240\n",
        "    )\n",
        "\n",
        "    # Iterate through low-resource and adjacent high-resource languages\n",
        "    for (low_resource_lang, low_resource_data), (\n",
        "        high_resource_lang,\n",
        "        high_resource_data,\n",
        "    ) in tqdm(\n",
        "        zip(low_resource_datasets.items(), high_resource_datasets.items()),\n",
        "        ncols=80,\n",
        "        leave=False,\n",
        "    ):\n",
        "\n",
        "        high_train_loader, high_val_loader, _ = create_dataloaders(high_resource_data)\n",
        "        low_train_loader, low_val_loader, low_test_loader = create_dataloaders(\n",
        "            low_resource_data\n",
        "        )\n",
        "\n",
        "        # ------------------------------------------ PRE-TRAINING ------------------------------------------ #\n",
        "\n",
        "        high_resource_model = BertBilstmCrf(BaseConfig.NUM_TAGS).to(BaseConfig.DEVICE)\n",
        "        optimizer = setup_optimizer(high_resource_model, TrainConfig)\n",
        "\n",
        "        high_resource_model_state, train_f1, val_f1 = train_model(\n",
        "            high_resource_model,\n",
        "            optimizer,\n",
        "            high_train_loader,\n",
        "            high_val_loader,\n",
        "            TrainConfig,\n",
        "        )\n",
        "\n",
        "        # ------------------------------------------ FINE-TUNING ------------------------------------------ #\n",
        "\n",
        "        model = BertBilstmCrf(BaseConfig.NUM_TAGS).to(BaseConfig.DEVICE)\n",
        "        model.load_state_dict(high_resource_model_state)\n",
        "        optimizer = setup_optimizer(model, FineTuneConfig)\n",
        "\n",
        "        best_model_state, train_f1, val_f1 = train_model(\n",
        "            model, optimizer, low_train_loader, low_val_loader, FineTuneConfig\n",
        "        )\n",
        "\n",
        "        # ------------------------------------------ EVALUATION ------------------------------------------ #\n",
        "\n",
        "        eval_model = BertBilstmCrf(BaseConfig.NUM_TAGS).to(BaseConfig.DEVICE)\n",
        "        eval_model.load_state_dict(best_model_state)\n",
        "        test_loss, test_f1 = evaluate_epoch(eval_model, low_test_loader)\n",
        "\n",
        "        # ------------------------------------------ RESULTS ------------------------------------------ #\n",
        "        torch.save(\n",
        "            best_model_state,\n",
        "            f\"models/{low_resource_lang}_{high_resource_lang}_transfer.pth\",\n",
        "        )\n",
        "\n",
        "        baseline_performance = baseline.loc[\n",
        "            baseline[\"language\"] == low_resource_lang, \"test_f1\"\n",
        "        ].item()\n",
        "        improvement = (test_f1 - baseline_performance) / baseline_performance * 100\n",
        "\n",
        "        transfer_results.append(\n",
        "            {\n",
        "                \"high_resource_language\": high_resource_lang,\n",
        "                \"low_resource_lang\": low_resource_lang,\n",
        "                \"augmentation_factor\": augmentation_factor,\n",
        "                \"train_f1\": train_f1,\n",
        "                \"val_f1\": val_f1,\n",
        "                \"test_f1\": test_f1,\n",
        "                \"improvement\": improvement,\n",
        "            }\n",
        "        )\n",
        "\n",
        "        print(\n",
        "            f\"Aug: {augmentation_factor}  {low_resource_lang} Improvement over baseline: {improvement:.5f}\"\n",
        "        )\n",
        "\n",
        "transfer_data = pd.DataFrame(transfer_results)\n",
        "transfer_data.to_csv(\"results/test_transfer_learning.csv\", index=False)"
      ]
    },
    {
      "cell_type": "markdown",
      "metadata": {},
      "source": [
        "### Iterative Pseudo Labeling\n",
        "A semi-supervised learning approach where a model generates predictions on unlabeled data, selects confident predictions as pseudo-labels, and retrains iteratively to improve performance."
      ]
    },
    {
      "cell_type": "code",
      "execution_count": 7,
      "metadata": {},
      "outputs": [
        {
          "name": "stderr",
          "output_type": "stream",
          "text": [
            "0it [00:00, ?it/s]"
          ]
        },
        {
          "name": "stdout",
          "output_type": "stream",
          "text": [
            "Added 453 rows of data\n",
            "Added 0 rows of data\n",
            "Added 0 rows of data\n",
            "Added 0 rows of data\n"
          ]
        },
        {
          "name": "stderr",
          "output_type": "stream",
          "text": [
            "1it [06:04, 364.75s/it]"
          ]
        },
        {
          "name": "stdout",
          "output_type": "stream",
          "text": [
            "Language: mg    Improvement over baseline: 0.22936\n",
            "Added 691 rows of data\n",
            "Added 0 rows of data\n",
            "Added 0 rows of data\n",
            "Added 0 rows of data\n"
          ]
        },
        {
          "name": "stderr",
          "output_type": "stream",
          "text": [
            "2it [12:36, 380.54s/it]"
          ]
        },
        {
          "name": "stdout",
          "output_type": "stream",
          "text": [
            "Language: fo    Improvement over baseline: 1.21951\n",
            "Added 25 rows of data\n",
            "Added 0 rows of data\n",
            "Added 0 rows of data\n",
            "Added 0 rows of data\n",
            "Added 0 rows of data\n",
            "Added 0 rows of data\n",
            "Added 0 rows of data\n"
          ]
        },
        {
          "name": "stderr",
          "output_type": "stream",
          "text": [
            "3it [19:53, 406.51s/it]"
          ]
        },
        {
          "name": "stdout",
          "output_type": "stream",
          "text": [
            "Language: co    Improvement over baseline: 0.95694\n",
            "Added 71 rows of data\n",
            "Added 0 rows of data\n"
          ]
        },
        {
          "name": "stderr",
          "output_type": "stream",
          "text": [
            "4it [25:03, 368.30s/it]"
          ]
        },
        {
          "name": "stdout",
          "output_type": "stream",
          "text": [
            "Language: hsb    Improvement over baseline: -1.47059\n",
            "Added 243 rows of data\n",
            "Added 0 rows of data\n",
            "Added 0 rows of data\n"
          ]
        },
        {
          "name": "stderr",
          "output_type": "stream",
          "text": [
            "5it [29:15, 326.27s/it]"
          ]
        },
        {
          "name": "stdout",
          "output_type": "stream",
          "text": [
            "Language: bh    Improvement over baseline: 3.08370\n"
          ]
        },
        {
          "name": "stderr",
          "output_type": "stream",
          "text": [
            "6it [32:12, 322.14s/it]\n"
          ]
        },
        {
          "name": "stdout",
          "output_type": "stream",
          "text": [
            "Language: cv    Improvement over baseline: 1.39211\n"
          ]
        },
        {
          "name": "stderr",
          "output_type": "stream",
          "text": [
            "0it [00:00, ?it/s]"
          ]
        },
        {
          "name": "stdout",
          "output_type": "stream",
          "text": [
            "Added 422 rows of data\n",
            "Added 0 rows of data\n",
            "Added 0 rows of data\n"
          ]
        },
        {
          "name": "stderr",
          "output_type": "stream",
          "text": [
            "1it [05:27, 327.23s/it]"
          ]
        },
        {
          "name": "stdout",
          "output_type": "stream",
          "text": [
            "Language: mg    Improvement over baseline: -0.22936\n"
          ]
        },
        {
          "name": "stderr",
          "output_type": "stream",
          "text": [
            "2it [09:13, 268.02s/it]"
          ]
        },
        {
          "name": "stdout",
          "output_type": "stream",
          "text": [
            "Language: fo    Improvement over baseline: -0.87108\n",
            "Added 38 rows of data\n",
            "Added 0 rows of data\n",
            "Added 0 rows of data\n",
            "Added 0 rows of data\n",
            "Added 0 rows of data\n",
            "Added 0 rows of data\n",
            "Added 0 rows of data\n",
            "Added 0 rows of data\n",
            "Added 0 rows of data\n",
            "Added 0 rows of data\n"
          ]
        },
        {
          "name": "stderr",
          "output_type": "stream",
          "text": [
            "3it [17:54, 383.50s/it]"
          ]
        },
        {
          "name": "stdout",
          "output_type": "stream",
          "text": [
            "Language: co    Improvement over baseline: 3.34928\n",
            "Added 44 rows of data\n",
            "Added 0 rows of data\n",
            "Added 0 rows of data\n",
            "Added 0 rows of data\n",
            "Added 0 rows of data\n",
            "Added 0 rows of data\n",
            "Added 0 rows of data\n",
            "Added 0 rows of data\n",
            "Added 0 rows of data\n",
            "Added 0 rows of data\n",
            "Added 0 rows of data\n",
            "Added 0 rows of data\n"
          ]
        },
        {
          "name": "stderr",
          "output_type": "stream",
          "text": [
            "4it [27:52, 467.96s/it]"
          ]
        },
        {
          "name": "stdout",
          "output_type": "stream",
          "text": [
            "Language: hsb    Improvement over baseline: -1.89076\n"
          ]
        },
        {
          "name": "stderr",
          "output_type": "stream",
          "text": [
            "5it [30:58, 366.39s/it]"
          ]
        },
        {
          "name": "stdout",
          "output_type": "stream",
          "text": [
            "Language: bh    Improvement over baseline: 3.74449\n"
          ]
        },
        {
          "name": "stderr",
          "output_type": "stream",
          "text": [
            "6it [35:17, 352.89s/it]\n"
          ]
        },
        {
          "name": "stdout",
          "output_type": "stream",
          "text": [
            "Language: cv    Improvement over baseline: 2.32019\n"
          ]
        },
        {
          "name": "stderr",
          "output_type": "stream",
          "text": [
            "0it [00:00, ?it/s]"
          ]
        },
        {
          "name": "stdout",
          "output_type": "stream",
          "text": [
            "Added 294 rows of data\n",
            "Added 0 rows of data\n",
            "Added 0 rows of data\n"
          ]
        },
        {
          "name": "stderr",
          "output_type": "stream",
          "text": [
            "1it [05:21, 321.61s/it]"
          ]
        },
        {
          "name": "stdout",
          "output_type": "stream",
          "text": [
            "Language: mg    Improvement over baseline: 0.22936\n"
          ]
        },
        {
          "name": "stderr",
          "output_type": "stream",
          "text": [
            "2it [09:11, 267.93s/it]"
          ]
        },
        {
          "name": "stdout",
          "output_type": "stream",
          "text": [
            "Language: fo    Improvement over baseline: -3.13589\n"
          ]
        },
        {
          "name": "stderr",
          "output_type": "stream",
          "text": [
            "3it [13:22, 260.02s/it]"
          ]
        },
        {
          "name": "stdout",
          "output_type": "stream",
          "text": [
            "Language: co    Improvement over baseline: 4.30622\n",
            "Added 116 rows of data\n"
          ]
        },
        {
          "name": "stderr",
          "output_type": "stream",
          "text": [
            "4it [18:12, 271.87s/it]"
          ]
        },
        {
          "name": "stdout",
          "output_type": "stream",
          "text": [
            "Language: hsb    Improvement over baseline: 1.47059\n"
          ]
        },
        {
          "name": "stderr",
          "output_type": "stream",
          "text": [
            "5it [20:19, 219.50s/it]"
          ]
        },
        {
          "name": "stdout",
          "output_type": "stream",
          "text": [
            "Language: bh    Improvement over baseline: 5.72687\n",
            "Added 177 rows of data\n",
            "Added 0 rows of data\n"
          ]
        },
        {
          "name": "stderr",
          "output_type": "stream",
          "text": [
            "6it [25:32, 255.36s/it]\n"
          ]
        },
        {
          "name": "stdout",
          "output_type": "stream",
          "text": [
            "Language: cv    Improvement over baseline: 3.01624\n"
          ]
        },
        {
          "name": "stderr",
          "output_type": "stream",
          "text": [
            "0it [00:00, ?it/s]"
          ]
        },
        {
          "name": "stdout",
          "output_type": "stream",
          "text": [
            "Added 425 rows of data\n",
            "Added 0 rows of data\n",
            "Added 0 rows of data\n",
            "Added 0 rows of data\n",
            "Added 0 rows of data\n"
          ]
        },
        {
          "name": "stderr",
          "output_type": "stream",
          "text": [
            "1it [06:24, 384.71s/it]"
          ]
        },
        {
          "name": "stdout",
          "output_type": "stream",
          "text": [
            "Language: mg    Improvement over baseline: 0.45872\n"
          ]
        },
        {
          "name": "stderr",
          "output_type": "stream",
          "text": [
            "2it [08:49, 243.52s/it]"
          ]
        },
        {
          "name": "stdout",
          "output_type": "stream",
          "text": [
            "Language: fo    Improvement over baseline: -1.04530\n",
            "Added 28 rows of data\n",
            "Added 1 rows of data\n"
          ]
        },
        {
          "name": "stderr",
          "output_type": "stream",
          "text": [
            "3it [13:57, 272.92s/it]"
          ]
        },
        {
          "name": "stdout",
          "output_type": "stream",
          "text": [
            "Language: co    Improvement over baseline: 10.52632\n",
            "Added 20 rows of data\n",
            "Added 0 rows of data\n",
            "Added 0 rows of data\n",
            "Added 0 rows of data\n",
            "Added 0 rows of data\n"
          ]
        },
        {
          "name": "stderr",
          "output_type": "stream",
          "text": [
            "4it [20:44, 326.08s/it]"
          ]
        },
        {
          "name": "stdout",
          "output_type": "stream",
          "text": [
            "Language: hsb    Improvement over baseline: 0.00000\n",
            "Added 228 rows of data\n",
            "Added 0 rows of data\n"
          ]
        },
        {
          "name": "stderr",
          "output_type": "stream",
          "text": [
            "5it [24:36, 291.96s/it]"
          ]
        },
        {
          "name": "stdout",
          "output_type": "stream",
          "text": [
            "Language: bh    Improvement over baseline: 2.64317\n",
            "Added 187 rows of data\n",
            "Added 0 rows of data\n",
            "Added 0 rows of data\n",
            "Added 0 rows of data\n"
          ]
        },
        {
          "name": "stderr",
          "output_type": "stream",
          "text": [
            "6it [30:53, 308.87s/it]\n"
          ]
        },
        {
          "name": "stdout",
          "output_type": "stream",
          "text": [
            "Language: cv    Improvement over baseline: 2.32019\n"
          ]
        },
        {
          "name": "stderr",
          "output_type": "stream",
          "text": [
            "1it [03:57, 237.64s/it]"
          ]
        },
        {
          "name": "stdout",
          "output_type": "stream",
          "text": [
            "Language: mg    Improvement over baseline: 0.45872\n"
          ]
        },
        {
          "name": "stderr",
          "output_type": "stream",
          "text": [
            "2it [06:51, 200.02s/it]"
          ]
        },
        {
          "name": "stdout",
          "output_type": "stream",
          "text": [
            "Language: fo    Improvement over baseline: 1.56794\n",
            "Added 29 rows of data\n",
            "Added 0 rows of data\n",
            "Added 0 rows of data\n",
            "Added 0 rows of data\n",
            "Added 0 rows of data\n"
          ]
        },
        {
          "name": "stderr",
          "output_type": "stream",
          "text": [
            "3it [13:26, 289.15s/it]"
          ]
        },
        {
          "name": "stdout",
          "output_type": "stream",
          "text": [
            "Language: co    Improvement over baseline: 11.96172\n",
            "Added 21 rows of data\n",
            "Added 0 rows of data\n",
            "Added 0 rows of data\n"
          ]
        },
        {
          "name": "stderr",
          "output_type": "stream",
          "text": [
            "4it [19:15, 312.68s/it]"
          ]
        },
        {
          "name": "stdout",
          "output_type": "stream",
          "text": [
            "Language: hsb    Improvement over baseline: 0.00000\n",
            "Added 219 rows of data\n",
            "Added 0 rows of data\n"
          ]
        },
        {
          "name": "stderr",
          "output_type": "stream",
          "text": [
            "5it [23:08, 283.90s/it]"
          ]
        },
        {
          "name": "stdout",
          "output_type": "stream",
          "text": [
            "Language: bh    Improvement over baseline: 4.18502\n"
          ]
        },
        {
          "name": "stderr",
          "output_type": "stream",
          "text": [
            "6it [26:28, 264.71s/it]\n"
          ]
        },
        {
          "name": "stdout",
          "output_type": "stream",
          "text": [
            "Language: cv    Improvement over baseline: 5.80046\n"
          ]
        },
        {
          "name": "stderr",
          "output_type": "stream",
          "text": [
            "0it [00:00, ?it/s]"
          ]
        },
        {
          "name": "stdout",
          "output_type": "stream",
          "text": [
            "Added 164 rows of data\n",
            "Added 0 rows of data\n"
          ]
        },
        {
          "name": "stderr",
          "output_type": "stream",
          "text": [
            "1it [04:56, 296.72s/it]"
          ]
        },
        {
          "name": "stdout",
          "output_type": "stream",
          "text": [
            "Language: mg    Improvement over baseline: 0.00000\n"
          ]
        },
        {
          "name": "stderr",
          "output_type": "stream",
          "text": [
            "2it [07:51, 225.12s/it]"
          ]
        },
        {
          "name": "stdout",
          "output_type": "stream",
          "text": [
            "Language: fo    Improvement over baseline: 1.04530\n"
          ]
        },
        {
          "name": "stderr",
          "output_type": "stream",
          "text": [
            "3it [11:35, 224.34s/it]"
          ]
        },
        {
          "name": "stdout",
          "output_type": "stream",
          "text": [
            "Language: co    Improvement over baseline: -0.47847\n",
            "Added 123 rows of data\n",
            "Added 0 rows of data\n",
            "Added 0 rows of data\n",
            "Added 0 rows of data\n"
          ]
        },
        {
          "name": "stderr",
          "output_type": "stream",
          "text": [
            "4it [17:54, 285.68s/it]"
          ]
        },
        {
          "name": "stdout",
          "output_type": "stream",
          "text": [
            "Language: hsb    Improvement over baseline: -0.42017\n",
            "Added 233 rows of data\n",
            "Added 0 rows of data\n",
            "Added 0 rows of data\n",
            "Added 0 rows of data\n"
          ]
        },
        {
          "name": "stderr",
          "output_type": "stream",
          "text": [
            "5it [22:28, 281.42s/it]"
          ]
        },
        {
          "name": "stdout",
          "output_type": "stream",
          "text": [
            "Language: bh    Improvement over baseline: 4.84581\n",
            "Added 208 rows of data\n"
          ]
        },
        {
          "name": "stderr",
          "output_type": "stream",
          "text": [
            "6it [27:18, 273.06s/it]\n"
          ]
        },
        {
          "name": "stdout",
          "output_type": "stream",
          "text": [
            "Language: cv    Improvement over baseline: 2.08817\n"
          ]
        },
        {
          "name": "stderr",
          "output_type": "stream",
          "text": [
            "1it [04:00, 240.84s/it]"
          ]
        },
        {
          "name": "stdout",
          "output_type": "stream",
          "text": [
            "Language: mg    Improvement over baseline: -0.45872\n"
          ]
        },
        {
          "name": "stderr",
          "output_type": "stream",
          "text": [
            "2it [08:17, 250.09s/it]"
          ]
        },
        {
          "name": "stdout",
          "output_type": "stream",
          "text": [
            "Language: fo    Improvement over baseline: -0.87108\n"
          ]
        },
        {
          "name": "stderr",
          "output_type": "stream",
          "text": [
            "3it [12:00, 237.63s/it]"
          ]
        },
        {
          "name": "stdout",
          "output_type": "stream",
          "text": [
            "Language: co    Improvement over baseline: 7.17703\n",
            "Added 6 rows of data\n",
            "Added 16 rows of data\n",
            "Added 0 rows of data\n"
          ]
        },
        {
          "name": "stderr",
          "output_type": "stream",
          "text": [
            "4it [17:46, 280.33s/it]"
          ]
        },
        {
          "name": "stdout",
          "output_type": "stream",
          "text": [
            "Language: hsb    Improvement over baseline: -0.21008\n"
          ]
        },
        {
          "name": "stderr",
          "output_type": "stream",
          "text": [
            "5it [20:36, 240.64s/it]"
          ]
        },
        {
          "name": "stdout",
          "output_type": "stream",
          "text": [
            "Language: bh    Improvement over baseline: 5.72687\n"
          ]
        },
        {
          "name": "stderr",
          "output_type": "stream",
          "text": [
            "6it [24:52, 248.78s/it]\n"
          ]
        },
        {
          "name": "stdout",
          "output_type": "stream",
          "text": [
            "Language: cv    Improvement over baseline: 5.33643\n"
          ]
        },
        {
          "name": "stderr",
          "output_type": "stream",
          "text": [
            "0it [00:00, ?it/s]"
          ]
        },
        {
          "name": "stdout",
          "output_type": "stream",
          "text": [
            "Added 367 rows of data\n",
            "Added 0 rows of data\n",
            "Added 0 rows of data\n",
            "Added 0 rows of data\n"
          ]
        },
        {
          "name": "stderr",
          "output_type": "stream",
          "text": [
            "1it [06:00, 360.51s/it]"
          ]
        },
        {
          "name": "stdout",
          "output_type": "stream",
          "text": [
            "Language: mg    Improvement over baseline: 0.00000\n",
            "Added 527 rows of data\n",
            "Added 0 rows of data\n"
          ]
        },
        {
          "name": "stderr",
          "output_type": "stream",
          "text": [
            "2it [11:25, 339.58s/it]"
          ]
        },
        {
          "name": "stdout",
          "output_type": "stream",
          "text": [
            "Language: fo    Improvement over baseline: 0.52265\n",
            "Added 18 rows of data\n",
            "Added 0 rows of data\n",
            "Added 0 rows of data\n"
          ]
        },
        {
          "name": "stderr",
          "output_type": "stream",
          "text": [
            "3it [17:01, 337.96s/it]"
          ]
        },
        {
          "name": "stdout",
          "output_type": "stream",
          "text": [
            "Language: co    Improvement over baseline: 5.74163\n",
            "Added 23 rows of data\n",
            "Added 0 rows of data\n",
            "Added 0 rows of data\n",
            "Added 0 rows of data\n"
          ]
        },
        {
          "name": "stderr",
          "output_type": "stream",
          "text": [
            "4it [23:20, 354.34s/it]"
          ]
        },
        {
          "name": "stdout",
          "output_type": "stream",
          "text": [
            "Language: hsb    Improvement over baseline: -0.42017\n"
          ]
        },
        {
          "name": "stderr",
          "output_type": "stream",
          "text": [
            "5it [25:29, 272.76s/it]"
          ]
        },
        {
          "name": "stdout",
          "output_type": "stream",
          "text": [
            "Language: bh    Improvement over baseline: 4.84581\n",
            "Added 128 rows of data\n",
            "Added 0 rows of data\n",
            "Added 0 rows of data\n",
            "Added 0 rows of data\n"
          ]
        },
        {
          "name": "stderr",
          "output_type": "stream",
          "text": [
            "6it [31:44, 317.43s/it]\n"
          ]
        },
        {
          "name": "stdout",
          "output_type": "stream",
          "text": [
            "Language: cv    Improvement over baseline: 4.17633\n"
          ]
        },
        {
          "name": "stderr",
          "output_type": "stream",
          "text": [
            "1it [02:42, 162.75s/it]"
          ]
        },
        {
          "name": "stdout",
          "output_type": "stream",
          "text": [
            "Language: mg    Improvement over baseline: 1.14679\n",
            "Added 528 rows of data\n",
            "Added 0 rows of data\n",
            "Added 0 rows of data\n",
            "Added 0 rows of data\n"
          ]
        },
        {
          "name": "stderr",
          "output_type": "stream",
          "text": [
            "2it [09:16, 298.74s/it]"
          ]
        },
        {
          "name": "stdout",
          "output_type": "stream",
          "text": [
            "Language: fo    Improvement over baseline: -1.04530\n"
          ]
        },
        {
          "name": "stderr",
          "output_type": "stream",
          "text": [
            "3it [11:38, 227.16s/it]"
          ]
        },
        {
          "name": "stdout",
          "output_type": "stream",
          "text": [
            "Language: co    Improvement over baseline: 4.78469\n",
            "Added 31 rows of data\n",
            "Added 0 rows of data\n",
            "Added 0 rows of data\n",
            "Added 0 rows of data\n",
            "Added 0 rows of data\n"
          ]
        },
        {
          "name": "stderr",
          "output_type": "stream",
          "text": [
            "4it [18:26, 298.68s/it]"
          ]
        },
        {
          "name": "stdout",
          "output_type": "stream",
          "text": [
            "Language: hsb    Improvement over baseline: 1.26050\n"
          ]
        },
        {
          "name": "stderr",
          "output_type": "stream",
          "text": [
            "5it [20:13, 229.24s/it]"
          ]
        },
        {
          "name": "stdout",
          "output_type": "stream",
          "text": [
            "Language: bh    Improvement over baseline: -0.44053\n",
            "Added 219 rows of data\n"
          ]
        },
        {
          "name": "stderr",
          "output_type": "stream",
          "text": [
            "6it [25:02, 250.47s/it]\n"
          ]
        },
        {
          "name": "stdout",
          "output_type": "stream",
          "text": [
            "Language: cv    Improvement over baseline: 3.94432\n"
          ]
        },
        {
          "name": "stderr",
          "output_type": "stream",
          "text": [
            "1it [03:35, 215.21s/it]"
          ]
        },
        {
          "name": "stdout",
          "output_type": "stream",
          "text": [
            "Language: mg    Improvement over baseline: 0.00000\n",
            "Added 657 rows of data\n",
            "Added 0 rows of data\n"
          ]
        },
        {
          "name": "stderr",
          "output_type": "stream",
          "text": [
            "2it [09:03, 281.82s/it]"
          ]
        },
        {
          "name": "stdout",
          "output_type": "stream",
          "text": [
            "Language: fo    Improvement over baseline: 1.39373\n",
            "Added 10 rows of data\n"
          ]
        },
        {
          "name": "stderr",
          "output_type": "stream",
          "text": [
            "3it [13:42, 280.44s/it]"
          ]
        },
        {
          "name": "stdout",
          "output_type": "stream",
          "text": [
            "Language: co    Improvement over baseline: 9.09091\n",
            "Added 8 rows of data\n",
            "Added 37 rows of data\n",
            "Added 0 rows of data\n",
            "Added 0 rows of data\n",
            "Added 0 rows of data\n",
            "Added 0 rows of data\n"
          ]
        },
        {
          "name": "stderr",
          "output_type": "stream",
          "text": [
            "4it [20:52, 339.40s/it]"
          ]
        },
        {
          "name": "stdout",
          "output_type": "stream",
          "text": [
            "Language: hsb    Improvement over baseline: 2.94118\n",
            "Added 234 rows of data\n",
            "Added 0 rows of data\n",
            "Added 0 rows of data\n",
            "Added 0 rows of data\n",
            "Added 0 rows of data\n"
          ]
        },
        {
          "name": "stderr",
          "output_type": "stream",
          "text": [
            "5it [25:52, 325.13s/it]"
          ]
        },
        {
          "name": "stdout",
          "output_type": "stream",
          "text": [
            "Language: bh    Improvement over baseline: 6.82819\n"
          ]
        },
        {
          "name": "stderr",
          "output_type": "stream",
          "text": [
            "6it [30:15, 302.52s/it]\n"
          ]
        },
        {
          "name": "stdout",
          "output_type": "stream",
          "text": [
            "Language: cv    Improvement over baseline: 2.08817\n"
          ]
        },
        {
          "name": "stderr",
          "output_type": "stream",
          "text": [
            "0it [00:00, ?it/s]"
          ]
        },
        {
          "name": "stdout",
          "output_type": "stream",
          "text": [
            "Added 434 rows of data\n",
            "Added 0 rows of data\n",
            "Added 0 rows of data\n",
            "Added 0 rows of data\n"
          ]
        },
        {
          "name": "stderr",
          "output_type": "stream",
          "text": [
            "1it [06:03, 363.83s/it]"
          ]
        },
        {
          "name": "stdout",
          "output_type": "stream",
          "text": [
            "Language: mg    Improvement over baseline: 0.45872\n"
          ]
        },
        {
          "name": "stderr",
          "output_type": "stream",
          "text": [
            "2it [08:58, 252.70s/it]"
          ]
        },
        {
          "name": "stdout",
          "output_type": "stream",
          "text": [
            "Language: fo    Improvement over baseline: -1.04530\n",
            "Added 15 rows of data\n",
            "Added 16 rows of data\n",
            "Added 0 rows of data\n"
          ]
        },
        {
          "name": "stderr",
          "output_type": "stream",
          "text": [
            "3it [14:35, 291.04s/it]"
          ]
        },
        {
          "name": "stdout",
          "output_type": "stream",
          "text": [
            "Language: co    Improvement over baseline: 6.22010\n",
            "Added 23 rows of data\n",
            "Added 0 rows of data\n",
            "Added 0 rows of data\n",
            "Added 0 rows of data\n",
            "Added 0 rows of data\n",
            "Added 0 rows of data\n",
            "Added 2 rows of data\n",
            "Added 0 rows of data\n"
          ]
        },
        {
          "name": "stderr",
          "output_type": "stream",
          "text": [
            "4it [22:46, 369.87s/it]"
          ]
        },
        {
          "name": "stdout",
          "output_type": "stream",
          "text": [
            "Language: hsb    Improvement over baseline: 1.26050\n"
          ]
        },
        {
          "name": "stderr",
          "output_type": "stream",
          "text": [
            "5it [24:54, 282.87s/it]"
          ]
        },
        {
          "name": "stdout",
          "output_type": "stream",
          "text": [
            "Language: bh    Improvement over baseline: 0.00000\n"
          ]
        },
        {
          "name": "stderr",
          "output_type": "stream",
          "text": [
            "6it [28:46, 287.83s/it]\n"
          ]
        },
        {
          "name": "stdout",
          "output_type": "stream",
          "text": [
            "Language: cv    Improvement over baseline: 2.08817\n"
          ]
        },
        {
          "name": "stderr",
          "output_type": "stream",
          "text": [
            "0it [00:00, ?it/s]"
          ]
        },
        {
          "name": "stdout",
          "output_type": "stream",
          "text": [
            "Added 269 rows of data\n",
            "Added 0 rows of data\n",
            "Added 0 rows of data\n"
          ]
        },
        {
          "name": "stderr",
          "output_type": "stream",
          "text": [
            "1it [05:21, 321.13s/it]"
          ]
        },
        {
          "name": "stdout",
          "output_type": "stream",
          "text": [
            "Language: mg    Improvement over baseline: 0.45872\n",
            "Added 492 rows of data\n",
            "Added 0 rows of data\n",
            "Added 0 rows of data\n",
            "Added 0 rows of data\n",
            "Added 0 rows of data\n"
          ]
        },
        {
          "name": "stderr",
          "output_type": "stream",
          "text": [
            "2it [12:18, 378.00s/it]"
          ]
        },
        {
          "name": "stdout",
          "output_type": "stream",
          "text": [
            "Language: fo    Improvement over baseline: 0.34843\n"
          ]
        },
        {
          "name": "stderr",
          "output_type": "stream",
          "text": [
            "3it [15:10, 283.94s/it]"
          ]
        },
        {
          "name": "stdout",
          "output_type": "stream",
          "text": [
            "Language: co    Improvement over baseline: 4.78469\n"
          ]
        },
        {
          "name": "stderr",
          "output_type": "stream",
          "text": [
            "4it [19:31, 274.67s/it]"
          ]
        },
        {
          "name": "stdout",
          "output_type": "stream",
          "text": [
            "Language: hsb    Improvement over baseline: -1.68067\n",
            "Added 146 rows of data\n",
            "Added 0 rows of data\n"
          ]
        },
        {
          "name": "stderr",
          "output_type": "stream",
          "text": [
            "5it [23:22, 259.02s/it]"
          ]
        },
        {
          "name": "stdout",
          "output_type": "stream",
          "text": [
            "Language: bh    Improvement over baseline: 1.76211\n",
            "Added 253 rows of data\n",
            "Added 0 rows of data\n",
            "Added 0 rows of data\n"
          ]
        },
        {
          "name": "stderr",
          "output_type": "stream",
          "text": [
            "6it [29:16, 292.69s/it]\n"
          ]
        },
        {
          "name": "stdout",
          "output_type": "stream",
          "text": [
            "Language: cv    Improvement over baseline: 3.48028\n"
          ]
        },
        {
          "name": "stderr",
          "output_type": "stream",
          "text": [
            "1it [03:57, 237.60s/it]"
          ]
        },
        {
          "name": "stdout",
          "output_type": "stream",
          "text": [
            "Language: mg    Improvement over baseline: 0.45872\n"
          ]
        },
        {
          "name": "stderr",
          "output_type": "stream",
          "text": [
            "2it [06:53, 201.60s/it]"
          ]
        },
        {
          "name": "stdout",
          "output_type": "stream",
          "text": [
            "Language: fo    Improvement over baseline: -0.52265\n",
            "Added 3 rows of data\n"
          ]
        },
        {
          "name": "stderr",
          "output_type": "stream",
          "text": [
            "3it [11:35, 238.00s/it]"
          ]
        },
        {
          "name": "stdout",
          "output_type": "stream",
          "text": [
            "Language: co    Improvement over baseline: 2.87081\n",
            "Added 37 rows of data\n",
            "Added 0 rows of data\n",
            "Added 0 rows of data\n",
            "Added 0 rows of data\n",
            "Added 0 rows of data\n",
            "Added 0 rows of data\n",
            "Added 0 rows of data\n",
            "Added 0 rows of data\n",
            "Added 0 rows of data\n",
            "Added 0 rows of data\n",
            "Added 0 rows of data\n",
            "Added 1 rows of data\n"
          ]
        },
        {
          "name": "stderr",
          "output_type": "stream",
          "text": [
            "4it [21:40, 383.01s/it]"
          ]
        },
        {
          "name": "stdout",
          "output_type": "stream",
          "text": [
            "Language: hsb    Improvement over baseline: 2.31092\n",
            "Added 170 rows of data\n"
          ]
        },
        {
          "name": "stderr",
          "output_type": "stream",
          "text": [
            "5it [25:09, 320.39s/it]"
          ]
        },
        {
          "name": "stdout",
          "output_type": "stream",
          "text": [
            "Language: bh    Improvement over baseline: 8.14978\n",
            "Added 176 rows of data\n",
            "Added 0 rows of data\n"
          ]
        },
        {
          "name": "stderr",
          "output_type": "stream",
          "text": [
            "6it [30:29, 304.97s/it]\n"
          ]
        },
        {
          "name": "stdout",
          "output_type": "stream",
          "text": [
            "Language: cv    Improvement over baseline: 3.48028\n"
          ]
        },
        {
          "name": "stderr",
          "output_type": "stream",
          "text": [
            "0it [00:00, ?it/s]"
          ]
        },
        {
          "name": "stdout",
          "output_type": "stream",
          "text": [
            "Added 421 rows of data\n",
            "Added 0 rows of data\n"
          ]
        },
        {
          "name": "stderr",
          "output_type": "stream",
          "text": [
            "1it [04:58, 298.54s/it]"
          ]
        },
        {
          "name": "stdout",
          "output_type": "stream",
          "text": [
            "Language: mg    Improvement over baseline: -0.22936\n",
            "Added 749 rows of data\n",
            "Added 0 rows of data\n",
            "Added 0 rows of data\n",
            "Added 0 rows of data\n"
          ]
        },
        {
          "name": "stderr",
          "output_type": "stream",
          "text": [
            "2it [11:35, 356.63s/it]"
          ]
        },
        {
          "name": "stdout",
          "output_type": "stream",
          "text": [
            "Language: fo    Improvement over baseline: 0.17422\n",
            "Added 7 rows of data\n",
            "Added 24 rows of data\n"
          ]
        },
        {
          "name": "stderr",
          "output_type": "stream",
          "text": [
            "3it [16:42, 333.81s/it]"
          ]
        },
        {
          "name": "stdout",
          "output_type": "stream",
          "text": [
            "Language: co    Improvement over baseline: 8.13397\n",
            "Added 1 rows of data\n",
            "Added 29 rows of data\n",
            "Added 0 rows of data\n",
            "Added 0 rows of data\n",
            "Added 0 rows of data\n",
            "Added 0 rows of data\n"
          ]
        },
        {
          "name": "stderr",
          "output_type": "stream",
          "text": [
            "4it [23:59, 374.56s/it]"
          ]
        },
        {
          "name": "stdout",
          "output_type": "stream",
          "text": [
            "Language: hsb    Improvement over baseline: 0.00000\n",
            "Added 220 rows of data\n",
            "Added 0 rows of data\n",
            "Added 0 rows of data\n"
          ]
        },
        {
          "name": "stderr",
          "output_type": "stream",
          "text": [
            "5it [28:13, 331.05s/it]"
          ]
        },
        {
          "name": "stdout",
          "output_type": "stream",
          "text": [
            "Language: bh    Improvement over baseline: 5.28634\n"
          ]
        },
        {
          "name": "stderr",
          "output_type": "stream",
          "text": [
            "6it [32:01, 320.24s/it]\n"
          ]
        },
        {
          "name": "stdout",
          "output_type": "stream",
          "text": [
            "Language: cv    Improvement over baseline: -0.23202\n"
          ]
        },
        {
          "name": "stderr",
          "output_type": "stream",
          "text": [
            "0it [00:00, ?it/s]"
          ]
        },
        {
          "name": "stdout",
          "output_type": "stream",
          "text": [
            "Added 343 rows of data\n",
            "Added 0 rows of data\n",
            "Added 0 rows of data\n"
          ]
        },
        {
          "name": "stderr",
          "output_type": "stream",
          "text": [
            "1it [05:28, 328.08s/it]"
          ]
        },
        {
          "name": "stdout",
          "output_type": "stream",
          "text": [
            "Language: mg    Improvement over baseline: 0.00000\n",
            "Added 594 rows of data\n"
          ]
        },
        {
          "name": "stderr",
          "output_type": "stream",
          "text": [
            "2it [10:20, 307.15s/it]"
          ]
        },
        {
          "name": "stdout",
          "output_type": "stream",
          "text": [
            "Language: fo    Improvement over baseline: 1.21951\n",
            "Added 9 rows of data\n",
            "Added 9 rows of data\n",
            "Added 0 rows of data\n",
            "Added 0 rows of data\n",
            "Added 0 rows of data\n",
            "Added 0 rows of data\n"
          ]
        },
        {
          "name": "stderr",
          "output_type": "stream",
          "text": [
            "3it [17:20, 358.45s/it]"
          ]
        },
        {
          "name": "stdout",
          "output_type": "stream",
          "text": [
            "Language: co    Improvement over baseline: 7.65550\n",
            "Added 106 rows of data\n",
            "Added 0 rows of data\n",
            "Added 0 rows of data\n",
            "Added 0 rows of data\n",
            "Added 0 rows of data\n"
          ]
        },
        {
          "name": "stderr",
          "output_type": "stream",
          "text": [
            "4it [24:08, 378.18s/it]"
          ]
        },
        {
          "name": "stdout",
          "output_type": "stream",
          "text": [
            "Language: hsb    Improvement over baseline: -1.26050\n",
            "Added 145 rows of data\n",
            "Added 0 rows of data\n",
            "Added 0 rows of data\n",
            "Added 0 rows of data\n",
            "Added 0 rows of data\n"
          ]
        },
        {
          "name": "stderr",
          "output_type": "stream",
          "text": [
            "5it [29:00, 347.25s/it]"
          ]
        },
        {
          "name": "stdout",
          "output_type": "stream",
          "text": [
            "Language: bh    Improvement over baseline: 6.82819\n"
          ]
        },
        {
          "name": "stderr",
          "output_type": "stream",
          "text": [
            "6it [33:17, 332.91s/it]\n"
          ]
        },
        {
          "name": "stdout",
          "output_type": "stream",
          "text": [
            "Language: cv    Improvement over baseline: 5.80046\n"
          ]
        },
        {
          "name": "stderr",
          "output_type": "stream",
          "text": [
            "1it [03:59, 239.32s/it]"
          ]
        },
        {
          "name": "stdout",
          "output_type": "stream",
          "text": [
            "Language: mg    Improvement over baseline: -0.45872\n",
            "Added 363 rows of data\n",
            "Added 0 rows of data\n"
          ]
        },
        {
          "name": "stderr",
          "output_type": "stream",
          "text": [
            "2it [09:18, 286.27s/it]"
          ]
        },
        {
          "name": "stdout",
          "output_type": "stream",
          "text": [
            "Language: fo    Improvement over baseline: 0.52265\n"
          ]
        },
        {
          "name": "stderr",
          "output_type": "stream",
          "text": [
            "3it [13:31, 271.14s/it]"
          ]
        },
        {
          "name": "stdout",
          "output_type": "stream",
          "text": [
            "Language: co    Improvement over baseline: 0.95694\n"
          ]
        },
        {
          "name": "stderr",
          "output_type": "stream",
          "text": [
            "4it [16:59, 246.22s/it]"
          ]
        },
        {
          "name": "stdout",
          "output_type": "stream",
          "text": [
            "Language: hsb    Improvement over baseline: 1.05042\n",
            "Added 175 rows of data\n",
            "Added 0 rows of data\n",
            "Added 0 rows of data\n",
            "Added 0 rows of data\n",
            "Added 0 rows of data\n",
            "Added 0 rows of data\n",
            "Added 0 rows of data\n",
            "Added 0 rows of data\n",
            "Added 0 rows of data\n",
            "Added 0 rows of data\n",
            "Added 0 rows of data\n",
            "Added 0 rows of data\n",
            "Added 0 rows of data\n"
          ]
        },
        {
          "name": "stderr",
          "output_type": "stream",
          "text": [
            "5it [24:49, 326.93s/it]"
          ]
        },
        {
          "name": "stdout",
          "output_type": "stream",
          "text": [
            "Language: bh    Improvement over baseline: 11.89427\n"
          ]
        },
        {
          "name": "stderr",
          "output_type": "stream",
          "text": [
            "6it [29:12, 292.12s/it]\n"
          ]
        },
        {
          "name": "stdout",
          "output_type": "stream",
          "text": [
            "Language: cv    Improvement over baseline: 5.80046\n"
          ]
        },
        {
          "name": "stderr",
          "output_type": "stream",
          "text": [
            "0it [00:00, ?it/s]"
          ]
        },
        {
          "name": "stdout",
          "output_type": "stream",
          "text": [
            "Added 260 rows of data\n",
            "Added 0 rows of data\n",
            "Added 0 rows of data\n"
          ]
        },
        {
          "name": "stderr",
          "output_type": "stream",
          "text": [
            "1it [05:26, 326.35s/it]"
          ]
        },
        {
          "name": "stdout",
          "output_type": "stream",
          "text": [
            "Language: mg    Improvement over baseline: 0.45872\n"
          ]
        },
        {
          "name": "stderr",
          "output_type": "stream",
          "text": [
            "2it [08:19, 236.23s/it]"
          ]
        },
        {
          "name": "stdout",
          "output_type": "stream",
          "text": [
            "Language: fo    Improvement over baseline: -2.61324\n"
          ]
        },
        {
          "name": "stderr",
          "output_type": "stream",
          "text": [
            "3it [12:32, 243.70s/it]"
          ]
        },
        {
          "name": "stdout",
          "output_type": "stream",
          "text": [
            "Language: co    Improvement over baseline: 8.13397\n",
            "Added 17 rows of data\n",
            "Added 0 rows of data\n"
          ]
        },
        {
          "name": "stderr",
          "output_type": "stream",
          "text": [
            "4it [17:50, 273.34s/it]"
          ]
        },
        {
          "name": "stdout",
          "output_type": "stream",
          "text": [
            "Language: hsb    Improvement over baseline: -1.68067\n"
          ]
        },
        {
          "name": "stderr",
          "output_type": "stream",
          "text": [
            "5it [20:17, 227.48s/it]"
          ]
        },
        {
          "name": "stdout",
          "output_type": "stream",
          "text": [
            "Language: bh    Improvement over baseline: 7.92952\n"
          ]
        },
        {
          "name": "stderr",
          "output_type": "stream",
          "text": [
            "6it [23:40, 236.82s/it]\n"
          ]
        },
        {
          "name": "stdout",
          "output_type": "stream",
          "text": [
            "Language: cv    Improvement over baseline: 5.10441\n"
          ]
        },
        {
          "name": "stderr",
          "output_type": "stream",
          "text": [
            "0it [00:00, ?it/s]"
          ]
        },
        {
          "name": "stdout",
          "output_type": "stream",
          "text": [
            "Added 262 rows of data\n",
            "Added 0 rows of data\n",
            "Added 0 rows of data\n"
          ]
        },
        {
          "name": "stderr",
          "output_type": "stream",
          "text": [
            "1it [05:27, 327.91s/it]"
          ]
        },
        {
          "name": "stdout",
          "output_type": "stream",
          "text": [
            "Language: mg    Improvement over baseline: 0.45872\n"
          ]
        },
        {
          "name": "stderr",
          "output_type": "stream",
          "text": [
            "2it [08:21, 237.40s/it]"
          ]
        },
        {
          "name": "stdout",
          "output_type": "stream",
          "text": [
            "Language: fo    Improvement over baseline: -1.21951\n"
          ]
        },
        {
          "name": "stderr",
          "output_type": "stream",
          "text": [
            "3it [11:13, 207.31s/it]"
          ]
        },
        {
          "name": "stdout",
          "output_type": "stream",
          "text": [
            "Language: co    Improvement over baseline: -4.78469\n",
            "Added 92 rows of data\n",
            "Added 0 rows of data\n",
            "Added 0 rows of data\n",
            "Added 0 rows of data\n"
          ]
        },
        {
          "name": "stderr",
          "output_type": "stream",
          "text": [
            "4it [17:32, 275.12s/it]"
          ]
        },
        {
          "name": "stdout",
          "output_type": "stream",
          "text": [
            "Language: hsb    Improvement over baseline: -0.21008\n",
            "Added 166 rows of data\n"
          ]
        },
        {
          "name": "stderr",
          "output_type": "stream",
          "text": [
            "5it [21:01, 251.40s/it]"
          ]
        },
        {
          "name": "stdout",
          "output_type": "stream",
          "text": [
            "Language: bh    Improvement over baseline: 4.62555\n",
            "Added 84 rows of data\n",
            "Added 0 rows of data\n",
            "Added 0 rows of data\n",
            "Added 0 rows of data\n"
          ]
        },
        {
          "name": "stderr",
          "output_type": "stream",
          "text": [
            "6it [27:18, 273.08s/it]\n"
          ]
        },
        {
          "name": "stdout",
          "output_type": "stream",
          "text": [
            "Language: cv    Improvement over baseline: 6.96056\n"
          ]
        },
        {
          "name": "stderr",
          "output_type": "stream",
          "text": [
            "1it [02:42, 162.41s/it]"
          ]
        },
        {
          "name": "stdout",
          "output_type": "stream",
          "text": [
            "Language: mg    Improvement over baseline: 0.22936\n",
            "Added 543 rows of data\n",
            "Added 0 rows of data\n"
          ]
        },
        {
          "name": "stderr",
          "output_type": "stream",
          "text": [
            "2it [08:05, 256.93s/it]"
          ]
        },
        {
          "name": "stdout",
          "output_type": "stream",
          "text": [
            "Language: fo    Improvement over baseline: 2.61324\n"
          ]
        },
        {
          "name": "stderr",
          "output_type": "stream",
          "text": [
            "3it [11:49, 242.08s/it]"
          ]
        },
        {
          "name": "stdout",
          "output_type": "stream",
          "text": [
            "Language: co    Improvement over baseline: 6.22010\n",
            "Added 6 rows of data\n",
            "Added 112 rows of data\n",
            "Added 0 rows of data\n",
            "Added 0 rows of data\n"
          ]
        },
        {
          "name": "stderr",
          "output_type": "stream",
          "text": [
            "4it [18:11, 297.07s/it]"
          ]
        },
        {
          "name": "stdout",
          "output_type": "stream",
          "text": [
            "Language: hsb    Improvement over baseline: -0.63025\n",
            "Added 91 rows of data\n"
          ]
        },
        {
          "name": "stderr",
          "output_type": "stream",
          "text": [
            "5it [21:40, 265.56s/it]"
          ]
        },
        {
          "name": "stdout",
          "output_type": "stream",
          "text": [
            "Language: bh    Improvement over baseline: 1.98238\n"
          ]
        },
        {
          "name": "stderr",
          "output_type": "stream",
          "text": [
            "6it [25:03, 250.51s/it]\n"
          ]
        },
        {
          "name": "stdout",
          "output_type": "stream",
          "text": [
            "Language: cv    Improvement over baseline: 6.49652\n"
          ]
        },
        {
          "name": "stderr",
          "output_type": "stream",
          "text": [
            "0it [00:00, ?it/s]"
          ]
        },
        {
          "name": "stdout",
          "output_type": "stream",
          "text": [
            "Added 350 rows of data\n"
          ]
        },
        {
          "name": "stderr",
          "output_type": "stream",
          "text": [
            "1it [04:33, 273.54s/it]"
          ]
        },
        {
          "name": "stdout",
          "output_type": "stream",
          "text": [
            "Language: mg    Improvement over baseline: 0.45872\n",
            "Added 396 rows of data\n",
            "Added 0 rows of data\n",
            "Added 0 rows of data\n",
            "Added 0 rows of data\n"
          ]
        },
        {
          "name": "stderr",
          "output_type": "stream",
          "text": [
            "2it [10:55, 337.44s/it]"
          ]
        },
        {
          "name": "stdout",
          "output_type": "stream",
          "text": [
            "Language: fo    Improvement over baseline: 1.04530\n",
            "Added 5 rows of data\n",
            "Added 1 rows of data\n",
            "Added 12 rows of data\n",
            "Added 10 rows of data\n"
          ]
        },
        {
          "name": "stderr",
          "output_type": "stream",
          "text": [
            "3it [16:54, 346.98s/it]"
          ]
        },
        {
          "name": "stdout",
          "output_type": "stream",
          "text": [
            "Language: co    Improvement over baseline: 6.69856\n",
            "Added 53 rows of data\n",
            "Added 0 rows of data\n",
            "Added 0 rows of data\n",
            "Added 0 rows of data\n",
            "Added 0 rows of data\n"
          ]
        },
        {
          "name": "stderr",
          "output_type": "stream",
          "text": [
            "4it [23:37, 369.29s/it]"
          ]
        },
        {
          "name": "stdout",
          "output_type": "stream",
          "text": [
            "Language: hsb    Improvement over baseline: 1.05042\n",
            "Added 164 rows of data\n",
            "Added 0 rows of data\n"
          ]
        },
        {
          "name": "stderr",
          "output_type": "stream",
          "text": [
            "5it [27:24, 317.88s/it]"
          ]
        },
        {
          "name": "stdout",
          "output_type": "stream",
          "text": [
            "Language: bh    Improvement over baseline: 8.37004\n"
          ]
        },
        {
          "name": "stderr",
          "output_type": "stream",
          "text": [
            "6it [30:19, 303.20s/it]\n"
          ]
        },
        {
          "name": "stdout",
          "output_type": "stream",
          "text": [
            "Language: cv    Improvement over baseline: 2.78422\n"
          ]
        },
        {
          "name": "stderr",
          "output_type": "stream",
          "text": [
            "0it [00:00, ?it/s]"
          ]
        },
        {
          "name": "stdout",
          "output_type": "stream",
          "text": [
            "Added 362 rows of data\n",
            "Added 0 rows of data\n",
            "Added 0 rows of data\n"
          ]
        },
        {
          "name": "stderr",
          "output_type": "stream",
          "text": [
            "1it [05:17, 317.51s/it]"
          ]
        },
        {
          "name": "stdout",
          "output_type": "stream",
          "text": [
            "Language: mg    Improvement over baseline: 0.45872\n",
            "Added 336 rows of data\n",
            "Added 0 rows of data\n",
            "Added 0 rows of data\n",
            "Added 0 rows of data\n"
          ]
        },
        {
          "name": "stderr",
          "output_type": "stream",
          "text": [
            "2it [11:36, 353.63s/it]"
          ]
        },
        {
          "name": "stdout",
          "output_type": "stream",
          "text": [
            "Language: fo    Improvement over baseline: 0.52265\n",
            "Added 5 rows of data\n",
            "Added 0 rows of data\n",
            "Added 0 rows of data\n",
            "Added 0 rows of data\n",
            "Added 0 rows of data\n",
            "Added 0 rows of data\n",
            "Added 13 rows of data\n",
            "Added 1 rows of data\n",
            "Added 0 rows of data\n"
          ]
        },
        {
          "name": "stderr",
          "output_type": "stream",
          "text": [
            "3it [19:52, 418.50s/it]"
          ]
        },
        {
          "name": "stdout",
          "output_type": "stream",
          "text": [
            "Language: co    Improvement over baseline: 9.56938\n"
          ]
        },
        {
          "name": "stderr",
          "output_type": "stream",
          "text": [
            "4it [23:44, 345.17s/it]"
          ]
        },
        {
          "name": "stdout",
          "output_type": "stream",
          "text": [
            "Language: hsb    Improvement over baseline: 1.05042\n",
            "Added 207 rows of data\n",
            "Added 0 rows of data\n",
            "Added 0 rows of data\n"
          ]
        },
        {
          "name": "stderr",
          "output_type": "stream",
          "text": [
            "5it [27:57, 311.65s/it]"
          ]
        },
        {
          "name": "stdout",
          "output_type": "stream",
          "text": [
            "Language: bh    Improvement over baseline: 3.74449\n"
          ]
        },
        {
          "name": "stderr",
          "output_type": "stream",
          "text": [
            "6it [32:12, 322.16s/it]\n"
          ]
        },
        {
          "name": "stdout",
          "output_type": "stream",
          "text": [
            "Language: cv    Improvement over baseline: 2.78422\n"
          ]
        },
        {
          "name": "stderr",
          "output_type": "stream",
          "text": [
            "1it [02:41, 161.38s/it]"
          ]
        },
        {
          "name": "stdout",
          "output_type": "stream",
          "text": [
            "Language: mg    Improvement over baseline: 0.00000\n"
          ]
        },
        {
          "name": "stderr",
          "output_type": "stream",
          "text": [
            "2it [06:04, 185.93s/it]"
          ]
        },
        {
          "name": "stdout",
          "output_type": "stream",
          "text": [
            "Language: fo    Improvement over baseline: 0.69686\n"
          ]
        },
        {
          "name": "stderr",
          "output_type": "stream",
          "text": [
            "3it [08:53, 178.36s/it]"
          ]
        },
        {
          "name": "stdout",
          "output_type": "stream",
          "text": [
            "Language: co    Improvement over baseline: 1.43541\n",
            "Added 18 rows of data\n",
            "Added 0 rows of data\n"
          ]
        },
        {
          "name": "stderr",
          "output_type": "stream",
          "text": [
            "4it [14:13, 234.25s/it]"
          ]
        },
        {
          "name": "stdout",
          "output_type": "stream",
          "text": [
            "Language: hsb    Improvement over baseline: -0.84034\n",
            "Added 120 rows of data\n",
            "Added 0 rows of data\n",
            "Added 0 rows of data\n",
            "Added 0 rows of data\n"
          ]
        },
        {
          "name": "stderr",
          "output_type": "stream",
          "text": [
            "5it [18:47, 248.51s/it]"
          ]
        },
        {
          "name": "stdout",
          "output_type": "stream",
          "text": [
            "Language: bh    Improvement over baseline: 5.28634\n"
          ]
        },
        {
          "name": "stderr",
          "output_type": "stream",
          "text": [
            "6it [23:01, 230.26s/it]\n"
          ]
        },
        {
          "name": "stdout",
          "output_type": "stream",
          "text": [
            "Language: cv    Improvement over baseline: 1.16009\n"
          ]
        },
        {
          "name": "stderr",
          "output_type": "stream",
          "text": [
            "0it [00:00, ?it/s]"
          ]
        },
        {
          "name": "stdout",
          "output_type": "stream",
          "text": [
            "Added 270 rows of data\n",
            "Added 0 rows of data\n",
            "Added 0 rows of data\n",
            "Added 0 rows of data\n",
            "Added 0 rows of data\n",
            "Added 0 rows of data\n",
            "Added 0 rows of data\n",
            "Added 0 rows of data\n",
            "Added 0 rows of data\n",
            "Added 0 rows of data\n",
            "Added 0 rows of data\n"
          ]
        },
        {
          "name": "stderr",
          "output_type": "stream",
          "text": [
            "1it [09:04, 544.65s/it]"
          ]
        },
        {
          "name": "stdout",
          "output_type": "stream",
          "text": [
            "Language: mg    Improvement over baseline: -1.14679\n",
            "Added 495 rows of data\n",
            "Added 0 rows of data\n",
            "Added 0 rows of data\n",
            "Added 0 rows of data\n",
            "Added 0 rows of data\n"
          ]
        },
        {
          "name": "stderr",
          "output_type": "stream",
          "text": [
            "2it [16:00, 468.99s/it]"
          ]
        },
        {
          "name": "stdout",
          "output_type": "stream",
          "text": [
            "Language: fo    Improvement over baseline: 1.21951\n"
          ]
        },
        {
          "name": "stderr",
          "output_type": "stream",
          "text": [
            "3it [18:48, 331.32s/it]"
          ]
        },
        {
          "name": "stdout",
          "output_type": "stream",
          "text": [
            "Language: co    Improvement over baseline: 3.82775\n",
            "Added 8 rows of data\n",
            "Added 9 rows of data\n",
            "Added 0 rows of data\n",
            "Added 0 rows of data\n",
            "Added 0 rows of data\n",
            "Added 0 rows of data\n",
            "Added 0 rows of data\n",
            "Added 0 rows of data\n",
            "Added 0 rows of data\n",
            "Added 0 rows of data\n"
          ]
        },
        {
          "name": "stderr",
          "output_type": "stream",
          "text": [
            "4it [27:52, 415.24s/it]"
          ]
        },
        {
          "name": "stdout",
          "output_type": "stream",
          "text": [
            "Language: hsb    Improvement over baseline: -2.31092\n",
            "Added 79 rows of data\n",
            "Added 15 rows of data\n"
          ]
        },
        {
          "name": "stderr",
          "output_type": "stream",
          "text": [
            "5it [31:37, 346.97s/it]"
          ]
        },
        {
          "name": "stdout",
          "output_type": "stream",
          "text": [
            "Language: bh    Improvement over baseline: 9.69163\n",
            "Added 42 rows of data\n",
            "Added 0 rows of data\n",
            "Added 0 rows of data\n",
            "Added 0 rows of data\n",
            "Added 0 rows of data\n"
          ]
        },
        {
          "name": "stderr",
          "output_type": "stream",
          "text": [
            "6it [38:16, 382.74s/it]\n"
          ]
        },
        {
          "name": "stdout",
          "output_type": "stream",
          "text": [
            "Language: cv    Improvement over baseline: 5.56845\n"
          ]
        },
        {
          "name": "stderr",
          "output_type": "stream",
          "text": [
            "1it [03:34, 214.62s/it]"
          ]
        },
        {
          "name": "stdout",
          "output_type": "stream",
          "text": [
            "Language: mg    Improvement over baseline: -0.68807\n"
          ]
        },
        {
          "name": "stderr",
          "output_type": "stream",
          "text": [
            "2it [06:56, 207.29s/it]"
          ]
        },
        {
          "name": "stdout",
          "output_type": "stream",
          "text": [
            "Language: fo    Improvement over baseline: 1.74216\n"
          ]
        },
        {
          "name": "stderr",
          "output_type": "stream",
          "text": [
            "3it [09:45, 189.57s/it]"
          ]
        },
        {
          "name": "stdout",
          "output_type": "stream",
          "text": [
            "Language: co    Improvement over baseline: 4.30622\n",
            "Added 28 rows of data\n",
            "Added 0 rows of data\n",
            "Added 2 rows of data\n",
            "Added 0 rows of data\n",
            "Added 0 rows of data\n"
          ]
        },
        {
          "name": "stderr",
          "output_type": "stream",
          "text": [
            "4it [16:27, 273.35s/it]"
          ]
        },
        {
          "name": "stdout",
          "output_type": "stream",
          "text": [
            "Language: hsb    Improvement over baseline: -0.63025\n",
            "Added 226 rows of data\n",
            "Added 0 rows of data\n",
            "Added 0 rows of data\n",
            "Added 0 rows of data\n",
            "Added 0 rows of data\n"
          ]
        },
        {
          "name": "stderr",
          "output_type": "stream",
          "text": [
            "5it [21:24, 282.17s/it]"
          ]
        },
        {
          "name": "stdout",
          "output_type": "stream",
          "text": [
            "Language: bh    Improvement over baseline: 4.40529\n"
          ]
        },
        {
          "name": "stderr",
          "output_type": "stream",
          "text": [
            "6it [25:38, 256.45s/it]\n"
          ]
        },
        {
          "name": "stdout",
          "output_type": "stream",
          "text": [
            "Language: cv    Improvement over baseline: 4.64037\n"
          ]
        },
        {
          "name": "stderr",
          "output_type": "stream",
          "text": [
            "0it [00:00, ?it/s]"
          ]
        },
        {
          "name": "stdout",
          "output_type": "stream",
          "text": [
            "Added 452 rows of data\n"
          ]
        },
        {
          "name": "stderr",
          "output_type": "stream",
          "text": [
            "1it [04:28, 268.20s/it]"
          ]
        },
        {
          "name": "stdout",
          "output_type": "stream",
          "text": [
            "Language: mg    Improvement over baseline: 0.45872\n",
            "Added 423 rows of data\n",
            "Added 0 rows of data\n"
          ]
        },
        {
          "name": "stderr",
          "output_type": "stream",
          "text": [
            "2it [10:48, 334.00s/it]"
          ]
        },
        {
          "name": "stdout",
          "output_type": "stream",
          "text": [
            "Language: fo    Improvement over baseline: 1.91638\n"
          ]
        },
        {
          "name": "stderr",
          "output_type": "stream",
          "text": [
            "3it [15:12, 302.19s/it]"
          ]
        },
        {
          "name": "stdout",
          "output_type": "stream",
          "text": [
            "Language: co    Improvement over baseline: 5.26316\n"
          ]
        },
        {
          "name": "stderr",
          "output_type": "stream",
          "text": [
            "4it [19:45, 290.51s/it]"
          ]
        },
        {
          "name": "stdout",
          "output_type": "stream",
          "text": [
            "Language: hsb    Improvement over baseline: -1.05042\n"
          ]
        },
        {
          "name": "stderr",
          "output_type": "stream",
          "text": [
            "5it [22:11, 238.58s/it]"
          ]
        },
        {
          "name": "stdout",
          "output_type": "stream",
          "text": [
            "Language: bh    Improvement over baseline: 5.06608\n",
            "Added 49 rows of data\n"
          ]
        },
        {
          "name": "stderr",
          "output_type": "stream",
          "text": [
            "6it [27:42, 277.16s/it]\n"
          ]
        },
        {
          "name": "stdout",
          "output_type": "stream",
          "text": [
            "Language: cv    Improvement over baseline: 4.40835\n"
          ]
        },
        {
          "name": "stderr",
          "output_type": "stream",
          "text": [
            "0it [00:00, ?it/s]"
          ]
        },
        {
          "name": "stdout",
          "output_type": "stream",
          "text": [
            "Added 155 rows of data\n",
            "Added 0 rows of data\n",
            "Added 0 rows of data\n",
            "Added 0 rows of data\n"
          ]
        },
        {
          "name": "stderr",
          "output_type": "stream",
          "text": [
            "1it [06:41, 401.69s/it]"
          ]
        },
        {
          "name": "stdout",
          "output_type": "stream",
          "text": [
            "Language: mg    Improvement over baseline: 0.45872\n"
          ]
        },
        {
          "name": "stderr",
          "output_type": "stream",
          "text": [
            "2it [11:34, 337.46s/it]"
          ]
        },
        {
          "name": "stdout",
          "output_type": "stream",
          "text": [
            "Language: fo    Improvement over baseline: -0.69686\n"
          ]
        },
        {
          "name": "stderr",
          "output_type": "stream",
          "text": [
            "3it [16:16, 312.27s/it]"
          ]
        },
        {
          "name": "stdout",
          "output_type": "stream",
          "text": [
            "Language: co    Improvement over baseline: 6.69856\n",
            "Added 13 rows of data\n",
            "Added 0 rows of data\n",
            "Added 0 rows of data\n",
            "Added 10 rows of data\n",
            "Added 0 rows of data\n",
            "Added 0 rows of data\n",
            "Added 0 rows of data\n"
          ]
        },
        {
          "name": "stderr",
          "output_type": "stream",
          "text": [
            "4it [24:55, 394.02s/it]"
          ]
        },
        {
          "name": "stdout",
          "output_type": "stream",
          "text": [
            "Language: hsb    Improvement over baseline: -0.21008\n"
          ]
        },
        {
          "name": "stderr",
          "output_type": "stream",
          "text": [
            "5it [27:26, 306.26s/it]"
          ]
        },
        {
          "name": "stdout",
          "output_type": "stream",
          "text": [
            "Language: bh    Improvement over baseline: -0.22026\n"
          ]
        },
        {
          "name": "stderr",
          "output_type": "stream",
          "text": [
            "6it [30:46, 307.73s/it]\n"
          ]
        },
        {
          "name": "stdout",
          "output_type": "stream",
          "text": [
            "Language: cv    Improvement over baseline: 3.01624\n"
          ]
        },
        {
          "name": "stderr",
          "output_type": "stream",
          "text": [
            "0it [00:00, ?it/s]"
          ]
        },
        {
          "name": "stdout",
          "output_type": "stream",
          "text": [
            "Added 357 rows of data\n",
            "Added 0 rows of data\n",
            "Added 0 rows of data\n",
            "Added 0 rows of data\n"
          ]
        },
        {
          "name": "stderr",
          "output_type": "stream",
          "text": [
            "1it [06:57, 417.56s/it]"
          ]
        },
        {
          "name": "stdout",
          "output_type": "stream",
          "text": [
            "Language: mg    Improvement over baseline: 0.45872\n"
          ]
        },
        {
          "name": "stderr",
          "output_type": "stream",
          "text": [
            "2it [11:59, 349.50s/it]"
          ]
        },
        {
          "name": "stdout",
          "output_type": "stream",
          "text": [
            "Language: fo    Improvement over baseline: 1.04530\n"
          ]
        },
        {
          "name": "stderr",
          "output_type": "stream",
          "text": [
            "3it [14:46, 266.04s/it]"
          ]
        },
        {
          "name": "stdout",
          "output_type": "stream",
          "text": [
            "Language: co    Improvement over baseline: -0.47847\n",
            "Added 6 rows of data\n",
            "Added 0 rows of data\n",
            "Added 30 rows of data\n",
            "Added 0 rows of data\n"
          ]
        },
        {
          "name": "stderr",
          "output_type": "stream",
          "text": [
            "4it [22:05, 334.55s/it]"
          ]
        },
        {
          "name": "stdout",
          "output_type": "stream",
          "text": [
            "Language: hsb    Improvement over baseline: -2.52101\n",
            "Added 178 rows of data\n",
            "Added 0 rows of data\n",
            "Added 0 rows of data\n"
          ]
        },
        {
          "name": "stderr",
          "output_type": "stream",
          "text": [
            "5it [27:05, 321.85s/it]"
          ]
        },
        {
          "name": "stdout",
          "output_type": "stream",
          "text": [
            "Language: bh    Improvement over baseline: 2.86344\n",
            "Added 89 rows of data\n",
            "Added 0 rows of data\n"
          ]
        },
        {
          "name": "stderr",
          "output_type": "stream",
          "text": [
            "6it [33:42, 337.06s/it]\n"
          ]
        },
        {
          "name": "stdout",
          "output_type": "stream",
          "text": [
            "Language: cv    Improvement over baseline: 1.62413\n"
          ]
        },
        {
          "name": "stderr",
          "output_type": "stream",
          "text": [
            "0it [00:00, ?it/s]"
          ]
        },
        {
          "name": "stdout",
          "output_type": "stream",
          "text": [
            "Added 262 rows of data\n",
            "Added 0 rows of data\n",
            "Added 0 rows of data\n",
            "Added 0 rows of data\n",
            "Added 0 rows of data\n"
          ]
        },
        {
          "name": "stderr",
          "output_type": "stream",
          "text": [
            "1it [07:47, 467.62s/it]"
          ]
        },
        {
          "name": "stdout",
          "output_type": "stream",
          "text": [
            "Language: mg    Improvement over baseline: 0.00000\n",
            "Added 340 rows of data\n"
          ]
        },
        {
          "name": "stderr",
          "output_type": "stream",
          "text": [
            "2it [13:48, 404.72s/it]"
          ]
        },
        {
          "name": "stdout",
          "output_type": "stream",
          "text": [
            "Language: fo    Improvement over baseline: -1.04530\n",
            "Added 19 rows of data\n"
          ]
        },
        {
          "name": "stderr",
          "output_type": "stream",
          "text": [
            "3it [19:35, 378.23s/it]"
          ]
        },
        {
          "name": "stdout",
          "output_type": "stream",
          "text": [
            "Language: co    Improvement over baseline: 4.78469\n",
            "Added 15 rows of data\n",
            "Added 0 rows of data\n",
            "Added 1 rows of data\n",
            "Added 0 rows of data\n",
            "Added 0 rows of data\n",
            "Added 11 rows of data\n",
            "Added 0 rows of data\n",
            "Added 0 rows of data\n"
          ]
        },
        {
          "name": "stderr",
          "output_type": "stream",
          "text": [
            "4it [29:43, 469.23s/it]"
          ]
        },
        {
          "name": "stdout",
          "output_type": "stream",
          "text": [
            "Language: hsb    Improvement over baseline: -1.05042\n",
            "Added 282 rows of data\n",
            "Added 0 rows of data\n",
            "Added 0 rows of data\n",
            "Added 0 rows of data\n",
            "Added 0 rows of data\n"
          ]
        },
        {
          "name": "stderr",
          "output_type": "stream",
          "text": [
            "5it [35:54, 433.64s/it]"
          ]
        },
        {
          "name": "stdout",
          "output_type": "stream",
          "text": [
            "Language: bh    Improvement over baseline: 6.16740\n",
            "Added 184 rows of data\n"
          ]
        },
        {
          "name": "stderr",
          "output_type": "stream",
          "text": [
            "6it [41:51, 418.58s/it]\n"
          ]
        },
        {
          "name": "stdout",
          "output_type": "stream",
          "text": [
            "Language: cv    Improvement over baseline: 3.01624\n"
          ]
        },
        {
          "name": "stderr",
          "output_type": "stream",
          "text": [
            "1it [04:57, 297.90s/it]"
          ]
        },
        {
          "name": "stdout",
          "output_type": "stream",
          "text": [
            "Language: mg    Improvement over baseline: 0.45872\n",
            "Added 372 rows of data\n",
            "Added 0 rows of data\n",
            "Added 0 rows of data\n",
            "Added 0 rows of data\n",
            "Added 0 rows of data\n"
          ]
        },
        {
          "name": "stderr",
          "output_type": "stream",
          "text": [
            "2it [13:31, 424.64s/it]"
          ]
        },
        {
          "name": "stdout",
          "output_type": "stream",
          "text": [
            "Language: fo    Improvement over baseline: 1.39373\n"
          ]
        },
        {
          "name": "stderr",
          "output_type": "stream",
          "text": [
            "3it [16:27, 311.33s/it]"
          ]
        },
        {
          "name": "stdout",
          "output_type": "stream",
          "text": [
            "Language: co    Improvement over baseline: 1.43541\n",
            "Added 58 rows of data\n",
            "Added 0 rows of data\n",
            "Added 0 rows of data\n",
            "Added 0 rows of data\n",
            "Added 0 rows of data\n",
            "Added 0 rows of data\n",
            "Added 0 rows of data\n",
            "Added 0 rows of data\n",
            "Added 0 rows of data\n"
          ]
        },
        {
          "name": "stderr",
          "output_type": "stream",
          "text": [
            "4it [27:14, 443.86s/it]"
          ]
        },
        {
          "name": "stdout",
          "output_type": "stream",
          "text": [
            "Language: hsb    Improvement over baseline: 2.94118\n",
            "Added 161 rows of data\n"
          ]
        },
        {
          "name": "stderr",
          "output_type": "stream",
          "text": [
            "5it [31:34, 377.59s/it]"
          ]
        },
        {
          "name": "stdout",
          "output_type": "stream",
          "text": [
            "Language: bh    Improvement over baseline: 1.98238\n",
            "Added 149 rows of data\n",
            "Added 0 rows of data\n",
            "Added 0 rows of data\n",
            "Added 0 rows of data\n",
            "Added 0 rows of data\n"
          ]
        },
        {
          "name": "stderr",
          "output_type": "stream",
          "text": [
            "6it [39:56, 399.49s/it]\n"
          ]
        },
        {
          "name": "stdout",
          "output_type": "stream",
          "text": [
            "Language: cv    Improvement over baseline: 6.49652\n"
          ]
        },
        {
          "name": "stderr",
          "output_type": "stream",
          "text": [
            "0it [00:00, ?it/s]"
          ]
        },
        {
          "name": "stdout",
          "output_type": "stream",
          "text": [
            "Added 470 rows of data\n",
            "Added 0 rows of data\n",
            "Added 0 rows of data\n",
            "Added 0 rows of data\n"
          ]
        },
        {
          "name": "stderr",
          "output_type": "stream",
          "text": [
            "1it [07:31, 451.69s/it]"
          ]
        },
        {
          "name": "stdout",
          "output_type": "stream",
          "text": [
            "Language: mg    Improvement over baseline: 0.45872\n"
          ]
        },
        {
          "name": "stderr",
          "output_type": "stream",
          "text": [
            "2it [11:41, 332.86s/it]"
          ]
        },
        {
          "name": "stdout",
          "output_type": "stream",
          "text": [
            "Language: fo    Improvement over baseline: 0.00000\n",
            "Added 20 rows of data\n"
          ]
        },
        {
          "name": "stderr",
          "output_type": "stream",
          "text": [
            "3it [17:15, 333.33s/it]"
          ]
        },
        {
          "name": "stdout",
          "output_type": "stream",
          "text": [
            "Language: co    Improvement over baseline: 8.13397\n"
          ]
        },
        {
          "name": "stderr",
          "output_type": "stream",
          "text": [
            "4it [21:19, 297.97s/it]"
          ]
        },
        {
          "name": "stdout",
          "output_type": "stream",
          "text": [
            "Language: hsb    Improvement over baseline: -1.89076\n",
            "Added 55 rows of data\n"
          ]
        },
        {
          "name": "stderr",
          "output_type": "stream",
          "text": [
            "5it [25:24, 279.19s/it]"
          ]
        },
        {
          "name": "stdout",
          "output_type": "stream",
          "text": [
            "Language: bh    Improvement over baseline: 4.62555\n",
            "Added 146 rows of data\n"
          ]
        },
        {
          "name": "stderr",
          "output_type": "stream",
          "text": [
            "6it [31:14, 312.34s/it]\n"
          ]
        },
        {
          "name": "stdout",
          "output_type": "stream",
          "text": [
            "Language: cv    Improvement over baseline: 4.87239\n"
          ]
        },
        {
          "name": "stderr",
          "output_type": "stream",
          "text": [
            "0it [00:00, ?it/s]"
          ]
        },
        {
          "name": "stdout",
          "output_type": "stream",
          "text": [
            "Added 407 rows of data\n",
            "Added 0 rows of data\n"
          ]
        },
        {
          "name": "stderr",
          "output_type": "stream",
          "text": [
            "1it [05:52, 352.64s/it]"
          ]
        },
        {
          "name": "stdout",
          "output_type": "stream",
          "text": [
            "Language: mg    Improvement over baseline: -0.22936\n"
          ]
        },
        {
          "name": "stderr",
          "output_type": "stream",
          "text": [
            "2it [09:17, 265.76s/it]"
          ]
        },
        {
          "name": "stdout",
          "output_type": "stream",
          "text": [
            "Language: fo    Improvement over baseline: 0.00000\n",
            "Added 12 rows of data\n",
            "Added 0 rows of data\n"
          ]
        },
        {
          "name": "stderr",
          "output_type": "stream",
          "text": [
            "3it [15:16, 308.21s/it]"
          ]
        },
        {
          "name": "stdout",
          "output_type": "stream",
          "text": [
            "Language: co    Improvement over baseline: 1.91388\n",
            "Added 8 rows of data\n",
            "Added 0 rows of data\n",
            "Added 0 rows of data\n",
            "Added 4 rows of data\n",
            "Added 0 rows of data\n",
            "Added 13 rows of data\n",
            "Added 0 rows of data\n",
            "Added 0 rows of data\n"
          ]
        },
        {
          "name": "stderr",
          "output_type": "stream",
          "text": [
            "4it [24:49, 412.80s/it]"
          ]
        },
        {
          "name": "stdout",
          "output_type": "stream",
          "text": [
            "Language: hsb    Improvement over baseline: 1.05042\n",
            "Added 157 rows of data\n",
            "Added 0 rows of data\n"
          ]
        },
        {
          "name": "stderr",
          "output_type": "stream",
          "text": [
            "5it [29:18, 360.94s/it]"
          ]
        },
        {
          "name": "stdout",
          "output_type": "stream",
          "text": [
            "Language: bh    Improvement over baseline: 5.06608\n",
            "Added 76 rows of data\n"
          ]
        },
        {
          "name": "stderr",
          "output_type": "stream",
          "text": [
            "6it [34:51, 348.52s/it]\n"
          ]
        },
        {
          "name": "stdout",
          "output_type": "stream",
          "text": [
            "Language: cv    Improvement over baseline: 5.56845\n"
          ]
        },
        {
          "name": "stderr",
          "output_type": "stream",
          "text": [
            "1it [03:11, 191.37s/it]"
          ]
        },
        {
          "name": "stdout",
          "output_type": "stream",
          "text": [
            "Language: mg    Improvement over baseline: -0.22936\n"
          ]
        },
        {
          "name": "stderr",
          "output_type": "stream",
          "text": [
            "2it [08:10, 254.85s/it]"
          ]
        },
        {
          "name": "stdout",
          "output_type": "stream",
          "text": [
            "Language: fo    Improvement over baseline: 1.56794\n",
            "Added 5 rows of data\n"
          ]
        },
        {
          "name": "stderr",
          "output_type": "stream",
          "text": [
            "3it [13:38, 287.97s/it]"
          ]
        },
        {
          "name": "stdout",
          "output_type": "stream",
          "text": [
            "Language: co    Improvement over baseline: 8.13397\n"
          ]
        },
        {
          "name": "stderr",
          "output_type": "stream",
          "text": [
            "4it [17:33, 267.28s/it]"
          ]
        },
        {
          "name": "stdout",
          "output_type": "stream",
          "text": [
            "Language: hsb    Improvement over baseline: -2.31092\n"
          ]
        },
        {
          "name": "stderr",
          "output_type": "stream",
          "text": [
            "5it [20:01, 224.25s/it]"
          ]
        },
        {
          "name": "stdout",
          "output_type": "stream",
          "text": [
            "Language: bh    Improvement over baseline: -1.54185\n",
            "Added 151 rows of data\n",
            "Added 0 rows of data\n"
          ]
        },
        {
          "name": "stderr",
          "output_type": "stream",
          "text": [
            "6it [26:13, 262.22s/it]\n"
          ]
        },
        {
          "name": "stdout",
          "output_type": "stream",
          "text": [
            "Language: cv    Improvement over baseline: 5.56845\n"
          ]
        },
        {
          "name": "stderr",
          "output_type": "stream",
          "text": [
            "0it [00:00, ?it/s]"
          ]
        },
        {
          "name": "stdout",
          "output_type": "stream",
          "text": [
            "Added 361 rows of data\n",
            "Added 0 rows of data\n"
          ]
        },
        {
          "name": "stderr",
          "output_type": "stream",
          "text": [
            "1it [05:45, 345.92s/it]"
          ]
        },
        {
          "name": "stdout",
          "output_type": "stream",
          "text": [
            "Language: mg    Improvement over baseline: 0.45872\n"
          ]
        },
        {
          "name": "stderr",
          "output_type": "stream",
          "text": [
            "2it [10:45, 318.60s/it]"
          ]
        },
        {
          "name": "stdout",
          "output_type": "stream",
          "text": [
            "Language: fo    Improvement over baseline: -0.17422\n",
            "Added 49 rows of data\n",
            "Added 0 rows of data\n",
            "Added 0 rows of data\n",
            "Added 0 rows of data\n"
          ]
        },
        {
          "name": "stderr",
          "output_type": "stream",
          "text": [
            "3it [17:47, 365.90s/it]"
          ]
        },
        {
          "name": "stdout",
          "output_type": "stream",
          "text": [
            "Language: co    Improvement over baseline: 6.22010\n",
            "Added 16 rows of data\n",
            "Added 0 rows of data\n"
          ]
        },
        {
          "name": "stderr",
          "output_type": "stream",
          "text": [
            "4it [23:57, 367.43s/it]"
          ]
        },
        {
          "name": "stdout",
          "output_type": "stream",
          "text": [
            "Language: hsb    Improvement over baseline: -0.42017\n",
            "Added 173 rows of data\n",
            "Added 0 rows of data\n",
            "Added 0 rows of data\n",
            "Added 0 rows of data\n",
            "Added 0 rows of data\n"
          ]
        },
        {
          "name": "stderr",
          "output_type": "stream",
          "text": [
            "5it [29:39, 358.49s/it]"
          ]
        },
        {
          "name": "stdout",
          "output_type": "stream",
          "text": [
            "Language: bh    Improvement over baseline: 9.47137\n"
          ]
        },
        {
          "name": "stderr",
          "output_type": "stream",
          "text": [
            "6it [34:39, 346.62s/it]\n"
          ]
        },
        {
          "name": "stdout",
          "output_type": "stream",
          "text": [
            "Language: cv    Improvement over baseline: 3.94432\n"
          ]
        },
        {
          "name": "stderr",
          "output_type": "stream",
          "text": [
            "0it [00:00, ?it/s]"
          ]
        },
        {
          "name": "stdout",
          "output_type": "stream",
          "text": [
            "Added 331 rows of data\n",
            "Added 0 rows of data\n",
            "Added 0 rows of data\n",
            "Added 0 rows of data\n"
          ]
        },
        {
          "name": "stderr",
          "output_type": "stream",
          "text": [
            "1it [06:59, 419.90s/it]"
          ]
        },
        {
          "name": "stdout",
          "output_type": "stream",
          "text": [
            "Language: mg    Improvement over baseline: 0.45872\n",
            "Added 389 rows of data\n",
            "Added 0 rows of data\n",
            "Added 0 rows of data\n",
            "Added 0 rows of data\n",
            "Added 0 rows of data\n"
          ]
        },
        {
          "name": "stderr",
          "output_type": "stream",
          "text": [
            "2it [14:59, 454.85s/it]"
          ]
        },
        {
          "name": "stdout",
          "output_type": "stream",
          "text": [
            "Language: fo    Improvement over baseline: -1.56794\n",
            "Added 4 rows of data\n",
            "Added 0 rows of data\n",
            "Added 8 rows of data\n"
          ]
        },
        {
          "name": "stderr",
          "output_type": "stream",
          "text": [
            "3it [21:31, 426.11s/it]"
          ]
        },
        {
          "name": "stdout",
          "output_type": "stream",
          "text": [
            "Language: co    Improvement over baseline: 7.65550\n"
          ]
        },
        {
          "name": "stderr",
          "output_type": "stream",
          "text": [
            "4it [26:04, 365.82s/it]"
          ]
        },
        {
          "name": "stdout",
          "output_type": "stream",
          "text": [
            "Language: hsb    Improvement over baseline: -1.89076\n"
          ]
        },
        {
          "name": "stderr",
          "output_type": "stream",
          "text": [
            "5it [28:11, 279.57s/it]"
          ]
        },
        {
          "name": "stdout",
          "output_type": "stream",
          "text": [
            "Language: bh    Improvement over baseline: -1.32159\n",
            "Added 140 rows of data\n"
          ]
        },
        {
          "name": "stderr",
          "output_type": "stream",
          "text": [
            "6it [33:47, 337.90s/it]\n"
          ]
        },
        {
          "name": "stdout",
          "output_type": "stream",
          "text": [
            "Language: cv    Improvement over baseline: 2.78422\n"
          ]
        },
        {
          "name": "stderr",
          "output_type": "stream",
          "text": [
            "1it [04:06, 246.21s/it]"
          ]
        },
        {
          "name": "stdout",
          "output_type": "stream",
          "text": [
            "Language: mg    Improvement over baseline: -0.45872\n"
          ]
        },
        {
          "name": "stderr",
          "output_type": "stream",
          "text": [
            "2it [06:57, 202.01s/it]"
          ]
        },
        {
          "name": "stdout",
          "output_type": "stream",
          "text": [
            "Language: fo    Improvement over baseline: -1.04530\n",
            "Added 3 rows of data\n",
            "Added 0 rows of data\n",
            "Added 0 rows of data\n"
          ]
        },
        {
          "name": "stderr",
          "output_type": "stream",
          "text": [
            "3it [13:22, 285.63s/it]"
          ]
        },
        {
          "name": "stdout",
          "output_type": "stream",
          "text": [
            "Language: co    Improvement over baseline: 7.65550\n",
            "Added 27 rows of data\n",
            "Added 0 rows of data\n",
            "Added 0 rows of data\n",
            "Added 0 rows of data\n",
            "Added 0 rows of data\n",
            "Added 0 rows of data\n",
            "Added 4 rows of data\n",
            "Added 9 rows of data\n"
          ]
        },
        {
          "name": "stderr",
          "output_type": "stream",
          "text": [
            "4it [22:52, 398.03s/it]"
          ]
        },
        {
          "name": "stdout",
          "output_type": "stream",
          "text": [
            "Language: hsb    Improvement over baseline: -0.63025\n"
          ]
        },
        {
          "name": "stderr",
          "output_type": "stream",
          "text": [
            "5it [25:18, 306.93s/it]"
          ]
        },
        {
          "name": "stdout",
          "output_type": "stream",
          "text": [
            "Language: bh    Improvement over baseline: 1.98238\n",
            "Added 0 rows of data\n",
            "Added 34 rows of data\n"
          ]
        },
        {
          "name": "stderr",
          "output_type": "stream",
          "text": [
            "6it [31:25, 314.20s/it]\n"
          ]
        },
        {
          "name": "stdout",
          "output_type": "stream",
          "text": [
            "Language: cv    Improvement over baseline: 4.64037\n"
          ]
        },
        {
          "name": "stderr",
          "output_type": "stream",
          "text": [
            "0it [00:00, ?it/s]"
          ]
        },
        {
          "name": "stdout",
          "output_type": "stream",
          "text": [
            "Added 178 rows of data\n",
            "Added 0 rows of data\n"
          ]
        },
        {
          "name": "stderr",
          "output_type": "stream",
          "text": [
            "1it [05:47, 347.21s/it]"
          ]
        },
        {
          "name": "stdout",
          "output_type": "stream",
          "text": [
            "Language: mg    Improvement over baseline: 0.45872\n"
          ]
        },
        {
          "name": "stderr",
          "output_type": "stream",
          "text": [
            "2it [09:12, 263.87s/it]"
          ]
        },
        {
          "name": "stdout",
          "output_type": "stream",
          "text": [
            "Language: fo    Improvement over baseline: -1.39373\n"
          ]
        },
        {
          "name": "stderr",
          "output_type": "stream",
          "text": [
            "3it [12:33, 235.04s/it]"
          ]
        },
        {
          "name": "stdout",
          "output_type": "stream",
          "text": [
            "Language: co    Improvement over baseline: 0.47847\n",
            "Added 22 rows of data\n",
            "Added 0 rows of data\n",
            "Added 0 rows of data\n",
            "Added 0 rows of data\n",
            "Added 0 rows of data\n",
            "Added 0 rows of data\n",
            "Added 0 rows of data\n",
            "Added 0 rows of data\n",
            "Added 0 rows of data\n",
            "Added 0 rows of data\n"
          ]
        },
        {
          "name": "stderr",
          "output_type": "stream",
          "text": [
            "4it [23:15, 395.83s/it]"
          ]
        },
        {
          "name": "stdout",
          "output_type": "stream",
          "text": [
            "Language: hsb    Improvement over baseline: 1.05042\n"
          ]
        },
        {
          "name": "stderr",
          "output_type": "stream",
          "text": [
            "5it [25:44, 306.83s/it]"
          ]
        },
        {
          "name": "stdout",
          "output_type": "stream",
          "text": [
            "Language: bh    Improvement over baseline: -0.22026\n",
            "Added 51 rows of data\n",
            "Added 0 rows of data\n",
            "Added 0 rows of data\n",
            "Added 0 rows of data\n",
            "Added 0 rows of data\n",
            "Added 0 rows of data\n",
            "Added 0 rows of data\n"
          ]
        },
        {
          "name": "stderr",
          "output_type": "stream",
          "text": [
            "6it [34:37, 346.17s/it]\n"
          ]
        },
        {
          "name": "stdout",
          "output_type": "stream",
          "text": [
            "Language: cv    Improvement over baseline: 0.69606\n"
          ]
        },
        {
          "name": "stderr",
          "output_type": "stream",
          "text": [
            "1it [04:06, 246.12s/it]"
          ]
        },
        {
          "name": "stdout",
          "output_type": "stream",
          "text": [
            "Language: mg    Improvement over baseline: 0.45872\n"
          ]
        },
        {
          "name": "stderr",
          "output_type": "stream",
          "text": [
            "2it [09:10, 280.13s/it]"
          ]
        },
        {
          "name": "stdout",
          "output_type": "stream",
          "text": [
            "Language: fo    Improvement over baseline: -0.69686\n",
            "Added 12 rows of data\n",
            "Added 0 rows of data\n"
          ]
        },
        {
          "name": "stderr",
          "output_type": "stream",
          "text": [
            "3it [15:10, 316.99s/it]"
          ]
        },
        {
          "name": "stdout",
          "output_type": "stream",
          "text": [
            "Language: co    Improvement over baseline: 8.61244\n",
            "Added 0 rows of data\n",
            "Added 8 rows of data\n",
            "Added 0 rows of data\n",
            "Added 0 rows of data\n",
            "Added 0 rows of data\n",
            "Added 3 rows of data\n",
            "Added 0 rows of data\n",
            "Added 1 rows of data\n"
          ]
        },
        {
          "name": "stderr",
          "output_type": "stream",
          "text": [
            "4it [24:42, 417.62s/it]"
          ]
        },
        {
          "name": "stdout",
          "output_type": "stream",
          "text": [
            "Language: hsb    Improvement over baseline: 0.00000\n"
          ]
        },
        {
          "name": "stderr",
          "output_type": "stream",
          "text": [
            "5it [26:47, 311.95s/it]"
          ]
        },
        {
          "name": "stdout",
          "output_type": "stream",
          "text": [
            "Language: bh    Improvement over baseline: -1.76211\n"
          ]
        },
        {
          "name": "stderr",
          "output_type": "stream",
          "text": [
            "6it [30:14, 302.48s/it]\n"
          ]
        },
        {
          "name": "stdout",
          "output_type": "stream",
          "text": [
            "Language: cv    Improvement over baseline: 4.17633\n"
          ]
        },
        {
          "name": "stderr",
          "output_type": "stream",
          "text": [
            "0it [00:00, ?it/s]"
          ]
        },
        {
          "name": "stdout",
          "output_type": "stream",
          "text": [
            "Added 236 rows of data\n",
            "Added 0 rows of data\n"
          ]
        },
        {
          "name": "stderr",
          "output_type": "stream",
          "text": [
            "1it [05:55, 355.05s/it]"
          ]
        },
        {
          "name": "stdout",
          "output_type": "stream",
          "text": [
            "Language: mg    Improvement over baseline: 0.45872\n"
          ]
        },
        {
          "name": "stderr",
          "output_type": "stream",
          "text": [
            "2it [09:26, 270.30s/it]"
          ]
        },
        {
          "name": "stdout",
          "output_type": "stream",
          "text": [
            "Language: fo    Improvement over baseline: 0.17422\n"
          ]
        },
        {
          "name": "stderr",
          "output_type": "stream",
          "text": [
            "3it [12:17, 225.38s/it]"
          ]
        },
        {
          "name": "stdout",
          "output_type": "stream",
          "text": [
            "Language: co    Improvement over baseline: 7.17703\n",
            "Added 15 rows of data\n",
            "Added 0 rows of data\n",
            "Added 18 rows of data\n",
            "Added 0 rows of data\n",
            "Added 0 rows of data\n",
            "Added 0 rows of data\n",
            "Added 0 rows of data\n",
            "Added 1 rows of data\n",
            "Added 0 rows of data\n"
          ]
        },
        {
          "name": "stderr",
          "output_type": "stream",
          "text": [
            "4it [22:43, 383.47s/it]"
          ]
        },
        {
          "name": "stdout",
          "output_type": "stream",
          "text": [
            "Language: hsb    Improvement over baseline: -0.63025\n",
            "Added 60 rows of data\n",
            "Added 0 rows of data\n",
            "Added 0 rows of data\n",
            "Added 0 rows of data\n"
          ]
        },
        {
          "name": "stderr",
          "output_type": "stream",
          "text": [
            "5it [27:35, 350.24s/it]"
          ]
        },
        {
          "name": "stdout",
          "output_type": "stream",
          "text": [
            "Language: bh    Improvement over baseline: 1.98238\n"
          ]
        },
        {
          "name": "stderr",
          "output_type": "stream",
          "text": [
            "6it [31:31, 315.24s/it]\n"
          ]
        },
        {
          "name": "stdout",
          "output_type": "stream",
          "text": [
            "Language: cv    Improvement over baseline: 3.71230\n"
          ]
        },
        {
          "name": "stderr",
          "output_type": "stream",
          "text": [
            "0it [00:00, ?it/s]"
          ]
        },
        {
          "name": "stdout",
          "output_type": "stream",
          "text": [
            "Added 232 rows of data\n",
            "Added 0 rows of data\n",
            "Added 0 rows of data\n",
            "Added 0 rows of data\n",
            "Added 0 rows of data\n"
          ]
        },
        {
          "name": "stderr",
          "output_type": "stream",
          "text": [
            "1it [06:57, 417.39s/it]"
          ]
        },
        {
          "name": "stdout",
          "output_type": "stream",
          "text": [
            "Language: mg    Improvement over baseline: -0.22936\n"
          ]
        },
        {
          "name": "stderr",
          "output_type": "stream",
          "text": [
            "2it [10:16, 289.23s/it]"
          ]
        },
        {
          "name": "stdout",
          "output_type": "stream",
          "text": [
            "Language: fo    Improvement over baseline: 0.00000\n",
            "Added 4 rows of data\n",
            "Added 0 rows of data\n",
            "Added 4 rows of data\n",
            "Added 0 rows of data\n"
          ]
        },
        {
          "name": "stderr",
          "output_type": "stream",
          "text": [
            "3it [17:27, 353.90s/it]"
          ]
        },
        {
          "name": "stdout",
          "output_type": "stream",
          "text": [
            "Language: co    Improvement over baseline: 11.00478\n",
            "Added 3 rows of data\n",
            "Added 1 rows of data\n",
            "Added 0 rows of data\n",
            "Added 0 rows of data\n",
            "Added 0 rows of data\n",
            "Added 5 rows of data\n",
            "Added 2 rows of data\n",
            "Added 0 rows of data\n"
          ]
        },
        {
          "name": "stderr",
          "output_type": "stream",
          "text": [
            "4it [26:55, 438.35s/it]"
          ]
        },
        {
          "name": "stdout",
          "output_type": "stream",
          "text": [
            "Language: hsb    Improvement over baseline: 1.05042\n",
            "Added 178 rows of data\n",
            "Added 0 rows of data\n"
          ]
        },
        {
          "name": "stderr",
          "output_type": "stream",
          "text": [
            "5it [31:05, 370.58s/it]"
          ]
        },
        {
          "name": "stdout",
          "output_type": "stream",
          "text": [
            "Language: bh    Improvement over baseline: 2.42291\n"
          ]
        },
        {
          "name": "stderr",
          "output_type": "stream",
          "text": [
            "6it [34:31, 345.20s/it]\n"
          ]
        },
        {
          "name": "stdout",
          "output_type": "stream",
          "text": [
            "Language: cv    Improvement over baseline: 3.01624\n"
          ]
        },
        {
          "name": "stderr",
          "output_type": "stream",
          "text": [
            "0it [00:00, ?it/s]"
          ]
        },
        {
          "name": "stdout",
          "output_type": "stream",
          "text": [
            "Added 228 rows of data\n",
            "Added 0 rows of data\n",
            "Added 0 rows of data\n",
            "Added 0 rows of data\n"
          ]
        },
        {
          "name": "stderr",
          "output_type": "stream",
          "text": [
            "1it [07:04, 424.73s/it]"
          ]
        },
        {
          "name": "stdout",
          "output_type": "stream",
          "text": [
            "Language: mg    Improvement over baseline: 0.22936\n",
            "Added 422 rows of data\n",
            "Added 0 rows of data\n",
            "Added 0 rows of data\n",
            "Added 0 rows of data\n"
          ]
        },
        {
          "name": "stderr",
          "output_type": "stream",
          "text": [
            "2it [14:33, 439.05s/it]"
          ]
        },
        {
          "name": "stdout",
          "output_type": "stream",
          "text": [
            "Language: fo    Improvement over baseline: 1.56794\n"
          ]
        },
        {
          "name": "stderr",
          "output_type": "stream",
          "text": [
            "3it [18:39, 350.55s/it]"
          ]
        },
        {
          "name": "stdout",
          "output_type": "stream",
          "text": [
            "Language: co    Improvement over baseline: 7.65550\n",
            "Added 9 rows of data\n"
          ]
        },
        {
          "name": "stderr",
          "output_type": "stream",
          "text": [
            "4it [23:55, 337.13s/it]"
          ]
        },
        {
          "name": "stdout",
          "output_type": "stream",
          "text": [
            "Language: hsb    Improvement over baseline: -0.42017\n"
          ]
        },
        {
          "name": "stderr",
          "output_type": "stream",
          "text": [
            "5it [26:15, 266.16s/it]"
          ]
        },
        {
          "name": "stdout",
          "output_type": "stream",
          "text": [
            "Language: bh    Improvement over baseline: -0.44053\n"
          ]
        },
        {
          "name": "stderr",
          "output_type": "stream",
          "text": [
            "6it [30:07, 301.19s/it]\n"
          ]
        },
        {
          "name": "stdout",
          "output_type": "stream",
          "text": [
            "Language: cv    Improvement over baseline: 2.08817\n"
          ]
        },
        {
          "name": "stderr",
          "output_type": "stream",
          "text": [
            "0it [00:00, ?it/s]"
          ]
        },
        {
          "name": "stdout",
          "output_type": "stream",
          "text": [
            "Added 205 rows of data\n"
          ]
        },
        {
          "name": "stderr",
          "output_type": "stream",
          "text": [
            "1it [04:47, 287.26s/it]"
          ]
        },
        {
          "name": "stdout",
          "output_type": "stream",
          "text": [
            "Language: mg    Improvement over baseline: 0.00000\n",
            "Added 338 rows of data\n",
            "Added 0 rows of data\n",
            "Added 0 rows of data\n",
            "Added 0 rows of data\n"
          ]
        },
        {
          "name": "stderr",
          "output_type": "stream",
          "text": [
            "2it [11:38, 359.94s/it]"
          ]
        },
        {
          "name": "stdout",
          "output_type": "stream",
          "text": [
            "Language: fo    Improvement over baseline: 2.96167\n"
          ]
        },
        {
          "name": "stderr",
          "output_type": "stream",
          "text": [
            "3it [15:07, 291.23s/it]"
          ]
        },
        {
          "name": "stdout",
          "output_type": "stream",
          "text": [
            "Language: co    Improvement over baseline: 2.39234\n",
            "Added 1 rows of data\n",
            "Added 6 rows of data\n",
            "Added 3 rows of data\n",
            "Added 0 rows of data\n",
            "Added 36 rows of data\n",
            "Added 0 rows of data\n",
            "Added 0 rows of data\n",
            "Added 0 rows of data\n",
            "Added 0 rows of data\n",
            "Added 0 rows of data\n",
            "Added 1 rows of data\n"
          ]
        },
        {
          "name": "stderr",
          "output_type": "stream",
          "text": [
            "4it [25:19, 417.68s/it]"
          ]
        },
        {
          "name": "stdout",
          "output_type": "stream",
          "text": [
            "Language: hsb    Improvement over baseline: -2.10084\n"
          ]
        },
        {
          "name": "stderr",
          "output_type": "stream",
          "text": [
            "5it [27:59, 325.06s/it]"
          ]
        },
        {
          "name": "stdout",
          "output_type": "stream",
          "text": [
            "Language: bh    Improvement over baseline: 7.48899\n",
            "Added 164 rows of data\n",
            "Added 0 rows of data\n"
          ]
        },
        {
          "name": "stderr",
          "output_type": "stream",
          "text": [
            "6it [33:37, 336.23s/it]\n"
          ]
        },
        {
          "name": "stdout",
          "output_type": "stream",
          "text": [
            "Language: cv    Improvement over baseline: 0.00000\n"
          ]
        },
        {
          "name": "stderr",
          "output_type": "stream",
          "text": [
            "0it [00:00, ?it/s]"
          ]
        },
        {
          "name": "stdout",
          "output_type": "stream",
          "text": [
            "Added 267 rows of data\n",
            "Added 0 rows of data\n",
            "Added 0 rows of data\n",
            "Added 1 rows of data\n"
          ]
        },
        {
          "name": "stderr",
          "output_type": "stream",
          "text": [
            "1it [06:16, 376.92s/it]"
          ]
        },
        {
          "name": "stdout",
          "output_type": "stream",
          "text": [
            "Language: mg    Improvement over baseline: 0.45872\n",
            "Added 341 rows of data\n",
            "Added 0 rows of data\n"
          ]
        },
        {
          "name": "stderr",
          "output_type": "stream",
          "text": [
            "2it [12:08, 361.99s/it]"
          ]
        },
        {
          "name": "stdout",
          "output_type": "stream",
          "text": [
            "Language: fo    Improvement over baseline: 4.35540\n",
            "Added 1 rows of data\n",
            "Added 7 rows of data\n",
            "Added 0 rows of data\n"
          ]
        },
        {
          "name": "stderr",
          "output_type": "stream",
          "text": [
            "3it [18:01, 357.83s/it]"
          ]
        },
        {
          "name": "stdout",
          "output_type": "stream",
          "text": [
            "Language: co    Improvement over baseline: 10.52632\n",
            "Added 12 rows of data\n",
            "Added 0 rows of data\n",
            "Added 0 rows of data\n",
            "Added 0 rows of data\n",
            "Added 6 rows of data\n",
            "Added 0 rows of data\n",
            "Added 0 rows of data\n",
            "Added 0 rows of data\n",
            "Added 0 rows of data\n",
            "Added 0 rows of data\n",
            "Added 20 rows of data\n"
          ]
        },
        {
          "name": "stderr",
          "output_type": "stream",
          "text": [
            "4it [28:11, 457.33s/it]"
          ]
        },
        {
          "name": "stdout",
          "output_type": "stream",
          "text": [
            "Language: hsb    Improvement over baseline: -1.26050\n"
          ]
        },
        {
          "name": "stderr",
          "output_type": "stream",
          "text": [
            "5it [30:27, 341.60s/it]"
          ]
        },
        {
          "name": "stdout",
          "output_type": "stream",
          "text": [
            "Language: bh    Improvement over baseline: 1.32159\n"
          ]
        },
        {
          "name": "stderr",
          "output_type": "stream",
          "text": [
            "6it [33:01, 330.33s/it]\n"
          ]
        },
        {
          "name": "stdout",
          "output_type": "stream",
          "text": [
            "Language: cv    Improvement over baseline: 1.39211\n"
          ]
        },
        {
          "name": "stderr",
          "output_type": "stream",
          "text": [
            "0it [00:00, ?it/s]"
          ]
        },
        {
          "name": "stdout",
          "output_type": "stream",
          "text": [
            "Added 277 rows of data\n",
            "Added 0 rows of data\n",
            "Added 0 rows of data\n",
            "Added 0 rows of data\n"
          ]
        },
        {
          "name": "stderr",
          "output_type": "stream",
          "text": [
            "1it [06:12, 372.21s/it]"
          ]
        },
        {
          "name": "stdout",
          "output_type": "stream",
          "text": [
            "Language: mg    Improvement over baseline: 0.45872\n"
          ]
        },
        {
          "name": "stderr",
          "output_type": "stream",
          "text": [
            "2it [09:12, 259.21s/it]"
          ]
        },
        {
          "name": "stdout",
          "output_type": "stream",
          "text": [
            "Language: fo    Improvement over baseline: -1.56794\n",
            "Added 7 rows of data\n",
            "Added 0 rows of data\n",
            "Added 8 rows of data\n"
          ]
        },
        {
          "name": "stderr",
          "output_type": "stream",
          "text": [
            "3it [14:55, 297.76s/it]"
          ]
        },
        {
          "name": "stdout",
          "output_type": "stream",
          "text": [
            "Language: co    Improvement over baseline: 4.78469\n",
            "Added 7 rows of data\n",
            "Added 1 rows of data\n",
            "Added 0 rows of data\n",
            "Added 13 rows of data\n",
            "Added 0 rows of data\n"
          ]
        },
        {
          "name": "stderr",
          "output_type": "stream",
          "text": [
            "4it [21:47, 342.78s/it]"
          ]
        },
        {
          "name": "stdout",
          "output_type": "stream",
          "text": [
            "Language: hsb    Improvement over baseline: 0.00000\n"
          ]
        },
        {
          "name": "stderr",
          "output_type": "stream",
          "text": [
            "5it [24:36, 279.93s/it]"
          ]
        },
        {
          "name": "stdout",
          "output_type": "stream",
          "text": [
            "Language: bh    Improvement over baseline: 1.76211\n"
          ]
        },
        {
          "name": "stderr",
          "output_type": "stream",
          "text": [
            "6it [28:55, 289.30s/it]\n"
          ]
        },
        {
          "name": "stdout",
          "output_type": "stream",
          "text": [
            "Language: cv    Improvement over baseline: 1.16009\n"
          ]
        },
        {
          "name": "stderr",
          "output_type": "stream",
          "text": [
            "1it [02:44, 164.25s/it]"
          ]
        },
        {
          "name": "stdout",
          "output_type": "stream",
          "text": [
            "Language: mg    Improvement over baseline: 0.68807\n"
          ]
        },
        {
          "name": "stderr",
          "output_type": "stream",
          "text": [
            "2it [06:41, 207.25s/it]"
          ]
        },
        {
          "name": "stdout",
          "output_type": "stream",
          "text": [
            "Language: fo    Improvement over baseline: 0.00000\n",
            "Added 3 rows of data\n",
            "Added 0 rows of data\n"
          ]
        },
        {
          "name": "stderr",
          "output_type": "stream",
          "text": [
            "3it [11:55, 256.00s/it]"
          ]
        },
        {
          "name": "stdout",
          "output_type": "stream",
          "text": [
            "Language: co    Improvement over baseline: 3.34928\n"
          ]
        },
        {
          "name": "stderr",
          "output_type": "stream",
          "text": [
            "4it [15:45, 245.60s/it]"
          ]
        },
        {
          "name": "stdout",
          "output_type": "stream",
          "text": [
            "Language: hsb    Improvement over baseline: -1.68067\n"
          ]
        },
        {
          "name": "stderr",
          "output_type": "stream",
          "text": [
            "5it [17:50, 202.31s/it]"
          ]
        },
        {
          "name": "stdout",
          "output_type": "stream",
          "text": [
            "Language: bh    Improvement over baseline: 0.66079\n",
            "Added 92 rows of data\n",
            "Added 0 rows of data\n"
          ]
        },
        {
          "name": "stderr",
          "output_type": "stream",
          "text": [
            "6it [23:07, 231.30s/it]\n"
          ]
        },
        {
          "name": "stdout",
          "output_type": "stream",
          "text": [
            "Language: cv    Improvement over baseline: 3.01624\n"
          ]
        },
        {
          "name": "stderr",
          "output_type": "stream",
          "text": [
            "1it [04:10, 250.63s/it]"
          ]
        },
        {
          "name": "stdout",
          "output_type": "stream",
          "text": [
            "Language: mg    Improvement over baseline: 0.45872\n",
            "Added 295 rows of data\n",
            "Added 0 rows of data\n",
            "Added 0 rows of data\n"
          ]
        },
        {
          "name": "stderr",
          "output_type": "stream",
          "text": [
            "2it [10:20, 320.88s/it]"
          ]
        },
        {
          "name": "stdout",
          "output_type": "stream",
          "text": [
            "Language: fo    Improvement over baseline: 2.43902\n",
            "Added 17 rows of data\n",
            "Added 0 rows of data\n",
            "Added 0 rows of data\n",
            "Added 0 rows of data\n",
            "Added 0 rows of data\n"
          ]
        },
        {
          "name": "stderr",
          "output_type": "stream",
          "text": [
            "3it [17:15, 363.57s/it]"
          ]
        },
        {
          "name": "stdout",
          "output_type": "stream",
          "text": [
            "Language: co    Improvement over baseline: 5.26316\n"
          ]
        },
        {
          "name": "stderr",
          "output_type": "stream",
          "text": [
            "4it [20:53, 306.32s/it]"
          ]
        },
        {
          "name": "stdout",
          "output_type": "stream",
          "text": [
            "Language: hsb    Improvement over baseline: -0.84034\n",
            "Added 98 rows of data\n",
            "Added 0 rows of data\n"
          ]
        },
        {
          "name": "stderr",
          "output_type": "stream",
          "text": [
            "5it [24:55, 282.93s/it]"
          ]
        },
        {
          "name": "stdout",
          "output_type": "stream",
          "text": [
            "Language: bh    Improvement over baseline: 7.48899\n",
            "Added 99 rows of data\n"
          ]
        },
        {
          "name": "stderr",
          "output_type": "stream",
          "text": [
            "6it [29:58, 299.75s/it]\n"
          ]
        },
        {
          "name": "stdout",
          "output_type": "stream",
          "text": [
            "Language: cv    Improvement over baseline: 3.24826\n"
          ]
        },
        {
          "name": "stderr",
          "output_type": "stream",
          "text": [
            "0it [00:00, ?it/s]"
          ]
        },
        {
          "name": "stdout",
          "output_type": "stream",
          "text": [
            "Added 254 rows of data\n",
            "Added 0 rows of data\n",
            "Added 0 rows of data\n",
            "Added 0 rows of data\n",
            "Added 0 rows of data\n"
          ]
        },
        {
          "name": "stderr",
          "output_type": "stream",
          "text": [
            "1it [06:46, 407.00s/it]"
          ]
        },
        {
          "name": "stdout",
          "output_type": "stream",
          "text": [
            "Language: mg    Improvement over baseline: -1.14679\n"
          ]
        },
        {
          "name": "stderr",
          "output_type": "stream",
          "text": [
            "2it [09:48, 274.31s/it]"
          ]
        },
        {
          "name": "stdout",
          "output_type": "stream",
          "text": [
            "Language: fo    Improvement over baseline: -2.78746\n",
            "Added 1 rows of data\n",
            "Added 14 rows of data\n"
          ]
        },
        {
          "name": "stderr",
          "output_type": "stream",
          "text": [
            "3it [15:07, 294.82s/it]"
          ]
        },
        {
          "name": "stdout",
          "output_type": "stream",
          "text": [
            "Language: co    Improvement over baseline: 8.13397\n"
          ]
        },
        {
          "name": "stderr",
          "output_type": "stream",
          "text": [
            "4it [19:53, 291.44s/it]"
          ]
        },
        {
          "name": "stdout",
          "output_type": "stream",
          "text": [
            "Language: hsb    Improvement over baseline: -3.57143\n"
          ]
        },
        {
          "name": "stderr",
          "output_type": "stream",
          "text": [
            "5it [22:58, 252.83s/it]"
          ]
        },
        {
          "name": "stdout",
          "output_type": "stream",
          "text": [
            "Language: bh    Improvement over baseline: 3.52423\n"
          ]
        },
        {
          "name": "stderr",
          "output_type": "stream",
          "text": [
            "6it [27:34, 275.69s/it]\n"
          ]
        },
        {
          "name": "stdout",
          "output_type": "stream",
          "text": [
            "Language: cv    Improvement over baseline: -0.23202\n"
          ]
        },
        {
          "name": "stderr",
          "output_type": "stream",
          "text": [
            "0it [00:00, ?it/s]"
          ]
        },
        {
          "name": "stdout",
          "output_type": "stream",
          "text": [
            "Added 329 rows of data\n",
            "Added 0 rows of data\n",
            "Added 0 rows of data\n",
            "Added 0 rows of data\n"
          ]
        },
        {
          "name": "stderr",
          "output_type": "stream",
          "text": [
            "1it [06:20, 380.14s/it]"
          ]
        },
        {
          "name": "stdout",
          "output_type": "stream",
          "text": [
            "Language: mg    Improvement over baseline: 0.45872\n"
          ]
        },
        {
          "name": "stderr",
          "output_type": "stream",
          "text": [
            "2it [09:55, 283.25s/it]"
          ]
        },
        {
          "name": "stdout",
          "output_type": "stream",
          "text": [
            "Language: fo    Improvement over baseline: 0.87108\n",
            "Added 15 rows of data\n",
            "Added 0 rows of data\n",
            "Added 0 rows of data\n",
            "Added 0 rows of data\n",
            "Added 0 rows of data\n"
          ]
        },
        {
          "name": "stderr",
          "output_type": "stream",
          "text": [
            "3it [16:40, 338.71s/it]"
          ]
        },
        {
          "name": "stdout",
          "output_type": "stream",
          "text": [
            "Language: co    Improvement over baseline: 10.04785\n",
            "Added 14 rows of data\n",
            "Added 0 rows of data\n",
            "Added 0 rows of data\n",
            "Added 0 rows of data\n",
            "Added 1 rows of data\n",
            "Added 2 rows of data\n",
            "Added 0 rows of data\n",
            "Added 0 rows of data\n"
          ]
        },
        {
          "name": "stderr",
          "output_type": "stream",
          "text": [
            "4it [25:09, 406.20s/it]"
          ]
        },
        {
          "name": "stdout",
          "output_type": "stream",
          "text": [
            "Language: hsb    Improvement over baseline: -2.52101\n"
          ]
        },
        {
          "name": "stderr",
          "output_type": "stream",
          "text": [
            "5it [28:08, 324.29s/it]"
          ]
        },
        {
          "name": "stdout",
          "output_type": "stream",
          "text": [
            "Language: bh    Improvement over baseline: 9.91189\n",
            "Added 0 rows of data\n",
            "Added 36 rows of data\n",
            "Added 0 rows of data\n",
            "Added 0 rows of data\n",
            "Added 0 rows of data\n",
            "Added 0 rows of data\n"
          ]
        },
        {
          "name": "stderr",
          "output_type": "stream",
          "text": [
            "6it [35:43, 357.28s/it]\n"
          ]
        },
        {
          "name": "stdout",
          "output_type": "stream",
          "text": [
            "Language: cv    Improvement over baseline: 4.40835\n"
          ]
        },
        {
          "name": "stderr",
          "output_type": "stream",
          "text": [
            "0it [00:00, ?it/s]"
          ]
        },
        {
          "name": "stdout",
          "output_type": "stream",
          "text": [
            "Added 370 rows of data\n",
            "Added 0 rows of data\n",
            "Added 0 rows of data\n"
          ]
        },
        {
          "name": "stderr",
          "output_type": "stream",
          "text": [
            "1it [05:53, 353.82s/it]"
          ]
        },
        {
          "name": "stdout",
          "output_type": "stream",
          "text": [
            "Language: mg    Improvement over baseline: 0.00000\n",
            "Added 392 rows of data\n",
            "Added 0 rows of data\n"
          ]
        },
        {
          "name": "stderr",
          "output_type": "stream",
          "text": [
            "2it [11:26, 341.64s/it]"
          ]
        },
        {
          "name": "stdout",
          "output_type": "stream",
          "text": [
            "Language: fo    Improvement over baseline: 2.43902\n"
          ]
        },
        {
          "name": "stderr",
          "output_type": "stream",
          "text": [
            "3it [14:54, 280.29s/it]"
          ]
        },
        {
          "name": "stdout",
          "output_type": "stream",
          "text": [
            "Language: co    Improvement over baseline: 3.34928\n",
            "Added 2 rows of data\n",
            "Added 5 rows of data\n",
            "Added 0 rows of data\n",
            "Added 0 rows of data\n",
            "Added 20 rows of data\n",
            "Added 0 rows of data\n",
            "Added 0 rows of data\n",
            "Added 0 rows of data\n",
            "Added 0 rows of data\n",
            "Added 0 rows of data\n",
            "Added 0 rows of data\n",
            "Added 0 rows of data\n",
            "Added 0 rows of data\n",
            "Added 0 rows of data\n",
            "Added 0 rows of data\n"
          ]
        },
        {
          "name": "stderr",
          "output_type": "stream",
          "text": [
            "4it [27:32, 469.04s/it]"
          ]
        },
        {
          "name": "stdout",
          "output_type": "stream",
          "text": [
            "Language: hsb    Improvement over baseline: 0.63025\n",
            "Added 193 rows of data\n",
            "Added 0 rows of data\n",
            "Added 0 rows of data\n",
            "Added 0 rows of data\n"
          ]
        },
        {
          "name": "stderr",
          "output_type": "stream",
          "text": [
            "5it [32:22, 404.37s/it]"
          ]
        },
        {
          "name": "stdout",
          "output_type": "stream",
          "text": [
            "Language: bh    Improvement over baseline: 4.40529\n"
          ]
        },
        {
          "name": "stderr",
          "output_type": "stream",
          "text": [
            "6it [36:51, 368.62s/it]\n"
          ]
        },
        {
          "name": "stdout",
          "output_type": "stream",
          "text": [
            "Language: cv    Improvement over baseline: -4.64037\n"
          ]
        },
        {
          "name": "stderr",
          "output_type": "stream",
          "text": [
            "1it [03:22, 202.08s/it]"
          ]
        },
        {
          "name": "stdout",
          "output_type": "stream",
          "text": [
            "Language: mg    Improvement over baseline: 0.00000\n",
            "Added 272 rows of data\n",
            "Added 0 rows of data\n",
            "Added 0 rows of data\n"
          ]
        },
        {
          "name": "stderr",
          "output_type": "stream",
          "text": [
            "2it [09:26, 297.51s/it]"
          ]
        },
        {
          "name": "stdout",
          "output_type": "stream",
          "text": [
            "Language: fo    Improvement over baseline: 0.17422\n"
          ]
        },
        {
          "name": "stderr",
          "output_type": "stream",
          "text": [
            "3it [13:09, 263.52s/it]"
          ]
        },
        {
          "name": "stdout",
          "output_type": "stream",
          "text": [
            "Language: co    Improvement over baseline: 6.22010\n",
            "Added 6 rows of data\n",
            "Added 0 rows of data\n",
            "Added 0 rows of data\n",
            "Added 0 rows of data\n",
            "Added 0 rows of data\n",
            "Added 0 rows of data\n",
            "Added 0 rows of data\n",
            "Added 0 rows of data\n",
            "Added 0 rows of data\n",
            "Added 0 rows of data\n",
            "Added 0 rows of data\n",
            "Added 0 rows of data\n",
            "Added 0 rows of data\n",
            "Added 0 rows of data\n",
            "Added 0 rows of data\n",
            "Added 0 rows of data\n"
          ]
        },
        {
          "name": "stderr",
          "output_type": "stream",
          "text": [
            "4it [25:01, 440.66s/it]"
          ]
        },
        {
          "name": "stdout",
          "output_type": "stream",
          "text": [
            "Language: hsb    Improvement over baseline: -0.84034\n"
          ]
        },
        {
          "name": "stderr",
          "output_type": "stream",
          "text": [
            "5it [28:09, 349.49s/it]"
          ]
        },
        {
          "name": "stdout",
          "output_type": "stream",
          "text": [
            "Language: bh    Improvement over baseline: 1.54185\n",
            "Added 0 rows of data\n",
            "Added 17 rows of data\n",
            "Added 35 rows of data\n",
            "Added 0 rows of data\n"
          ]
        },
        {
          "name": "stderr",
          "output_type": "stream",
          "text": [
            "6it [34:23, 343.97s/it]\n"
          ]
        },
        {
          "name": "stdout",
          "output_type": "stream",
          "text": [
            "Language: cv    Improvement over baseline: 3.71230\n"
          ]
        },
        {
          "name": "stderr",
          "output_type": "stream",
          "text": [
            "1it [03:38, 218.04s/it]"
          ]
        },
        {
          "name": "stdout",
          "output_type": "stream",
          "text": [
            "Language: mg    Improvement over baseline: 0.00000\n",
            "Added 254 rows of data\n",
            "Added 0 rows of data\n",
            "Added 0 rows of data\n",
            "Added 0 rows of data\n"
          ]
        },
        {
          "name": "stderr",
          "output_type": "stream",
          "text": [
            "2it [10:52, 345.28s/it]"
          ]
        },
        {
          "name": "stdout",
          "output_type": "stream",
          "text": [
            "Language: fo    Improvement over baseline: 0.69686\n"
          ]
        },
        {
          "name": "stderr",
          "output_type": "stream",
          "text": [
            "3it [14:57, 299.35s/it]"
          ]
        },
        {
          "name": "stdout",
          "output_type": "stream",
          "text": [
            "Language: co    Improvement over baseline: 6.69856\n"
          ]
        },
        {
          "name": "stderr",
          "output_type": "stream",
          "text": [
            "4it [18:09, 257.04s/it]"
          ]
        },
        {
          "name": "stdout",
          "output_type": "stream",
          "text": [
            "Language: hsb    Improvement over baseline: -4.20168\n"
          ]
        },
        {
          "name": "stderr",
          "output_type": "stream",
          "text": [
            "5it [20:30, 215.45s/it]"
          ]
        },
        {
          "name": "stdout",
          "output_type": "stream",
          "text": [
            "Language: bh    Improvement over baseline: 3.74449\n",
            "Added 0 rows of data\n",
            "Added 0 rows of data\n",
            "Added 7 rows of data\n"
          ]
        },
        {
          "name": "stderr",
          "output_type": "stream",
          "text": [
            "6it [26:49, 268.30s/it]\n"
          ]
        },
        {
          "name": "stdout",
          "output_type": "stream",
          "text": [
            "Language: cv    Improvement over baseline: 3.94432\n"
          ]
        },
        {
          "name": "stderr",
          "output_type": "stream",
          "text": [
            "0it [00:00, ?it/s]"
          ]
        },
        {
          "name": "stdout",
          "output_type": "stream",
          "text": [
            "Added 255 rows of data\n"
          ]
        },
        {
          "name": "stderr",
          "output_type": "stream",
          "text": [
            "1it [05:13, 313.99s/it]"
          ]
        },
        {
          "name": "stdout",
          "output_type": "stream",
          "text": [
            "Language: mg    Improvement over baseline: 0.45872\n"
          ]
        },
        {
          "name": "stderr",
          "output_type": "stream",
          "text": [
            "2it [08:06, 231.02s/it]"
          ]
        },
        {
          "name": "stdout",
          "output_type": "stream",
          "text": [
            "Language: fo    Improvement over baseline: -4.70383\n",
            "Added 19 rows of data\n",
            "Added 0 rows of data\n"
          ]
        },
        {
          "name": "stderr",
          "output_type": "stream",
          "text": [
            "3it [14:11, 292.01s/it]"
          ]
        },
        {
          "name": "stdout",
          "output_type": "stream",
          "text": [
            "Language: co    Improvement over baseline: 9.56938\n"
          ]
        },
        {
          "name": "stderr",
          "output_type": "stream",
          "text": [
            "4it [17:06, 245.86s/it]"
          ]
        },
        {
          "name": "stdout",
          "output_type": "stream",
          "text": [
            "Language: hsb    Improvement over baseline: -2.52101\n"
          ]
        },
        {
          "name": "stderr",
          "output_type": "stream",
          "text": [
            "5it [19:57, 218.72s/it]"
          ]
        },
        {
          "name": "stdout",
          "output_type": "stream",
          "text": [
            "Language: bh    Improvement over baseline: 1.76211\n",
            "Added 0 rows of data\n"
          ]
        },
        {
          "name": "stderr",
          "output_type": "stream",
          "text": [
            "6it [25:36, 256.11s/it]\n"
          ]
        },
        {
          "name": "stdout",
          "output_type": "stream",
          "text": [
            "Language: cv    Improvement over baseline: 0.46404\n"
          ]
        },
        {
          "name": "stderr",
          "output_type": "stream",
          "text": [
            "0it [00:00, ?it/s]"
          ]
        },
        {
          "name": "stdout",
          "output_type": "stream",
          "text": [
            "Added 246 rows of data\n",
            "Added 0 rows of data\n",
            "Added 0 rows of data\n",
            "Added 0 rows of data\n",
            "Added 0 rows of data\n"
          ]
        },
        {
          "name": "stderr",
          "output_type": "stream",
          "text": [
            "1it [07:25, 445.13s/it]"
          ]
        },
        {
          "name": "stdout",
          "output_type": "stream",
          "text": [
            "Language: mg    Improvement over baseline: 0.00000\n"
          ]
        },
        {
          "name": "stderr",
          "output_type": "stream",
          "text": [
            "2it [11:23, 323.56s/it]"
          ]
        },
        {
          "name": "stdout",
          "output_type": "stream",
          "text": [
            "Language: fo    Improvement over baseline: 0.69686\n"
          ]
        },
        {
          "name": "stderr",
          "output_type": "stream",
          "text": [
            "3it [15:03, 276.39s/it]"
          ]
        },
        {
          "name": "stdout",
          "output_type": "stream",
          "text": [
            "Language: co    Improvement over baseline: 3.82775\n"
          ]
        },
        {
          "name": "stderr",
          "output_type": "stream",
          "text": [
            "4it [18:57, 259.42s/it]"
          ]
        },
        {
          "name": "stdout",
          "output_type": "stream",
          "text": [
            "Language: hsb    Improvement over baseline: -1.68067\n"
          ]
        },
        {
          "name": "stderr",
          "output_type": "stream",
          "text": [
            "5it [21:47, 227.09s/it]"
          ]
        },
        {
          "name": "stdout",
          "output_type": "stream",
          "text": [
            "Language: bh    Improvement over baseline: 4.40529\n"
          ]
        },
        {
          "name": "stderr",
          "output_type": "stream",
          "text": [
            "6it [26:03, 260.55s/it]\n"
          ]
        },
        {
          "name": "stdout",
          "output_type": "stream",
          "text": [
            "Language: cv    Improvement over baseline: 6.72854\n"
          ]
        },
        {
          "name": "stderr",
          "output_type": "stream",
          "text": [
            "0it [00:00, ?it/s]"
          ]
        },
        {
          "name": "stdout",
          "output_type": "stream",
          "text": [
            "Added 297 rows of data\n",
            "Added 0 rows of data\n",
            "Added 0 rows of data\n"
          ]
        },
        {
          "name": "stderr",
          "output_type": "stream",
          "text": [
            "1it [05:17, 317.48s/it]"
          ]
        },
        {
          "name": "stdout",
          "output_type": "stream",
          "text": [
            "Language: mg    Improvement over baseline: 0.45872\n",
            "Added 338 rows of data\n",
            "Added 0 rows of data\n",
            "Added 0 rows of data\n",
            "Added 0 rows of data\n",
            "Added 0 rows of data\n"
          ]
        },
        {
          "name": "stderr",
          "output_type": "stream",
          "text": [
            "2it [11:59, 367.34s/it]"
          ]
        },
        {
          "name": "stdout",
          "output_type": "stream",
          "text": [
            "Language: fo    Improvement over baseline: -0.69686\n",
            "Added 10 rows of data\n",
            "Added 7 rows of data\n"
          ]
        },
        {
          "name": "stderr",
          "output_type": "stream",
          "text": [
            "3it [17:04, 338.73s/it]"
          ]
        },
        {
          "name": "stdout",
          "output_type": "stream",
          "text": [
            "Language: co    Improvement over baseline: 7.65550\n"
          ]
        },
        {
          "name": "stderr",
          "output_type": "stream",
          "text": [
            "4it [21:25, 307.95s/it]"
          ]
        },
        {
          "name": "stdout",
          "output_type": "stream",
          "text": [
            "Language: hsb    Improvement over baseline: -3.57143\n",
            "Added 122 rows of data\n",
            "Added 3 rows of data\n"
          ]
        },
        {
          "name": "stderr",
          "output_type": "stream",
          "text": [
            "5it [25:15, 279.85s/it]"
          ]
        },
        {
          "name": "stdout",
          "output_type": "stream",
          "text": [
            "Language: bh    Improvement over baseline: 6.82819\n",
            "Added 84 rows of data\n",
            "Added 0 rows of data\n"
          ]
        },
        {
          "name": "stderr",
          "output_type": "stream",
          "text": [
            "6it [30:32, 305.38s/it]\n"
          ]
        },
        {
          "name": "stdout",
          "output_type": "stream",
          "text": [
            "Language: cv    Improvement over baseline: 6.49652\n"
          ]
        },
        {
          "name": "stderr",
          "output_type": "stream",
          "text": [
            "1it [03:07, 187.35s/it]"
          ]
        },
        {
          "name": "stdout",
          "output_type": "stream",
          "text": [
            "Language: mg    Improvement over baseline: 0.00000\n",
            "Added 250 rows of data\n",
            "Added 0 rows of data\n",
            "Added 0 rows of data\n",
            "Added 0 rows of data\n",
            "Added 0 rows of data\n"
          ]
        },
        {
          "name": "stderr",
          "output_type": "stream",
          "text": [
            "2it [09:57, 318.66s/it]"
          ]
        },
        {
          "name": "stdout",
          "output_type": "stream",
          "text": [
            "Language: fo    Improvement over baseline: 2.78746\n",
            "Added 17 rows of data\n"
          ]
        },
        {
          "name": "stderr",
          "output_type": "stream",
          "text": [
            "3it [14:33, 299.21s/it]"
          ]
        },
        {
          "name": "stdout",
          "output_type": "stream",
          "text": [
            "Language: co    Improvement over baseline: 5.74163\n",
            "Added 5 rows of data\n",
            "Added 0 rows of data\n",
            "Added 0 rows of data\n",
            "Added 0 rows of data\n",
            "Added 0 rows of data\n"
          ]
        },
        {
          "name": "stderr",
          "output_type": "stream",
          "text": [
            "4it [21:13, 338.87s/it]"
          ]
        },
        {
          "name": "stdout",
          "output_type": "stream",
          "text": [
            "Language: hsb    Improvement over baseline: -0.84034\n"
          ]
        },
        {
          "name": "stderr",
          "output_type": "stream",
          "text": [
            "5it [24:02, 277.63s/it]"
          ]
        },
        {
          "name": "stdout",
          "output_type": "stream",
          "text": [
            "Language: bh    Improvement over baseline: 4.18502\n",
            "Added 93 rows of data\n"
          ]
        },
        {
          "name": "stderr",
          "output_type": "stream",
          "text": [
            "6it [28:51, 288.54s/it]\n"
          ]
        },
        {
          "name": "stdout",
          "output_type": "stream",
          "text": [
            "Language: cv    Improvement over baseline: 3.24826\n"
          ]
        },
        {
          "name": "stderr",
          "output_type": "stream",
          "text": [
            "0it [00:00, ?it/s]"
          ]
        },
        {
          "name": "stdout",
          "output_type": "stream",
          "text": [
            "Added 218 rows of data\n"
          ]
        },
        {
          "name": "stderr",
          "output_type": "stream",
          "text": [
            "1it [04:22, 262.67s/it]"
          ]
        },
        {
          "name": "stdout",
          "output_type": "stream",
          "text": [
            "Language: mg    Improvement over baseline: -0.45872\n"
          ]
        },
        {
          "name": "stderr",
          "output_type": "stream",
          "text": [
            "2it [08:14, 244.35s/it]"
          ]
        },
        {
          "name": "stdout",
          "output_type": "stream",
          "text": [
            "Language: fo    Improvement over baseline: -0.87108\n"
          ]
        },
        {
          "name": "stderr",
          "output_type": "stream",
          "text": [
            "3it [11:02, 209.73s/it]"
          ]
        },
        {
          "name": "stdout",
          "output_type": "stream",
          "text": [
            "Language: co    Improvement over baseline: 2.87081\n",
            "Added 5 rows of data\n",
            "Added 5 rows of data\n",
            "Added 0 rows of data\n",
            "Added 17 rows of data\n",
            "Added 0 rows of data\n"
          ]
        },
        {
          "name": "stderr",
          "output_type": "stream",
          "text": [
            "4it [17:45, 286.02s/it]"
          ]
        },
        {
          "name": "stdout",
          "output_type": "stream",
          "text": [
            "Language: hsb    Improvement over baseline: -4.41176\n",
            "Added 150 rows of data\n",
            "Added 0 rows of data\n"
          ]
        },
        {
          "name": "stderr",
          "output_type": "stream",
          "text": [
            "5it [21:36, 265.98s/it]"
          ]
        },
        {
          "name": "stdout",
          "output_type": "stream",
          "text": [
            "Language: bh    Improvement over baseline: 3.96476\n",
            "Added 0 rows of data\n"
          ]
        },
        {
          "name": "stderr",
          "output_type": "stream",
          "text": [
            "6it [26:21, 263.51s/it]\n"
          ]
        },
        {
          "name": "stdout",
          "output_type": "stream",
          "text": [
            "Language: cv    Improvement over baseline: 4.17633\n"
          ]
        },
        {
          "name": "stderr",
          "output_type": "stream",
          "text": [
            "0it [00:00, ?it/s]"
          ]
        },
        {
          "name": "stdout",
          "output_type": "stream",
          "text": [
            "Added 322 rows of data\n",
            "Added 0 rows of data\n",
            "Added 0 rows of data\n"
          ]
        },
        {
          "name": "stderr",
          "output_type": "stream",
          "text": [
            "1it [05:27, 327.67s/it]"
          ]
        },
        {
          "name": "stdout",
          "output_type": "stream",
          "text": [
            "Language: mg    Improvement over baseline: 0.45872\n",
            "Added 213 rows of data\n",
            "Added 0 rows of data\n",
            "Added 0 rows of data\n"
          ]
        },
        {
          "name": "stderr",
          "output_type": "stream",
          "text": [
            "2it [11:16, 340.19s/it]"
          ]
        },
        {
          "name": "stdout",
          "output_type": "stream",
          "text": [
            "Language: fo    Improvement over baseline: -0.34843\n",
            "Added 15 rows of data\n"
          ]
        },
        {
          "name": "stderr",
          "output_type": "stream",
          "text": [
            "3it [15:51, 310.35s/it]"
          ]
        },
        {
          "name": "stdout",
          "output_type": "stream",
          "text": [
            "Language: co    Improvement over baseline: 8.61244\n",
            "Added 0 rows of data\n",
            "Added 0 rows of data\n",
            "Added 0 rows of data\n",
            "Added 0 rows of data\n",
            "Added 0 rows of data\n",
            "Added 0 rows of data\n",
            "Added 0 rows of data\n"
          ]
        },
        {
          "name": "stderr",
          "output_type": "stream",
          "text": [
            "4it [23:27, 367.82s/it]"
          ]
        },
        {
          "name": "stdout",
          "output_type": "stream",
          "text": [
            "Language: hsb    Improvement over baseline: -1.47059\n"
          ]
        },
        {
          "name": "stderr",
          "output_type": "stream",
          "text": [
            "5it [25:35, 281.24s/it]"
          ]
        },
        {
          "name": "stdout",
          "output_type": "stream",
          "text": [
            "Language: bh    Improvement over baseline: 1.32159\n"
          ]
        },
        {
          "name": "stderr",
          "output_type": "stream",
          "text": [
            "6it [29:25, 294.19s/it]\n"
          ]
        },
        {
          "name": "stdout",
          "output_type": "stream",
          "text": [
            "Language: cv    Improvement over baseline: 3.94432\n"
          ]
        },
        {
          "name": "stderr",
          "output_type": "stream",
          "text": [
            "0it [00:00, ?it/s]"
          ]
        },
        {
          "name": "stdout",
          "output_type": "stream",
          "text": [
            "Added 284 rows of data\n",
            "Added 0 rows of data\n",
            "Added 0 rows of data\n",
            "Added 0 rows of data\n",
            "Added 0 rows of data\n"
          ]
        },
        {
          "name": "stderr",
          "output_type": "stream",
          "text": [
            "1it [06:21, 381.71s/it]"
          ]
        },
        {
          "name": "stdout",
          "output_type": "stream",
          "text": [
            "Language: mg    Improvement over baseline: 0.45872\n",
            "Added 289 rows of data\n",
            "Added 0 rows of data\n",
            "Added 0 rows of data\n"
          ]
        },
        {
          "name": "stderr",
          "output_type": "stream",
          "text": [
            "2it [12:12, 363.37s/it]"
          ]
        },
        {
          "name": "stdout",
          "output_type": "stream",
          "text": [
            "Language: fo    Improvement over baseline: 0.00000\n"
          ]
        },
        {
          "name": "stderr",
          "output_type": "stream",
          "text": [
            "3it [16:23, 312.31s/it]"
          ]
        },
        {
          "name": "stdout",
          "output_type": "stream",
          "text": [
            "Language: co    Improvement over baseline: 11.00478\n"
          ]
        },
        {
          "name": "stderr",
          "output_type": "stream",
          "text": [
            "4it [19:48, 269.99s/it]"
          ]
        },
        {
          "name": "stdout",
          "output_type": "stream",
          "text": [
            "Language: hsb    Improvement over baseline: -1.68067\n",
            "Added 69 rows of data\n"
          ]
        },
        {
          "name": "stderr",
          "output_type": "stream",
          "text": [
            "5it [23:17, 247.97s/it]"
          ]
        },
        {
          "name": "stdout",
          "output_type": "stream",
          "text": [
            "Language: bh    Improvement over baseline: 5.94714\n",
            "Added 13 rows of data\n",
            "Added 0 rows of data\n"
          ]
        },
        {
          "name": "stderr",
          "output_type": "stream",
          "text": [
            "6it [28:28, 284.78s/it]\n"
          ]
        },
        {
          "name": "stdout",
          "output_type": "stream",
          "text": [
            "Language: cv    Improvement over baseline: 2.55220\n"
          ]
        },
        {
          "name": "stderr",
          "output_type": "stream",
          "text": [
            "1it [04:01, 241.09s/it]"
          ]
        },
        {
          "name": "stdout",
          "output_type": "stream",
          "text": [
            "Language: mg    Improvement over baseline: 0.00000\n"
          ]
        },
        {
          "name": "stderr",
          "output_type": "stream",
          "text": [
            "2it [07:56, 237.68s/it]"
          ]
        },
        {
          "name": "stdout",
          "output_type": "stream",
          "text": [
            "Language: fo    Improvement over baseline: 0.00000\n"
          ]
        },
        {
          "name": "stderr",
          "output_type": "stream",
          "text": [
            "3it [10:47, 207.32s/it]"
          ]
        },
        {
          "name": "stdout",
          "output_type": "stream",
          "text": [
            "Language: co    Improvement over baseline: 3.34928\n",
            "Added 2 rows of data\n",
            "Added 0 rows of data\n",
            "Added 0 rows of data\n",
            "Added 0 rows of data\n",
            "Added 4 rows of data\n",
            "Added 0 rows of data\n",
            "Added 0 rows of data\n",
            "Added 0 rows of data\n",
            "Added 0 rows of data\n",
            "Added 0 rows of data\n",
            "Added 0 rows of data\n",
            "Added 2 rows of data\n",
            "Added 0 rows of data\n"
          ]
        },
        {
          "name": "stderr",
          "output_type": "stream",
          "text": [
            "4it [21:15, 373.19s/it]"
          ]
        },
        {
          "name": "stdout",
          "output_type": "stream",
          "text": [
            "Language: hsb    Improvement over baseline: -0.63025\n"
          ]
        },
        {
          "name": "stderr",
          "output_type": "stream",
          "text": [
            "5it [24:19, 305.01s/it]"
          ]
        },
        {
          "name": "stdout",
          "output_type": "stream",
          "text": [
            "Language: bh    Improvement over baseline: 7.26872\n",
            "Added 1 rows of data\n",
            "Added 0 rows of data\n",
            "Added 7 rows of data\n",
            "Added 0 rows of data\n",
            "Added 0 rows of data\n"
          ]
        },
        {
          "name": "stderr",
          "output_type": "stream",
          "text": [
            "6it [30:55, 309.20s/it]\n"
          ]
        },
        {
          "name": "stdout",
          "output_type": "stream",
          "text": [
            "Language: cv    Improvement over baseline: 5.10441\n"
          ]
        },
        {
          "name": "stderr",
          "output_type": "stream",
          "text": [
            "1it [03:03, 183.37s/it]"
          ]
        },
        {
          "name": "stdout",
          "output_type": "stream",
          "text": [
            "Language: mg    Improvement over baseline: -0.45872\n"
          ]
        },
        {
          "name": "stderr",
          "output_type": "stream",
          "text": [
            "2it [05:59, 179.36s/it]"
          ]
        },
        {
          "name": "stdout",
          "output_type": "stream",
          "text": [
            "Language: fo    Improvement over baseline: -1.21951\n"
          ]
        },
        {
          "name": "stderr",
          "output_type": "stream",
          "text": [
            "3it [08:49, 174.82s/it]"
          ]
        },
        {
          "name": "stdout",
          "output_type": "stream",
          "text": [
            "Language: co    Improvement over baseline: 0.00000\n",
            "Added 0 rows of data\n",
            "Added 0 rows of data\n",
            "Added 0 rows of data\n",
            "Added 0 rows of data\n",
            "Added 0 rows of data\n"
          ]
        },
        {
          "name": "stderr",
          "output_type": "stream",
          "text": [
            "4it [15:30, 264.00s/it]"
          ]
        },
        {
          "name": "stdout",
          "output_type": "stream",
          "text": [
            "Language: hsb    Improvement over baseline: -1.47059\n"
          ]
        },
        {
          "name": "stderr",
          "output_type": "stream",
          "text": [
            "5it [17:38, 215.07s/it]"
          ]
        },
        {
          "name": "stdout",
          "output_type": "stream",
          "text": [
            "Language: bh    Improvement over baseline: 5.50661\n",
            "Added 44 rows of data\n",
            "Added 22 rows of data\n",
            "Added 0 rows of data\n",
            "Added 0 rows of data\n",
            "Added 0 rows of data\n"
          ]
        },
        {
          "name": "stderr",
          "output_type": "stream",
          "text": [
            "6it [24:17, 242.98s/it]\n"
          ]
        },
        {
          "name": "stdout",
          "output_type": "stream",
          "text": [
            "Language: cv    Improvement over baseline: 3.71230\n"
          ]
        },
        {
          "name": "stderr",
          "output_type": "stream",
          "text": [
            "1it [03:05, 185.82s/it]"
          ]
        },
        {
          "name": "stdout",
          "output_type": "stream",
          "text": [
            "Language: mg    Improvement over baseline: -0.22936\n",
            "Added 193 rows of data\n",
            "Added 0 rows of data\n",
            "Added 0 rows of data\n"
          ]
        },
        {
          "name": "stderr",
          "output_type": "stream",
          "text": [
            "2it [08:46, 276.83s/it]"
          ]
        },
        {
          "name": "stdout",
          "output_type": "stream",
          "text": [
            "Language: fo    Improvement over baseline: -1.21951\n"
          ]
        },
        {
          "name": "stderr",
          "output_type": "stream",
          "text": [
            "3it [12:58, 265.36s/it]"
          ]
        },
        {
          "name": "stdout",
          "output_type": "stream",
          "text": [
            "Language: co    Improvement over baseline: 3.82775\n",
            "Added 0 rows of data\n",
            "Added 0 rows of data\n",
            "Added 0 rows of data\n",
            "Added 0 rows of data\n",
            "Added 0 rows of data\n",
            "Added 0 rows of data\n",
            "Added 0 rows of data\n",
            "Added 0 rows of data\n"
          ]
        },
        {
          "name": "stderr",
          "output_type": "stream",
          "text": [
            "4it [21:02, 351.72s/it]"
          ]
        },
        {
          "name": "stdout",
          "output_type": "stream",
          "text": [
            "Language: hsb    Improvement over baseline: -0.63025\n",
            "Added 145 rows of data\n",
            "Added 0 rows of data\n",
            "Added 0 rows of data\n",
            "Added 0 rows of data\n",
            "Added 0 rows of data\n"
          ]
        },
        {
          "name": "stderr",
          "output_type": "stream",
          "text": [
            "5it [25:54, 330.41s/it]"
          ]
        },
        {
          "name": "stdout",
          "output_type": "stream",
          "text": [
            "Language: bh    Improvement over baseline: 3.08370\n"
          ]
        },
        {
          "name": "stderr",
          "output_type": "stream",
          "text": [
            "6it [29:42, 297.05s/it]\n"
          ]
        },
        {
          "name": "stdout",
          "output_type": "stream",
          "text": [
            "Language: cv    Improvement over baseline: 3.24826\n"
          ]
        },
        {
          "name": "stderr",
          "output_type": "stream",
          "text": [
            "1it [04:02, 242.48s/it]"
          ]
        },
        {
          "name": "stdout",
          "output_type": "stream",
          "text": [
            "Language: mg    Improvement over baseline: 0.22936\n",
            "Added 226 rows of data\n",
            "Added 0 rows of data\n",
            "Added 0 rows of data\n",
            "Added 0 rows of data\n",
            "Added 0 rows of data\n"
          ]
        },
        {
          "name": "stderr",
          "output_type": "stream",
          "text": [
            "2it [10:42, 335.07s/it]"
          ]
        },
        {
          "name": "stdout",
          "output_type": "stream",
          "text": [
            "Language: fo    Improvement over baseline: 0.34843\n"
          ]
        },
        {
          "name": "stderr",
          "output_type": "stream",
          "text": [
            "3it [14:26, 284.42s/it]"
          ]
        },
        {
          "name": "stdout",
          "output_type": "stream",
          "text": [
            "Language: co    Improvement over baseline: 0.47847\n",
            "Added 7 rows of data\n",
            "Added 0 rows of data\n",
            "Added 0 rows of data\n",
            "Added 0 rows of data\n",
            "Added 0 rows of data\n",
            "Added 0 rows of data\n",
            "Added 0 rows of data\n",
            "Added 0 rows of data\n",
            "Added 0 rows of data\n",
            "Added 0 rows of data\n",
            "Added 0 rows of data\n",
            "Added 0 rows of data\n",
            "Added 0 rows of data\n",
            "Added 0 rows of data\n",
            "Added 0 rows of data\n",
            "Added 0 rows of data\n"
          ]
        },
        {
          "name": "stderr",
          "output_type": "stream",
          "text": [
            "4it [26:06, 448.53s/it]"
          ]
        },
        {
          "name": "stdout",
          "output_type": "stream",
          "text": [
            "Language: hsb    Improvement over baseline: 0.63025\n"
          ]
        },
        {
          "name": "stderr",
          "output_type": "stream",
          "text": [
            "5it [29:12, 353.87s/it]"
          ]
        },
        {
          "name": "stdout",
          "output_type": "stream",
          "text": [
            "Language: bh    Improvement over baseline: 8.81057\n",
            "Added 0 rows of data\n",
            "Added 0 rows of data\n",
            "Added 0 rows of data\n",
            "Added 2 rows of data\n",
            "Added 0 rows of data\n",
            "Added 0 rows of data\n"
          ]
        },
        {
          "name": "stderr",
          "output_type": "stream",
          "text": [
            "6it [36:14, 362.33s/it]\n"
          ]
        },
        {
          "name": "stdout",
          "output_type": "stream",
          "text": [
            "Language: cv    Improvement over baseline: 5.80046\n"
          ]
        },
        {
          "name": "stderr",
          "output_type": "stream",
          "text": [
            "0it [00:00, ?it/s]"
          ]
        },
        {
          "name": "stdout",
          "output_type": "stream",
          "text": [
            "Added 121 rows of data\n",
            "Added 0 rows of data\n"
          ]
        },
        {
          "name": "stderr",
          "output_type": "stream",
          "text": [
            "1it [04:48, 288.85s/it]"
          ]
        },
        {
          "name": "stdout",
          "output_type": "stream",
          "text": [
            "Language: mg    Improvement over baseline: 0.68807\n",
            "Added 230 rows of data\n",
            "Added 0 rows of data\n",
            "Added 0 rows of data\n",
            "Added 0 rows of data\n"
          ]
        },
        {
          "name": "stderr",
          "output_type": "stream",
          "text": [
            "2it [11:07, 341.42s/it]"
          ]
        },
        {
          "name": "stdout",
          "output_type": "stream",
          "text": [
            "Language: fo    Improvement over baseline: 1.21951\n"
          ]
        },
        {
          "name": "stderr",
          "output_type": "stream",
          "text": [
            "3it [14:50, 287.73s/it]"
          ]
        },
        {
          "name": "stdout",
          "output_type": "stream",
          "text": [
            "Language: co    Improvement over baseline: 5.26316\n",
            "Added 0 rows of data\n",
            "Added 1 rows of data\n",
            "Added 0 rows of data\n",
            "Added 0 rows of data\n",
            "Added 1 rows of data\n",
            "Added 0 rows of data\n",
            "Added 0 rows of data\n",
            "Added 0 rows of data\n",
            "Added 0 rows of data\n",
            "Added 0 rows of data\n"
          ]
        },
        {
          "name": "stderr",
          "output_type": "stream",
          "text": [
            "4it [23:54, 388.59s/it]"
          ]
        },
        {
          "name": "stdout",
          "output_type": "stream",
          "text": [
            "Language: hsb    Improvement over baseline: -0.63025\n"
          ]
        },
        {
          "name": "stderr",
          "output_type": "stream",
          "text": [
            "5it [25:39, 286.40s/it]"
          ]
        },
        {
          "name": "stdout",
          "output_type": "stream",
          "text": [
            "Language: bh    Improvement over baseline: -0.22026\n",
            "Added 46 rows of data\n",
            "Added 0 rows of data\n",
            "Added 0 rows of data\n",
            "Added 0 rows of data\n",
            "Added 0 rows of data\n"
          ]
        },
        {
          "name": "stderr",
          "output_type": "stream",
          "text": [
            "6it [32:15, 322.65s/it]\n"
          ]
        },
        {
          "name": "stdout",
          "output_type": "stream",
          "text": [
            "Language: cv    Improvement over baseline: 3.94432\n"
          ]
        },
        {
          "name": "stderr",
          "output_type": "stream",
          "text": [
            "0it [00:00, ?it/s]"
          ]
        },
        {
          "name": "stdout",
          "output_type": "stream",
          "text": [
            "Added 258 rows of data\n",
            "Added 0 rows of data\n",
            "Added 0 rows of data\n"
          ]
        },
        {
          "name": "stderr",
          "output_type": "stream",
          "text": [
            "1it [05:25, 325.51s/it]"
          ]
        },
        {
          "name": "stdout",
          "output_type": "stream",
          "text": [
            "Language: mg    Improvement over baseline: 0.45872\n",
            "Added 253 rows of data\n",
            "Added 0 rows of data\n",
            "Added 0 rows of data\n",
            "Added 0 rows of data\n",
            "Added 0 rows of data\n"
          ]
        },
        {
          "name": "stderr",
          "output_type": "stream",
          "text": [
            "2it [12:38, 388.96s/it]"
          ]
        },
        {
          "name": "stdout",
          "output_type": "stream",
          "text": [
            "Language: fo    Improvement over baseline: -1.04530\n"
          ]
        },
        {
          "name": "stderr",
          "output_type": "stream",
          "text": [
            "3it [16:00, 303.36s/it]"
          ]
        },
        {
          "name": "stdout",
          "output_type": "stream",
          "text": [
            "Language: co    Improvement over baseline: -4.78469\n",
            "Added 0 rows of data\n"
          ]
        },
        {
          "name": "stderr",
          "output_type": "stream",
          "text": [
            "4it [21:46, 320.17s/it]"
          ]
        },
        {
          "name": "stdout",
          "output_type": "stream",
          "text": [
            "Language: hsb    Improvement over baseline: 0.21008\n"
          ]
        },
        {
          "name": "stderr",
          "output_type": "stream",
          "text": [
            "5it [24:18, 259.62s/it]"
          ]
        },
        {
          "name": "stdout",
          "output_type": "stream",
          "text": [
            "Language: bh    Improvement over baseline: 3.08370\n",
            "Added 0 rows of data\n",
            "Added 0 rows of data\n",
            "Added 0 rows of data\n",
            "Added 4 rows of data\n",
            "Added 2 rows of data\n",
            "Added 0 rows of data\n",
            "Added 0 rows of data\n"
          ]
        },
        {
          "name": "stderr",
          "output_type": "stream",
          "text": [
            "6it [33:20, 333.50s/it]\n"
          ]
        },
        {
          "name": "stdout",
          "output_type": "stream",
          "text": [
            "Language: cv    Improvement over baseline: 3.71230\n"
          ]
        },
        {
          "name": "stderr",
          "output_type": "stream",
          "text": [
            "1it [03:00, 180.17s/it]"
          ]
        },
        {
          "name": "stdout",
          "output_type": "stream",
          "text": [
            "Language: mg    Improvement over baseline: 0.45872\n",
            "Added 226 rows of data\n",
            "Added 0 rows of data\n",
            "Added 0 rows of data\n",
            "Added 0 rows of data\n",
            "Added 0 rows of data\n"
          ]
        },
        {
          "name": "stderr",
          "output_type": "stream",
          "text": [
            "2it [10:31, 339.70s/it]"
          ]
        },
        {
          "name": "stdout",
          "output_type": "stream",
          "text": [
            "Language: fo    Improvement over baseline: 2.09059\n"
          ]
        },
        {
          "name": "stderr",
          "output_type": "stream",
          "text": [
            "3it [13:19, 261.46s/it]"
          ]
        },
        {
          "name": "stdout",
          "output_type": "stream",
          "text": [
            "Language: co    Improvement over baseline: 1.91388\n",
            "Added 1 rows of data\n",
            "Added 3 rows of data\n",
            "Added 0 rows of data\n",
            "Added 6 rows of data\n",
            "Added 0 rows of data\n",
            "Added 0 rows of data\n",
            "Added 0 rows of data\n",
            "Added 0 rows of data\n",
            "Added 0 rows of data\n",
            "Added 0 rows of data\n",
            "Added 1 rows of data\n",
            "Added 0 rows of data\n"
          ]
        },
        {
          "name": "stderr",
          "output_type": "stream",
          "text": [
            "4it [23:47, 406.02s/it]"
          ]
        },
        {
          "name": "stdout",
          "output_type": "stream",
          "text": [
            "Language: hsb    Improvement over baseline: 1.68067\n"
          ]
        },
        {
          "name": "stderr",
          "output_type": "stream",
          "text": [
            "5it [25:49, 303.77s/it]"
          ]
        },
        {
          "name": "stdout",
          "output_type": "stream",
          "text": [
            "Language: bh    Improvement over baseline: 0.66079\n"
          ]
        },
        {
          "name": "stderr",
          "output_type": "stream",
          "text": [
            "6it [29:37, 296.23s/it]\n"
          ]
        },
        {
          "name": "stdout",
          "output_type": "stream",
          "text": [
            "Language: cv    Improvement over baseline: 2.32019\n"
          ]
        },
        {
          "name": "stderr",
          "output_type": "stream",
          "text": [
            "0it [00:00, ?it/s]"
          ]
        },
        {
          "name": "stdout",
          "output_type": "stream",
          "text": [
            "Added 225 rows of data\n",
            "Added 0 rows of data\n",
            "Added 0 rows of data\n"
          ]
        },
        {
          "name": "stderr",
          "output_type": "stream",
          "text": [
            "1it [05:29, 329.52s/it]"
          ]
        },
        {
          "name": "stdout",
          "output_type": "stream",
          "text": [
            "Language: mg    Improvement over baseline: 0.00000\n"
          ]
        },
        {
          "name": "stderr",
          "output_type": "stream",
          "text": [
            "2it [09:45, 286.08s/it]"
          ]
        },
        {
          "name": "stdout",
          "output_type": "stream",
          "text": [
            "Language: fo    Improvement over baseline: -0.34843\n"
          ]
        },
        {
          "name": "stderr",
          "output_type": "stream",
          "text": [
            "3it [13:54, 269.10s/it]"
          ]
        },
        {
          "name": "stdout",
          "output_type": "stream",
          "text": [
            "Language: co    Improvement over baseline: 9.56938\n",
            "Added 0 rows of data\n",
            "Added 0 rows of data\n",
            "Added 0 rows of data\n",
            "Added 0 rows of data\n",
            "Added 0 rows of data\n",
            "Added 0 rows of data\n",
            "Added 0 rows of data\n",
            "Added 0 rows of data\n",
            "Added 0 rows of data\n",
            "Added 0 rows of data\n"
          ]
        },
        {
          "name": "stderr",
          "output_type": "stream",
          "text": [
            "4it [23:00, 378.60s/it]"
          ]
        },
        {
          "name": "stdout",
          "output_type": "stream",
          "text": [
            "Language: hsb    Improvement over baseline: 0.42017\n",
            "Added 107 rows of data\n",
            "Added 0 rows of data\n",
            "Added 0 rows of data\n",
            "Added 0 rows of data\n",
            "Added 0 rows of data\n"
          ]
        },
        {
          "name": "stderr",
          "output_type": "stream",
          "text": [
            "5it [27:50, 346.48s/it]"
          ]
        },
        {
          "name": "stdout",
          "output_type": "stream",
          "text": [
            "Language: bh    Improvement over baseline: 3.08370\n",
            "Added 0 rows of data\n",
            "Added 0 rows of data\n",
            "Added 0 rows of data\n",
            "Added 0 rows of data\n",
            "Added 0 rows of data\n",
            "Added 0 rows of data\n",
            "Added 0 rows of data\n"
          ]
        },
        {
          "name": "stderr",
          "output_type": "stream",
          "text": [
            "6it [35:23, 353.93s/it]\n"
          ]
        },
        {
          "name": "stdout",
          "output_type": "stream",
          "text": [
            "Language: cv    Improvement over baseline: 3.01624\n"
          ]
        },
        {
          "name": "stderr",
          "output_type": "stream",
          "text": [
            "1it [03:55, 235.68s/it]"
          ]
        },
        {
          "name": "stdout",
          "output_type": "stream",
          "text": [
            "Language: mg    Improvement over baseline: 0.45872\n",
            "Added 215 rows of data\n",
            "Added 0 rows of data\n",
            "Added 0 rows of data\n",
            "Added 0 rows of data\n"
          ]
        },
        {
          "name": "stderr",
          "output_type": "stream",
          "text": [
            "2it [10:07, 315.64s/it]"
          ]
        },
        {
          "name": "stdout",
          "output_type": "stream",
          "text": [
            "Language: fo    Improvement over baseline: 0.34843\n"
          ]
        },
        {
          "name": "stderr",
          "output_type": "stream",
          "text": [
            "3it [12:55, 248.40s/it]"
          ]
        },
        {
          "name": "stdout",
          "output_type": "stream",
          "text": [
            "Language: co    Improvement over baseline: 1.43541\n",
            "Added 0 rows of data\n",
            "Added 0 rows of data\n",
            "Added 0 rows of data\n",
            "Added 0 rows of data\n",
            "Added 0 rows of data\n",
            "Added 0 rows of data\n",
            "Added 0 rows of data\n",
            "Added 0 rows of data\n",
            "Added 0 rows of data\n",
            "Added 0 rows of data\n",
            "Added 0 rows of data\n",
            "Added 0 rows of data\n",
            "Added 0 rows of data\n"
          ]
        },
        {
          "name": "stderr",
          "output_type": "stream",
          "text": [
            "4it [23:22, 397.66s/it]"
          ]
        },
        {
          "name": "stdout",
          "output_type": "stream",
          "text": [
            "Language: hsb    Improvement over baseline: 0.84034\n",
            "Added 25 rows of data\n",
            "Added 43 rows of data\n",
            "Added 0 rows of data\n",
            "Added 0 rows of data\n",
            "Added 0 rows of data\n",
            "Added 0 rows of data\n",
            "Added 0 rows of data\n"
          ]
        },
        {
          "name": "stderr",
          "output_type": "stream",
          "text": [
            "5it [28:55, 374.61s/it]"
          ]
        },
        {
          "name": "stdout",
          "output_type": "stream",
          "text": [
            "Language: bh    Improvement over baseline: 13.43612\n"
          ]
        },
        {
          "name": "stderr",
          "output_type": "stream",
          "text": [
            "6it [32:45, 327.52s/it]\n"
          ]
        },
        {
          "name": "stdout",
          "output_type": "stream",
          "text": [
            "Language: cv    Improvement over baseline: 4.40835\n"
          ]
        },
        {
          "name": "stderr",
          "output_type": "stream",
          "text": [
            "0it [00:00, ?it/s]"
          ]
        },
        {
          "name": "stdout",
          "output_type": "stream",
          "text": [
            "Added 286 rows of data\n",
            "Added 0 rows of data\n",
            "Added 0 rows of data\n",
            "Added 0 rows of data\n",
            "Added 0 rows of data\n"
          ]
        },
        {
          "name": "stderr",
          "output_type": "stream",
          "text": [
            "1it [06:18, 378.81s/it]"
          ]
        },
        {
          "name": "stdout",
          "output_type": "stream",
          "text": [
            "Language: mg    Improvement over baseline: -0.68807\n",
            "Added 171 rows of data\n",
            "Added 0 rows of data\n",
            "Added 0 rows of data\n",
            "Added 0 rows of data\n",
            "Added 0 rows of data\n"
          ]
        },
        {
          "name": "stderr",
          "output_type": "stream",
          "text": [
            "2it [12:55, 389.57s/it]"
          ]
        },
        {
          "name": "stdout",
          "output_type": "stream",
          "text": [
            "Language: fo    Improvement over baseline: 0.00000\n"
          ]
        },
        {
          "name": "stderr",
          "output_type": "stream",
          "text": [
            "3it [15:44, 288.84s/it]"
          ]
        },
        {
          "name": "stdout",
          "output_type": "stream",
          "text": [
            "Language: co    Improvement over baseline: 3.34928\n",
            "Added 0 rows of data\n",
            "Added 0 rows of data\n",
            "Added 0 rows of data\n",
            "Added 2 rows of data\n",
            "Added 1 rows of data\n"
          ]
        },
        {
          "name": "stderr",
          "output_type": "stream",
          "text": [
            "4it [22:27, 333.80s/it]"
          ]
        },
        {
          "name": "stdout",
          "output_type": "stream",
          "text": [
            "Language: hsb    Improvement over baseline: -1.05042\n"
          ]
        },
        {
          "name": "stderr",
          "output_type": "stream",
          "text": [
            "5it [24:30, 257.90s/it]"
          ]
        },
        {
          "name": "stdout",
          "output_type": "stream",
          "text": [
            "Language: bh    Improvement over baseline: 2.86344\n",
            "Added 0 rows of data\n",
            "Added 9 rows of data\n",
            "Added 0 rows of data\n",
            "Added 0 rows of data\n",
            "Added 0 rows of data\n",
            "Added 0 rows of data\n"
          ]
        },
        {
          "name": "stderr",
          "output_type": "stream",
          "text": [
            "6it [31:42, 317.12s/it]\n"
          ]
        },
        {
          "name": "stdout",
          "output_type": "stream",
          "text": [
            "Language: cv    Improvement over baseline: 6.03248\n"
          ]
        },
        {
          "name": "stderr",
          "output_type": "stream",
          "text": [
            "0it [00:00, ?it/s]"
          ]
        },
        {
          "name": "stdout",
          "output_type": "stream",
          "text": [
            "Added 297 rows of data\n",
            "Added 0 rows of data\n",
            "Added 0 rows of data\n",
            "Added 0 rows of data\n",
            "Added 0 rows of data\n"
          ]
        },
        {
          "name": "stderr",
          "output_type": "stream",
          "text": [
            "1it [06:19, 379.10s/it]"
          ]
        },
        {
          "name": "stdout",
          "output_type": "stream",
          "text": [
            "Language: mg    Improvement over baseline: 0.22936\n"
          ]
        },
        {
          "name": "stderr",
          "output_type": "stream",
          "text": [
            "2it [09:43, 276.06s/it]"
          ]
        },
        {
          "name": "stdout",
          "output_type": "stream",
          "text": [
            "Language: fo    Improvement over baseline: 0.69686\n",
            "Added 9 rows of data\n",
            "Added 6 rows of data\n",
            "Added 0 rows of data\n",
            "Added 0 rows of data\n",
            "Added 0 rows of data\n",
            "Added 0 rows of data\n",
            "Added 0 rows of data\n",
            "Added 0 rows of data\n",
            "Added 0 rows of data\n",
            "Added 0 rows of data\n",
            "Added 0 rows of data\n"
          ]
        },
        {
          "name": "stderr",
          "output_type": "stream",
          "text": [
            "3it [18:52, 401.05s/it]"
          ]
        },
        {
          "name": "stdout",
          "output_type": "stream",
          "text": [
            "Language: co    Improvement over baseline: 7.65550\n",
            "Added 0 rows of data\n",
            "Added 0 rows of data\n",
            "Added 0 rows of data\n",
            "Added 0 rows of data\n",
            "Added 0 rows of data\n",
            "Added 0 rows of data\n"
          ]
        },
        {
          "name": "stderr",
          "output_type": "stream",
          "text": [
            "4it [26:04, 413.28s/it]"
          ]
        },
        {
          "name": "stdout",
          "output_type": "stream",
          "text": [
            "Language: hsb    Improvement over baseline: -1.26050\n",
            "Added 104 rows of data\n",
            "Added 13 rows of data\n"
          ]
        },
        {
          "name": "stderr",
          "output_type": "stream",
          "text": [
            "5it [29:51, 346.02s/it]"
          ]
        },
        {
          "name": "stdout",
          "output_type": "stream",
          "text": [
            "Language: bh    Improvement over baseline: 3.52423\n"
          ]
        },
        {
          "name": "stderr",
          "output_type": "stream",
          "text": [
            "6it [33:22, 333.69s/it]\n"
          ]
        },
        {
          "name": "stdout",
          "output_type": "stream",
          "text": [
            "Language: cv    Improvement over baseline: 2.32019\n"
          ]
        },
        {
          "name": "stderr",
          "output_type": "stream",
          "text": [
            "1it [04:11, 251.57s/it]"
          ]
        },
        {
          "name": "stdout",
          "output_type": "stream",
          "text": [
            "Language: mg    Improvement over baseline: 0.45872\n",
            "Added 175 rows of data\n",
            "Added 0 rows of data\n"
          ]
        },
        {
          "name": "stderr",
          "output_type": "stream",
          "text": [
            "2it [10:34, 328.73s/it]"
          ]
        },
        {
          "name": "stdout",
          "output_type": "stream",
          "text": [
            "Language: fo    Improvement over baseline: 1.21951\n",
            "Added 5 rows of data\n",
            "Added 0 rows of data\n",
            "Added 0 rows of data\n",
            "Added 0 rows of data\n",
            "Added 3 rows of data\n"
          ]
        },
        {
          "name": "stderr",
          "output_type": "stream",
          "text": [
            "3it [18:28, 394.97s/it]"
          ]
        },
        {
          "name": "stdout",
          "output_type": "stream",
          "text": [
            "Language: co    Improvement over baseline: 5.74163\n"
          ]
        },
        {
          "name": "stderr",
          "output_type": "stream",
          "text": [
            "4it [23:50, 366.33s/it]"
          ]
        },
        {
          "name": "stdout",
          "output_type": "stream",
          "text": [
            "Language: hsb    Improvement over baseline: -0.63025\n"
          ]
        },
        {
          "name": "stderr",
          "output_type": "stream",
          "text": [
            "5it [26:21, 288.62s/it]"
          ]
        },
        {
          "name": "stdout",
          "output_type": "stream",
          "text": [
            "Language: bh    Improvement over baseline: 0.88106\n",
            "Added 0 rows of data\n",
            "Added 0 rows of data\n"
          ]
        },
        {
          "name": "stderr",
          "output_type": "stream",
          "text": [
            "6it [31:44, 317.48s/it]\n"
          ]
        },
        {
          "name": "stdout",
          "output_type": "stream",
          "text": [
            "Language: cv    Improvement over baseline: 2.78422\n"
          ]
        },
        {
          "name": "stderr",
          "output_type": "stream",
          "text": [
            "1it [03:40, 220.61s/it]"
          ]
        },
        {
          "name": "stdout",
          "output_type": "stream",
          "text": [
            "Language: mg    Improvement over baseline: 0.45872\n"
          ]
        },
        {
          "name": "stderr",
          "output_type": "stream",
          "text": [
            "2it [07:37, 230.33s/it]"
          ]
        },
        {
          "name": "stdout",
          "output_type": "stream",
          "text": [
            "Language: fo    Improvement over baseline: -0.52265\n"
          ]
        },
        {
          "name": "stderr",
          "output_type": "stream",
          "text": [
            "3it [11:00, 217.84s/it]"
          ]
        },
        {
          "name": "stdout",
          "output_type": "stream",
          "text": [
            "Language: co    Improvement over baseline: 4.78469\n",
            "Added 0 rows of data\n",
            "Added 0 rows of data\n",
            "Added 0 rows of data\n",
            "Added 0 rows of data\n",
            "Added 0 rows of data\n",
            "Added 0 rows of data\n",
            "Added 7 rows of data\n"
          ]
        },
        {
          "name": "stderr",
          "output_type": "stream",
          "text": [
            "4it [19:00, 321.33s/it]"
          ]
        },
        {
          "name": "stdout",
          "output_type": "stream",
          "text": [
            "Language: hsb    Improvement over baseline: 0.21008\n",
            "Added 50 rows of data\n"
          ]
        },
        {
          "name": "stderr",
          "output_type": "stream",
          "text": [
            "5it [22:30, 281.21s/it]"
          ]
        },
        {
          "name": "stdout",
          "output_type": "stream",
          "text": [
            "Language: bh    Improvement over baseline: 5.94714\n",
            "Added 0 rows of data\n",
            "Added 0 rows of data\n",
            "Added 0 rows of data\n",
            "Added 0 rows of data\n",
            "Added 0 rows of data\n"
          ]
        },
        {
          "name": "stderr",
          "output_type": "stream",
          "text": [
            "6it [29:23, 293.89s/it]\n"
          ]
        },
        {
          "name": "stdout",
          "output_type": "stream",
          "text": [
            "Language: cv    Improvement over baseline: 3.94432\n"
          ]
        },
        {
          "name": "stderr",
          "output_type": "stream",
          "text": [
            "0it [00:00, ?it/s]"
          ]
        },
        {
          "name": "stdout",
          "output_type": "stream",
          "text": [
            "Added 255 rows of data\n",
            "Added 0 rows of data\n",
            "Added 0 rows of data\n",
            "Added 0 rows of data\n"
          ]
        },
        {
          "name": "stderr",
          "output_type": "stream",
          "text": [
            "1it [06:10, 370.28s/it]"
          ]
        },
        {
          "name": "stdout",
          "output_type": "stream",
          "text": [
            "Language: mg    Improvement over baseline: 0.00000\n"
          ]
        },
        {
          "name": "stderr",
          "output_type": "stream",
          "text": [
            "2it [09:45, 279.11s/it]"
          ]
        },
        {
          "name": "stdout",
          "output_type": "stream",
          "text": [
            "Language: fo    Improvement over baseline: -0.69686\n",
            "Added 9 rows of data\n",
            "Added 4 rows of data\n",
            "Added 0 rows of data\n",
            "Added 0 rows of data\n",
            "Added 0 rows of data\n",
            "Added 0 rows of data\n",
            "Added 0 rows of data\n",
            "Added 0 rows of data\n"
          ]
        },
        {
          "name": "stderr",
          "output_type": "stream",
          "text": [
            "3it [18:35, 393.69s/it]"
          ]
        },
        {
          "name": "stdout",
          "output_type": "stream",
          "text": [
            "Language: co    Improvement over baseline: 11.96172\n",
            "Added 5 rows of data\n",
            "Added 0 rows of data\n",
            "Added 0 rows of data\n",
            "Added 0 rows of data\n",
            "Added 0 rows of data\n",
            "Added 0 rows of data\n",
            "Added 0 rows of data\n",
            "Added 0 rows of data\n",
            "Added 0 rows of data\n",
            "Added 0 rows of data\n",
            "Added 0 rows of data\n"
          ]
        },
        {
          "name": "stderr",
          "output_type": "stream",
          "text": [
            "4it [29:13, 490.28s/it]"
          ]
        },
        {
          "name": "stdout",
          "output_type": "stream",
          "text": [
            "Language: hsb    Improvement over baseline: 0.84034\n"
          ]
        },
        {
          "name": "stderr",
          "output_type": "stream",
          "text": [
            "5it [32:05, 375.20s/it]"
          ]
        },
        {
          "name": "stdout",
          "output_type": "stream",
          "text": [
            "Language: bh    Improvement over baseline: 2.64317\n",
            "Added 0 rows of data\n",
            "Added 0 rows of data\n",
            "Added 0 rows of data\n"
          ]
        },
        {
          "name": "stderr",
          "output_type": "stream",
          "text": [
            "6it [38:23, 383.89s/it]\n"
          ]
        },
        {
          "name": "stdout",
          "output_type": "stream",
          "text": [
            "Language: cv    Improvement over baseline: 5.33643\n"
          ]
        },
        {
          "name": "stderr",
          "output_type": "stream",
          "text": [
            "1it [04:26, 266.83s/it]"
          ]
        },
        {
          "name": "stdout",
          "output_type": "stream",
          "text": [
            "Language: mg    Improvement over baseline: 0.22936\n"
          ]
        },
        {
          "name": "stderr",
          "output_type": "stream",
          "text": [
            "2it [09:20, 282.63s/it]"
          ]
        },
        {
          "name": "stdout",
          "output_type": "stream",
          "text": [
            "Language: fo    Improvement over baseline: 1.39373\n"
          ]
        },
        {
          "name": "stderr",
          "output_type": "stream",
          "text": [
            "3it [12:31, 240.68s/it]"
          ]
        },
        {
          "name": "stdout",
          "output_type": "stream",
          "text": [
            "Language: co    Improvement over baseline: 0.95694\n",
            "Added 0 rows of data\n",
            "Added 0 rows of data\n",
            "Added 0 rows of data\n",
            "Added 0 rows of data\n",
            "Added 0 rows of data\n",
            "Added 0 rows of data\n",
            "Added 0 rows of data\n",
            "Added 0 rows of data\n",
            "Added 0 rows of data\n",
            "Added 0 rows of data\n"
          ]
        },
        {
          "name": "stderr",
          "output_type": "stream",
          "text": [
            "4it [22:17, 377.18s/it]"
          ]
        },
        {
          "name": "stdout",
          "output_type": "stream",
          "text": [
            "Language: hsb    Improvement over baseline: -1.89076\n"
          ]
        },
        {
          "name": "stderr",
          "output_type": "stream",
          "text": [
            "5it [24:36, 291.10s/it]"
          ]
        },
        {
          "name": "stdout",
          "output_type": "stream",
          "text": [
            "Language: bh    Improvement over baseline: 2.20264\n",
            "Added 0 rows of data\n",
            "Added 0 rows of data\n",
            "Added 0 rows of data\n",
            "Added 0 rows of data\n",
            "Added 0 rows of data\n",
            "Added 0 rows of data\n",
            "Added 0 rows of data\n"
          ]
        },
        {
          "name": "stderr",
          "output_type": "stream",
          "text": [
            "6it [32:44, 327.49s/it]\n"
          ]
        },
        {
          "name": "stdout",
          "output_type": "stream",
          "text": [
            "Language: cv    Improvement over baseline: 2.78422\n"
          ]
        },
        {
          "name": "stderr",
          "output_type": "stream",
          "text": [
            "1it [03:32, 212.52s/it]"
          ]
        },
        {
          "name": "stdout",
          "output_type": "stream",
          "text": [
            "Language: mg    Improvement over baseline: -0.22936\n"
          ]
        },
        {
          "name": "stderr",
          "output_type": "stream",
          "text": [
            "2it [06:38, 197.20s/it]"
          ]
        },
        {
          "name": "stdout",
          "output_type": "stream",
          "text": [
            "Language: fo    Improvement over baseline: -1.91638\n"
          ]
        },
        {
          "name": "stderr",
          "output_type": "stream",
          "text": [
            "3it [09:09, 176.06s/it]"
          ]
        },
        {
          "name": "stdout",
          "output_type": "stream",
          "text": [
            "Language: co    Improvement over baseline: 3.82775\n",
            "Added 0 rows of data\n",
            "Added 0 rows of data\n",
            "Added 0 rows of data\n",
            "Added 0 rows of data\n",
            "Added 0 rows of data\n",
            "Added 0 rows of data\n",
            "Added 0 rows of data\n"
          ]
        },
        {
          "name": "stderr",
          "output_type": "stream",
          "text": [
            "4it [16:56, 290.74s/it]"
          ]
        },
        {
          "name": "stdout",
          "output_type": "stream",
          "text": [
            "Language: hsb    Improvement over baseline: -2.52101\n"
          ]
        },
        {
          "name": "stderr",
          "output_type": "stream",
          "text": [
            "5it [19:29, 241.01s/it]"
          ]
        },
        {
          "name": "stdout",
          "output_type": "stream",
          "text": [
            "Language: bh    Improvement over baseline: 3.08370\n"
          ]
        },
        {
          "name": "stderr",
          "output_type": "stream",
          "text": [
            "6it [23:26, 234.39s/it]\n"
          ]
        },
        {
          "name": "stdout",
          "output_type": "stream",
          "text": [
            "Language: cv    Improvement over baseline: 1.62413\n"
          ]
        },
        {
          "name": "stderr",
          "output_type": "stream",
          "text": [
            "0it [00:00, ?it/s]"
          ]
        },
        {
          "name": "stdout",
          "output_type": "stream",
          "text": [
            "Added 260 rows of data\n",
            "Added 0 rows of data\n",
            "Added 0 rows of data\n",
            "Added 0 rows of data\n",
            "Added 0 rows of data\n"
          ]
        },
        {
          "name": "stderr",
          "output_type": "stream",
          "text": [
            "1it [06:32, 392.10s/it]"
          ]
        },
        {
          "name": "stdout",
          "output_type": "stream",
          "text": [
            "Language: mg    Improvement over baseline: 0.45872\n"
          ]
        },
        {
          "name": "stderr",
          "output_type": "stream",
          "text": [
            "2it [08:56, 246.64s/it]"
          ]
        },
        {
          "name": "stdout",
          "output_type": "stream",
          "text": [
            "Language: fo    Improvement over baseline: -4.87805\n"
          ]
        },
        {
          "name": "stderr",
          "output_type": "stream",
          "text": [
            "3it [11:40, 208.92s/it]"
          ]
        },
        {
          "name": "stdout",
          "output_type": "stream",
          "text": [
            "Language: co    Improvement over baseline: 6.22010\n",
            "Added 0 rows of data\n",
            "Added 0 rows of data\n",
            "Added 0 rows of data\n",
            "Added 0 rows of data\n",
            "Added 0 rows of data\n",
            "Added 0 rows of data\n",
            "Added 0 rows of data\n",
            "Added 0 rows of data\n",
            "Added 0 rows of data\n"
          ]
        },
        {
          "name": "stderr",
          "output_type": "stream",
          "text": [
            "4it [20:19, 330.98s/it]"
          ]
        },
        {
          "name": "stdout",
          "output_type": "stream",
          "text": [
            "Language: hsb    Improvement over baseline: -1.05042\n"
          ]
        },
        {
          "name": "stderr",
          "output_type": "stream",
          "text": [
            "5it [23:03, 270.84s/it]"
          ]
        },
        {
          "name": "stdout",
          "output_type": "stream",
          "text": [
            "Language: bh    Improvement over baseline: 3.30396\n"
          ]
        },
        {
          "name": "stderr",
          "output_type": "stream",
          "text": [
            "6it [26:50, 268.42s/it]\n"
          ]
        },
        {
          "name": "stdout",
          "output_type": "stream",
          "text": [
            "Language: cv    Improvement over baseline: 3.24826\n"
          ]
        },
        {
          "name": "stderr",
          "output_type": "stream",
          "text": [
            "0it [00:00, ?it/s]"
          ]
        },
        {
          "name": "stdout",
          "output_type": "stream",
          "text": [
            "Added 232 rows of data\n",
            "Added 0 rows of data\n",
            "Added 0 rows of data\n"
          ]
        },
        {
          "name": "stderr",
          "output_type": "stream",
          "text": [
            "1it [05:18, 318.28s/it]"
          ]
        },
        {
          "name": "stdout",
          "output_type": "stream",
          "text": [
            "Language: mg    Improvement over baseline: 0.22936\n"
          ]
        },
        {
          "name": "stderr",
          "output_type": "stream",
          "text": [
            "2it [08:36, 247.93s/it]"
          ]
        },
        {
          "name": "stdout",
          "output_type": "stream",
          "text": [
            "Language: fo    Improvement over baseline: 2.43902\n",
            "Added 9 rows of data\n"
          ]
        },
        {
          "name": "stderr",
          "output_type": "stream",
          "text": [
            "3it [14:15, 289.21s/it]"
          ]
        },
        {
          "name": "stdout",
          "output_type": "stream",
          "text": [
            "Language: co    Improvement over baseline: 3.82775\n"
          ]
        },
        {
          "name": "stderr",
          "output_type": "stream",
          "text": [
            "4it [18:56, 286.19s/it]"
          ]
        },
        {
          "name": "stdout",
          "output_type": "stream",
          "text": [
            "Language: hsb    Improvement over baseline: -3.99160\n"
          ]
        },
        {
          "name": "stderr",
          "output_type": "stream",
          "text": [
            "5it [21:35, 240.32s/it]"
          ]
        },
        {
          "name": "stdout",
          "output_type": "stream",
          "text": [
            "Language: bh    Improvement over baseline: 3.74449\n"
          ]
        },
        {
          "name": "stderr",
          "output_type": "stream",
          "text": [
            "6it [26:57, 269.63s/it]\n"
          ]
        },
        {
          "name": "stdout",
          "output_type": "stream",
          "text": [
            "Language: cv    Improvement over baseline: 2.08817\n"
          ]
        },
        {
          "name": "stderr",
          "output_type": "stream",
          "text": [
            "0it [00:00, ?it/s]"
          ]
        },
        {
          "name": "stdout",
          "output_type": "stream",
          "text": [
            "Added 238 rows of data\n",
            "Added 0 rows of data\n",
            "Added 0 rows of data\n",
            "Added 0 rows of data\n",
            "Added 0 rows of data\n"
          ]
        },
        {
          "name": "stderr",
          "output_type": "stream",
          "text": [
            "1it [07:20, 440.89s/it]"
          ]
        },
        {
          "name": "stdout",
          "output_type": "stream",
          "text": [
            "Language: mg    Improvement over baseline: 0.45872\n"
          ]
        },
        {
          "name": "stderr",
          "output_type": "stream",
          "text": [
            "2it [11:21, 322.90s/it]"
          ]
        },
        {
          "name": "stdout",
          "output_type": "stream",
          "text": [
            "Language: fo    Improvement over baseline: -1.21951\n"
          ]
        },
        {
          "name": "stderr",
          "output_type": "stream",
          "text": [
            "3it [16:26, 314.97s/it]"
          ]
        },
        {
          "name": "stdout",
          "output_type": "stream",
          "text": [
            "Language: co    Improvement over baseline: 3.82775\n",
            "Added 0 rows of data\n",
            "Added 0 rows of data\n",
            "Added 0 rows of data\n",
            "Added 0 rows of data\n",
            "Added 0 rows of data\n"
          ]
        },
        {
          "name": "stderr",
          "output_type": "stream",
          "text": [
            "4it [24:16, 376.08s/it]"
          ]
        },
        {
          "name": "stdout",
          "output_type": "stream",
          "text": [
            "Language: hsb    Improvement over baseline: -2.73109\n"
          ]
        },
        {
          "name": "stderr",
          "output_type": "stream",
          "text": [
            "5it [26:36, 290.77s/it]"
          ]
        },
        {
          "name": "stdout",
          "output_type": "stream",
          "text": [
            "Language: bh    Improvement over baseline: 4.84581\n",
            "Added 0 rows of data\n"
          ]
        },
        {
          "name": "stderr",
          "output_type": "stream",
          "text": [
            "6it [31:55, 319.29s/it]\n"
          ]
        },
        {
          "name": "stdout",
          "output_type": "stream",
          "text": [
            "Language: cv    Improvement over baseline: 3.01624\n"
          ]
        },
        {
          "name": "stderr",
          "output_type": "stream",
          "text": [
            "0it [00:00, ?it/s]"
          ]
        },
        {
          "name": "stdout",
          "output_type": "stream",
          "text": [
            "Added 225 rows of data\n",
            "Added 0 rows of data\n",
            "Added 0 rows of data\n",
            "Added 0 rows of data\n"
          ]
        },
        {
          "name": "stderr",
          "output_type": "stream",
          "text": [
            "1it [06:33, 393.33s/it]"
          ]
        },
        {
          "name": "stdout",
          "output_type": "stream",
          "text": [
            "Language: mg    Improvement over baseline: 0.00000\n"
          ]
        },
        {
          "name": "stderr",
          "output_type": "stream",
          "text": [
            "2it [11:19, 330.11s/it]"
          ]
        },
        {
          "name": "stdout",
          "output_type": "stream",
          "text": [
            "Language: fo    Improvement over baseline: 0.52265\n",
            "Added 3 rows of data\n",
            "Added 0 rows of data\n",
            "Added 0 rows of data\n"
          ]
        },
        {
          "name": "stderr",
          "output_type": "stream",
          "text": [
            "3it [17:17, 343.12s/it]"
          ]
        },
        {
          "name": "stdout",
          "output_type": "stream",
          "text": [
            "Language: co    Improvement over baseline: 5.26316\n",
            "Added 0 rows of data\n",
            "Added 0 rows of data\n",
            "Added 0 rows of data\n",
            "Added 0 rows of data\n",
            "Added 0 rows of data\n",
            "Added 0 rows of data\n",
            "Added 0 rows of data\n",
            "Added 0 rows of data\n"
          ]
        },
        {
          "name": "stderr",
          "output_type": "stream",
          "text": [
            "4it [26:23, 423.16s/it]"
          ]
        },
        {
          "name": "stdout",
          "output_type": "stream",
          "text": [
            "Language: hsb    Improvement over baseline: 0.63025\n"
          ]
        },
        {
          "name": "stderr",
          "output_type": "stream",
          "text": [
            "5it [28:43, 320.82s/it]"
          ]
        },
        {
          "name": "stdout",
          "output_type": "stream",
          "text": [
            "Language: bh    Improvement over baseline: 3.96476\n"
          ]
        },
        {
          "name": "stderr",
          "output_type": "stream",
          "text": [
            "6it [32:03, 320.54s/it]\n"
          ]
        },
        {
          "name": "stdout",
          "output_type": "stream",
          "text": [
            "Language: cv    Improvement over baseline: 5.56845\n"
          ]
        },
        {
          "name": "stderr",
          "output_type": "stream",
          "text": [
            "0it [00:00, ?it/s]"
          ]
        },
        {
          "name": "stdout",
          "output_type": "stream",
          "text": [
            "Added 220 rows of data\n"
          ]
        },
        {
          "name": "stderr",
          "output_type": "stream",
          "text": [
            "1it [05:05, 305.55s/it]"
          ]
        },
        {
          "name": "stdout",
          "output_type": "stream",
          "text": [
            "Language: mg    Improvement over baseline: -0.68807\n",
            "Added 99 rows of data\n",
            "Added 1 rows of data\n"
          ]
        },
        {
          "name": "stderr",
          "output_type": "stream",
          "text": [
            "2it [10:54, 330.90s/it]"
          ]
        },
        {
          "name": "stdout",
          "output_type": "stream",
          "text": [
            "Language: fo    Improvement over baseline: 1.56794\n",
            "Added 5 rows of data\n",
            "Added 4 rows of data\n"
          ]
        },
        {
          "name": "stderr",
          "output_type": "stream",
          "text": [
            "3it [16:45, 340.18s/it]"
          ]
        },
        {
          "name": "stdout",
          "output_type": "stream",
          "text": [
            "Language: co    Improvement over baseline: 3.82775\n"
          ]
        },
        {
          "name": "stderr",
          "output_type": "stream",
          "text": [
            "4it [21:08, 309.75s/it]"
          ]
        },
        {
          "name": "stdout",
          "output_type": "stream",
          "text": [
            "Language: hsb    Improvement over baseline: -2.94118\n",
            "Added 79 rows of data\n",
            "Added 0 rows of data\n",
            "Added 0 rows of data\n",
            "Added 0 rows of data\n",
            "Added 0 rows of data\n"
          ]
        },
        {
          "name": "stderr",
          "output_type": "stream",
          "text": [
            "5it [26:38, 316.93s/it]"
          ]
        },
        {
          "name": "stdout",
          "output_type": "stream",
          "text": [
            "Language: bh    Improvement over baseline: 7.26872\n",
            "Added 0 rows of data\n",
            "Added 0 rows of data\n",
            "Added 0 rows of data\n",
            "Added 0 rows of data\n"
          ]
        },
        {
          "name": "stderr",
          "output_type": "stream",
          "text": [
            "6it [33:42, 337.17s/it]\n"
          ]
        },
        {
          "name": "stdout",
          "output_type": "stream",
          "text": [
            "Language: cv    Improvement over baseline: 5.33643\n"
          ]
        },
        {
          "name": "stderr",
          "output_type": "stream",
          "text": [
            "1it [04:26, 266.77s/it]"
          ]
        },
        {
          "name": "stdout",
          "output_type": "stream",
          "text": [
            "Language: mg    Improvement over baseline: -0.45872\n",
            "Added 119 rows of data\n",
            "Added 0 rows of data\n",
            "Added 0 rows of data\n",
            "Added 0 rows of data\n"
          ]
        },
        {
          "name": "stderr",
          "output_type": "stream",
          "text": [
            "2it [11:28, 357.65s/it]"
          ]
        },
        {
          "name": "stdout",
          "output_type": "stream",
          "text": [
            "Language: fo    Improvement over baseline: 2.26481\n"
          ]
        },
        {
          "name": "stderr",
          "output_type": "stream",
          "text": [
            "3it [15:45, 311.99s/it]"
          ]
        },
        {
          "name": "stdout",
          "output_type": "stream",
          "text": [
            "Language: co    Improvement over baseline: 5.26316\n",
            "Added 0 rows of data\n",
            "Added 0 rows of data\n",
            "Added 0 rows of data\n"
          ]
        },
        {
          "name": "stderr",
          "output_type": "stream",
          "text": [
            "4it [22:13, 341.86s/it]"
          ]
        },
        {
          "name": "stdout",
          "output_type": "stream",
          "text": [
            "Language: hsb    Improvement over baseline: -0.21008\n",
            "Added 18 rows of data\n"
          ]
        },
        {
          "name": "stderr",
          "output_type": "stream",
          "text": [
            "5it [26:00, 300.63s/it]"
          ]
        },
        {
          "name": "stdout",
          "output_type": "stream",
          "text": [
            "Language: bh    Improvement over baseline: 3.30396\n"
          ]
        },
        {
          "name": "stderr",
          "output_type": "stream",
          "text": [
            "6it [28:42, 287.14s/it]\n"
          ]
        },
        {
          "name": "stdout",
          "output_type": "stream",
          "text": [
            "Language: cv    Improvement over baseline: 5.56845\n"
          ]
        },
        {
          "name": "stderr",
          "output_type": "stream",
          "text": [
            "1it [03:54, 234.38s/it]"
          ]
        },
        {
          "name": "stdout",
          "output_type": "stream",
          "text": [
            "Language: mg    Improvement over baseline: 0.45872\n",
            "Added 137 rows of data\n",
            "Added 0 rows of data\n",
            "Added 0 rows of data\n",
            "Added 0 rows of data\n"
          ]
        },
        {
          "name": "stderr",
          "output_type": "stream",
          "text": [
            "2it [10:58, 345.93s/it]"
          ]
        },
        {
          "name": "stdout",
          "output_type": "stream",
          "text": [
            "Language: fo    Improvement over baseline: 2.43902\n"
          ]
        },
        {
          "name": "stderr",
          "output_type": "stream",
          "text": [
            "3it [13:42, 263.04s/it]"
          ]
        },
        {
          "name": "stdout",
          "output_type": "stream",
          "text": [
            "Language: co    Improvement over baseline: 3.82775\n",
            "Added 0 rows of data\n",
            "Added 0 rows of data\n",
            "Added 0 rows of data\n",
            "Added 0 rows of data\n",
            "Added 0 rows of data\n",
            "Added 0 rows of data\n",
            "Added 0 rows of data\n",
            "Added 0 rows of data\n"
          ]
        },
        {
          "name": "stderr",
          "output_type": "stream",
          "text": [
            "4it [22:52, 376.22s/it]"
          ]
        },
        {
          "name": "stdout",
          "output_type": "stream",
          "text": [
            "Language: hsb    Improvement over baseline: -1.89076\n"
          ]
        },
        {
          "name": "stderr",
          "output_type": "stream",
          "text": [
            "5it [25:11, 290.75s/it]"
          ]
        },
        {
          "name": "stdout",
          "output_type": "stream",
          "text": [
            "Language: bh    Improvement over baseline: 2.20264\n"
          ]
        },
        {
          "name": "stderr",
          "output_type": "stream",
          "text": [
            "6it [28:45, 287.64s/it]\n"
          ]
        },
        {
          "name": "stdout",
          "output_type": "stream",
          "text": [
            "Language: cv    Improvement over baseline: 3.71230\n"
          ]
        },
        {
          "name": "stderr",
          "output_type": "stream",
          "text": [
            "0it [00:00, ?it/s]"
          ]
        },
        {
          "name": "stdout",
          "output_type": "stream",
          "text": [
            "Added 155 rows of data\n"
          ]
        },
        {
          "name": "stderr",
          "output_type": "stream",
          "text": [
            "1it [05:01, 301.31s/it]"
          ]
        },
        {
          "name": "stdout",
          "output_type": "stream",
          "text": [
            "Language: mg    Improvement over baseline: 0.45872\n"
          ]
        },
        {
          "name": "stderr",
          "output_type": "stream",
          "text": [
            "2it [09:43, 290.31s/it]"
          ]
        },
        {
          "name": "stdout",
          "output_type": "stream",
          "text": [
            "Language: fo    Improvement over baseline: 1.21951\n",
            "Added 0 rows of data\n",
            "Added 6 rows of data\n",
            "Added 0 rows of data\n",
            "Added 0 rows of data\n",
            "Added 0 rows of data\n",
            "Added 0 rows of data\n",
            "Added 0 rows of data\n",
            "Added 0 rows of data\n",
            "Added 0 rows of data\n",
            "Added 0 rows of data\n",
            "Added 0 rows of data\n",
            "Added 0 rows of data\n",
            "Added 1 rows of data\n",
            "Added 0 rows of data\n",
            "Added 0 rows of data\n",
            "Added 0 rows of data\n"
          ]
        },
        {
          "name": "stderr",
          "output_type": "stream",
          "text": [
            "3it [22:40, 512.20s/it]"
          ]
        },
        {
          "name": "stdout",
          "output_type": "stream",
          "text": [
            "Language: co    Improvement over baseline: 1.91388\n",
            "Added 0 rows of data\n",
            "Added 0 rows of data\n",
            "Added 0 rows of data\n",
            "Added 0 rows of data\n",
            "Added 0 rows of data\n",
            "Added 0 rows of data\n",
            "Added 0 rows of data\n"
          ]
        },
        {
          "name": "stderr",
          "output_type": "stream",
          "text": [
            "4it [31:33, 520.67s/it]"
          ]
        },
        {
          "name": "stdout",
          "output_type": "stream",
          "text": [
            "Language: hsb    Improvement over baseline: 2.10084\n"
          ]
        },
        {
          "name": "stderr",
          "output_type": "stream",
          "text": [
            "5it [34:40, 400.28s/it]"
          ]
        },
        {
          "name": "stdout",
          "output_type": "stream",
          "text": [
            "Language: bh    Improvement over baseline: 5.06608\n",
            "Added 0 rows of data\n",
            "Added 0 rows of data\n"
          ]
        },
        {
          "name": "stderr",
          "output_type": "stream",
          "text": [
            "6it [40:27, 404.62s/it]\n"
          ]
        },
        {
          "name": "stdout",
          "output_type": "stream",
          "text": [
            "Language: cv    Improvement over baseline: 6.26450\n"
          ]
        },
        {
          "name": "stderr",
          "output_type": "stream",
          "text": [
            "0it [00:00, ?it/s]"
          ]
        },
        {
          "name": "stdout",
          "output_type": "stream",
          "text": [
            "Added 159 rows of data\n",
            "Added 0 rows of data\n",
            "Added 0 rows of data\n",
            "Added 0 rows of data\n",
            "Added 0 rows of data\n"
          ]
        },
        {
          "name": "stderr",
          "output_type": "stream",
          "text": [
            "1it [07:07, 427.96s/it]"
          ]
        },
        {
          "name": "stdout",
          "output_type": "stream",
          "text": [
            "Language: mg    Improvement over baseline: 0.45872\n"
          ]
        },
        {
          "name": "stderr",
          "output_type": "stream",
          "text": [
            "2it [12:11, 354.54s/it]"
          ]
        },
        {
          "name": "stdout",
          "output_type": "stream",
          "text": [
            "Language: fo    Improvement over baseline: -0.87108\n"
          ]
        },
        {
          "name": "stderr",
          "output_type": "stream",
          "text": [
            "3it [15:28, 282.87s/it]"
          ]
        },
        {
          "name": "stdout",
          "output_type": "stream",
          "text": [
            "Language: co    Improvement over baseline: 1.91388\n",
            "Added 0 rows of data\n",
            "Added 0 rows of data\n",
            "Added 0 rows of data\n",
            "Added 0 rows of data\n",
            "Added 0 rows of data\n",
            "Added 0 rows of data\n"
          ]
        },
        {
          "name": "stderr",
          "output_type": "stream",
          "text": [
            "4it [23:54, 370.91s/it]"
          ]
        },
        {
          "name": "stdout",
          "output_type": "stream",
          "text": [
            "Language: hsb    Improvement over baseline: -1.05042\n"
          ]
        },
        {
          "name": "stderr",
          "output_type": "stream",
          "text": [
            "5it [26:49, 300.27s/it]"
          ]
        },
        {
          "name": "stdout",
          "output_type": "stream",
          "text": [
            "Language: bh    Improvement over baseline: 1.98238\n"
          ]
        },
        {
          "name": "stderr",
          "output_type": "stream",
          "text": [
            "6it [30:11, 301.98s/it]\n"
          ]
        },
        {
          "name": "stdout",
          "output_type": "stream",
          "text": [
            "Language: cv    Improvement over baseline: 3.01624\n"
          ]
        },
        {
          "name": "stderr",
          "output_type": "stream",
          "text": [
            "0it [00:00, ?it/s]"
          ]
        },
        {
          "name": "stdout",
          "output_type": "stream",
          "text": [
            "Added 151 rows of data\n",
            "Added 0 rows of data\n"
          ]
        },
        {
          "name": "stderr",
          "output_type": "stream",
          "text": [
            "1it [05:49, 349.05s/it]"
          ]
        },
        {
          "name": "stdout",
          "output_type": "stream",
          "text": [
            "Language: mg    Improvement over baseline: -0.45872\n"
          ]
        },
        {
          "name": "stderr",
          "output_type": "stream",
          "text": [
            "2it [09:15, 264.89s/it]"
          ]
        },
        {
          "name": "stdout",
          "output_type": "stream",
          "text": [
            "Language: fo    Improvement over baseline: -1.91638\n"
          ]
        },
        {
          "name": "stderr",
          "output_type": "stream",
          "text": [
            "3it [14:23, 285.00s/it]"
          ]
        },
        {
          "name": "stdout",
          "output_type": "stream",
          "text": [
            "Language: co    Improvement over baseline: 2.87081\n",
            "Added 0 rows of data\n",
            "Added 0 rows of data\n",
            "Added 0 rows of data\n",
            "Added 0 rows of data\n",
            "Added 0 rows of data\n",
            "Added 0 rows of data\n",
            "Added 0 rows of data\n",
            "Added 0 rows of data\n"
          ]
        },
        {
          "name": "stderr",
          "output_type": "stream",
          "text": [
            "4it [23:43, 393.26s/it]"
          ]
        },
        {
          "name": "stdout",
          "output_type": "stream",
          "text": [
            "Language: hsb    Improvement over baseline: -3.78151\n"
          ]
        },
        {
          "name": "stderr",
          "output_type": "stream",
          "text": [
            "5it [26:12, 305.26s/it]"
          ]
        },
        {
          "name": "stdout",
          "output_type": "stream",
          "text": [
            "Language: bh    Improvement over baseline: 0.44053\n"
          ]
        },
        {
          "name": "stderr",
          "output_type": "stream",
          "text": [
            "6it [30:45, 307.61s/it]\n"
          ]
        },
        {
          "name": "stdout",
          "output_type": "stream",
          "text": [
            "Language: cv    Improvement over baseline: 3.48028\n"
          ]
        },
        {
          "name": "stderr",
          "output_type": "stream",
          "text": [
            "0it [00:00, ?it/s]"
          ]
        },
        {
          "name": "stdout",
          "output_type": "stream",
          "text": [
            "Added 149 rows of data\n",
            "Added 0 rows of data\n"
          ]
        },
        {
          "name": "stderr",
          "output_type": "stream",
          "text": [
            "1it [05:46, 346.06s/it]"
          ]
        },
        {
          "name": "stdout",
          "output_type": "stream",
          "text": [
            "Language: mg    Improvement over baseline: 0.22936\n",
            "Added 61 rows of data\n"
          ]
        },
        {
          "name": "stderr",
          "output_type": "stream",
          "text": [
            "2it [11:40, 350.78s/it]"
          ]
        },
        {
          "name": "stdout",
          "output_type": "stream",
          "text": [
            "Language: fo    Improvement over baseline: -1.21951\n"
          ]
        },
        {
          "name": "stderr",
          "output_type": "stream",
          "text": [
            "3it [14:36, 271.25s/it]"
          ]
        },
        {
          "name": "stdout",
          "output_type": "stream",
          "text": [
            "Language: co    Improvement over baseline: 2.39234\n",
            "Added 0 rows of data\n",
            "Added 0 rows of data\n",
            "Added 0 rows of data\n",
            "Added 0 rows of data\n"
          ]
        },
        {
          "name": "stderr",
          "output_type": "stream",
          "text": [
            "4it [22:15, 345.09s/it]"
          ]
        },
        {
          "name": "stdout",
          "output_type": "stream",
          "text": [
            "Language: hsb    Improvement over baseline: -0.42017\n"
          ]
        },
        {
          "name": "stderr",
          "output_type": "stream",
          "text": [
            "5it [24:45, 274.81s/it]"
          ]
        },
        {
          "name": "stdout",
          "output_type": "stream",
          "text": [
            "Language: bh    Improvement over baseline: 2.20264\n",
            "Added 0 rows of data\n",
            "Added 0 rows of data\n",
            "Added 0 rows of data\n",
            "Added 0 rows of data\n"
          ]
        },
        {
          "name": "stderr",
          "output_type": "stream",
          "text": [
            "6it [31:20, 313.41s/it]\n"
          ]
        },
        {
          "name": "stdout",
          "output_type": "stream",
          "text": [
            "Language: cv    Improvement over baseline: 3.71230\n"
          ]
        },
        {
          "name": "stderr",
          "output_type": "stream",
          "text": [
            "0it [00:00, ?it/s]"
          ]
        },
        {
          "name": "stdout",
          "output_type": "stream",
          "text": [
            "Added 159 rows of data\n",
            "Added 0 rows of data\n",
            "Added 0 rows of data\n"
          ]
        },
        {
          "name": "stderr",
          "output_type": "stream",
          "text": [
            "1it [05:53, 353.64s/it]"
          ]
        },
        {
          "name": "stdout",
          "output_type": "stream",
          "text": [
            "Language: mg    Improvement over baseline: 0.45872\n",
            "Added 62 rows of data\n",
            "Added 0 rows of data\n"
          ]
        },
        {
          "name": "stderr",
          "output_type": "stream",
          "text": [
            "2it [11:42, 350.72s/it]"
          ]
        },
        {
          "name": "stdout",
          "output_type": "stream",
          "text": [
            "Language: fo    Improvement over baseline: 0.87108\n"
          ]
        },
        {
          "name": "stderr",
          "output_type": "stream",
          "text": [
            "3it [15:01, 281.71s/it]"
          ]
        },
        {
          "name": "stdout",
          "output_type": "stream",
          "text": [
            "Language: co    Improvement over baseline: 4.30622\n",
            "Added 0 rows of data\n",
            "Added 0 rows of data\n",
            "Added 0 rows of data\n",
            "Added 0 rows of data\n",
            "Added 0 rows of data\n",
            "Added 0 rows of data\n"
          ]
        },
        {
          "name": "stderr",
          "output_type": "stream",
          "text": [
            "4it [22:46, 354.01s/it]"
          ]
        },
        {
          "name": "stdout",
          "output_type": "stream",
          "text": [
            "Language: hsb    Improvement over baseline: 0.42017\n"
          ]
        },
        {
          "name": "stderr",
          "output_type": "stream",
          "text": [
            "5it [26:17, 302.22s/it]"
          ]
        },
        {
          "name": "stdout",
          "output_type": "stream",
          "text": [
            "Language: bh    Improvement over baseline: 8.37004\n"
          ]
        },
        {
          "name": "stderr",
          "output_type": "stream",
          "text": [
            "6it [30:01, 300.29s/it]\n"
          ]
        },
        {
          "name": "stdout",
          "output_type": "stream",
          "text": [
            "Language: cv    Improvement over baseline: 0.92807\n"
          ]
        },
        {
          "name": "stderr",
          "output_type": "stream",
          "text": [
            "1it [02:54, 174.92s/it]"
          ]
        },
        {
          "name": "stdout",
          "output_type": "stream",
          "text": [
            "Language: mg    Improvement over baseline: 1.14679\n"
          ]
        },
        {
          "name": "stderr",
          "output_type": "stream",
          "text": [
            "2it [06:05, 184.27s/it]"
          ]
        },
        {
          "name": "stdout",
          "output_type": "stream",
          "text": [
            "Language: fo    Improvement over baseline: -1.39373\n",
            "Added 0 rows of data\n",
            "Added 3 rows of data\n",
            "Added 0 rows of data\n"
          ]
        },
        {
          "name": "stderr",
          "output_type": "stream",
          "text": [
            "3it [12:02, 263.25s/it]"
          ]
        },
        {
          "name": "stdout",
          "output_type": "stream",
          "text": [
            "Language: co    Improvement over baseline: 4.78469\n",
            "Added 0 rows of data\n",
            "Added 0 rows of data\n",
            "Added 0 rows of data\n",
            "Added 0 rows of data\n",
            "Added 0 rows of data\n",
            "Added 0 rows of data\n",
            "Added 0 rows of data\n",
            "Added 0 rows of data\n"
          ]
        },
        {
          "name": "stderr",
          "output_type": "stream",
          "text": [
            "4it [20:41, 363.94s/it]"
          ]
        },
        {
          "name": "stdout",
          "output_type": "stream",
          "text": [
            "Language: hsb    Improvement over baseline: -2.52101\n",
            "Added 0 rows of data\n"
          ]
        },
        {
          "name": "stderr",
          "output_type": "stream",
          "text": [
            "5it [24:01, 304.99s/it]"
          ]
        },
        {
          "name": "stdout",
          "output_type": "stream",
          "text": [
            "Language: bh    Improvement over baseline: 4.40529\n",
            "Added 0 rows of data\n"
          ]
        },
        {
          "name": "stderr",
          "output_type": "stream",
          "text": [
            "6it [28:42, 287.12s/it]\n"
          ]
        },
        {
          "name": "stdout",
          "output_type": "stream",
          "text": [
            "Language: cv    Improvement over baseline: 6.03248\n"
          ]
        },
        {
          "name": "stderr",
          "output_type": "stream",
          "text": [
            "0it [00:00, ?it/s]"
          ]
        },
        {
          "name": "stdout",
          "output_type": "stream",
          "text": [
            "Added 74 rows of data\n"
          ]
        },
        {
          "name": "stderr",
          "output_type": "stream",
          "text": [
            "1it [04:26, 266.65s/it]"
          ]
        },
        {
          "name": "stdout",
          "output_type": "stream",
          "text": [
            "Language: mg    Improvement over baseline: 0.00000\n",
            "Added 0 rows of data\n",
            "Added 26 rows of data\n"
          ]
        },
        {
          "name": "stderr",
          "output_type": "stream",
          "text": [
            "2it [09:54, 302.73s/it]"
          ]
        },
        {
          "name": "stdout",
          "output_type": "stream",
          "text": [
            "Language: fo    Improvement over baseline: 1.21951\n"
          ]
        },
        {
          "name": "stderr",
          "output_type": "stream",
          "text": [
            "3it [12:45, 242.55s/it]"
          ]
        },
        {
          "name": "stdout",
          "output_type": "stream",
          "text": [
            "Language: co    Improvement over baseline: 0.47847\n",
            "Added 0 rows of data\n",
            "Added 0 rows of data\n"
          ]
        },
        {
          "name": "stderr",
          "output_type": "stream",
          "text": [
            "4it [18:43, 288.11s/it]"
          ]
        },
        {
          "name": "stdout",
          "output_type": "stream",
          "text": [
            "Language: hsb    Improvement over baseline: -2.73109\n",
            "Added 0 rows of data\n",
            "Added 0 rows of data\n"
          ]
        },
        {
          "name": "stderr",
          "output_type": "stream",
          "text": [
            "5it [23:20, 284.07s/it]"
          ]
        },
        {
          "name": "stdout",
          "output_type": "stream",
          "text": [
            "Language: bh    Improvement over baseline: 5.28634\n"
          ]
        },
        {
          "name": "stderr",
          "output_type": "stream",
          "text": [
            "6it [28:36, 286.11s/it]\n"
          ]
        },
        {
          "name": "stdout",
          "output_type": "stream",
          "text": [
            "Language: cv    Improvement over baseline: 5.56845\n"
          ]
        },
        {
          "name": "stderr",
          "output_type": "stream",
          "text": [
            "0it [00:00, ?it/s]"
          ]
        },
        {
          "name": "stdout",
          "output_type": "stream",
          "text": [
            "Added 79 rows of data\n"
          ]
        },
        {
          "name": "stderr",
          "output_type": "stream",
          "text": [
            "1it [04:23, 263.76s/it]"
          ]
        },
        {
          "name": "stdout",
          "output_type": "stream",
          "text": [
            "Language: mg    Improvement over baseline: -0.22936\n"
          ]
        },
        {
          "name": "stderr",
          "output_type": "stream",
          "text": [
            "2it [07:41, 225.09s/it]"
          ]
        },
        {
          "name": "stdout",
          "output_type": "stream",
          "text": [
            "Language: fo    Improvement over baseline: -2.26481\n"
          ]
        },
        {
          "name": "stderr",
          "output_type": "stream",
          "text": [
            "3it [11:21, 222.47s/it]"
          ]
        },
        {
          "name": "stdout",
          "output_type": "stream",
          "text": [
            "Language: co    Improvement over baseline: 9.56938\n",
            "Added 0 rows of data\n",
            "Added 0 rows of data\n",
            "Added 0 rows of data\n",
            "Added 0 rows of data\n",
            "Added 0 rows of data\n",
            "Added 0 rows of data\n",
            "Added 0 rows of data\n",
            "Added 0 rows of data\n",
            "Added 0 rows of data\n",
            "Added 0 rows of data\n",
            "Added 0 rows of data\n",
            "Added 0 rows of data\n",
            "Added 0 rows of data\n"
          ]
        },
        {
          "name": "stderr",
          "output_type": "stream",
          "text": [
            "4it [22:02, 388.00s/it]"
          ]
        },
        {
          "name": "stdout",
          "output_type": "stream",
          "text": [
            "Language: hsb    Improvement over baseline: 2.73109\n"
          ]
        },
        {
          "name": "stderr",
          "output_type": "stream",
          "text": [
            "5it [24:26, 299.98s/it]"
          ]
        },
        {
          "name": "stdout",
          "output_type": "stream",
          "text": [
            "Language: bh    Improvement over baseline: 4.18502\n"
          ]
        },
        {
          "name": "stderr",
          "output_type": "stream",
          "text": [
            "6it [28:16, 282.69s/it]\n"
          ]
        },
        {
          "name": "stdout",
          "output_type": "stream",
          "text": [
            "Language: cv    Improvement over baseline: 1.85615\n"
          ]
        },
        {
          "name": "stderr",
          "output_type": "stream",
          "text": [
            "0it [00:00, ?it/s]"
          ]
        },
        {
          "name": "stdout",
          "output_type": "stream",
          "text": [
            "Added 76 rows of data\n",
            "Added 0 rows of data\n",
            "Added 0 rows of data\n",
            "Added 1 rows of data\n",
            "Added 0 rows of data\n"
          ]
        },
        {
          "name": "stderr",
          "output_type": "stream",
          "text": [
            "1it [06:15, 375.37s/it]"
          ]
        },
        {
          "name": "stdout",
          "output_type": "stream",
          "text": [
            "Language: mg    Improvement over baseline: -0.22936\n"
          ]
        },
        {
          "name": "stderr",
          "output_type": "stream",
          "text": [
            "2it [09:11, 258.04s/it]"
          ]
        },
        {
          "name": "stdout",
          "output_type": "stream",
          "text": [
            "Language: fo    Improvement over baseline: -1.91638\n"
          ]
        },
        {
          "name": "stderr",
          "output_type": "stream",
          "text": [
            "3it [12:00, 217.60s/it]"
          ]
        },
        {
          "name": "stdout",
          "output_type": "stream",
          "text": [
            "Language: co    Improvement over baseline: -0.47847\n"
          ]
        },
        {
          "name": "stderr",
          "output_type": "stream",
          "text": [
            "4it [14:51, 198.93s/it]"
          ]
        },
        {
          "name": "stdout",
          "output_type": "stream",
          "text": [
            "Language: hsb    Improvement over baseline: -0.63025\n",
            "Added 0 rows of data\n",
            "Added 0 rows of data\n",
            "Added 2 rows of data\n"
          ]
        },
        {
          "name": "stderr",
          "output_type": "stream",
          "text": [
            "5it [18:56, 215.84s/it]"
          ]
        },
        {
          "name": "stdout",
          "output_type": "stream",
          "text": [
            "Language: bh    Improvement over baseline: 5.72687\n"
          ]
        },
        {
          "name": "stderr",
          "output_type": "stream",
          "text": [
            "6it [21:22, 213.70s/it]\n"
          ]
        },
        {
          "name": "stdout",
          "output_type": "stream",
          "text": [
            "Language: cv    Improvement over baseline: -1.62413\n"
          ]
        },
        {
          "name": "stderr",
          "output_type": "stream",
          "text": [
            "0it [00:00, ?it/s]"
          ]
        },
        {
          "name": "stdout",
          "output_type": "stream",
          "text": [
            "Added 79 rows of data\n"
          ]
        },
        {
          "name": "stderr",
          "output_type": "stream",
          "text": [
            "1it [04:22, 262.54s/it]"
          ]
        },
        {
          "name": "stdout",
          "output_type": "stream",
          "text": [
            "Language: mg    Improvement over baseline: 0.22936\n",
            "Added 8 rows of data\n",
            "Added 3 rows of data\n",
            "Added 0 rows of data\n",
            "Added 0 rows of data\n"
          ]
        },
        {
          "name": "stderr",
          "output_type": "stream",
          "text": [
            "2it [10:25, 321.66s/it]"
          ]
        },
        {
          "name": "stdout",
          "output_type": "stream",
          "text": [
            "Language: fo    Improvement over baseline: 0.69686\n",
            "Added 0 rows of data\n",
            "Added 0 rows of data\n",
            "Added 0 rows of data\n",
            "Added 0 rows of data\n",
            "Added 0 rows of data\n",
            "Added 0 rows of data\n",
            "Added 0 rows of data\n"
          ]
        },
        {
          "name": "stderr",
          "output_type": "stream",
          "text": [
            "3it [17:41, 373.90s/it]"
          ]
        },
        {
          "name": "stdout",
          "output_type": "stream",
          "text": [
            "Language: co    Improvement over baseline: 6.22010\n"
          ]
        },
        {
          "name": "stderr",
          "output_type": "stream",
          "text": [
            "4it [22:11, 332.99s/it]"
          ]
        },
        {
          "name": "stdout",
          "output_type": "stream",
          "text": [
            "Language: hsb    Improvement over baseline: -2.10084\n",
            "Added 7 rows of data\n",
            "Added 0 rows of data\n",
            "Added 13 rows of data\n"
          ]
        },
        {
          "name": "stderr",
          "output_type": "stream",
          "text": [
            "5it [26:19, 302.15s/it]"
          ]
        },
        {
          "name": "stdout",
          "output_type": "stream",
          "text": [
            "Language: bh    Improvement over baseline: 5.28634\n"
          ]
        },
        {
          "name": "stderr",
          "output_type": "stream",
          "text": [
            "6it [30:36, 306.06s/it]"
          ]
        },
        {
          "name": "stdout",
          "output_type": "stream",
          "text": [
            "Language: cv    Improvement over baseline: -1.85615\n"
          ]
        },
        {
          "name": "stderr",
          "output_type": "stream",
          "text": [
            "\n"
          ]
        }
      ],
      "source": [
        "iterative_pseudo_labeling_results = []\n",
        "\n",
        "# Iterate through low-resource languages\n",
        "high_resource_datasets = load_wikiann_datasets(BaseConfig.high_resource_langs, 10000)\n",
        "\n",
        "for conf_quantile in [\n",
        "    0.82,\n",
        "    0.83,\n",
        "    0.84,\n",
        "    0.85,\n",
        "    0.86,\n",
        "    0.87,\n",
        "    0.88,\n",
        "    0.89,\n",
        "    0.9,\n",
        "    0.91,\n",
        "    0.92,\n",
        "    0.93,\n",
        "    0.94,\n",
        "    0.95,\n",
        "    0.96,\n",
        "    0.97,\n",
        "    0.98,\n",
        "    0.99,\n",
        "]:\n",
        "    PseudoLabelingConfig.CONFIDENCE_QUANTILE = conf_quantile\n",
        "    for _ in range(5):\n",
        "\n",
        "        # Iterate through low-resource and adjacent high-resource languages\n",
        "        for (lang, low_resource_data), (_, high_resource_data) in tqdm(\n",
        "            zip(low_resource_datasets.items(), high_resource_datasets.items()),\n",
        "            ncols=80,\n",
        "        ):\n",
        "\n",
        "            train_loader, val_loader, test_loader = create_dataloaders(\n",
        "                low_resource_data\n",
        "            )\n",
        "            unlabeled_data = high_resource_data[\"train\"]\n",
        "\n",
        "            # ------------------------------------------ TRAINING ------------------------------------------ #\n",
        "\n",
        "            model = BertBilstmCrf(BaseConfig.NUM_TAGS).to(BaseConfig.DEVICE)\n",
        "            model.load_state_dict(torch.load(f\"models/{lang}_baseline.pth\"))\n",
        "            optimizer = setup_optimizer(model, PseudoLabelingConfig)\n",
        "            best_model_state, train_f1, val_f1 = train_pseudo_labeling(\n",
        "                model,\n",
        "                optimizer,\n",
        "                train_loader,\n",
        "                val_loader,\n",
        "                unlabeled_data,\n",
        "                PseudoLabelingConfig,\n",
        "            )\n",
        "\n",
        "            # ------------------------------------------ EVALUATION ------------------------------------------ #\n",
        "\n",
        "            eval_model = BertBilstmCrf(BaseConfig.NUM_TAGS).to(BaseConfig.DEVICE)\n",
        "            eval_model.load_state_dict(best_model_state)\n",
        "            test_loss, test_f1 = evaluate_epoch(eval_model, test_loader)\n",
        "\n",
        "            # ------------------------------------------ RESULTS ------------------------------------------ #\n",
        "            torch.save(best_model_state, f\"models/{lang}_iterative_pseudo_labeling.pth\")\n",
        "\n",
        "            baseline_performance = baseline.loc[\n",
        "                baseline[\"language\"] == lang, \"test_f1\"\n",
        "            ].item()\n",
        "            improvement = (test_f1 - baseline_performance) / baseline_performance * 100\n",
        "\n",
        "            iterative_pseudo_labeling_results.append(\n",
        "                {\n",
        "                    \"language\": lang,\n",
        "                    \"train_f1\": train_f1,\n",
        "                    \"val_f1\": val_f1,\n",
        "                    \"test_f1\": test_f1,\n",
        "                    \"improvement\": improvement,\n",
        "                    \"confidence_quantile\": conf_quantile,\n",
        "                }\n",
        "            )\n",
        "\n",
        "            print(f\"Language: {lang}    Improvement over baseline: {improvement:.5f}\")\n",
        "\n",
        "# Save results\n",
        "iterative_pseudo_labeling = pd.DataFrame(iterative_pseudo_labeling_results)\n",
        "iterative_pseudo_labeling.to_csv(\n",
        "    \"results/big_full_iterative_pseudo_labeling.csv\", index=False\n",
        ")"
      ]
    },
    {
      "cell_type": "markdown",
      "metadata": {},
      "source": [
        "9:\n",
        "\n",
        "class PseudoLabelingConfig(BaseConfig):\n",
        "    EPOCHS                = 25\n",
        "    PATIENCE              = 5\n",
        "    BERT_LEARNING_RATE    = 0.00002\n",
        "    LSTM_LEARNING_RATE    = 0.003\n",
        "    CRF_LEARNING_RATE     = 0.00003\n",
        "\n",
        "    CONFIDENCE_QUANTILE   = 0.95\n",
        "    PSEUDO_DELAY          = 8\n",
        "    ENTROPY_THRESHOLD     = 0.2"
      ]
    },
    {
      "cell_type": "markdown",
      "metadata": {},
      "source": [
        "10:\n",
        "\n",
        "class PseudoLabelingConfig(BaseConfig):\n",
        "    EPOCHS                = 25\n",
        "    PATIENCE              = 5\n",
        "    BERT_LEARNING_RATE    = 0.00002\n",
        "    LSTM_LEARNING_RATE    = 0.003\n",
        "    CRF_LEARNING_RATE     = 0.00003\n",
        "\n",
        "    CONFIDENCE_QUANTILE   = 0.90\n",
        "    PSEUDO_DELAY          = 8\n",
        "    ENTROPY_THRESHOLD     = 0.15"
      ]
    },
    {
      "cell_type": "code",
      "execution_count": 20,
      "metadata": {},
      "outputs": [
        {
          "data": {
            "text/html": [
              "<div>\n",
              "<style scoped>\n",
              "    .dataframe tbody tr th:only-of-type {\n",
              "        vertical-align: middle;\n",
              "    }\n",
              "\n",
              "    .dataframe tbody tr th {\n",
              "        vertical-align: top;\n",
              "    }\n",
              "\n",
              "    .dataframe thead th {\n",
              "        text-align: right;\n",
              "    }\n",
              "</style>\n",
              "<table border=\"1\" class=\"dataframe\">\n",
              "  <thead>\n",
              "    <tr style=\"text-align: right;\">\n",
              "      <th></th>\n",
              "      <th>language</th>\n",
              "      <th>train_f1</th>\n",
              "      <th>val_f1</th>\n",
              "      <th>test_f1</th>\n",
              "      <th>improvement</th>\n",
              "      <th>confidence_quantile</th>\n",
              "    </tr>\n",
              "  </thead>\n",
              "  <tbody>\n",
              "    <tr>\n",
              "      <th>0</th>\n",
              "      <td>mg</td>\n",
              "      <td>0.999543</td>\n",
              "      <td>0.943878</td>\n",
              "      <td>0.960352</td>\n",
              "      <td>0.000000</td>\n",
              "      <td>0.88</td>\n",
              "    </tr>\n",
              "    <tr>\n",
              "      <th>1</th>\n",
              "      <td>fo</td>\n",
              "      <td>0.992799</td>\n",
              "      <td>0.908273</td>\n",
              "      <td>0.912088</td>\n",
              "      <td>1.219512</td>\n",
              "      <td>0.88</td>\n",
              "    </tr>\n",
              "    <tr>\n",
              "      <th>2</th>\n",
              "      <td>co</td>\n",
              "      <td>0.998431</td>\n",
              "      <td>0.852308</td>\n",
              "      <td>0.883268</td>\n",
              "      <td>8.612440</td>\n",
              "      <td>0.88</td>\n",
              "    </tr>\n",
              "    <tr>\n",
              "      <th>3</th>\n",
              "      <td>hsb</td>\n",
              "      <td>0.963006</td>\n",
              "      <td>0.933468</td>\n",
              "      <td>0.838420</td>\n",
              "      <td>-1.890756</td>\n",
              "      <td>0.88</td>\n",
              "    </tr>\n",
              "    <tr>\n",
              "      <th>4</th>\n",
              "      <td>bh</td>\n",
              "      <td>0.995533</td>\n",
              "      <td>0.903052</td>\n",
              "      <td>0.826855</td>\n",
              "      <td>3.083700</td>\n",
              "      <td>0.88</td>\n",
              "    </tr>\n",
              "    <tr>\n",
              "      <th>...</th>\n",
              "      <td>...</td>\n",
              "      <td>...</td>\n",
              "      <td>...</td>\n",
              "      <td>...</td>\n",
              "      <td>...</td>\n",
              "      <td>...</td>\n",
              "    </tr>\n",
              "    <tr>\n",
              "      <th>175</th>\n",
              "      <td>fo</td>\n",
              "      <td>0.995790</td>\n",
              "      <td>0.917266</td>\n",
              "      <td>0.926217</td>\n",
              "      <td>2.787456</td>\n",
              "      <td>0.93</td>\n",
              "    </tr>\n",
              "    <tr>\n",
              "      <th>176</th>\n",
              "      <td>co</td>\n",
              "      <td>0.991126</td>\n",
              "      <td>0.870769</td>\n",
              "      <td>0.883268</td>\n",
              "      <td>8.612440</td>\n",
              "      <td>0.93</td>\n",
              "    </tr>\n",
              "    <tr>\n",
              "      <th>177</th>\n",
              "      <td>hsb</td>\n",
              "      <td>0.989406</td>\n",
              "      <td>0.951613</td>\n",
              "      <td>0.838420</td>\n",
              "      <td>-1.890756</td>\n",
              "      <td>0.93</td>\n",
              "    </tr>\n",
              "    <tr>\n",
              "      <th>178</th>\n",
              "      <td>bh</td>\n",
              "      <td>0.977077</td>\n",
              "      <td>0.881508</td>\n",
              "      <td>0.810954</td>\n",
              "      <td>1.101322</td>\n",
              "      <td>0.93</td>\n",
              "    </tr>\n",
              "    <tr>\n",
              "      <th>179</th>\n",
              "      <td>cv</td>\n",
              "      <td>0.989100</td>\n",
              "      <td>0.906040</td>\n",
              "      <td>0.832370</td>\n",
              "      <td>0.232019</td>\n",
              "      <td>0.93</td>\n",
              "    </tr>\n",
              "  </tbody>\n",
              "</table>\n",
              "<p>180 rows × 6 columns</p>\n",
              "</div>"
            ],
            "text/plain": [
              "    language  train_f1    val_f1   test_f1  improvement  confidence_quantile\n",
              "0         mg  0.999543  0.943878  0.960352     0.000000                 0.88\n",
              "1         fo  0.992799  0.908273  0.912088     1.219512                 0.88\n",
              "2         co  0.998431  0.852308  0.883268     8.612440                 0.88\n",
              "3        hsb  0.963006  0.933468  0.838420    -1.890756                 0.88\n",
              "4         bh  0.995533  0.903052  0.826855     3.083700                 0.88\n",
              "..       ...       ...       ...       ...          ...                  ...\n",
              "175       fo  0.995790  0.917266  0.926217     2.787456                 0.93\n",
              "176       co  0.991126  0.870769  0.883268     8.612440                 0.93\n",
              "177      hsb  0.989406  0.951613  0.838420    -1.890756                 0.93\n",
              "178       bh  0.977077  0.881508  0.810954     1.101322                 0.93\n",
              "179       cv  0.989100  0.906040  0.832370     0.232019                 0.93\n",
              "\n",
              "[180 rows x 6 columns]"
            ]
          },
          "execution_count": 20,
          "metadata": {},
          "output_type": "execute_result"
        }
      ],
      "source": [
        "df = pd.read_csv(\"results/full_iterative_pseudo_labeling.csv\")\n",
        "df"
      ]
    },
    {
      "cell_type": "code",
      "execution_count": 21,
      "metadata": {},
      "outputs": [
        {
          "data": {
            "text/html": [
              "<div>\n",
              "<style scoped>\n",
              "    .dataframe tbody tr th:only-of-type {\n",
              "        vertical-align: middle;\n",
              "    }\n",
              "\n",
              "    .dataframe tbody tr th {\n",
              "        vertical-align: top;\n",
              "    }\n",
              "\n",
              "    .dataframe thead th {\n",
              "        text-align: right;\n",
              "    }\n",
              "</style>\n",
              "<table border=\"1\" class=\"dataframe\">\n",
              "  <thead>\n",
              "    <tr style=\"text-align: right;\">\n",
              "      <th></th>\n",
              "      <th>language</th>\n",
              "      <th>train_f1</th>\n",
              "      <th>val_f1</th>\n",
              "      <th>test_f1</th>\n",
              "      <th>improvement</th>\n",
              "      <th>confidence_quantile</th>\n",
              "    </tr>\n",
              "  </thead>\n",
              "  <tbody>\n",
              "    <tr>\n",
              "      <th>3</th>\n",
              "      <td>hsb</td>\n",
              "      <td>0.963006</td>\n",
              "      <td>0.933468</td>\n",
              "      <td>0.838420</td>\n",
              "      <td>-1.890756</td>\n",
              "      <td>0.88</td>\n",
              "    </tr>\n",
              "    <tr>\n",
              "      <th>9</th>\n",
              "      <td>hsb</td>\n",
              "      <td>0.982419</td>\n",
              "      <td>0.939516</td>\n",
              "      <td>0.847397</td>\n",
              "      <td>-0.840336</td>\n",
              "      <td>0.88</td>\n",
              "    </tr>\n",
              "    <tr>\n",
              "      <th>15</th>\n",
              "      <td>hsb</td>\n",
              "      <td>0.982341</td>\n",
              "      <td>0.963710</td>\n",
              "      <td>0.856373</td>\n",
              "      <td>0.210084</td>\n",
              "      <td>0.88</td>\n",
              "    </tr>\n",
              "    <tr>\n",
              "      <th>21</th>\n",
              "      <td>hsb</td>\n",
              "      <td>0.989991</td>\n",
              "      <td>0.961694</td>\n",
              "      <td>0.825853</td>\n",
              "      <td>-3.361345</td>\n",
              "      <td>0.88</td>\n",
              "    </tr>\n",
              "    <tr>\n",
              "      <th>27</th>\n",
              "      <td>hsb</td>\n",
              "      <td>0.971733</td>\n",
              "      <td>0.933468</td>\n",
              "      <td>0.847397</td>\n",
              "      <td>-0.840336</td>\n",
              "      <td>0.88</td>\n",
              "    </tr>\n",
              "    <tr>\n",
              "      <th>33</th>\n",
              "      <td>hsb</td>\n",
              "      <td>0.985929</td>\n",
              "      <td>0.939516</td>\n",
              "      <td>0.867145</td>\n",
              "      <td>1.470588</td>\n",
              "      <td>0.89</td>\n",
              "    </tr>\n",
              "    <tr>\n",
              "      <th>39</th>\n",
              "      <td>hsb</td>\n",
              "      <td>0.940353</td>\n",
              "      <td>0.917339</td>\n",
              "      <td>0.813285</td>\n",
              "      <td>-4.831933</td>\n",
              "      <td>0.89</td>\n",
              "    </tr>\n",
              "    <tr>\n",
              "      <th>45</th>\n",
              "      <td>hsb</td>\n",
              "      <td>0.973022</td>\n",
              "      <td>0.959677</td>\n",
              "      <td>0.842011</td>\n",
              "      <td>-1.470588</td>\n",
              "      <td>0.89</td>\n",
              "    </tr>\n",
              "    <tr>\n",
              "      <th>51</th>\n",
              "      <td>hsb</td>\n",
              "      <td>0.996490</td>\n",
              "      <td>0.941532</td>\n",
              "      <td>0.859964</td>\n",
              "      <td>0.630252</td>\n",
              "      <td>0.89</td>\n",
              "    </tr>\n",
              "    <tr>\n",
              "      <th>57</th>\n",
              "      <td>hsb</td>\n",
              "      <td>0.989977</td>\n",
              "      <td>0.947581</td>\n",
              "      <td>0.838420</td>\n",
              "      <td>-1.890756</td>\n",
              "      <td>0.89</td>\n",
              "    </tr>\n",
              "    <tr>\n",
              "      <th>63</th>\n",
              "      <td>hsb</td>\n",
              "      <td>0.986948</td>\n",
              "      <td>0.955645</td>\n",
              "      <td>0.856373</td>\n",
              "      <td>0.210084</td>\n",
              "      <td>0.90</td>\n",
              "    </tr>\n",
              "    <tr>\n",
              "      <th>69</th>\n",
              "      <td>hsb</td>\n",
              "      <td>0.994595</td>\n",
              "      <td>0.943548</td>\n",
              "      <td>0.836625</td>\n",
              "      <td>-2.100840</td>\n",
              "      <td>0.90</td>\n",
              "    </tr>\n",
              "    <tr>\n",
              "      <th>75</th>\n",
              "      <td>hsb</td>\n",
              "      <td>0.990271</td>\n",
              "      <td>0.939516</td>\n",
              "      <td>0.845601</td>\n",
              "      <td>-1.050420</td>\n",
              "      <td>0.90</td>\n",
              "    </tr>\n",
              "    <tr>\n",
              "      <th>81</th>\n",
              "      <td>hsb</td>\n",
              "      <td>0.984187</td>\n",
              "      <td>0.955645</td>\n",
              "      <td>0.872531</td>\n",
              "      <td>2.100840</td>\n",
              "      <td>0.90</td>\n",
              "    </tr>\n",
              "    <tr>\n",
              "      <th>87</th>\n",
              "      <td>hsb</td>\n",
              "      <td>0.994247</td>\n",
              "      <td>0.949597</td>\n",
              "      <td>0.838420</td>\n",
              "      <td>-1.890756</td>\n",
              "      <td>0.90</td>\n",
              "    </tr>\n",
              "    <tr>\n",
              "      <th>93</th>\n",
              "      <td>hsb</td>\n",
              "      <td>0.991498</td>\n",
              "      <td>0.943548</td>\n",
              "      <td>0.842011</td>\n",
              "      <td>-1.470588</td>\n",
              "      <td>0.91</td>\n",
              "    </tr>\n",
              "    <tr>\n",
              "      <th>99</th>\n",
              "      <td>hsb</td>\n",
              "      <td>0.993534</td>\n",
              "      <td>0.943548</td>\n",
              "      <td>0.822262</td>\n",
              "      <td>-3.781513</td>\n",
              "      <td>0.91</td>\n",
              "    </tr>\n",
              "    <tr>\n",
              "      <th>105</th>\n",
              "      <td>hsb</td>\n",
              "      <td>0.988646</td>\n",
              "      <td>0.943548</td>\n",
              "      <td>0.838420</td>\n",
              "      <td>-1.890756</td>\n",
              "      <td>0.91</td>\n",
              "    </tr>\n",
              "    <tr>\n",
              "      <th>111</th>\n",
              "      <td>hsb</td>\n",
              "      <td>0.994532</td>\n",
              "      <td>0.965726</td>\n",
              "      <td>0.834829</td>\n",
              "      <td>-2.310924</td>\n",
              "      <td>0.91</td>\n",
              "    </tr>\n",
              "    <tr>\n",
              "      <th>117</th>\n",
              "      <td>hsb</td>\n",
              "      <td>0.982143</td>\n",
              "      <td>0.965726</td>\n",
              "      <td>0.865350</td>\n",
              "      <td>1.260504</td>\n",
              "      <td>0.91</td>\n",
              "    </tr>\n",
              "    <tr>\n",
              "      <th>123</th>\n",
              "      <td>hsb</td>\n",
              "      <td>0.993450</td>\n",
              "      <td>0.947581</td>\n",
              "      <td>0.865350</td>\n",
              "      <td>1.260504</td>\n",
              "      <td>0.92</td>\n",
              "    </tr>\n",
              "    <tr>\n",
              "      <th>129</th>\n",
              "      <td>hsb</td>\n",
              "      <td>0.987708</td>\n",
              "      <td>0.941532</td>\n",
              "      <td>0.836625</td>\n",
              "      <td>-2.100840</td>\n",
              "      <td>0.92</td>\n",
              "    </tr>\n",
              "    <tr>\n",
              "      <th>135</th>\n",
              "      <td>hsb</td>\n",
              "      <td>0.997535</td>\n",
              "      <td>0.947581</td>\n",
              "      <td>0.843806</td>\n",
              "      <td>-1.260504</td>\n",
              "      <td>0.92</td>\n",
              "    </tr>\n",
              "    <tr>\n",
              "      <th>141</th>\n",
              "      <td>hsb</td>\n",
              "      <td>0.997497</td>\n",
              "      <td>0.951613</td>\n",
              "      <td>0.850987</td>\n",
              "      <td>-0.420168</td>\n",
              "      <td>0.92</td>\n",
              "    </tr>\n",
              "    <tr>\n",
              "      <th>147</th>\n",
              "      <td>hsb</td>\n",
              "      <td>0.935608</td>\n",
              "      <td>0.913306</td>\n",
              "      <td>0.806104</td>\n",
              "      <td>-5.672269</td>\n",
              "      <td>0.92</td>\n",
              "    </tr>\n",
              "    <tr>\n",
              "      <th>153</th>\n",
              "      <td>hsb</td>\n",
              "      <td>0.992054</td>\n",
              "      <td>0.935484</td>\n",
              "      <td>0.847397</td>\n",
              "      <td>-0.840336</td>\n",
              "      <td>0.93</td>\n",
              "    </tr>\n",
              "    <tr>\n",
              "      <th>159</th>\n",
              "      <td>hsb</td>\n",
              "      <td>0.985548</td>\n",
              "      <td>0.951613</td>\n",
              "      <td>0.861759</td>\n",
              "      <td>0.840336</td>\n",
              "      <td>0.93</td>\n",
              "    </tr>\n",
              "    <tr>\n",
              "      <th>165</th>\n",
              "      <td>hsb</td>\n",
              "      <td>0.982297</td>\n",
              "      <td>0.953629</td>\n",
              "      <td>0.874327</td>\n",
              "      <td>2.310924</td>\n",
              "      <td>0.93</td>\n",
              "    </tr>\n",
              "    <tr>\n",
              "      <th>171</th>\n",
              "      <td>hsb</td>\n",
              "      <td>0.995702</td>\n",
              "      <td>0.949597</td>\n",
              "      <td>0.849192</td>\n",
              "      <td>-0.630252</td>\n",
              "      <td>0.93</td>\n",
              "    </tr>\n",
              "    <tr>\n",
              "      <th>177</th>\n",
              "      <td>hsb</td>\n",
              "      <td>0.989406</td>\n",
              "      <td>0.951613</td>\n",
              "      <td>0.838420</td>\n",
              "      <td>-1.890756</td>\n",
              "      <td>0.93</td>\n",
              "    </tr>\n",
              "  </tbody>\n",
              "</table>\n",
              "</div>"
            ],
            "text/plain": [
              "    language  train_f1    val_f1   test_f1  improvement  confidence_quantile\n",
              "3        hsb  0.963006  0.933468  0.838420    -1.890756                 0.88\n",
              "9        hsb  0.982419  0.939516  0.847397    -0.840336                 0.88\n",
              "15       hsb  0.982341  0.963710  0.856373     0.210084                 0.88\n",
              "21       hsb  0.989991  0.961694  0.825853    -3.361345                 0.88\n",
              "27       hsb  0.971733  0.933468  0.847397    -0.840336                 0.88\n",
              "33       hsb  0.985929  0.939516  0.867145     1.470588                 0.89\n",
              "39       hsb  0.940353  0.917339  0.813285    -4.831933                 0.89\n",
              "45       hsb  0.973022  0.959677  0.842011    -1.470588                 0.89\n",
              "51       hsb  0.996490  0.941532  0.859964     0.630252                 0.89\n",
              "57       hsb  0.989977  0.947581  0.838420    -1.890756                 0.89\n",
              "63       hsb  0.986948  0.955645  0.856373     0.210084                 0.90\n",
              "69       hsb  0.994595  0.943548  0.836625    -2.100840                 0.90\n",
              "75       hsb  0.990271  0.939516  0.845601    -1.050420                 0.90\n",
              "81       hsb  0.984187  0.955645  0.872531     2.100840                 0.90\n",
              "87       hsb  0.994247  0.949597  0.838420    -1.890756                 0.90\n",
              "93       hsb  0.991498  0.943548  0.842011    -1.470588                 0.91\n",
              "99       hsb  0.993534  0.943548  0.822262    -3.781513                 0.91\n",
              "105      hsb  0.988646  0.943548  0.838420    -1.890756                 0.91\n",
              "111      hsb  0.994532  0.965726  0.834829    -2.310924                 0.91\n",
              "117      hsb  0.982143  0.965726  0.865350     1.260504                 0.91\n",
              "123      hsb  0.993450  0.947581  0.865350     1.260504                 0.92\n",
              "129      hsb  0.987708  0.941532  0.836625    -2.100840                 0.92\n",
              "135      hsb  0.997535  0.947581  0.843806    -1.260504                 0.92\n",
              "141      hsb  0.997497  0.951613  0.850987    -0.420168                 0.92\n",
              "147      hsb  0.935608  0.913306  0.806104    -5.672269                 0.92\n",
              "153      hsb  0.992054  0.935484  0.847397    -0.840336                 0.93\n",
              "159      hsb  0.985548  0.951613  0.861759     0.840336                 0.93\n",
              "165      hsb  0.982297  0.953629  0.874327     2.310924                 0.93\n",
              "171      hsb  0.995702  0.949597  0.849192    -0.630252                 0.93\n",
              "177      hsb  0.989406  0.951613  0.838420    -1.890756                 0.93"
            ]
          },
          "execution_count": 21,
          "metadata": {},
          "output_type": "execute_result"
        }
      ],
      "source": [
        "df[df[\"language\"] == \"hsb\"]"
      ]
    },
    {
      "cell_type": "code",
      "execution_count": null,
      "metadata": {},
      "outputs": [],
      "source": []
    }
  ],
  "metadata": {
    "accelerator": "GPU",
    "colab": {
      "gpuType": "T4",
      "provenance": []
    },
    "kernelspec": {
      "display_name": "multi-ner",
      "language": "python",
      "name": "python3"
    },
    "language_info": {
      "codemirror_mode": {
        "name": "ipython",
        "version": 3
      },
      "file_extension": ".py",
      "mimetype": "text/x-python",
      "name": "python",
      "nbconvert_exporter": "python",
      "pygments_lexer": "ipython3",
      "version": "3.13.2"
    }
  },
  "nbformat": 4,
  "nbformat_minor": 0
}
